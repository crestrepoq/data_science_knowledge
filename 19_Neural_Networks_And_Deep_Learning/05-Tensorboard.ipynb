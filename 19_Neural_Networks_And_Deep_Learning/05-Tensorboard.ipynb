{
 "cells": [
  {
   "cell_type": "markdown",
   "metadata": {},
   "source": [
    "<a href=\"https://www.pieriandata.com\"><img src=\"../Pierian_Data_Logo.PNG\"></a>\n",
    "<strong><center>Copyright by Pierian Data Inc.</center></strong> \n",
    "<strong><center>Created by Jose Marcial Portilla.</center></strong>"
   ]
  },
  {
   "cell_type": "markdown",
   "metadata": {},
   "source": [
    "# Tensorboard\n",
    "\n",
    "---\n",
    "---\n",
    "\n",
    "**NOTE: You must watch the corresponding video to understand this lecture. This notebook can't serve as a full guide. Please watch the video BEFORE posting questions to the QA forum.**\n",
    "\n",
    "---\n",
    "---\n",
    "\n",
    "Let's explore the built in data visualization capabilities that come with Tensorboard.\n",
    "\n",
    "Full official tutorial available here: https://www.tensorflow.org/tensorboard/get_started\n",
    "\n",
    "## Data"
   ]
  },
  {
   "cell_type": "code",
   "execution_count": 1,
   "metadata": {},
   "outputs": [],
   "source": [
    "import pandas as pd\n",
    "import numpy as np"
   ]
  },
  {
   "cell_type": "code",
   "execution_count": 2,
   "metadata": {},
   "outputs": [],
   "source": [
    "df = pd.read_csv('TensorFlow_FILES/DATA/cancer_classification.csv')"
   ]
  },
  {
   "cell_type": "markdown",
   "metadata": {},
   "source": [
    "### Train Test Split"
   ]
  },
  {
   "cell_type": "code",
   "execution_count": 3,
   "metadata": {},
   "outputs": [],
   "source": [
    "X = df.drop('benign_0__mal_1',axis=1).values\n",
    "y = df['benign_0__mal_1'].values"
   ]
  },
  {
   "cell_type": "code",
   "execution_count": 4,
   "metadata": {},
   "outputs": [],
   "source": [
    "from sklearn.model_selection import train_test_split"
   ]
  },
  {
   "cell_type": "code",
   "execution_count": 5,
   "metadata": {},
   "outputs": [],
   "source": [
    "X_train, X_test, y_train, y_test = train_test_split(X,y,test_size=0.25,random_state=101)"
   ]
  },
  {
   "cell_type": "markdown",
   "metadata": {},
   "source": [
    "\n",
    "### Scaling Data"
   ]
  },
  {
   "cell_type": "code",
   "execution_count": 6,
   "metadata": {},
   "outputs": [],
   "source": [
    "from sklearn.preprocessing import MinMaxScaler"
   ]
  },
  {
   "cell_type": "code",
   "execution_count": 7,
   "metadata": {},
   "outputs": [],
   "source": [
    "scaler = MinMaxScaler()"
   ]
  },
  {
   "cell_type": "code",
   "execution_count": 8,
   "metadata": {},
   "outputs": [
    {
     "data": {
      "text/plain": [
       "MinMaxScaler()"
      ]
     },
     "execution_count": 8,
     "metadata": {},
     "output_type": "execute_result"
    }
   ],
   "source": [
    "scaler.fit(X_train)"
   ]
  },
  {
   "cell_type": "code",
   "execution_count": 9,
   "metadata": {},
   "outputs": [],
   "source": [
    "X_train = scaler.transform(X_train)\n",
    "X_test = scaler.transform(X_test)"
   ]
  },
  {
   "cell_type": "markdown",
   "metadata": {},
   "source": [
    "## Creating the Model"
   ]
  },
  {
   "cell_type": "code",
   "execution_count": 10,
   "metadata": {},
   "outputs": [],
   "source": [
    "import tensorflow as tf\n",
    "from tensorflow.keras.models import Sequential\n",
    "from tensorflow.keras.layers import Dense, Activation,Dropout"
   ]
  },
  {
   "cell_type": "code",
   "execution_count": 11,
   "metadata": {},
   "outputs": [],
   "source": [
    "from tensorflow.keras.callbacks import EarlyStopping,TensorBoard"
   ]
  },
  {
   "cell_type": "code",
   "execution_count": 12,
   "metadata": {},
   "outputs": [],
   "source": [
    "early_stop = EarlyStopping(monitor='val_loss', mode='min', verbose=1, patience=25)"
   ]
  },
  {
   "cell_type": "code",
   "execution_count": 13,
   "metadata": {},
   "outputs": [
    {
     "data": {
      "text/plain": [
       "'C:\\\\Users\\\\crq96\\\\OneDrive\\\\Documents\\\\Programming\\\\Learning\\\\data_science_knowledge_learning\\\\19_Neural_Networks_And_Deep_Learning'"
      ]
     },
     "execution_count": 13,
     "metadata": {},
     "output_type": "execute_result"
    }
   ],
   "source": [
    "pwd"
   ]
  },
  {
   "cell_type": "markdown",
   "metadata": {},
   "source": [
    "## Creating the Tensorboard Callback\n",
    "\n",
    "TensorBoard is a visualization tool provided with TensorFlow.\n",
    "\n",
    "This callback logs events for TensorBoard, including:\n",
    "* Metrics summary plots\n",
    "* Training graph visualization\n",
    "* Activation histograms\n",
    "* Sampled profiling\n",
    "\n",
    "If you have installed TensorFlow with pip, you should be able\n",
    "to launch TensorBoard from the command line:\n",
    "\n",
    "```sh\n",
    "tensorboard --logdir=path_to_your_logs\n",
    "```\n",
    "\n",
    "You can find more information about TensorBoard\n",
    "[here](https://www.tensorflow.org/tensorboard/).\n",
    "\n",
    "    Arguments:\n",
    "        log_dir: the path of the directory where to save the log files to be\n",
    "          parsed by TensorBoard.\n",
    "        histogram_freq: frequency (in epochs) at which to compute activation and\n",
    "          weight histograms for the layers of the model. If set to 0, histograms\n",
    "          won't be computed. Validation data (or split) must be specified for\n",
    "          histogram visualizations.\n",
    "        write_graph: whether to visualize the graph in TensorBoard. The log file\n",
    "          can become quite large when write_graph is set to True.\n",
    "        write_images: whether to write model weights to visualize as image in\n",
    "          TensorBoard.\n",
    "        update_freq: `'batch'` or `'epoch'` or integer. When using `'batch'`,\n",
    "          writes the losses and metrics to TensorBoard after each batch. The same\n",
    "          applies for `'epoch'`. If using an integer, let's say `1000`, the\n",
    "          callback will write the metrics and losses to TensorBoard every 1000\n",
    "          samples. Note that writing too frequently to TensorBoard can slow down\n",
    "          your training.\n",
    "        profile_batch: Profile the batch to sample compute characteristics. By\n",
    "          default, it will profile the second batch. Set profile_batch=0 to\n",
    "          disable profiling. Must run in TensorFlow eager mode.\n",
    "        embeddings_freq: frequency (in epochs) at which embedding layers will\n",
    "          be visualized. If set to 0, embeddings won't be visualized.\n",
    "       "
   ]
  },
  {
   "cell_type": "code",
   "execution_count": 14,
   "metadata": {},
   "outputs": [],
   "source": [
    "from datetime import datetime"
   ]
  },
  {
   "cell_type": "code",
   "execution_count": 15,
   "metadata": {},
   "outputs": [
    {
     "data": {
      "text/plain": [
       "'2021-12-31--1700'"
      ]
     },
     "execution_count": 15,
     "metadata": {},
     "output_type": "execute_result"
    }
   ],
   "source": [
    "datetime.now().strftime(\"%Y-%m-%d--%H%M\")"
   ]
  },
  {
   "cell_type": "code",
   "execution_count": 16,
   "metadata": {},
   "outputs": [],
   "source": [
    "# WINDOWS: Use \"logs\\\\fit\"\n",
    "# MACOS/LINUX: Use \"logs\\fit\"\n",
    "\n",
    "log_directory = 'logs\\\\fit'\n",
    "\n",
    "# OPTIONAL: ADD A TIMESTAMP FOR UNIQUE FOLDER\n",
    "# timestamp = datetime.now().strftime(\"%Y-%m-%d--%H%M\")\n",
    "# log_directory = log_directory + '\\\\' + timestamp\n",
    "\n",
    "\n",
    "board = TensorBoard(log_dir=log_directory,histogram_freq=1,\n",
    "    write_graph=True,\n",
    "    write_images=True,\n",
    "    update_freq='epoch',\n",
    "    profile_batch=2,\n",
    "    embeddings_freq=1)"
   ]
  },
  {
   "cell_type": "markdown",
   "metadata": {},
   "source": [
    "Now create the model layers:"
   ]
  },
  {
   "cell_type": "code",
   "execution_count": 17,
   "metadata": {},
   "outputs": [],
   "source": [
    "model = Sequential()\n",
    "model.add(Dense(units=30,activation='relu'))\n",
    "model.add(Dropout(0.5))\n",
    "model.add(Dense(units=15,activation='relu'))\n",
    "model.add(Dropout(0.5))\n",
    "model.add(Dense(units=1,activation='sigmoid'))\n",
    "model.compile(loss='binary_crossentropy', optimizer='adam')"
   ]
  },
  {
   "cell_type": "markdown",
   "metadata": {},
   "source": [
    "## Train the Model"
   ]
  },
  {
   "cell_type": "code",
   "execution_count": 18,
   "metadata": {},
   "outputs": [
    {
     "name": "stdout",
     "output_type": "stream",
     "text": [
      "Epoch 1/600\n",
      "14/14 [==============================] - 1s 30ms/step - loss: 0.6699 - val_loss: 0.6564\n",
      "Epoch 2/600\n",
      "14/14 [==============================] - 0s 10ms/step - loss: 0.6661 - val_loss: 0.6401\n",
      "Epoch 3/600\n",
      "14/14 [==============================] - 0s 10ms/step - loss: 0.6449 - val_loss: 0.6225\n",
      "Epoch 4/600\n",
      "14/14 [==============================] - 0s 9ms/step - loss: 0.6423 - val_loss: 0.6029\n",
      "Epoch 5/600\n",
      "14/14 [==============================] - 0s 9ms/step - loss: 0.6008 - val_loss: 0.5696\n",
      "Epoch 6/600\n",
      "14/14 [==============================] - 0s 9ms/step - loss: 0.5968 - val_loss: 0.5394\n",
      "Epoch 7/600\n",
      "14/14 [==============================] - 0s 9ms/step - loss: 0.5603 - val_loss: 0.5025\n",
      "Epoch 8/600\n",
      "14/14 [==============================] - 0s 9ms/step - loss: 0.5190 - val_loss: 0.4716\n",
      "Epoch 9/600\n",
      "14/14 [==============================] - 0s 9ms/step - loss: 0.5169 - val_loss: 0.4343\n",
      "Epoch 10/600\n",
      "14/14 [==============================] - 0s 9ms/step - loss: 0.4947 - val_loss: 0.4059\n",
      "Epoch 11/600\n",
      "14/14 [==============================] - 0s 10ms/step - loss: 0.4752 - val_loss: 0.3791\n",
      "Epoch 12/600\n",
      "14/14 [==============================] - 0s 10ms/step - loss: 0.4352 - val_loss: 0.3556\n",
      "Epoch 13/600\n",
      "14/14 [==============================] - 0s 10ms/step - loss: 0.4207 - val_loss: 0.3295\n",
      "Epoch 14/600\n",
      "14/14 [==============================] - 0s 10ms/step - loss: 0.4084 - val_loss: 0.3071\n",
      "Epoch 15/600\n",
      "14/14 [==============================] - 0s 9ms/step - loss: 0.4085 - val_loss: 0.2903\n",
      "Epoch 16/600\n",
      "14/14 [==============================] - 0s 11ms/step - loss: 0.3818 - val_loss: 0.2789\n",
      "Epoch 17/600\n",
      "14/14 [==============================] - 0s 10ms/step - loss: 0.3844 - val_loss: 0.2667\n",
      "Epoch 18/600\n",
      "14/14 [==============================] - 0s 12ms/step - loss: 0.3624 - val_loss: 0.2590\n",
      "Epoch 19/600\n",
      "14/14 [==============================] - 0s 9ms/step - loss: 0.3805 - val_loss: 0.2464\n",
      "Epoch 20/600\n",
      "14/14 [==============================] - 0s 9ms/step - loss: 0.3295 - val_loss: 0.2312\n",
      "Epoch 21/600\n",
      "14/14 [==============================] - 0s 9ms/step - loss: 0.3135 - val_loss: 0.2171\n",
      "Epoch 22/600\n",
      "14/14 [==============================] - 0s 9ms/step - loss: 0.3308 - val_loss: 0.2085\n",
      "Epoch 23/600\n",
      "14/14 [==============================] - 0s 9ms/step - loss: 0.2838 - val_loss: 0.2019\n",
      "Epoch 24/600\n",
      "14/14 [==============================] - 0s 10ms/step - loss: 0.3054 - val_loss: 0.1946\n",
      "Epoch 25/600\n",
      "14/14 [==============================] - 0s 10ms/step - loss: 0.3083 - val_loss: 0.1935\n",
      "Epoch 26/600\n",
      "14/14 [==============================] - 0s 11ms/step - loss: 0.2825 - val_loss: 0.1873\n",
      "Epoch 27/600\n",
      "14/14 [==============================] - 0s 9ms/step - loss: 0.2726 - val_loss: 0.1844\n",
      "Epoch 28/600\n",
      "14/14 [==============================] - 0s 10ms/step - loss: 0.2723 - val_loss: 0.1791\n",
      "Epoch 29/600\n",
      "14/14 [==============================] - 0s 10ms/step - loss: 0.2758 - val_loss: 0.1691\n",
      "Epoch 30/600\n",
      "14/14 [==============================] - 0s 10ms/step - loss: 0.2534 - val_loss: 0.1626\n",
      "Epoch 31/600\n",
      "14/14 [==============================] - 0s 10ms/step - loss: 0.2399 - val_loss: 0.1555\n",
      "Epoch 32/600\n",
      "14/14 [==============================] - 0s 9ms/step - loss: 0.2442 - val_loss: 0.1525\n",
      "Epoch 33/600\n",
      "14/14 [==============================] - 0s 10ms/step - loss: 0.2512 - val_loss: 0.1480\n",
      "Epoch 34/600\n",
      "14/14 [==============================] - 0s 9ms/step - loss: 0.2454 - val_loss: 0.1541\n",
      "Epoch 35/600\n",
      "14/14 [==============================] - 0s 10ms/step - loss: 0.2352 - val_loss: 0.1446\n",
      "Epoch 36/600\n",
      "14/14 [==============================] - 0s 10ms/step - loss: 0.2002 - val_loss: 0.1386\n",
      "Epoch 37/600\n",
      "14/14 [==============================] - 0s 10ms/step - loss: 0.2151 - val_loss: 0.1436\n",
      "Epoch 38/600\n",
      "14/14 [==============================] - 0s 9ms/step - loss: 0.2214 - val_loss: 0.1347\n",
      "Epoch 39/600\n",
      "14/14 [==============================] - 0s 10ms/step - loss: 0.2299 - val_loss: 0.1332\n",
      "Epoch 40/600\n",
      "14/14 [==============================] - 0s 10ms/step - loss: 0.2104 - val_loss: 0.1263\n",
      "Epoch 41/600\n",
      "14/14 [==============================] - 0s 10ms/step - loss: 0.2178 - val_loss: 0.1291\n",
      "Epoch 42/600\n",
      "14/14 [==============================] - 0s 10ms/step - loss: 0.1971 - val_loss: 0.1254\n",
      "Epoch 43/600\n",
      "14/14 [==============================] - 0s 10ms/step - loss: 0.1974 - val_loss: 0.1267\n",
      "Epoch 44/600\n",
      "14/14 [==============================] - 0s 9ms/step - loss: 0.1899 - val_loss: 0.1246\n",
      "Epoch 45/600\n",
      "14/14 [==============================] - 0s 9ms/step - loss: 0.1948 - val_loss: 0.1210\n",
      "Epoch 46/600\n",
      "14/14 [==============================] - 0s 10ms/step - loss: 0.1926 - val_loss: 0.1298\n",
      "Epoch 47/600\n",
      "14/14 [==============================] - 0s 10ms/step - loss: 0.2044 - val_loss: 0.1272\n",
      "Epoch 48/600\n",
      "14/14 [==============================] - 0s 9ms/step - loss: 0.1961 - val_loss: 0.1296\n",
      "Epoch 49/600\n",
      "14/14 [==============================] - 0s 9ms/step - loss: 0.1689 - val_loss: 0.1125\n",
      "Epoch 50/600\n",
      "14/14 [==============================] - 0s 9ms/step - loss: 0.1667 - val_loss: 0.1125\n",
      "Epoch 51/600\n",
      "14/14 [==============================] - 0s 9ms/step - loss: 0.1818 - val_loss: 0.1233\n",
      "Epoch 52/600\n",
      "14/14 [==============================] - 0s 9ms/step - loss: 0.1927 - val_loss: 0.1117\n",
      "Epoch 53/600\n",
      "14/14 [==============================] - 0s 10ms/step - loss: 0.1622 - val_loss: 0.1097\n",
      "Epoch 54/600\n",
      "14/14 [==============================] - 0s 9ms/step - loss: 0.1656 - val_loss: 0.1146\n",
      "Epoch 55/600\n",
      "14/14 [==============================] - 0s 10ms/step - loss: 0.1559 - val_loss: 0.1108\n",
      "Epoch 56/600\n",
      "14/14 [==============================] - 0s 9ms/step - loss: 0.1654 - val_loss: 0.1055\n",
      "Epoch 57/600\n",
      "14/14 [==============================] - 0s 9ms/step - loss: 0.1706 - val_loss: 0.1139\n",
      "Epoch 58/600\n",
      "14/14 [==============================] - 0s 9ms/step - loss: 0.1516 - val_loss: 0.1077\n",
      "Epoch 59/600\n",
      "14/14 [==============================] - 0s 9ms/step - loss: 0.1685 - val_loss: 0.1024\n",
      "Epoch 60/600\n",
      "14/14 [==============================] - 0s 10ms/step - loss: 0.1530 - val_loss: 0.1121\n",
      "Epoch 61/600\n",
      "14/14 [==============================] - 0s 9ms/step - loss: 0.1420 - val_loss: 0.1042\n",
      "Epoch 62/600\n",
      "14/14 [==============================] - 0s 9ms/step - loss: 0.1237 - val_loss: 0.1003\n",
      "Epoch 63/600\n",
      "14/14 [==============================] - 0s 9ms/step - loss: 0.1300 - val_loss: 0.1036\n",
      "Epoch 64/600\n",
      "14/14 [==============================] - 0s 10ms/step - loss: 0.1162 - val_loss: 0.1004\n",
      "Epoch 65/600\n",
      "14/14 [==============================] - 0s 9ms/step - loss: 0.1198 - val_loss: 0.0997\n",
      "Epoch 66/600\n",
      "14/14 [==============================] - 0s 9ms/step - loss: 0.1298 - val_loss: 0.0976\n",
      "Epoch 67/600\n",
      "14/14 [==============================] - 0s 9ms/step - loss: 0.1205 - val_loss: 0.0996\n",
      "Epoch 68/600\n",
      "14/14 [==============================] - 0s 9ms/step - loss: 0.1324 - val_loss: 0.0977\n",
      "Epoch 69/600\n",
      "14/14 [==============================] - 0s 9ms/step - loss: 0.1260 - val_loss: 0.0993\n",
      "Epoch 70/600\n",
      "14/14 [==============================] - 0s 9ms/step - loss: 0.1517 - val_loss: 0.0973\n",
      "Epoch 71/600\n",
      "14/14 [==============================] - 0s 9ms/step - loss: 0.1208 - val_loss: 0.0987\n",
      "Epoch 72/600\n",
      "14/14 [==============================] - 0s 9ms/step - loss: 0.1214 - val_loss: 0.0984\n",
      "Epoch 73/600\n",
      "14/14 [==============================] - 0s 9ms/step - loss: 0.1129 - val_loss: 0.0968\n",
      "Epoch 74/600\n",
      "14/14 [==============================] - 0s 9ms/step - loss: 0.1393 - val_loss: 0.0981\n",
      "Epoch 75/600\n",
      "14/14 [==============================] - 0s 9ms/step - loss: 0.1163 - val_loss: 0.1034\n",
      "Epoch 76/600\n",
      "14/14 [==============================] - 0s 9ms/step - loss: 0.1363 - val_loss: 0.0919\n",
      "Epoch 77/600\n",
      "14/14 [==============================] - 0s 9ms/step - loss: 0.1030 - val_loss: 0.1022\n",
      "Epoch 78/600\n",
      "14/14 [==============================] - 0s 9ms/step - loss: 0.1095 - val_loss: 0.1076\n",
      "Epoch 79/600\n",
      "14/14 [==============================] - 0s 10ms/step - loss: 0.1201 - val_loss: 0.0898\n",
      "Epoch 80/600\n",
      "14/14 [==============================] - 0s 10ms/step - loss: 0.1197 - val_loss: 0.0916\n",
      "Epoch 81/600\n",
      "14/14 [==============================] - 0s 10ms/step - loss: 0.1071 - val_loss: 0.0929\n",
      "Epoch 82/600\n"
     ]
    },
    {
     "name": "stdout",
     "output_type": "stream",
     "text": [
      "14/14 [==============================] - 0s 9ms/step - loss: 0.1169 - val_loss: 0.1047\n",
      "Epoch 83/600\n",
      "14/14 [==============================] - 0s 10ms/step - loss: 0.1231 - val_loss: 0.0997\n",
      "Epoch 84/600\n",
      "14/14 [==============================] - 0s 10ms/step - loss: 0.1284 - val_loss: 0.0909\n",
      "Epoch 85/600\n",
      "14/14 [==============================] - 0s 10ms/step - loss: 0.1127 - val_loss: 0.0887\n",
      "Epoch 86/600\n",
      "14/14 [==============================] - 0s 9ms/step - loss: 0.1271 - val_loss: 0.1043\n",
      "Epoch 87/600\n",
      "14/14 [==============================] - 0s 9ms/step - loss: 0.1283 - val_loss: 0.0876\n",
      "Epoch 88/600\n",
      "14/14 [==============================] - 0s 9ms/step - loss: 0.1143 - val_loss: 0.0929\n",
      "Epoch 89/600\n",
      "14/14 [==============================] - 0s 9ms/step - loss: 0.1264 - val_loss: 0.0957\n",
      "Epoch 90/600\n",
      "14/14 [==============================] - 0s 9ms/step - loss: 0.1190 - val_loss: 0.0878\n",
      "Epoch 91/600\n",
      "14/14 [==============================] - 0s 9ms/step - loss: 0.1068 - val_loss: 0.0876\n",
      "Epoch 92/600\n",
      "14/14 [==============================] - 0s 9ms/step - loss: 0.1026 - val_loss: 0.0925\n",
      "Epoch 93/600\n",
      "14/14 [==============================] - 0s 9ms/step - loss: 0.1043 - val_loss: 0.0962\n",
      "Epoch 94/600\n",
      "14/14 [==============================] - 0s 9ms/step - loss: 0.0936 - val_loss: 0.0889\n",
      "Epoch 95/600\n",
      "14/14 [==============================] - 0s 9ms/step - loss: 0.1139 - val_loss: 0.0868\n",
      "Epoch 96/600\n",
      "14/14 [==============================] - 0s 9ms/step - loss: 0.1062 - val_loss: 0.0869\n",
      "Epoch 97/600\n",
      "14/14 [==============================] - 0s 10ms/step - loss: 0.0888 - val_loss: 0.0859\n",
      "Epoch 98/600\n",
      "14/14 [==============================] - 0s 9ms/step - loss: 0.0955 - val_loss: 0.0860\n",
      "Epoch 99/600\n",
      "14/14 [==============================] - 0s 9ms/step - loss: 0.1186 - val_loss: 0.0924\n",
      "Epoch 100/600\n",
      "14/14 [==============================] - 0s 10ms/step - loss: 0.0913 - val_loss: 0.1012\n",
      "Epoch 101/600\n",
      "14/14 [==============================] - 0s 9ms/step - loss: 0.1082 - val_loss: 0.0846\n",
      "Epoch 102/600\n",
      "14/14 [==============================] - 0s 9ms/step - loss: 0.1131 - val_loss: 0.0867\n",
      "Epoch 103/600\n",
      "14/14 [==============================] - 0s 10ms/step - loss: 0.1133 - val_loss: 0.0973\n",
      "Epoch 104/600\n",
      "14/14 [==============================] - 0s 9ms/step - loss: 0.0994 - val_loss: 0.0919\n",
      "Epoch 105/600\n",
      "14/14 [==============================] - 0s 9ms/step - loss: 0.1018 - val_loss: 0.1000\n",
      "Epoch 106/600\n",
      "14/14 [==============================] - 0s 9ms/step - loss: 0.1028 - val_loss: 0.0933\n",
      "Epoch 107/600\n",
      "14/14 [==============================] - 0s 10ms/step - loss: 0.1140 - val_loss: 0.0839\n",
      "Epoch 108/600\n",
      "14/14 [==============================] - 0s 9ms/step - loss: 0.1033 - val_loss: 0.0937\n",
      "Epoch 109/600\n",
      "14/14 [==============================] - 0s 10ms/step - loss: 0.0829 - val_loss: 0.0883\n",
      "Epoch 110/600\n",
      "14/14 [==============================] - 0s 9ms/step - loss: 0.1128 - val_loss: 0.0874\n",
      "Epoch 111/600\n",
      "14/14 [==============================] - 0s 9ms/step - loss: 0.0925 - val_loss: 0.0872\n",
      "Epoch 112/600\n",
      "14/14 [==============================] - 0s 9ms/step - loss: 0.0924 - val_loss: 0.0892\n",
      "Epoch 113/600\n",
      "14/14 [==============================] - 0s 9ms/step - loss: 0.0860 - val_loss: 0.0801\n",
      "Epoch 114/600\n",
      "14/14 [==============================] - 0s 9ms/step - loss: 0.0959 - val_loss: 0.0844\n",
      "Epoch 115/600\n",
      "14/14 [==============================] - 0s 10ms/step - loss: 0.0787 - val_loss: 0.0979\n",
      "Epoch 116/600\n",
      "14/14 [==============================] - 0s 10ms/step - loss: 0.0867 - val_loss: 0.0881\n",
      "Epoch 117/600\n",
      "14/14 [==============================] - 0s 9ms/step - loss: 0.0881 - val_loss: 0.0867\n",
      "Epoch 118/600\n",
      "14/14 [==============================] - 0s 9ms/step - loss: 0.0944 - val_loss: 0.0957\n",
      "Epoch 119/600\n",
      "14/14 [==============================] - 0s 9ms/step - loss: 0.0907 - val_loss: 0.0951\n",
      "Epoch 120/600\n",
      "14/14 [==============================] - 0s 10ms/step - loss: 0.1033 - val_loss: 0.0883\n",
      "Epoch 121/600\n",
      "14/14 [==============================] - 0s 9ms/step - loss: 0.1007 - val_loss: 0.0812\n",
      "Epoch 122/600\n",
      "14/14 [==============================] - 0s 10ms/step - loss: 0.0798 - val_loss: 0.0899\n",
      "Epoch 123/600\n",
      "14/14 [==============================] - 0s 10ms/step - loss: 0.0763 - val_loss: 0.0879\n",
      "Epoch 124/600\n",
      "14/14 [==============================] - 0s 9ms/step - loss: 0.0937 - val_loss: 0.0818\n",
      "Epoch 125/600\n",
      "14/14 [==============================] - 0s 9ms/step - loss: 0.0835 - val_loss: 0.0857\n",
      "Epoch 126/600\n",
      "14/14 [==============================] - 0s 9ms/step - loss: 0.0870 - val_loss: 0.0929\n",
      "Epoch 127/600\n",
      "14/14 [==============================] - 0s 10ms/step - loss: 0.0995 - val_loss: 0.0846\n",
      "Epoch 128/600\n",
      "14/14 [==============================] - 0s 9ms/step - loss: 0.0996 - val_loss: 0.1055\n",
      "Epoch 129/600\n",
      "14/14 [==============================] - 0s 9ms/step - loss: 0.1095 - val_loss: 0.0820\n",
      "Epoch 130/600\n",
      "14/14 [==============================] - 0s 10ms/step - loss: 0.0844 - val_loss: 0.0929\n",
      "Epoch 131/600\n",
      "14/14 [==============================] - 0s 9ms/step - loss: 0.0915 - val_loss: 0.0883\n",
      "Epoch 132/600\n",
      "14/14 [==============================] - 0s 9ms/step - loss: 0.0851 - val_loss: 0.0971\n",
      "Epoch 133/600\n",
      "14/14 [==============================] - 0s 9ms/step - loss: 0.0810 - val_loss: 0.0898\n",
      "Epoch 134/600\n",
      "14/14 [==============================] - 0s 9ms/step - loss: 0.0866 - val_loss: 0.0814\n",
      "Epoch 135/600\n",
      "14/14 [==============================] - 0s 9ms/step - loss: 0.0801 - val_loss: 0.0883\n",
      "Epoch 136/600\n",
      "14/14 [==============================] - 0s 10ms/step - loss: 0.0975 - val_loss: 0.0928\n",
      "Epoch 137/600\n",
      "14/14 [==============================] - 0s 10ms/step - loss: 0.0886 - val_loss: 0.0924\n",
      "Epoch 138/600\n",
      "14/14 [==============================] - 0s 10ms/step - loss: 0.0829 - val_loss: 0.0876\n",
      "Epoch 138: early stopping\n"
     ]
    },
    {
     "data": {
      "text/plain": [
       "<keras.callbacks.History at 0x153c5122ac0>"
      ]
     },
     "execution_count": 18,
     "metadata": {},
     "output_type": "execute_result"
    }
   ],
   "source": [
    "model.fit(x=X_train, \n",
    "          y=y_train, \n",
    "          epochs=600,\n",
    "          validation_data=(X_test, y_test), verbose=1,\n",
    "          callbacks=[early_stop,board]\n",
    "          )"
   ]
  },
  {
   "cell_type": "markdown",
   "metadata": {},
   "source": [
    "# Running Tensorboard\n"
   ]
  },
  {
   "cell_type": "markdown",
   "metadata": {},
   "source": [
    "## Running through the Command Line\n",
    "\n",
    "**Watch video to see how to run Tensorboard through a command line call.**"
   ]
  },
  {
   "cell_type": "markdown",
   "metadata": {},
   "source": [
    "Tensorboard will run locally in your browser at [http://localhost:6006/](http://localhost:6006/)\n"
   ]
  },
  {
   "cell_type": "code",
   "execution_count": 19,
   "metadata": {},
   "outputs": [
    {
     "name": "stdout",
     "output_type": "stream",
     "text": [
      "logs\\fit\n"
     ]
    }
   ],
   "source": [
    "print(log_directory)"
   ]
  },
  {
   "cell_type": "code",
   "execution_count": 20,
   "metadata": {},
   "outputs": [
    {
     "data": {
      "text/plain": [
       "'C:\\\\Users\\\\crq96\\\\OneDrive\\\\Documents\\\\Programming\\\\Learning\\\\data_science_knowledge_learning\\\\19_Neural_Networks_And_Deep_Learning'"
      ]
     },
     "execution_count": 20,
     "metadata": {},
     "output_type": "execute_result"
    }
   ],
   "source": [
    "pwd"
   ]
  },
  {
   "cell_type": "markdown",
   "metadata": {},
   "source": [
    "### Use cd at your command line to change directory to the file path reported back by pwd or your current .py file location.\n",
    "### Then run this code at your command line or terminal"
   ]
  },
  {
   "cell_type": "code",
   "execution_count": null,
   "metadata": {},
   "outputs": [],
   "source": [
    "tensorboard --logdir logs\\fit "
   ]
  }
 ],
 "metadata": {
  "kernelspec": {
   "display_name": "Python 3 (ipykernel)",
   "language": "python",
   "name": "python3"
  },
  "language_info": {
   "codemirror_mode": {
    "name": "ipython",
    "version": 3
   },
   "file_extension": ".py",
   "mimetype": "text/x-python",
   "name": "python",
   "nbconvert_exporter": "python",
   "pygments_lexer": "ipython3",
   "version": "3.8.12"
  }
 },
 "nbformat": 4,
 "nbformat_minor": 2
}
