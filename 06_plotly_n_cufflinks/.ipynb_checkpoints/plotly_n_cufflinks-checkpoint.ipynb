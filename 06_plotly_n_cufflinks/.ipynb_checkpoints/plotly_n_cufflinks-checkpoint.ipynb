{
 "cells": [
  {
   "cell_type": "markdown",
   "id": "5a3b5245-1357-45e4-a7ff-d6f20ad377d0",
   "metadata": {},
   "source": [
    "# Plotly and Cufflinks"
   ]
  },
  {
   "cell_type": "code",
   "execution_count": 9,
   "id": "4ca720ed-16d7-468d-b163-aab9bbe1289c",
   "metadata": {},
   "outputs": [],
   "source": [
    "#conda install -c plotly plotly"
   ]
  },
  {
   "cell_type": "code",
   "execution_count": 2,
   "id": "30134e7e-1184-4dce-91b6-c453ffbab695",
   "metadata": {},
   "outputs": [],
   "source": [
    "#conda install -c conda-forge cufflinks-py"
   ]
  },
  {
   "cell_type": "code",
   "execution_count": 3,
   "id": "7ee37e69-dccc-4a90-b84b-e8043722968f",
   "metadata": {},
   "outputs": [],
   "source": [
    "#pip install chart-studio"
   ]
  },
  {
   "cell_type": "code",
   "execution_count": 4,
   "id": "1368d83e-2aa2-4466-8897-e3d2e007c528",
   "metadata": {},
   "outputs": [],
   "source": [
    "import pandas as pd\n",
    "import numpy as np\n",
    "#%matplotlib inline"
   ]
  },
  {
   "cell_type": "code",
   "execution_count": 5,
   "id": "ea1177ef-150e-4f49-8b78-d0f33685f4a4",
   "metadata": {},
   "outputs": [],
   "source": [
    "from plotly import __version__"
   ]
  },
  {
   "cell_type": "code",
   "execution_count": 6,
   "id": "f6997408-7173-49e3-a8f5-a3d7830237af",
   "metadata": {},
   "outputs": [
    {
     "name": "stdout",
     "output_type": "stream",
     "text": [
      "5.1.0\n"
     ]
    }
   ],
   "source": [
    "print(__version__)"
   ]
  },
  {
   "cell_type": "code",
   "execution_count": 7,
   "id": "574fa324-e346-4855-bf75-ce28c6c0ccd9",
   "metadata": {},
   "outputs": [],
   "source": [
    "import cufflinks as cf"
   ]
  },
  {
   "cell_type": "code",
   "execution_count": 8,
   "id": "98589910-01c7-4f7e-ada7-93a76e8fd37d",
   "metadata": {},
   "outputs": [],
   "source": [
    "from plotly.offline import download_plotlyjs,init_notebook_mode,plot,iplot\n",
    "import chart_studio.plotly as py"
   ]
  },
  {
   "cell_type": "code",
   "execution_count": 9,
   "id": "ff490702-4b0b-4380-836a-6e6d910f5fff",
   "metadata": {},
   "outputs": [
    {
     "data": {
      "text/html": [
       "        <script type=\"text/javascript\">\n",
       "        window.PlotlyConfig = {MathJaxConfig: 'local'};\n",
       "        if (window.MathJax) {MathJax.Hub.Config({SVG: {font: \"STIX-Web\"}});}\n",
       "        if (typeof require !== 'undefined') {\n",
       "        require.undef(\"plotly\");\n",
       "        requirejs.config({\n",
       "            paths: {\n",
       "                'plotly': ['https://cdn.plot.ly/plotly-2.2.0.min']\n",
       "            }\n",
       "        });\n",
       "        require(['plotly'], function(Plotly) {\n",
       "            window._Plotly = Plotly;\n",
       "        });\n",
       "        }\n",
       "        </script>\n",
       "        "
      ]
     },
     "metadata": {},
     "output_type": "display_data"
    }
   ],
   "source": [
    "init_notebook_mode(connected = True)"
   ]
  },
  {
   "cell_type": "code",
   "execution_count": 10,
   "id": "04bbfa6a-6efe-45d3-8fc1-47bfd04f65db",
   "metadata": {},
   "outputs": [
    {
     "data": {
      "text/html": [
       "        <script type=\"text/javascript\">\n",
       "        window.PlotlyConfig = {MathJaxConfig: 'local'};\n",
       "        if (window.MathJax) {MathJax.Hub.Config({SVG: {font: \"STIX-Web\"}});}\n",
       "        if (typeof require !== 'undefined') {\n",
       "        require.undef(\"plotly\");\n",
       "        requirejs.config({\n",
       "            paths: {\n",
       "                'plotly': ['https://cdn.plot.ly/plotly-2.2.0.min']\n",
       "            }\n",
       "        });\n",
       "        require(['plotly'], function(Plotly) {\n",
       "            window._Plotly = Plotly;\n",
       "        });\n",
       "        }\n",
       "        </script>\n",
       "        "
      ]
     },
     "metadata": {},
     "output_type": "display_data"
    }
   ],
   "source": [
    "cf.go_offline()"
   ]
  },
  {
   "cell_type": "code",
   "execution_count": 11,
   "id": "4cbd3e95-418e-4efb-8418-43d8c8078b2b",
   "metadata": {},
   "outputs": [],
   "source": [
    "# Data\n",
    "df = pd.DataFrame(np.random.randn(100,4),columns='A B C D'.split())"
   ]
  },
  {
   "cell_type": "code",
   "execution_count": 12,
   "id": "230e5c12-a49f-4931-940d-4bcdccaefff6",
   "metadata": {},
   "outputs": [
    {
     "data": {
      "text/html": [
       "<div>\n",
       "<style scoped>\n",
       "    .dataframe tbody tr th:only-of-type {\n",
       "        vertical-align: middle;\n",
       "    }\n",
       "\n",
       "    .dataframe tbody tr th {\n",
       "        vertical-align: top;\n",
       "    }\n",
       "\n",
       "    .dataframe thead th {\n",
       "        text-align: right;\n",
       "    }\n",
       "</style>\n",
       "<table border=\"1\" class=\"dataframe\">\n",
       "  <thead>\n",
       "    <tr style=\"text-align: right;\">\n",
       "      <th></th>\n",
       "      <th>A</th>\n",
       "      <th>B</th>\n",
       "      <th>C</th>\n",
       "      <th>D</th>\n",
       "    </tr>\n",
       "  </thead>\n",
       "  <tbody>\n",
       "    <tr>\n",
       "      <th>0</th>\n",
       "      <td>-1.578014</td>\n",
       "      <td>-0.025951</td>\n",
       "      <td>0.089753</td>\n",
       "      <td>0.415829</td>\n",
       "    </tr>\n",
       "    <tr>\n",
       "      <th>1</th>\n",
       "      <td>0.422414</td>\n",
       "      <td>0.244356</td>\n",
       "      <td>-1.122145</td>\n",
       "      <td>0.089081</td>\n",
       "    </tr>\n",
       "    <tr>\n",
       "      <th>2</th>\n",
       "      <td>-0.046044</td>\n",
       "      <td>1.087773</td>\n",
       "      <td>0.413087</td>\n",
       "      <td>0.632898</td>\n",
       "    </tr>\n",
       "    <tr>\n",
       "      <th>3</th>\n",
       "      <td>0.276443</td>\n",
       "      <td>-1.896200</td>\n",
       "      <td>1.229143</td>\n",
       "      <td>-0.268696</td>\n",
       "    </tr>\n",
       "    <tr>\n",
       "      <th>4</th>\n",
       "      <td>0.283200</td>\n",
       "      <td>-0.259549</td>\n",
       "      <td>-0.188771</td>\n",
       "      <td>1.393516</td>\n",
       "    </tr>\n",
       "  </tbody>\n",
       "</table>\n",
       "</div>"
      ],
      "text/plain": [
       "          A         B         C         D\n",
       "0 -1.578014 -0.025951  0.089753  0.415829\n",
       "1  0.422414  0.244356 -1.122145  0.089081\n",
       "2 -0.046044  1.087773  0.413087  0.632898\n",
       "3  0.276443 -1.896200  1.229143 -0.268696\n",
       "4  0.283200 -0.259549 -0.188771  1.393516"
      ]
     },
     "execution_count": 12,
     "metadata": {},
     "output_type": "execute_result"
    }
   ],
   "source": [
    "df.head()"
   ]
  },
  {
   "cell_type": "code",
   "execution_count": 13,
   "id": "d20c7141-d646-4b8d-a8a2-beb4c0b199a4",
   "metadata": {},
   "outputs": [],
   "source": [
    "df2 = pd.DataFrame({'Category':['A','B','C'],'Values':[32,43,50]})"
   ]
  },
  {
   "cell_type": "code",
   "execution_count": 14,
   "id": "8eda82d9-2d11-4329-bb9f-e55e9285f04c",
   "metadata": {},
   "outputs": [
    {
     "data": {
      "text/html": [
       "<div>\n",
       "<style scoped>\n",
       "    .dataframe tbody tr th:only-of-type {\n",
       "        vertical-align: middle;\n",
       "    }\n",
       "\n",
       "    .dataframe tbody tr th {\n",
       "        vertical-align: top;\n",
       "    }\n",
       "\n",
       "    .dataframe thead th {\n",
       "        text-align: right;\n",
       "    }\n",
       "</style>\n",
       "<table border=\"1\" class=\"dataframe\">\n",
       "  <thead>\n",
       "    <tr style=\"text-align: right;\">\n",
       "      <th></th>\n",
       "      <th>Category</th>\n",
       "      <th>Values</th>\n",
       "    </tr>\n",
       "  </thead>\n",
       "  <tbody>\n",
       "    <tr>\n",
       "      <th>0</th>\n",
       "      <td>A</td>\n",
       "      <td>32</td>\n",
       "    </tr>\n",
       "    <tr>\n",
       "      <th>1</th>\n",
       "      <td>B</td>\n",
       "      <td>43</td>\n",
       "    </tr>\n",
       "    <tr>\n",
       "      <th>2</th>\n",
       "      <td>C</td>\n",
       "      <td>50</td>\n",
       "    </tr>\n",
       "  </tbody>\n",
       "</table>\n",
       "</div>"
      ],
      "text/plain": [
       "  Category  Values\n",
       "0        A      32\n",
       "1        B      43\n",
       "2        C      50"
      ]
     },
     "execution_count": 14,
     "metadata": {},
     "output_type": "execute_result"
    }
   ],
   "source": [
    "df2"
   ]
  },
  {
   "cell_type": "code",
   "execution_count": 15,
   "id": "a9cd76fb-8613-4127-936b-c792fc0c5a34",
   "metadata": {},
   "outputs": [
    {
     "data": {
      "text/plain": [
       "<AxesSubplot:>"
      ]
     },
     "execution_count": 15,
     "metadata": {},
     "output_type": "execute_result"
    },
    {
     "data": {
      "image/png": "[encoded data removed]",
      "text/plain": [
       "<Figure size 432x288 with 1 Axes>"
      ]
     },
     "metadata": {
      "needs_background": "light"
     },
     "output_type": "display_data"
    }
   ],
   "source": [
    "df.plot()"
   ]
  },
  {
   "cell_type": "code",
   "execution_count": 16,
   "id": "330e1cb9-fa9c-4b99-bf64-82def1e3a5a0",
   "metadata": {},
   "outputs": [
    {
     "data": {
      "application/vnd.plotly.v1+json": {
       "config": {
        "linkText": "Export to plot.ly",
        "plotlyServerURL": "https://plot.ly",
        "showLink": true
       },
       "data": [
        {
         "line": {
          "color": "rgba(255, 153, 51, 1.0)",
          "dash": "solid",
          "shape": "linear",
          "width": 1.3
         },
         "mode": "lines",
         "name": "A",
         "text": "",
         "type": "scatter",
         "x": [
          0,
          1,
          2,
          3,
          4,
          5,
          6,
          7,
          8,
          9,
          10,
          11,
          12,
          13,
          14,
          15,
          16,
          17,
          18,
          19,
          20,
          21,
          22,
          23,
          24,
          25,
          26,
          27,
          28,
          29,
          30,
          31,
          32,
          33,
          34,
          35,
          36,
          37,
          38,
          39,
          40,
          41,
          42,
          43,
          44,
          45,
          46,
          47,
          48,
          49,
          50,
          51,
          52,
          53,
          54,
          55,
          56,
          57,
          58,
          59,
          60,
          61,
          62,
          63,
          64,
          65,
          66,
          67,
          68,
          69,
          70,
          71,
          72,
          73,
          74,
          75,
          76,
          77,
          78,
          79,
          80,
          81,
          82,
          83,
          84,
          85,
          86,
          87,
          88,
          89,
          90,
          91,
          92,
          93,
          94,
          95,
          96,
          97,
          98,
          99
         ],
         "y": [
          -1.5780143094608707,
          0.4224141679036228,
          -0.046044199547425994,
          0.2764425774695236,
          0.2832003904525572,
          -0.8244229229915959,
          0.3231680986676643,
          -2.5784754728961077,
          -1.1174667014919542,
          -0.10433571740892703,
          -0.8635825627075128,
          0.7213549567592623,
          -0.514209164071635,
          -0.0894937461585034,
          -1.0493787538844543,
          1.1600959677883953,
          0.015315579009527229,
          1.1373452911453181,
          -0.35205604004623087,
          0.9733588160495177,
          1.0175919245173992,
          -1.1032733279615654,
          -0.04091946153944837,
          0.29127869094225495,
          -0.8031504118174125,
          0.6154323976045675,
          -0.9416530536217149,
          -0.8615871361773523,
          1.7197517910385434,
          -1.3245217395911422,
          -0.9905387437971541,
          0.612921924303667,
          -1.7195845050451466,
          1.7794753656569549,
          1.390338780884705,
          1.5420775527370045,
          1.4602461868666108,
          0.3920840158671529,
          0.20740068599803843,
          -0.0525907643085713,
          -2.124496090536296,
          1.8033601534563382,
          -2.2134597571962984,
          -1.2320037595512683,
          -0.013623770292160971,
          0.10361627865663506,
          1.8251728914117562,
          -1.4567844712500666,
          1.6815715414433596,
          -1.6382228363459552,
          1.1785073527119436,
          -2.1103799953953857,
          -2.360654618156865,
          1.06403721627327,
          -0.6021400767598017,
          -0.47764716258391327,
          0.170088710868202,
          1.6261280670577174,
          0.29696401753219864,
          -0.551821204569244,
          -0.7933538478762096,
          1.2175829255456183,
          1.2929051874329027,
          1.8671528425987827,
          -0.4997985409441982,
          -1.0199402532984096,
          -0.773586095168086,
          -0.36877594456216256,
          -0.7896229212932089,
          -1.6187547203217891,
          0.5095063621113651,
          0.3892508134673948,
          1.8226250380923086,
          1.398772283602051,
          0.28258121963712785,
          0.3171731159206602,
          -0.4664976111440749,
          -0.2845925650841886,
          -1.4177805231493208,
          0.9495788651228273,
          0.42885197403303343,
          2.0694579684956147,
          -0.7334623227655961,
          -0.05343421964291611,
          -0.42613012697760827,
          0.7942339422888914,
          0.9822033206905049,
          1.1274178789267362,
          -0.4865849503191588,
          0.252100329107842,
          -0.5178559805808933,
          -0.7894057794818384,
          -0.6942281167523381,
          -1.2733291431281641,
          0.6615762834883798,
          -0.47001228540783596,
          1.1182681925497504,
          -0.23366998936225875,
          1.838116177785737,
          -0.8406962071636835
         ]
        },
        {
         "line": {
          "color": "rgba(55, 128, 191, 1.0)",
          "dash": "solid",
          "shape": "linear",
          "width": 1.3
         },
         "mode": "lines",
         "name": "B",
         "text": "",
         "type": "scatter",
         "x": [
          0,
          1,
          2,
          3,
          4,
          5,
          6,
          7,
          8,
          9,
          10,
          11,
          12,
          13,
          14,
          15,
          16,
          17,
          18,
          19,
          20,
          21,
          22,
          23,
          24,
          25,
          26,
          27,
          28,
          29,
          30,
          31,
          32,
          33,
          34,
          35,
          36,
          37,
          38,
          39,
          40,
          41,
          42,
          43,
          44,
          45,
          46,
          47,
          48,
          49,
          50,
          51,
          52,
          53,
          54,
          55,
          56,
          57,
          58,
          59,
          60,
          61,
          62,
          63,
          64,
          65,
          66,
          67,
          68,
          69,
          70,
          71,
          72,
          73,
          74,
          75,
          76,
          77,
          78,
          79,
          80,
          81,
          82,
          83,
          84,
          85,
          86,
          87,
          88,
          89,
          90,
          91,
          92,
          93,
          94,
          95,
          96,
          97,
          98,
          99
         ],
         "y": [
          -0.0259506725481951,
          0.24435649772913426,
          1.0877733311223357,
          -1.8962004040020193,
          -0.25954921711141765,
          2.7043824859122476,
          1.0926540178862534,
          0.35217276213382537,
          0.1407838761058627,
          -0.6885384052765048,
          -1.383324172827188,
          1.1577865659859314,
          -1.8530220238946453,
          -1.2259532131837694,
          -1.7724024475662012,
          0.16921653511331095,
          -0.23502175645737877,
          -0.19493413743530474,
          2.1059690127705033,
          0.7145282505605425,
          -1.2459465065590833,
          -0.6112834219178358,
          -1.2972285557713692,
          -0.04391332479597896,
          -0.9127750185864033,
          0.8642737524596605,
          -1.2427033799781488,
          0.17809916107149085,
          0.9855511500907624,
          0.5789203698228469,
          1.353179929831089,
          -1.5811690329479169,
          0.21627646035202477,
          0.22918666030418786,
          -0.7657227806022304,
          1.2970745084573303,
          -0.4411467425812966,
          -0.002253022989131673,
          -0.27334995315785343,
          -0.747367567496964,
          -0.7707536473647956,
          -0.05356741888756035,
          -0.16058500038988138,
          -0.5283774811894479,
          0.7155354694021077,
          -0.6711991806061014,
          2.552152773933515,
          -0.5804357246008203,
          -0.9473705154872256,
          -0.7083728099568252,
          -0.12062595408966743,
          1.3937635936198711,
          1.3108596651627333,
          0.5468020472079963,
          -1.435505117973782,
          -0.5332814220831296,
          1.6801961892764308,
          -0.5839531012332301,
          -0.6360695371158908,
          -0.6699857250566243,
          1.3350702453545424,
          0.15520860787965896,
          -0.5236228725603096,
          -0.7853909085159455,
          0.12147932511505855,
          -0.15327619748009327,
          -1.0783259244660068,
          1.210341428022308,
          0.13966304107529887,
          -0.9399084888506885,
          -0.59902023061572,
          -0.9954913339458762,
          -0.7571127903134742,
          0.9807267710763179,
          0.7122861855974634,
          -0.9759818563206035,
          1.3560811000635984,
          -0.01974306520172108,
          0.018638522220582106,
          1.252650763361496,
          -1.7834401536838884,
          -0.32449111720371465,
          -3.147935945088936,
          -2.4677680161269415,
          -0.048587764266386856,
          0.3680883517657553,
          -0.725297987922035,
          -0.21514594619635463,
          -0.9977141038793348,
          -1.36596465153972,
          -0.552387349054642,
          -0.06680693818684787,
          -0.10991903665861248,
          -0.053436332518115956,
          -0.6239178589232137,
          1.0931547879237713,
          0.87178061557824,
          -0.13461311038414722,
          1.6880989246818119,
          0.546249759714265
         ]
        },
        {
         "line": {
          "color": "rgba(50, 171, 96, 1.0)",
          "dash": "solid",
          "shape": "linear",
          "width": 1.3
         },
         "mode": "lines",
         "name": "C",
         "text": "",
         "type": "scatter",
         "x": [
          0,
          1,
          2,
          3,
          4,
          5,
          6,
          7,
          8,
          9,
          10,
          11,
          12,
          13,
          14,
          15,
          16,
          17,
          18,
          19,
          20,
          21,
          22,
          23,
          24,
          25,
          26,
          27,
          28,
          29,
          30,
          31,
          32,
          33,
          34,
          35,
          36,
          37,
          38,
          39,
          40,
          41,
          42,
          43,
          44,
          45,
          46,
          47,
          48,
          49,
          50,
          51,
          52,
          53,
          54,
          55,
          56,
          57,
          58,
          59,
          60,
          61,
          62,
          63,
          64,
          65,
          66,
          67,
          68,
          69,
          70,
          71,
          72,
          73,
          74,
          75,
          76,
          77,
          78,
          79,
          80,
          81,
          82,
          83,
          84,
          85,
          86,
          87,
          88,
          89,
          90,
          91,
          92,
          93,
          94,
          95,
          96,
          97,
          98,
          99
         ],
         "y": [
          0.08975292272801964,
          -1.122144724506423,
          0.41308708804683814,
          1.2291429573776043,
          -0.18877065292459855,
          -1.1827133158515823,
          0.1243820620472914,
          1.3664152433556176,
          -1.9317263932300122,
          -1.352599334638764,
          -1.2421362710127315,
          -0.11841390076466209,
          0.5676533077324823,
          2.0739104604246714,
          -0.5815660193270941,
          1.2342106376219761,
          1.2498521339262563,
          1.3641228885897345,
          0.6459650488502955,
          2.5601818715799407,
          -1.0978307291157816,
          1.1829438560535108,
          0.29373657583670565,
          0.3230546181531871,
          0.6987780265399964,
          -0.3545513737268042,
          1.4857524601434882,
          -0.4132454754168434,
          0.05185298448743799,
          0.318740957267097,
          1.3422031376556471,
          0.4159717801633933,
          1.1240504425180868,
          0.08843141393854091,
          0.19569293967241883,
          -0.5106019786377393,
          0.651574929047979,
          1.076220472519304,
          0.8488139449190083,
          0.625719223791922,
          0.5384437942374167,
          -0.5791426091552936,
          0.07668327712532673,
          -1.0390555690919654,
          -0.9271828938913351,
          0.391321175625563,
          -1.1318486107929164,
          -0.9620286554769042,
          0.455186372710968,
          -0.12246231655648669,
          1.7658189811363842,
          0.015485743147627212,
          -0.15939516759891706,
          0.5973398128847196,
          -0.17092565166135884,
          1.4947565162288488,
          0.08818093299296717,
          0.3432864897356414,
          -1.5572520156193959,
          0.955097996963139,
          -1.1463326824656868,
          -0.9679646288045803,
          -0.8996013936916627,
          1.619383421354637,
          1.8915358096961847,
          -1.3010202332392893,
          -0.4430385120251768,
          -0.36277275864847225,
          -0.3507681604645573,
          0.4001941423834444,
          0.6379541719377324,
          -0.921473030500794,
          -1.6067592713761423,
          -0.868582936032858,
          -0.9872348162604733,
          1.1826319763894984,
          -1.5857224651751778,
          1.3525105825459645,
          -0.9124056218723686,
          -0.3721181347015726,
          -0.7723146374495938,
          -0.5279691194847891,
          -0.14970976371896033,
          -1.2540461059105112,
          -0.18344310199684313,
          0.7354652158449307,
          -0.031022490215679255,
          1.407338098420656,
          1.0351227840283723,
          0.20974743668509147,
          0.7160528638967536,
          0.053054345974461244,
          0.57691522773279,
          -1.8239612844563236,
          -1.9614136463628828,
          -0.1681368787066811,
          -1.275670453649495,
          0.7528644393397567,
          1.984766448686928,
          -0.08338474525791412
         ]
        },
        {
         "line": {
          "color": "rgba(128, 0, 128, 1.0)",
          "dash": "solid",
          "shape": "linear",
          "width": 1.3
         },
         "mode": "lines",
         "name": "D",
         "text": "",
         "type": "scatter",
         "x": [
          0,
          1,
          2,
          3,
          4,
          5,
          6,
          7,
          8,
          9,
          10,
          11,
          12,
          13,
          14,
          15,
          16,
          17,
          18,
          19,
          20,
          21,
          22,
          23,
          24,
          25,
          26,
          27,
          28,
          29,
          30,
          31,
          32,
          33,
          34,
          35,
          36,
          37,
          38,
          39,
          40,
          41,
          42,
          43,
          44,
          45,
          46,
          47,
          48,
          49,
          50,
          51,
          52,
          53,
          54,
          55,
          56,
          57,
          58,
          59,
          60,
          61,
          62,
          63,
          64,
          65,
          66,
          67,
          68,
          69,
          70,
          71,
          72,
          73,
          74,
          75,
          76,
          77,
          78,
          79,
          80,
          81,
          82,
          83,
          84,
          85,
          86,
          87,
          88,
          89,
          90,
          91,
          92,
          93,
          94,
          95,
          96,
          97,
          98,
          99
         ],
         "y": [
          0.41582869604078676,
          0.08908090066659761,
          0.632897792621766,
          -0.2686957435142303,
          1.3935159015592866,
          -0.8841738165587938,
          0.04932020526232218,
          0.36083784255909696,
          0.5930700973382189,
          -0.7657210849831314,
          0.3267866329349151,
          1.5315699020346707,
          0.9712367876769182,
          -0.5905627182410459,
          -1.3007546297340629,
          -0.34270591049516025,
          -1.5444237356190753,
          1.3699224480253112,
          -0.5266601285331476,
          0.5218845104131509,
          -0.289624293712778,
          1.627351155893597,
          -1.1085599103320858,
          -0.7420379098700417,
          -0.3149385319792866,
          -0.385322306494416,
          1.3644526579034364,
          2.079390165287902,
          -0.9742206393662634,
          1.2164447116874373,
          0.3884321920313758,
          0.05507351497563259,
          0.5537148088290685,
          0.9223255572156578,
          -1.1670079433842513,
          -0.3135914685982984,
          1.0280770318659986,
          1.034208907032944,
          -0.9543377870675673,
          0.3829261951238701,
          -0.4774554270984158,
          1.857189262125492,
          0.27372529281337127,
          0.5145056173683261,
          -1.8524243682403903,
          0.6609968024478915,
          0.9861395451158472,
          0.236140297614199,
          0.2908269638573059,
          -0.5752767944825667,
          -0.10057475917755876,
          -0.8304574393966371,
          0.8394761248023412,
          -0.023112911194574703,
          -0.10541255871813637,
          0.40528831453003633,
          -1.7710003577295346,
          0.7003695443008019,
          -0.29595497417923705,
          0.7877849088254777,
          0.018086661637771565,
          -0.7523864957601858,
          -0.5925693080516211,
          2.7421756230459726,
          1.0868034162769078,
          2.2164334411102016,
          -0.5579699522423354,
          -1.2120639369984552,
          0.1440693357679276,
          -0.3112521195278353,
          -0.658596876546112,
          -0.8516897810622372,
          0.26133771366302966,
          -0.5009523402944972,
          -0.2610761190843744,
          1.3331496610644178,
          -0.2833154163537059,
          0.3906132760197774,
          0.36039296559861506,
          -1.4904439630173527,
          -0.5517329797875375,
          0.16347899128366633,
          0.7391508140400805,
          -1.13270922546856,
          -0.11346311599323608,
          -3.084242905951554,
          -1.0235631003432333,
          -0.8657644590205056,
          -0.43819452759309097,
          -2.020390719364349,
          0.024301027689802666,
          1.409069805891714,
          -0.5961646060273115,
          -0.4957491641382199,
          -0.8021720304829231,
          0.6528503562831411,
          -0.3458809496432313,
          -0.10578463830901161,
          2.40958535050643,
          -0.286802649121502
         ]
        }
       ],
       "layout": {
        "legend": {
         "bgcolor": "#F5F6F9",
         "font": {
          "color": "#4D5663"
         }
        },
        "paper_bgcolor": "#F5F6F9",
        "plot_bgcolor": "#F5F6F9",
        "template": {
         "data": {
          "bar": [
           {
            "error_x": {
             "color": "#2a3f5f"
            },
            "error_y": {
             "color": "#2a3f5f"
            },
            "marker": {
             "line": {
              "color": "#E5ECF6",
              "width": 0.5
             },
             "pattern": {
              "fillmode": "overlay",
              "size": 10,
              "solidity": 0.2
             }
            },
            "type": "bar"
           }
          ],
          "barpolar": [
           {
            "marker": {
             "line": {
              "color": "#E5ECF6",
              "width": 0.5
             },
             "pattern": {
              "fillmode": "overlay",
              "size": 10,
              "solidity": 0.2
             }
            },
            "type": "barpolar"
           }
          ],
          "carpet": [
           {
            "aaxis": {
             "endlinecolor": "#2a3f5f",
             "gridcolor": "white",
             "linecolor": "white",
             "minorgridcolor": "white",
             "startlinecolor": "#2a3f5f"
            },
            "baxis": {
             "endlinecolor": "#2a3f5f",
             "gridcolor": "white",
             "linecolor": "white",
             "minorgridcolor": "white",
             "startlinecolor": "#2a3f5f"
            },
            "type": "carpet"
           }
          ],
          "choropleth": [
           {
            "colorbar": {
             "outlinewidth": 0,
             "ticks": ""
            },
            "type": "choropleth"
           }
          ],
          "contour": [
           {
            "colorbar": {
             "outlinewidth": 0,
             "ticks": ""
            },
            "colorscale": [
             [
              0,
              "#0d0887"
             ],
             [
              0.1111111111111111,
              "#46039f"
             ],
             [
              0.2222222222222222,
              "#7201a8"
             ],
             [
              0.3333333333333333,
              "#9c179e"
             ],
             [
              0.4444444444444444,
              "#bd3786"
             ],
             [
              0.5555555555555556,
              "#d8576b"
             ],
             [
              0.6666666666666666,
              "#ed7953"
             ],
             [
              0.7777777777777778,
              "#fb9f3a"
             ],
             [
              0.8888888888888888,
              "#fdca26"
             ],
             [
              1,
              "#f0f921"
             ]
            ],
            "type": "contour"
           }
          ],
          "contourcarpet": [
           {
            "colorbar": {
             "outlinewidth": 0,
             "ticks": ""
            },
            "type": "contourcarpet"
           }
          ],
          "heatmap": [
           {
            "colorbar": {
             "outlinewidth": 0,
             "ticks": ""
            },
            "colorscale": [
             [
              0,
              "#0d0887"
             ],
             [
              0.1111111111111111,
              "#46039f"
             ],
             [
              0.2222222222222222,
              "#7201a8"
             ],
             [
              0.3333333333333333,
              "#9c179e"
             ],
             [
              0.4444444444444444,
              "#bd3786"
             ],
             [
              0.5555555555555556,
              "#d8576b"
             ],
             [
              0.6666666666666666,
              "#ed7953"
             ],
             [
              0.7777777777777778,
              "#fb9f3a"
             ],
             [
              0.8888888888888888,
              "#fdca26"
             ],
             [
              1,
              "#f0f921"
             ]
            ],
            "type": "heatmap"
           }
          ],
          "heatmapgl": [
           {
            "colorbar": {
             "outlinewidth": 0,
             "ticks": ""
            },
            "colorscale": [
             [
              0,
              "#0d0887"
             ],
             [
              0.1111111111111111,
              "#46039f"
             ],
             [
              0.2222222222222222,
              "#7201a8"
             ],
             [
              0.3333333333333333,
              "#9c179e"
             ],
             [
              0.4444444444444444,
              "#bd3786"
             ],
             [
              0.5555555555555556,
              "#d8576b"
             ],
             [
              0.6666666666666666,
              "#ed7953"
             ],
             [
              0.7777777777777778,
              "#fb9f3a"
             ],
             [
              0.8888888888888888,
              "#fdca26"
             ],
             [
              1,
              "#f0f921"
             ]
            ],
            "type": "heatmapgl"
           }
          ],
          "histogram": [
           {
            "marker": {
             "pattern": {
              "fillmode": "overlay",
              "size": 10,
              "solidity": 0.2
             }
            },
            "type": "histogram"
           }
          ],
          "histogram2d": [
           {
            "colorbar": {
             "outlinewidth": 0,
             "ticks": ""
            },
            "colorscale": [
             [
              0,
              "#0d0887"
             ],
             [
              0.1111111111111111,
              "#46039f"
             ],
             [
              0.2222222222222222,
              "#7201a8"
             ],
             [
              0.3333333333333333,
              "#9c179e"
             ],
             [
              0.4444444444444444,
              "#bd3786"
             ],
             [
              0.5555555555555556,
              "#d8576b"
             ],
             [
              0.6666666666666666,
              "#ed7953"
             ],
             [
              0.7777777777777778,
              "#fb9f3a"
             ],
             [
              0.8888888888888888,
              "#fdca26"
             ],
             [
              1,
              "#f0f921"
             ]
            ],
            "type": "histogram2d"
           }
          ],
          "histogram2dcontour": [
           {
            "colorbar": {
             "outlinewidth": 0,
             "ticks": ""
            },
            "colorscale": [
             [
              0,
              "#0d0887"
             ],
             [
              0.1111111111111111,
              "#46039f"
             ],
             [
              0.2222222222222222,
              "#7201a8"
             ],
             [
              0.3333333333333333,
              "#9c179e"
             ],
             [
              0.4444444444444444,
              "#bd3786"
             ],
             [
              0.5555555555555556,
              "#d8576b"
             ],
             [
              0.6666666666666666,
              "#ed7953"
             ],
             [
              0.7777777777777778,
              "#fb9f3a"
             ],
             [
              0.8888888888888888,
              "#fdca26"
             ],
             [
              1,
              "#f0f921"
             ]
            ],
            "type": "histogram2dcontour"
           }
          ],
          "mesh3d": [
           {
            "colorbar": {
             "outlinewidth": 0,
             "ticks": ""
            },
            "type": "mesh3d"
           }
          ],
          "parcoords": [
           {
            "line": {
             "colorbar": {
              "outlinewidth": 0,
              "ticks": ""
             }
            },
            "type": "parcoords"
           }
          ],
          "pie": [
           {
            "automargin": true,
            "type": "pie"
           }
          ],
          "scatter": [
           {
            "marker": {
             "colorbar": {
              "outlinewidth": 0,
              "ticks": ""
             }
            },
            "type": "scatter"
           }
          ],
          "scatter3d": [
           {
            "line": {
             "colorbar": {
              "outlinewidth": 0,
              "ticks": ""
             }
            },
            "marker": {
             "colorbar": {
              "outlinewidth": 0,
              "ticks": ""
             }
            },
            "type": "scatter3d"
           }
          ],
          "scattercarpet": [
           {
            "marker": {
             "colorbar": {
              "outlinewidth": 0,
              "ticks": ""
             }
            },
            "type": "scattercarpet"
           }
          ],
          "scattergeo": [
           {
            "marker": {
             "colorbar": {
              "outlinewidth": 0,
              "ticks": ""
             }
            },
            "type": "scattergeo"
           }
          ],
          "scattergl": [
           {
            "marker": {
             "colorbar": {
              "outlinewidth": 0,
              "ticks": ""
             }
            },
            "type": "scattergl"
           }
          ],
          "scattermapbox": [
           {
            "marker": {
             "colorbar": {
              "outlinewidth": 0,
              "ticks": ""
             }
            },
            "type": "scattermapbox"
           }
          ],
          "scatterpolar": [
           {
            "marker": {
             "colorbar": {
              "outlinewidth": 0,
              "ticks": ""
             }
            },
            "type": "scatterpolar"
           }
          ],
          "scatterpolargl": [
           {
            "marker": {
             "colorbar": {
              "outlinewidth": 0,
              "ticks": ""
             }
            },
            "type": "scatterpolargl"
           }
          ],
          "scatterternary": [
           {
            "marker": {
             "colorbar": {
              "outlinewidth": 0,
              "ticks": ""
             }
            },
            "type": "scatterternary"
           }
          ],
          "surface": [
           {
            "colorbar": {
             "outlinewidth": 0,
             "ticks": ""
            },
            "colorscale": [
             [
              0,
              "#0d0887"
             ],
             [
              0.1111111111111111,
              "#46039f"
             ],
             [
              0.2222222222222222,
              "#7201a8"
             ],
             [
              0.3333333333333333,
              "#9c179e"
             ],
             [
              0.4444444444444444,
              "#bd3786"
             ],
             [
              0.5555555555555556,
              "#d8576b"
             ],
             [
              0.6666666666666666,
              "#ed7953"
             ],
             [
              0.7777777777777778,
              "#fb9f3a"
             ],
             [
              0.8888888888888888,
              "#fdca26"
             ],
             [
              1,
              "#f0f921"
             ]
            ],
            "type": "surface"
           }
          ],
          "table": [
           {
            "cells": {
             "fill": {
              "color": "#EBF0F8"
             },
             "line": {
              "color": "white"
             }
            },
            "header": {
             "fill": {
              "color": "#C8D4E3"
             },
             "line": {
              "color": "white"
             }
            },
            "type": "table"
           }
          ]
         },
         "layout": {
          "annotationdefaults": {
           "arrowcolor": "#2a3f5f",
           "arrowhead": 0,
           "arrowwidth": 1
          },
          "autotypenumbers": "strict",
          "coloraxis": {
           "colorbar": {
            "outlinewidth": 0,
            "ticks": ""
           }
          },
          "colorscale": {
           "diverging": [
            [
             0,
             "#8e0152"
            ],
            [
             0.1,
             "#c51b7d"
            ],
            [
             0.2,
             "#de77ae"
            ],
            [
             0.3,
             "#f1b6da"
            ],
            [
             0.4,
             "#fde0ef"
            ],
            [
             0.5,
             "#f7f7f7"
            ],
            [
             0.6,
             "#e6f5d0"
            ],
            [
             0.7,
             "#b8e186"
            ],
            [
             0.8,
             "#7fbc41"
            ],
            [
             0.9,
             "#4d9221"
            ],
            [
             1,
             "#276419"
            ]
           ],
           "sequential": [
            [
             0,
             "#0d0887"
            ],
            [
             0.1111111111111111,
             "#46039f"
            ],
            [
             0.2222222222222222,
             "#7201a8"
            ],
            [
             0.3333333333333333,
             "#9c179e"
            ],
            [
             0.4444444444444444,
             "#bd3786"
            ],
            [
             0.5555555555555556,
             "#d8576b"
            ],
            [
             0.6666666666666666,
             "#ed7953"
            ],
            [
             0.7777777777777778,
             "#fb9f3a"
            ],
            [
             0.8888888888888888,
             "#fdca26"
            ],
            [
             1,
             "#f0f921"
            ]
           ],
           "sequentialminus": [
            [
             0,
             "#0d0887"
            ],
            [
             0.1111111111111111,
             "#46039f"
            ],
            [
             0.2222222222222222,
             "#7201a8"
            ],
            [
             0.3333333333333333,
             "#9c179e"
            ],
            [
             0.4444444444444444,
             "#bd3786"
            ],
            [
             0.5555555555555556,
             "#d8576b"
            ],
            [
             0.6666666666666666,
             "#ed7953"
            ],
            [
             0.7777777777777778,
             "#fb9f3a"
            ],
            [
             0.8888888888888888,
             "#fdca26"
            ],
            [
             1,
             "#f0f921"
            ]
           ]
          },
          "colorway": [
           "#636efa",
           "#EF553B",
           "#00cc96",
           "#ab63fa",
           "#FFA15A",
           "#19d3f3",
           "#FF6692",
           "#B6E880",
           "#FF97FF",
           "#FECB52"
          ],
          "font": {
           "color": "#2a3f5f"
          },
          "geo": {
           "bgcolor": "white",
           "lakecolor": "white",
           "landcolor": "#E5ECF6",
           "showlakes": true,
           "showland": true,
           "subunitcolor": "white"
          },
          "hoverlabel": {
           "align": "left"
          },
          "hovermode": "closest",
          "mapbox": {
           "style": "light"
          },
          "paper_bgcolor": "white",
          "plot_bgcolor": "#E5ECF6",
          "polar": {
           "angularaxis": {
            "gridcolor": "white",
            "linecolor": "white",
            "ticks": ""
           },
           "bgcolor": "#E5ECF6",
           "radialaxis": {
            "gridcolor": "white",
            "linecolor": "white",
            "ticks": ""
           }
          },
          "scene": {
           "xaxis": {
            "backgroundcolor": "#E5ECF6",
            "gridcolor": "white",
            "gridwidth": 2,
            "linecolor": "white",
            "showbackground": true,
            "ticks": "",
            "zerolinecolor": "white"
           },
           "yaxis": {
            "backgroundcolor": "#E5ECF6",
            "gridcolor": "white",
            "gridwidth": 2,
            "linecolor": "white",
            "showbackground": true,
            "ticks": "",
            "zerolinecolor": "white"
           },
           "zaxis": {
            "backgroundcolor": "#E5ECF6",
            "gridcolor": "white",
            "gridwidth": 2,
            "linecolor": "white",
            "showbackground": true,
            "ticks": "",
            "zerolinecolor": "white"
           }
          },
          "shapedefaults": {
           "line": {
            "color": "#2a3f5f"
           }
          },
          "ternary": {
           "aaxis": {
            "gridcolor": "white",
            "linecolor": "white",
            "ticks": ""
           },
           "baxis": {
            "gridcolor": "white",
            "linecolor": "white",
            "ticks": ""
           },
           "bgcolor": "#E5ECF6",
           "caxis": {
            "gridcolor": "white",
            "linecolor": "white",
            "ticks": ""
           }
          },
          "title": {
           "x": 0.05
          },
          "xaxis": {
           "automargin": true,
           "gridcolor": "white",
           "linecolor": "white",
           "ticks": "",
           "title": {
            "standoff": 15
           },
           "zerolinecolor": "white",
           "zerolinewidth": 2
          },
          "yaxis": {
           "automargin": true,
           "gridcolor": "white",
           "linecolor": "white",
           "ticks": "",
           "title": {
            "standoff": 15
           },
           "zerolinecolor": "white",
           "zerolinewidth": 2
          }
         }
        },
        "title": {
         "font": {
          "color": "#4D5663"
         }
        },
        "xaxis": {
         "gridcolor": "#E1E5ED",
         "showgrid": true,
         "tickfont": {
          "color": "#4D5663"
         },
         "title": {
          "font": {
           "color": "#4D5663"
          },
          "text": ""
         },
         "zerolinecolor": "#E1E5ED"
        },
        "yaxis": {
         "gridcolor": "#E1E5ED",
         "showgrid": true,
         "tickfont": {
          "color": "#4D5663"
         },
         "title": {
          "font": {
           "color": "#4D5663"
          },
          "text": ""
         },
         "zerolinecolor": "#E1E5ED"
        }
       }
      },
      "text/html": [
       "<div>                            <div id=\"f37cf447-5630-4244-9db4-0b2b1f43041b\" class=\"plotly-graph-div\" style=\"height:525px; width:100%;\"></div>            <script type=\"text/javascript\">                require([\"plotly\"], function(Plotly) {                    window.PLOTLYENV=window.PLOTLYENV || {};\n",
       "                    window.PLOTLYENV.BASE_URL='https://plot.ly';                                    if (document.getElementById(\"f37cf447-5630-4244-9db4-0b2b1f43041b\")) {                    Plotly.newPlot(                        \"f37cf447-5630-4244-9db4-0b2b1f43041b\",                        [{\"line\":{\"color\":\"rgba(255, 153, 51, 1.0)\",\"dash\":\"solid\",\"shape\":\"linear\",\"width\":1.3},\"mode\":\"lines\",\"name\":\"A\",\"text\":\"\",\"type\":\"scatter\",\"x\":[0,1,2,3,4,5,6,7,8,9,10,11,12,13,14,15,16,17,18,19,20,21,22,23,24,25,26,27,28,29,30,31,32,33,34,35,36,37,38,39,40,41,42,43,44,45,46,47,48,49,50,51,52,53,54,55,56,57,58,59,60,61,62,63,64,65,66,67,68,69,70,71,72,73,74,75,76,77,78,79,80,81,82,83,84,85,86,87,88,89,90,91,92,93,94,95,96,97,98,99],\"y\":[-1.5780143094608707,0.4224141679036228,-0.046044199547425994,0.2764425774695236,0.2832003904525572,-0.8244229229915959,0.3231680986676643,-2.5784754728961077,-1.1174667014919542,-0.10433571740892703,-0.8635825627075128,0.7213549567592623,-0.514209164071635,-0.0894937461585034,-1.0493787538844543,1.1600959677883953,0.015315579009527229,1.1373452911453181,-0.35205604004623087,0.9733588160495177,1.0175919245173992,-1.1032733279615654,-0.04091946153944837,0.29127869094225495,-0.8031504118174125,0.6154323976045675,-0.9416530536217149,-0.8615871361773523,1.7197517910385434,-1.3245217395911422,-0.9905387437971541,0.612921924303667,-1.7195845050451466,1.7794753656569549,1.390338780884705,1.5420775527370045,1.4602461868666108,0.3920840158671529,0.20740068599803843,-0.0525907643085713,-2.124496090536296,1.8033601534563382,-2.2134597571962984,-1.2320037595512683,-0.013623770292160971,0.10361627865663506,1.8251728914117562,-1.4567844712500666,1.6815715414433596,-1.6382228363459552,1.1785073527119436,-2.1103799953953857,-2.360654618156865,1.06403721627327,-0.6021400767598017,-0.47764716258391327,0.170088710868202,1.6261280670577174,0.29696401753219864,-0.551821204569244,-0.7933538478762096,1.2175829255456183,1.2929051874329027,1.8671528425987827,-0.4997985409441982,-1.0199402532984096,-0.773586095168086,-0.36877594456216256,-0.7896229212932089,-1.6187547203217891,0.5095063621113651,0.3892508134673948,1.8226250380923086,1.398772283602051,0.28258121963712785,0.3171731159206602,-0.4664976111440749,-0.2845925650841886,-1.4177805231493208,0.9495788651228273,0.42885197403303343,2.0694579684956147,-0.7334623227655961,-0.05343421964291611,-0.42613012697760827,0.7942339422888914,0.9822033206905049,1.1274178789267362,-0.4865849503191588,0.252100329107842,-0.5178559805808933,-0.7894057794818384,-0.6942281167523381,-1.2733291431281641,0.6615762834883798,-0.47001228540783596,1.1182681925497504,-0.23366998936225875,1.838116177785737,-0.8406962071636835]},{\"line\":{\"color\":\"rgba(55, 128, 191, 1.0)\",\"dash\":\"solid\",\"shape\":\"linear\",\"width\":1.3},\"mode\":\"lines\",\"name\":\"B\",\"text\":\"\",\"type\":\"scatter\",\"x\":[0,1,2,3,4,5,6,7,8,9,10,11,12,13,14,15,16,17,18,19,20,21,22,23,24,25,26,27,28,29,30,31,32,33,34,35,36,37,38,39,40,41,42,43,44,45,46,47,48,49,50,51,52,53,54,55,56,57,58,59,60,61,62,63,64,65,66,67,68,69,70,71,72,73,74,75,76,77,78,79,80,81,82,83,84,85,86,87,88,89,90,91,92,93,94,95,96,97,98,99],\"y\":[-0.0259506725481951,0.24435649772913426,1.0877733311223357,-1.8962004040020193,-0.25954921711141765,2.7043824859122476,1.0926540178862534,0.35217276213382537,0.1407838761058627,-0.6885384052765048,-1.383324172827188,1.1577865659859314,-1.8530220238946453,-1.2259532131837694,-1.7724024475662012,0.16921653511331095,-0.23502175645737877,-0.19493413743530474,2.1059690127705033,0.7145282505605425,-1.2459465065590833,-0.6112834219178358,-1.2972285557713692,-0.04391332479597896,-0.9127750185864033,0.8642737524596605,-1.2427033799781488,0.17809916107149085,0.9855511500907624,0.5789203698228469,1.353179929831089,-1.5811690329479169,0.21627646035202477,0.22918666030418786,-0.7657227806022304,1.2970745084573303,-0.4411467425812966,-0.002253022989131673,-0.27334995315785343,-0.747367567496964,-0.7707536473647956,-0.05356741888756035,-0.16058500038988138,-0.5283774811894479,0.7155354694021077,-0.6711991806061014,2.552152773933515,-0.5804357246008203,-0.9473705154872256,-0.7083728099568252,-0.12062595408966743,1.3937635936198711,1.3108596651627333,0.5468020472079963,-1.435505117973782,-0.5332814220831296,1.6801961892764308,-0.5839531012332301,-0.6360695371158908,-0.6699857250566243,1.3350702453545424,0.15520860787965896,-0.5236228725603096,-0.7853909085159455,0.12147932511505855,-0.15327619748009327,-1.0783259244660068,1.210341428022308,0.13966304107529887,-0.9399084888506885,-0.59902023061572,-0.9954913339458762,-0.7571127903134742,0.9807267710763179,0.7122861855974634,-0.9759818563206035,1.3560811000635984,-0.01974306520172108,0.018638522220582106,1.252650763361496,-1.7834401536838884,-0.32449111720371465,-3.147935945088936,-2.4677680161269415,-0.048587764266386856,0.3680883517657553,-0.725297987922035,-0.21514594619635463,-0.9977141038793348,-1.36596465153972,-0.552387349054642,-0.06680693818684787,-0.10991903665861248,-0.053436332518115956,-0.6239178589232137,1.0931547879237713,0.87178061557824,-0.13461311038414722,1.6880989246818119,0.546249759714265]},{\"line\":{\"color\":\"rgba(50, 171, 96, 1.0)\",\"dash\":\"solid\",\"shape\":\"linear\",\"width\":1.3},\"mode\":\"lines\",\"name\":\"C\",\"text\":\"\",\"type\":\"scatter\",\"x\":[0,1,2,3,4,5,6,7,8,9,10,11,12,13,14,15,16,17,18,19,20,21,22,23,24,25,26,27,28,29,30,31,32,33,34,35,36,37,38,39,40,41,42,43,44,45,46,47,48,49,50,51,52,53,54,55,56,57,58,59,60,61,62,63,64,65,66,67,68,69,70,71,72,73,74,75,76,77,78,79,80,81,82,83,84,85,86,87,88,89,90,91,92,93,94,95,96,97,98,99],\"y\":[0.08975292272801964,-1.122144724506423,0.41308708804683814,1.2291429573776043,-0.18877065292459855,-1.1827133158515823,0.1243820620472914,1.3664152433556176,-1.9317263932300122,-1.352599334638764,-1.2421362710127315,-0.11841390076466209,0.5676533077324823,2.0739104604246714,-0.5815660193270941,1.2342106376219761,1.2498521339262563,1.3641228885897345,0.6459650488502955,2.5601818715799407,-1.0978307291157816,1.1829438560535108,0.29373657583670565,0.3230546181531871,0.6987780265399964,-0.3545513737268042,1.4857524601434882,-0.4132454754168434,0.05185298448743799,0.318740957267097,1.3422031376556471,0.4159717801633933,1.1240504425180868,0.08843141393854091,0.19569293967241883,-0.5106019786377393,0.651574929047979,1.076220472519304,0.8488139449190083,0.625719223791922,0.5384437942374167,-0.5791426091552936,0.07668327712532673,-1.0390555690919654,-0.9271828938913351,0.391321175625563,-1.1318486107929164,-0.9620286554769042,0.455186372710968,-0.12246231655648669,1.7658189811363842,0.015485743147627212,-0.15939516759891706,0.5973398128847196,-0.17092565166135884,1.4947565162288488,0.08818093299296717,0.3432864897356414,-1.5572520156193959,0.955097996963139,-1.1463326824656868,-0.9679646288045803,-0.8996013936916627,1.619383421354637,1.8915358096961847,-1.3010202332392893,-0.4430385120251768,-0.36277275864847225,-0.3507681604645573,0.4001941423834444,0.6379541719377324,-0.921473030500794,-1.6067592713761423,-0.868582936032858,-0.9872348162604733,1.1826319763894984,-1.5857224651751778,1.3525105825459645,-0.9124056218723686,-0.3721181347015726,-0.7723146374495938,-0.5279691194847891,-0.14970976371896033,-1.2540461059105112,-0.18344310199684313,0.7354652158449307,-0.031022490215679255,1.407338098420656,1.0351227840283723,0.20974743668509147,0.7160528638967536,0.053054345974461244,0.57691522773279,-1.8239612844563236,-1.9614136463628828,-0.1681368787066811,-1.275670453649495,0.7528644393397567,1.984766448686928,-0.08338474525791412]},{\"line\":{\"color\":\"rgba(128, 0, 128, 1.0)\",\"dash\":\"solid\",\"shape\":\"linear\",\"width\":1.3},\"mode\":\"lines\",\"name\":\"D\",\"text\":\"\",\"type\":\"scatter\",\"x\":[0,1,2,3,4,5,6,7,8,9,10,11,12,13,14,15,16,17,18,19,20,21,22,23,24,25,26,27,28,29,30,31,32,33,34,35,36,37,38,39,40,41,42,43,44,45,46,47,48,49,50,51,52,53,54,55,56,57,58,59,60,61,62,63,64,65,66,67,68,69,70,71,72,73,74,75,76,77,78,79,80,81,82,83,84,85,86,87,88,89,90,91,92,93,94,95,96,97,98,99],\"y\":[0.41582869604078676,0.08908090066659761,0.632897792621766,-0.2686957435142303,1.3935159015592866,-0.8841738165587938,0.04932020526232218,0.36083784255909696,0.5930700973382189,-0.7657210849831314,0.3267866329349151,1.5315699020346707,0.9712367876769182,-0.5905627182410459,-1.3007546297340629,-0.34270591049516025,-1.5444237356190753,1.3699224480253112,-0.5266601285331476,0.5218845104131509,-0.289624293712778,1.627351155893597,-1.1085599103320858,-0.7420379098700417,-0.3149385319792866,-0.385322306494416,1.3644526579034364,2.079390165287902,-0.9742206393662634,1.2164447116874373,0.3884321920313758,0.05507351497563259,0.5537148088290685,0.9223255572156578,-1.1670079433842513,-0.3135914685982984,1.0280770318659986,1.034208907032944,-0.9543377870675673,0.3829261951238701,-0.4774554270984158,1.857189262125492,0.27372529281337127,0.5145056173683261,-1.8524243682403903,0.6609968024478915,0.9861395451158472,0.236140297614199,0.2908269638573059,-0.5752767944825667,-0.10057475917755876,-0.8304574393966371,0.8394761248023412,-0.023112911194574703,-0.10541255871813637,0.40528831453003633,-1.7710003577295346,0.7003695443008019,-0.29595497417923705,0.7877849088254777,0.018086661637771565,-0.7523864957601858,-0.5925693080516211,2.7421756230459726,1.0868034162769078,2.2164334411102016,-0.5579699522423354,-1.2120639369984552,0.1440693357679276,-0.3112521195278353,-0.658596876546112,-0.8516897810622372,0.26133771366302966,-0.5009523402944972,-0.2610761190843744,1.3331496610644178,-0.2833154163537059,0.3906132760197774,0.36039296559861506,-1.4904439630173527,-0.5517329797875375,0.16347899128366633,0.7391508140400805,-1.13270922546856,-0.11346311599323608,-3.084242905951554,-1.0235631003432333,-0.8657644590205056,-0.43819452759309097,-2.020390719364349,0.024301027689802666,1.409069805891714,-0.5961646060273115,-0.4957491641382199,-0.8021720304829231,0.6528503562831411,-0.3458809496432313,-0.10578463830901161,2.40958535050643,-0.286802649121502]}],                        {\"legend\":{\"bgcolor\":\"#F5F6F9\",\"font\":{\"color\":\"#4D5663\"}},\"paper_bgcolor\":\"#F5F6F9\",\"plot_bgcolor\":\"#F5F6F9\",\"template\":{\"data\":{\"bar\":[{\"error_x\":{\"color\":\"#2a3f5f\"},\"error_y\":{\"color\":\"#2a3f5f\"},\"marker\":{\"line\":{\"color\":\"#E5ECF6\",\"width\":0.5},\"pattern\":{\"fillmode\":\"overlay\",\"size\":10,\"solidity\":0.2}},\"type\":\"bar\"}],\"barpolar\":[{\"marker\":{\"line\":{\"color\":\"#E5ECF6\",\"width\":0.5},\"pattern\":{\"fillmode\":\"overlay\",\"size\":10,\"solidity\":0.2}},\"type\":\"barpolar\"}],\"carpet\":[{\"aaxis\":{\"endlinecolor\":\"#2a3f5f\",\"gridcolor\":\"white\",\"linecolor\":\"white\",\"minorgridcolor\":\"white\",\"startlinecolor\":\"#2a3f5f\"},\"baxis\":{\"endlinecolor\":\"#2a3f5f\",\"gridcolor\":\"white\",\"linecolor\":\"white\",\"minorgridcolor\":\"white\",\"startlinecolor\":\"#2a3f5f\"},\"type\":\"carpet\"}],\"choropleth\":[{\"colorbar\":{\"outlinewidth\":0,\"ticks\":\"\"},\"type\":\"choropleth\"}],\"contour\":[{\"colorbar\":{\"outlinewidth\":0,\"ticks\":\"\"},\"colorscale\":[[0.0,\"#0d0887\"],[0.1111111111111111,\"#46039f\"],[0.2222222222222222,\"#7201a8\"],[0.3333333333333333,\"#9c179e\"],[0.4444444444444444,\"#bd3786\"],[0.5555555555555556,\"#d8576b\"],[0.6666666666666666,\"#ed7953\"],[0.7777777777777778,\"#fb9f3a\"],[0.8888888888888888,\"#fdca26\"],[1.0,\"#f0f921\"]],\"type\":\"contour\"}],\"contourcarpet\":[{\"colorbar\":{\"outlinewidth\":0,\"ticks\":\"\"},\"type\":\"contourcarpet\"}],\"heatmap\":[{\"colorbar\":{\"outlinewidth\":0,\"ticks\":\"\"},\"colorscale\":[[0.0,\"#0d0887\"],[0.1111111111111111,\"#46039f\"],[0.2222222222222222,\"#7201a8\"],[0.3333333333333333,\"#9c179e\"],[0.4444444444444444,\"#bd3786\"],[0.5555555555555556,\"#d8576b\"],[0.6666666666666666,\"#ed7953\"],[0.7777777777777778,\"#fb9f3a\"],[0.8888888888888888,\"#fdca26\"],[1.0,\"#f0f921\"]],\"type\":\"heatmap\"}],\"heatmapgl\":[{\"colorbar\":{\"outlinewidth\":0,\"ticks\":\"\"},\"colorscale\":[[0.0,\"#0d0887\"],[0.1111111111111111,\"#46039f\"],[0.2222222222222222,\"#7201a8\"],[0.3333333333333333,\"#9c179e\"],[0.4444444444444444,\"#bd3786\"],[0.5555555555555556,\"#d8576b\"],[0.6666666666666666,\"#ed7953\"],[0.7777777777777778,\"#fb9f3a\"],[0.8888888888888888,\"#fdca26\"],[1.0,\"#f0f921\"]],\"type\":\"heatmapgl\"}],\"histogram\":[{\"marker\":{\"pattern\":{\"fillmode\":\"overlay\",\"size\":10,\"solidity\":0.2}},\"type\":\"histogram\"}],\"histogram2d\":[{\"colorbar\":{\"outlinewidth\":0,\"ticks\":\"\"},\"colorscale\":[[0.0,\"#0d0887\"],[0.1111111111111111,\"#46039f\"],[0.2222222222222222,\"#7201a8\"],[0.3333333333333333,\"#9c179e\"],[0.4444444444444444,\"#bd3786\"],[0.5555555555555556,\"#d8576b\"],[0.6666666666666666,\"#ed7953\"],[0.7777777777777778,\"#fb9f3a\"],[0.8888888888888888,\"#fdca26\"],[1.0,\"#f0f921\"]],\"type\":\"histogram2d\"}],\"histogram2dcontour\":[{\"colorbar\":{\"outlinewidth\":0,\"ticks\":\"\"},\"colorscale\":[[0.0,\"#0d0887\"],[0.1111111111111111,\"#46039f\"],[0.2222222222222222,\"#7201a8\"],[0.3333333333333333,\"#9c179e\"],[0.4444444444444444,\"#bd3786\"],[0.5555555555555556,\"#d8576b\"],[0.6666666666666666,\"#ed7953\"],[0.7777777777777778,\"#fb9f3a\"],[0.8888888888888888,\"#fdca26\"],[1.0,\"#f0f921\"]],\"type\":\"histogram2dcontour\"}],\"mesh3d\":[{\"colorbar\":{\"outlinewidth\":0,\"ticks\":\"\"},\"type\":\"mesh3d\"}],\"parcoords\":[{\"line\":{\"colorbar\":{\"outlinewidth\":0,\"ticks\":\"\"}},\"type\":\"parcoords\"}],\"pie\":[{\"automargin\":true,\"type\":\"pie\"}],\"scatter\":[{\"marker\":{\"colorbar\":{\"outlinewidth\":0,\"ticks\":\"\"}},\"type\":\"scatter\"}],\"scatter3d\":[{\"line\":{\"colorbar\":{\"outlinewidth\":0,\"ticks\":\"\"}},\"marker\":{\"colorbar\":{\"outlinewidth\":0,\"ticks\":\"\"}},\"type\":\"scatter3d\"}],\"scattercarpet\":[{\"marker\":{\"colorbar\":{\"outlinewidth\":0,\"ticks\":\"\"}},\"type\":\"scattercarpet\"}],\"scattergeo\":[{\"marker\":{\"colorbar\":{\"outlinewidth\":0,\"ticks\":\"\"}},\"type\":\"scattergeo\"}],\"scattergl\":[{\"marker\":{\"colorbar\":{\"outlinewidth\":0,\"ticks\":\"\"}},\"type\":\"scattergl\"}],\"scattermapbox\":[{\"marker\":{\"colorbar\":{\"outlinewidth\":0,\"ticks\":\"\"}},\"type\":\"scattermapbox\"}],\"scatterpolar\":[{\"marker\":{\"colorbar\":{\"outlinewidth\":0,\"ticks\":\"\"}},\"type\":\"scatterpolar\"}],\"scatterpolargl\":[{\"marker\":{\"colorbar\":{\"outlinewidth\":0,\"ticks\":\"\"}},\"type\":\"scatterpolargl\"}],\"scatterternary\":[{\"marker\":{\"colorbar\":{\"outlinewidth\":0,\"ticks\":\"\"}},\"type\":\"scatterternary\"}],\"surface\":[{\"colorbar\":{\"outlinewidth\":0,\"ticks\":\"\"},\"colorscale\":[[0.0,\"#0d0887\"],[0.1111111111111111,\"#46039f\"],[0.2222222222222222,\"#7201a8\"],[0.3333333333333333,\"#9c179e\"],[0.4444444444444444,\"#bd3786\"],[0.5555555555555556,\"#d8576b\"],[0.6666666666666666,\"#ed7953\"],[0.7777777777777778,\"#fb9f3a\"],[0.8888888888888888,\"#fdca26\"],[1.0,\"#f0f921\"]],\"type\":\"surface\"}],\"table\":[{\"cells\":{\"fill\":{\"color\":\"#EBF0F8\"},\"line\":{\"color\":\"white\"}},\"header\":{\"fill\":{\"color\":\"#C8D4E3\"},\"line\":{\"color\":\"white\"}},\"type\":\"table\"}]},\"layout\":{\"annotationdefaults\":{\"arrowcolor\":\"#2a3f5f\",\"arrowhead\":0,\"arrowwidth\":1},\"autotypenumbers\":\"strict\",\"coloraxis\":{\"colorbar\":{\"outlinewidth\":0,\"ticks\":\"\"}},\"colorscale\":{\"diverging\":[[0,\"#8e0152\"],[0.1,\"#c51b7d\"],[0.2,\"#de77ae\"],[0.3,\"#f1b6da\"],[0.4,\"#fde0ef\"],[0.5,\"#f7f7f7\"],[0.6,\"#e6f5d0\"],[0.7,\"#b8e186\"],[0.8,\"#7fbc41\"],[0.9,\"#4d9221\"],[1,\"#276419\"]],\"sequential\":[[0.0,\"#0d0887\"],[0.1111111111111111,\"#46039f\"],[0.2222222222222222,\"#7201a8\"],[0.3333333333333333,\"#9c179e\"],[0.4444444444444444,\"#bd3786\"],[0.5555555555555556,\"#d8576b\"],[0.6666666666666666,\"#ed7953\"],[0.7777777777777778,\"#fb9f3a\"],[0.8888888888888888,\"#fdca26\"],[1.0,\"#f0f921\"]],\"sequentialminus\":[[0.0,\"#0d0887\"],[0.1111111111111111,\"#46039f\"],[0.2222222222222222,\"#7201a8\"],[0.3333333333333333,\"#9c179e\"],[0.4444444444444444,\"#bd3786\"],[0.5555555555555556,\"#d8576b\"],[0.6666666666666666,\"#ed7953\"],[0.7777777777777778,\"#fb9f3a\"],[0.8888888888888888,\"#fdca26\"],[1.0,\"#f0f921\"]]},\"colorway\":[\"#636efa\",\"#EF553B\",\"#00cc96\",\"#ab63fa\",\"#FFA15A\",\"#19d3f3\",\"#FF6692\",\"#B6E880\",\"#FF97FF\",\"#FECB52\"],\"font\":{\"color\":\"#2a3f5f\"},\"geo\":{\"bgcolor\":\"white\",\"lakecolor\":\"white\",\"landcolor\":\"#E5ECF6\",\"showlakes\":true,\"showland\":true,\"subunitcolor\":\"white\"},\"hoverlabel\":{\"align\":\"left\"},\"hovermode\":\"closest\",\"mapbox\":{\"style\":\"light\"},\"paper_bgcolor\":\"white\",\"plot_bgcolor\":\"#E5ECF6\",\"polar\":{\"angularaxis\":{\"gridcolor\":\"white\",\"linecolor\":\"white\",\"ticks\":\"\"},\"bgcolor\":\"#E5ECF6\",\"radialaxis\":{\"gridcolor\":\"white\",\"linecolor\":\"white\",\"ticks\":\"\"}},\"scene\":{\"xaxis\":{\"backgroundcolor\":\"#E5ECF6\",\"gridcolor\":\"white\",\"gridwidth\":2,\"linecolor\":\"white\",\"showbackground\":true,\"ticks\":\"\",\"zerolinecolor\":\"white\"},\"yaxis\":{\"backgroundcolor\":\"#E5ECF6\",\"gridcolor\":\"white\",\"gridwidth\":2,\"linecolor\":\"white\",\"showbackground\":true,\"ticks\":\"\",\"zerolinecolor\":\"white\"},\"zaxis\":{\"backgroundcolor\":\"#E5ECF6\",\"gridcolor\":\"white\",\"gridwidth\":2,\"linecolor\":\"white\",\"showbackground\":true,\"ticks\":\"\",\"zerolinecolor\":\"white\"}},\"shapedefaults\":{\"line\":{\"color\":\"#2a3f5f\"}},\"ternary\":{\"aaxis\":{\"gridcolor\":\"white\",\"linecolor\":\"white\",\"ticks\":\"\"},\"baxis\":{\"gridcolor\":\"white\",\"linecolor\":\"white\",\"ticks\":\"\"},\"bgcolor\":\"#E5ECF6\",\"caxis\":{\"gridcolor\":\"white\",\"linecolor\":\"white\",\"ticks\":\"\"}},\"title\":{\"x\":0.05},\"xaxis\":{\"automargin\":true,\"gridcolor\":\"white\",\"linecolor\":\"white\",\"ticks\":\"\",\"title\":{\"standoff\":15},\"zerolinecolor\":\"white\",\"zerolinewidth\":2},\"yaxis\":{\"automargin\":true,\"gridcolor\":\"white\",\"linecolor\":\"white\",\"ticks\":\"\",\"title\":{\"standoff\":15},\"zerolinecolor\":\"white\",\"zerolinewidth\":2}}},\"title\":{\"font\":{\"color\":\"#4D5663\"}},\"xaxis\":{\"gridcolor\":\"#E1E5ED\",\"showgrid\":true,\"tickfont\":{\"color\":\"#4D5663\"},\"title\":{\"font\":{\"color\":\"#4D5663\"},\"text\":\"\"},\"zerolinecolor\":\"#E1E5ED\"},\"yaxis\":{\"gridcolor\":\"#E1E5ED\",\"showgrid\":true,\"tickfont\":{\"color\":\"#4D5663\"},\"title\":{\"font\":{\"color\":\"#4D5663\"},\"text\":\"\"},\"zerolinecolor\":\"#E1E5ED\"}},                        {\"showLink\": true, \"linkText\": \"Export to plot.ly\", \"plotlyServerURL\": \"https://plot.ly\", \"responsive\": true}                    ).then(function(){\n",
       "                            \n",
       "var gd = document.getElementById('f37cf447-5630-4244-9db4-0b2b1f43041b');\n",
       "var x = new MutationObserver(function (mutations, observer) {{\n",
       "        var display = window.getComputedStyle(gd).display;\n",
       "        if (!display || display === 'none') {{\n",
       "            console.log([gd, 'removed!']);\n",
       "            Plotly.purge(gd);\n",
       "            observer.disconnect();\n",
       "        }}\n",
       "}});\n",
       "\n",
       "// Listen for the removal of the full notebook cells\n",
       "var notebookContainer = gd.closest('#notebook-container');\n",
       "if (notebookContainer) {{\n",
       "    x.observe(notebookContainer, {childList: true});\n",
       "}}\n",
       "\n",
       "// Listen for the clearing of the current output cell\n",
       "var outputEl = gd.closest('.output');\n",
       "if (outputEl) {{\n",
       "    x.observe(outputEl, {childList: true});\n",
       "}}\n",
       "\n",
       "                        })                };                });            </script>        </div>"
      ]
     },
     "metadata": {},
     "output_type": "display_data"
    }
   ],
   "source": [
    "df.iplot()"
   ]
  },
  {
   "cell_type": "code",
   "execution_count": 17,
   "id": "56c7ecff-0202-4c2d-af0e-76cf36a3258f",
   "metadata": {},
   "outputs": [
    {
     "data": {
      "application/vnd.plotly.v1+json": {
       "config": {
        "linkText": "Export to plot.ly",
        "plotlyServerURL": "https://plot.ly",
        "showLink": true
       },
       "data": [
        {
         "line": {
          "color": "rgba(255, 153, 51, 1.0)",
          "dash": "solid",
          "shape": "linear",
          "width": 1.3
         },
         "mode": "lines",
         "name": "Category",
         "text": "",
         "type": "scatter",
         "x": [
          0,
          1,
          2
         ],
         "y": [
          "A",
          "B",
          "C"
         ]
        },
        {
         "line": {
          "color": "rgba(55, 128, 191, 1.0)",
          "dash": "solid",
          "shape": "linear",
          "width": 1.3
         },
         "mode": "lines",
         "name": "Values",
         "text": "",
         "type": "scatter",
         "x": [
          0,
          1,
          2
         ],
         "y": [
          32,
          43,
          50
         ]
        }
       ],
       "layout": {
        "legend": {
         "bgcolor": "#F5F6F9",
         "font": {
          "color": "#4D5663"
         }
        },
        "paper_bgcolor": "#F5F6F9",
        "plot_bgcolor": "#F5F6F9",
        "template": {
         "data": {
          "bar": [
           {
            "error_x": {
             "color": "#2a3f5f"
            },
            "error_y": {
             "color": "#2a3f5f"
            },
            "marker": {
             "line": {
              "color": "#E5ECF6",
              "width": 0.5
             },
             "pattern": {
              "fillmode": "overlay",
              "size": 10,
              "solidity": 0.2
             }
            },
            "type": "bar"
           }
          ],
          "barpolar": [
           {
            "marker": {
             "line": {
              "color": "#E5ECF6",
              "width": 0.5
             },
             "pattern": {
              "fillmode": "overlay",
              "size": 10,
              "solidity": 0.2
             }
            },
            "type": "barpolar"
           }
          ],
          "carpet": [
           {
            "aaxis": {
             "endlinecolor": "#2a3f5f",
             "gridcolor": "white",
             "linecolor": "white",
             "minorgridcolor": "white",
             "startlinecolor": "#2a3f5f"
            },
            "baxis": {
             "endlinecolor": "#2a3f5f",
             "gridcolor": "white",
             "linecolor": "white",
             "minorgridcolor": "white",
             "startlinecolor": "#2a3f5f"
            },
            "type": "carpet"
           }
          ],
          "choropleth": [
           {
            "colorbar": {
             "outlinewidth": 0,
             "ticks": ""
            },
            "type": "choropleth"
           }
          ],
          "contour": [
           {
            "colorbar": {
             "outlinewidth": 0,
             "ticks": ""
            },
            "colorscale": [
             [
              0,
              "#0d0887"
             ],
             [
              0.1111111111111111,
              "#46039f"
             ],
             [
              0.2222222222222222,
              "#7201a8"
             ],
             [
              0.3333333333333333,
              "#9c179e"
             ],
             [
              0.4444444444444444,
              "#bd3786"
             ],
             [
              0.5555555555555556,
              "#d8576b"
             ],
             [
              0.6666666666666666,
              "#ed7953"
             ],
             [
              0.7777777777777778,
              "#fb9f3a"
             ],
             [
              0.8888888888888888,
              "#fdca26"
             ],
             [
              1,
              "#f0f921"
             ]
            ],
            "type": "contour"
           }
          ],
          "contourcarpet": [
           {
            "colorbar": {
             "outlinewidth": 0,
             "ticks": ""
            },
            "type": "contourcarpet"
           }
          ],
          "heatmap": [
           {
            "colorbar": {
             "outlinewidth": 0,
             "ticks": ""
            },
            "colorscale": [
             [
              0,
              "#0d0887"
             ],
             [
              0.1111111111111111,
              "#46039f"
             ],
             [
              0.2222222222222222,
              "#7201a8"
             ],
             [
              0.3333333333333333,
              "#9c179e"
             ],
             [
              0.4444444444444444,
              "#bd3786"
             ],
             [
              0.5555555555555556,
              "#d8576b"
             ],
             [
              0.6666666666666666,
              "#ed7953"
             ],
             [
              0.7777777777777778,
              "#fb9f3a"
             ],
             [
              0.8888888888888888,
              "#fdca26"
             ],
             [
              1,
              "#f0f921"
             ]
            ],
            "type": "heatmap"
           }
          ],
          "heatmapgl": [
           {
            "colorbar": {
             "outlinewidth": 0,
             "ticks": ""
            },
            "colorscale": [
             [
              0,
              "#0d0887"
             ],
             [
              0.1111111111111111,
              "#46039f"
             ],
             [
              0.2222222222222222,
              "#7201a8"
             ],
             [
              0.3333333333333333,
              "#9c179e"
             ],
             [
              0.4444444444444444,
              "#bd3786"
             ],
             [
              0.5555555555555556,
              "#d8576b"
             ],
             [
              0.6666666666666666,
              "#ed7953"
             ],
             [
              0.7777777777777778,
              "#fb9f3a"
             ],
             [
              0.8888888888888888,
              "#fdca26"
             ],
             [
              1,
              "#f0f921"
             ]
            ],
            "type": "heatmapgl"
           }
          ],
          "histogram": [
           {
            "marker": {
             "pattern": {
              "fillmode": "overlay",
              "size": 10,
              "solidity": 0.2
             }
            },
            "type": "histogram"
           }
          ],
          "histogram2d": [
           {
            "colorbar": {
             "outlinewidth": 0,
             "ticks": ""
            },
            "colorscale": [
             [
              0,
              "#0d0887"
             ],
             [
              0.1111111111111111,
              "#46039f"
             ],
             [
              0.2222222222222222,
              "#7201a8"
             ],
             [
              0.3333333333333333,
              "#9c179e"
             ],
             [
              0.4444444444444444,
              "#bd3786"
             ],
             [
              0.5555555555555556,
              "#d8576b"
             ],
             [
              0.6666666666666666,
              "#ed7953"
             ],
             [
              0.7777777777777778,
              "#fb9f3a"
             ],
             [
              0.8888888888888888,
              "#fdca26"
             ],
             [
              1,
              "#f0f921"
             ]
            ],
            "type": "histogram2d"
           }
          ],
          "histogram2dcontour": [
           {
            "colorbar": {
             "outlinewidth": 0,
             "ticks": ""
            },
            "colorscale": [
             [
              0,
              "#0d0887"
             ],
             [
              0.1111111111111111,
              "#46039f"
             ],
             [
              0.2222222222222222,
              "#7201a8"
             ],
             [
              0.3333333333333333,
              "#9c179e"
             ],
             [
              0.4444444444444444,
              "#bd3786"
             ],
             [
              0.5555555555555556,
              "#d8576b"
             ],
             [
              0.6666666666666666,
              "#ed7953"
             ],
             [
              0.7777777777777778,
              "#fb9f3a"
             ],
             [
              0.8888888888888888,
              "#fdca26"
             ],
             [
              1,
              "#f0f921"
             ]
            ],
            "type": "histogram2dcontour"
           }
          ],
          "mesh3d": [
           {
            "colorbar": {
             "outlinewidth": 0,
             "ticks": ""
            },
            "type": "mesh3d"
           }
          ],
          "parcoords": [
           {
            "line": {
             "colorbar": {
              "outlinewidth": 0,
              "ticks": ""
             }
            },
            "type": "parcoords"
           }
          ],
          "pie": [
           {
            "automargin": true,
            "type": "pie"
           }
          ],
          "scatter": [
           {
            "marker": {
             "colorbar": {
              "outlinewidth": 0,
              "ticks": ""
             }
            },
            "type": "scatter"
           }
          ],
          "scatter3d": [
           {
            "line": {
             "colorbar": {
              "outlinewidth": 0,
              "ticks": ""
             }
            },
            "marker": {
             "colorbar": {
              "outlinewidth": 0,
              "ticks": ""
             }
            },
            "type": "scatter3d"
           }
          ],
          "scattercarpet": [
           {
            "marker": {
             "colorbar": {
              "outlinewidth": 0,
              "ticks": ""
             }
            },
            "type": "scattercarpet"
           }
          ],
          "scattergeo": [
           {
            "marker": {
             "colorbar": {
              "outlinewidth": 0,
              "ticks": ""
             }
            },
            "type": "scattergeo"
           }
          ],
          "scattergl": [
           {
            "marker": {
             "colorbar": {
              "outlinewidth": 0,
              "ticks": ""
             }
            },
            "type": "scattergl"
           }
          ],
          "scattermapbox": [
           {
            "marker": {
             "colorbar": {
              "outlinewidth": 0,
              "ticks": ""
             }
            },
            "type": "scattermapbox"
           }
          ],
          "scatterpolar": [
           {
            "marker": {
             "colorbar": {
              "outlinewidth": 0,
              "ticks": ""
             }
            },
            "type": "scatterpolar"
           }
          ],
          "scatterpolargl": [
           {
            "marker": {
             "colorbar": {
              "outlinewidth": 0,
              "ticks": ""
             }
            },
            "type": "scatterpolargl"
           }
          ],
          "scatterternary": [
           {
            "marker": {
             "colorbar": {
              "outlinewidth": 0,
              "ticks": ""
             }
            },
            "type": "scatterternary"
           }
          ],
          "surface": [
           {
            "colorbar": {
             "outlinewidth": 0,
             "ticks": ""
            },
            "colorscale": [
             [
              0,
              "#0d0887"
             ],
             [
              0.1111111111111111,
              "#46039f"
             ],
             [
              0.2222222222222222,
              "#7201a8"
             ],
             [
              0.3333333333333333,
              "#9c179e"
             ],
             [
              0.4444444444444444,
              "#bd3786"
             ],
             [
              0.5555555555555556,
              "#d8576b"
             ],
             [
              0.6666666666666666,
              "#ed7953"
             ],
             [
              0.7777777777777778,
              "#fb9f3a"
             ],
             [
              0.8888888888888888,
              "#fdca26"
             ],
             [
              1,
              "#f0f921"
             ]
            ],
            "type": "surface"
           }
          ],
          "table": [
           {
            "cells": {
             "fill": {
              "color": "#EBF0F8"
             },
             "line": {
              "color": "white"
             }
            },
            "header": {
             "fill": {
              "color": "#C8D4E3"
             },
             "line": {
              "color": "white"
             }
            },
            "type": "table"
           }
          ]
         },
         "layout": {
          "annotationdefaults": {
           "arrowcolor": "#2a3f5f",
           "arrowhead": 0,
           "arrowwidth": 1
          },
          "autotypenumbers": "strict",
          "coloraxis": {
           "colorbar": {
            "outlinewidth": 0,
            "ticks": ""
           }
          },
          "colorscale": {
           "diverging": [
            [
             0,
             "#8e0152"
            ],
            [
             0.1,
             "#c51b7d"
            ],
            [
             0.2,
             "#de77ae"
            ],
            [
             0.3,
             "#f1b6da"
            ],
            [
             0.4,
             "#fde0ef"
            ],
            [
             0.5,
             "#f7f7f7"
            ],
            [
             0.6,
             "#e6f5d0"
            ],
            [
             0.7,
             "#b8e186"
            ],
            [
             0.8,
             "#7fbc41"
            ],
            [
             0.9,
             "#4d9221"
            ],
            [
             1,
             "#276419"
            ]
           ],
           "sequential": [
            [
             0,
             "#0d0887"
            ],
            [
             0.1111111111111111,
             "#46039f"
            ],
            [
             0.2222222222222222,
             "#7201a8"
            ],
            [
             0.3333333333333333,
             "#9c179e"
            ],
            [
             0.4444444444444444,
             "#bd3786"
            ],
            [
             0.5555555555555556,
             "#d8576b"
            ],
            [
             0.6666666666666666,
             "#ed7953"
            ],
            [
             0.7777777777777778,
             "#fb9f3a"
            ],
            [
             0.8888888888888888,
             "#fdca26"
            ],
            [
             1,
             "#f0f921"
            ]
           ],
           "sequentialminus": [
            [
             0,
             "#0d0887"
            ],
            [
             0.1111111111111111,
             "#46039f"
            ],
            [
             0.2222222222222222,
             "#7201a8"
            ],
            [
             0.3333333333333333,
             "#9c179e"
            ],
            [
             0.4444444444444444,
             "#bd3786"
            ],
            [
             0.5555555555555556,
             "#d8576b"
            ],
            [
             0.6666666666666666,
             "#ed7953"
            ],
            [
             0.7777777777777778,
             "#fb9f3a"
            ],
            [
             0.8888888888888888,
             "#fdca26"
            ],
            [
             1,
             "#f0f921"
            ]
           ]
          },
          "colorway": [
           "#636efa",
           "#EF553B",
           "#00cc96",
           "#ab63fa",
           "#FFA15A",
           "#19d3f3",
           "#FF6692",
           "#B6E880",
           "#FF97FF",
           "#FECB52"
          ],
          "font": {
           "color": "#2a3f5f"
          },
          "geo": {
           "bgcolor": "white",
           "lakecolor": "white",
           "landcolor": "#E5ECF6",
           "showlakes": true,
           "showland": true,
           "subunitcolor": "white"
          },
          "hoverlabel": {
           "align": "left"
          },
          "hovermode": "closest",
          "mapbox": {
           "style": "light"
          },
          "paper_bgcolor": "white",
          "plot_bgcolor": "#E5ECF6",
          "polar": {
           "angularaxis": {
            "gridcolor": "white",
            "linecolor": "white",
            "ticks": ""
           },
           "bgcolor": "#E5ECF6",
           "radialaxis": {
            "gridcolor": "white",
            "linecolor": "white",
            "ticks": ""
           }
          },
          "scene": {
           "xaxis": {
            "backgroundcolor": "#E5ECF6",
            "gridcolor": "white",
            "gridwidth": 2,
            "linecolor": "white",
            "showbackground": true,
            "ticks": "",
            "zerolinecolor": "white"
           },
           "yaxis": {
            "backgroundcolor": "#E5ECF6",
            "gridcolor": "white",
            "gridwidth": 2,
            "linecolor": "white",
            "showbackground": true,
            "ticks": "",
            "zerolinecolor": "white"
           },
           "zaxis": {
            "backgroundcolor": "#E5ECF6",
            "gridcolor": "white",
            "gridwidth": 2,
            "linecolor": "white",
            "showbackground": true,
            "ticks": "",
            "zerolinecolor": "white"
           }
          },
          "shapedefaults": {
           "line": {
            "color": "#2a3f5f"
           }
          },
          "ternary": {
           "aaxis": {
            "gridcolor": "white",
            "linecolor": "white",
            "ticks": ""
           },
           "baxis": {
            "gridcolor": "white",
            "linecolor": "white",
            "ticks": ""
           },
           "bgcolor": "#E5ECF6",
           "caxis": {
            "gridcolor": "white",
            "linecolor": "white",
            "ticks": ""
           }
          },
          "title": {
           "x": 0.05
          },
          "xaxis": {
           "automargin": true,
           "gridcolor": "white",
           "linecolor": "white",
           "ticks": "",
           "title": {
            "standoff": 15
           },
           "zerolinecolor": "white",
           "zerolinewidth": 2
          },
          "yaxis": {
           "automargin": true,
           "gridcolor": "white",
           "linecolor": "white",
           "ticks": "",
           "title": {
            "standoff": 15
           },
           "zerolinecolor": "white",
           "zerolinewidth": 2
          }
         }
        },
        "title": {
         "font": {
          "color": "#4D5663"
         }
        },
        "xaxis": {
         "gridcolor": "#E1E5ED",
         "showgrid": true,
         "tickfont": {
          "color": "#4D5663"
         },
         "title": {
          "font": {
           "color": "#4D5663"
          },
          "text": ""
         },
         "zerolinecolor": "#E1E5ED"
        },
        "yaxis": {
         "gridcolor": "#E1E5ED",
         "showgrid": true,
         "tickfont": {
          "color": "#4D5663"
         },
         "title": {
          "font": {
           "color": "#4D5663"
          },
          "text": ""
         },
         "zerolinecolor": "#E1E5ED"
        }
       }
      },
      "text/html": [
       "<div>                            <div id=\"8fa35699-276b-47d9-aebd-c6b82889148b\" class=\"plotly-graph-div\" style=\"height:525px; width:100%;\"></div>            <script type=\"text/javascript\">                require([\"plotly\"], function(Plotly) {                    window.PLOTLYENV=window.PLOTLYENV || {};\n",
       "                    window.PLOTLYENV.BASE_URL='https://plot.ly';                                    if (document.getElementById(\"8fa35699-276b-47d9-aebd-c6b82889148b\")) {                    Plotly.newPlot(                        \"8fa35699-276b-47d9-aebd-c6b82889148b\",                        [{\"line\":{\"color\":\"rgba(255, 153, 51, 1.0)\",\"dash\":\"solid\",\"shape\":\"linear\",\"width\":1.3},\"mode\":\"lines\",\"name\":\"Category\",\"text\":\"\",\"type\":\"scatter\",\"x\":[0,1,2],\"y\":[\"A\",\"B\",\"C\"]},{\"line\":{\"color\":\"rgba(55, 128, 191, 1.0)\",\"dash\":\"solid\",\"shape\":\"linear\",\"width\":1.3},\"mode\":\"lines\",\"name\":\"Values\",\"text\":\"\",\"type\":\"scatter\",\"x\":[0,1,2],\"y\":[32,43,50]}],                        {\"legend\":{\"bgcolor\":\"#F5F6F9\",\"font\":{\"color\":\"#4D5663\"}},\"paper_bgcolor\":\"#F5F6F9\",\"plot_bgcolor\":\"#F5F6F9\",\"template\":{\"data\":{\"bar\":[{\"error_x\":{\"color\":\"#2a3f5f\"},\"error_y\":{\"color\":\"#2a3f5f\"},\"marker\":{\"line\":{\"color\":\"#E5ECF6\",\"width\":0.5},\"pattern\":{\"fillmode\":\"overlay\",\"size\":10,\"solidity\":0.2}},\"type\":\"bar\"}],\"barpolar\":[{\"marker\":{\"line\":{\"color\":\"#E5ECF6\",\"width\":0.5},\"pattern\":{\"fillmode\":\"overlay\",\"size\":10,\"solidity\":0.2}},\"type\":\"barpolar\"}],\"carpet\":[{\"aaxis\":{\"endlinecolor\":\"#2a3f5f\",\"gridcolor\":\"white\",\"linecolor\":\"white\",\"minorgridcolor\":\"white\",\"startlinecolor\":\"#2a3f5f\"},\"baxis\":{\"endlinecolor\":\"#2a3f5f\",\"gridcolor\":\"white\",\"linecolor\":\"white\",\"minorgridcolor\":\"white\",\"startlinecolor\":\"#2a3f5f\"},\"type\":\"carpet\"}],\"choropleth\":[{\"colorbar\":{\"outlinewidth\":0,\"ticks\":\"\"},\"type\":\"choropleth\"}],\"contour\":[{\"colorbar\":{\"outlinewidth\":0,\"ticks\":\"\"},\"colorscale\":[[0.0,\"#0d0887\"],[0.1111111111111111,\"#46039f\"],[0.2222222222222222,\"#7201a8\"],[0.3333333333333333,\"#9c179e\"],[0.4444444444444444,\"#bd3786\"],[0.5555555555555556,\"#d8576b\"],[0.6666666666666666,\"#ed7953\"],[0.7777777777777778,\"#fb9f3a\"],[0.8888888888888888,\"#fdca26\"],[1.0,\"#f0f921\"]],\"type\":\"contour\"}],\"contourcarpet\":[{\"colorbar\":{\"outlinewidth\":0,\"ticks\":\"\"},\"type\":\"contourcarpet\"}],\"heatmap\":[{\"colorbar\":{\"outlinewidth\":0,\"ticks\":\"\"},\"colorscale\":[[0.0,\"#0d0887\"],[0.1111111111111111,\"#46039f\"],[0.2222222222222222,\"#7201a8\"],[0.3333333333333333,\"#9c179e\"],[0.4444444444444444,\"#bd3786\"],[0.5555555555555556,\"#d8576b\"],[0.6666666666666666,\"#ed7953\"],[0.7777777777777778,\"#fb9f3a\"],[0.8888888888888888,\"#fdca26\"],[1.0,\"#f0f921\"]],\"type\":\"heatmap\"}],\"heatmapgl\":[{\"colorbar\":{\"outlinewidth\":0,\"ticks\":\"\"},\"colorscale\":[[0.0,\"#0d0887\"],[0.1111111111111111,\"#46039f\"],[0.2222222222222222,\"#7201a8\"],[0.3333333333333333,\"#9c179e\"],[0.4444444444444444,\"#bd3786\"],[0.5555555555555556,\"#d8576b\"],[0.6666666666666666,\"#ed7953\"],[0.7777777777777778,\"#fb9f3a\"],[0.8888888888888888,\"#fdca26\"],[1.0,\"#f0f921\"]],\"type\":\"heatmapgl\"}],\"histogram\":[{\"marker\":{\"pattern\":{\"fillmode\":\"overlay\",\"size\":10,\"solidity\":0.2}},\"type\":\"histogram\"}],\"histogram2d\":[{\"colorbar\":{\"outlinewidth\":0,\"ticks\":\"\"},\"colorscale\":[[0.0,\"#0d0887\"],[0.1111111111111111,\"#46039f\"],[0.2222222222222222,\"#7201a8\"],[0.3333333333333333,\"#9c179e\"],[0.4444444444444444,\"#bd3786\"],[0.5555555555555556,\"#d8576b\"],[0.6666666666666666,\"#ed7953\"],[0.7777777777777778,\"#fb9f3a\"],[0.8888888888888888,\"#fdca26\"],[1.0,\"#f0f921\"]],\"type\":\"histogram2d\"}],\"histogram2dcontour\":[{\"colorbar\":{\"outlinewidth\":0,\"ticks\":\"\"},\"colorscale\":[[0.0,\"#0d0887\"],[0.1111111111111111,\"#46039f\"],[0.2222222222222222,\"#7201a8\"],[0.3333333333333333,\"#9c179e\"],[0.4444444444444444,\"#bd3786\"],[0.5555555555555556,\"#d8576b\"],[0.6666666666666666,\"#ed7953\"],[0.7777777777777778,\"#fb9f3a\"],[0.8888888888888888,\"#fdca26\"],[1.0,\"#f0f921\"]],\"type\":\"histogram2dcontour\"}],\"mesh3d\":[{\"colorbar\":{\"outlinewidth\":0,\"ticks\":\"\"},\"type\":\"mesh3d\"}],\"parcoords\":[{\"line\":{\"colorbar\":{\"outlinewidth\":0,\"ticks\":\"\"}},\"type\":\"parcoords\"}],\"pie\":[{\"automargin\":true,\"type\":\"pie\"}],\"scatter\":[{\"marker\":{\"colorbar\":{\"outlinewidth\":0,\"ticks\":\"\"}},\"type\":\"scatter\"}],\"scatter3d\":[{\"line\":{\"colorbar\":{\"outlinewidth\":0,\"ticks\":\"\"}},\"marker\":{\"colorbar\":{\"outlinewidth\":0,\"ticks\":\"\"}},\"type\":\"scatter3d\"}],\"scattercarpet\":[{\"marker\":{\"colorbar\":{\"outlinewidth\":0,\"ticks\":\"\"}},\"type\":\"scattercarpet\"}],\"scattergeo\":[{\"marker\":{\"colorbar\":{\"outlinewidth\":0,\"ticks\":\"\"}},\"type\":\"scattergeo\"}],\"scattergl\":[{\"marker\":{\"colorbar\":{\"outlinewidth\":0,\"ticks\":\"\"}},\"type\":\"scattergl\"}],\"scattermapbox\":[{\"marker\":{\"colorbar\":{\"outlinewidth\":0,\"ticks\":\"\"}},\"type\":\"scattermapbox\"}],\"scatterpolar\":[{\"marker\":{\"colorbar\":{\"outlinewidth\":0,\"ticks\":\"\"}},\"type\":\"scatterpolar\"}],\"scatterpolargl\":[{\"marker\":{\"colorbar\":{\"outlinewidth\":0,\"ticks\":\"\"}},\"type\":\"scatterpolargl\"}],\"scatterternary\":[{\"marker\":{\"colorbar\":{\"outlinewidth\":0,\"ticks\":\"\"}},\"type\":\"scatterternary\"}],\"surface\":[{\"colorbar\":{\"outlinewidth\":0,\"ticks\":\"\"},\"colorscale\":[[0.0,\"#0d0887\"],[0.1111111111111111,\"#46039f\"],[0.2222222222222222,\"#7201a8\"],[0.3333333333333333,\"#9c179e\"],[0.4444444444444444,\"#bd3786\"],[0.5555555555555556,\"#d8576b\"],[0.6666666666666666,\"#ed7953\"],[0.7777777777777778,\"#fb9f3a\"],[0.8888888888888888,\"#fdca26\"],[1.0,\"#f0f921\"]],\"type\":\"surface\"}],\"table\":[{\"cells\":{\"fill\":{\"color\":\"#EBF0F8\"},\"line\":{\"color\":\"white\"}},\"header\":{\"fill\":{\"color\":\"#C8D4E3\"},\"line\":{\"color\":\"white\"}},\"type\":\"table\"}]},\"layout\":{\"annotationdefaults\":{\"arrowcolor\":\"#2a3f5f\",\"arrowhead\":0,\"arrowwidth\":1},\"autotypenumbers\":\"strict\",\"coloraxis\":{\"colorbar\":{\"outlinewidth\":0,\"ticks\":\"\"}},\"colorscale\":{\"diverging\":[[0,\"#8e0152\"],[0.1,\"#c51b7d\"],[0.2,\"#de77ae\"],[0.3,\"#f1b6da\"],[0.4,\"#fde0ef\"],[0.5,\"#f7f7f7\"],[0.6,\"#e6f5d0\"],[0.7,\"#b8e186\"],[0.8,\"#7fbc41\"],[0.9,\"#4d9221\"],[1,\"#276419\"]],\"sequential\":[[0.0,\"#0d0887\"],[0.1111111111111111,\"#46039f\"],[0.2222222222222222,\"#7201a8\"],[0.3333333333333333,\"#9c179e\"],[0.4444444444444444,\"#bd3786\"],[0.5555555555555556,\"#d8576b\"],[0.6666666666666666,\"#ed7953\"],[0.7777777777777778,\"#fb9f3a\"],[0.8888888888888888,\"#fdca26\"],[1.0,\"#f0f921\"]],\"sequentialminus\":[[0.0,\"#0d0887\"],[0.1111111111111111,\"#46039f\"],[0.2222222222222222,\"#7201a8\"],[0.3333333333333333,\"#9c179e\"],[0.4444444444444444,\"#bd3786\"],[0.5555555555555556,\"#d8576b\"],[0.6666666666666666,\"#ed7953\"],[0.7777777777777778,\"#fb9f3a\"],[0.8888888888888888,\"#fdca26\"],[1.0,\"#f0f921\"]]},\"colorway\":[\"#636efa\",\"#EF553B\",\"#00cc96\",\"#ab63fa\",\"#FFA15A\",\"#19d3f3\",\"#FF6692\",\"#B6E880\",\"#FF97FF\",\"#FECB52\"],\"font\":{\"color\":\"#2a3f5f\"},\"geo\":{\"bgcolor\":\"white\",\"lakecolor\":\"white\",\"landcolor\":\"#E5ECF6\",\"showlakes\":true,\"showland\":true,\"subunitcolor\":\"white\"},\"hoverlabel\":{\"align\":\"left\"},\"hovermode\":\"closest\",\"mapbox\":{\"style\":\"light\"},\"paper_bgcolor\":\"white\",\"plot_bgcolor\":\"#E5ECF6\",\"polar\":{\"angularaxis\":{\"gridcolor\":\"white\",\"linecolor\":\"white\",\"ticks\":\"\"},\"bgcolor\":\"#E5ECF6\",\"radialaxis\":{\"gridcolor\":\"white\",\"linecolor\":\"white\",\"ticks\":\"\"}},\"scene\":{\"xaxis\":{\"backgroundcolor\":\"#E5ECF6\",\"gridcolor\":\"white\",\"gridwidth\":2,\"linecolor\":\"white\",\"showbackground\":true,\"ticks\":\"\",\"zerolinecolor\":\"white\"},\"yaxis\":{\"backgroundcolor\":\"#E5ECF6\",\"gridcolor\":\"white\",\"gridwidth\":2,\"linecolor\":\"white\",\"showbackground\":true,\"ticks\":\"\",\"zerolinecolor\":\"white\"},\"zaxis\":{\"backgroundcolor\":\"#E5ECF6\",\"gridcolor\":\"white\",\"gridwidth\":2,\"linecolor\":\"white\",\"showbackground\":true,\"ticks\":\"\",\"zerolinecolor\":\"white\"}},\"shapedefaults\":{\"line\":{\"color\":\"#2a3f5f\"}},\"ternary\":{\"aaxis\":{\"gridcolor\":\"white\",\"linecolor\":\"white\",\"ticks\":\"\"},\"baxis\":{\"gridcolor\":\"white\",\"linecolor\":\"white\",\"ticks\":\"\"},\"bgcolor\":\"#E5ECF6\",\"caxis\":{\"gridcolor\":\"white\",\"linecolor\":\"white\",\"ticks\":\"\"}},\"title\":{\"x\":0.05},\"xaxis\":{\"automargin\":true,\"gridcolor\":\"white\",\"linecolor\":\"white\",\"ticks\":\"\",\"title\":{\"standoff\":15},\"zerolinecolor\":\"white\",\"zerolinewidth\":2},\"yaxis\":{\"automargin\":true,\"gridcolor\":\"white\",\"linecolor\":\"white\",\"ticks\":\"\",\"title\":{\"standoff\":15},\"zerolinecolor\":\"white\",\"zerolinewidth\":2}}},\"title\":{\"font\":{\"color\":\"#4D5663\"}},\"xaxis\":{\"gridcolor\":\"#E1E5ED\",\"showgrid\":true,\"tickfont\":{\"color\":\"#4D5663\"},\"title\":{\"font\":{\"color\":\"#4D5663\"},\"text\":\"\"},\"zerolinecolor\":\"#E1E5ED\"},\"yaxis\":{\"gridcolor\":\"#E1E5ED\",\"showgrid\":true,\"tickfont\":{\"color\":\"#4D5663\"},\"title\":{\"font\":{\"color\":\"#4D5663\"},\"text\":\"\"},\"zerolinecolor\":\"#E1E5ED\"}},                        {\"showLink\": true, \"linkText\": \"Export to plot.ly\", \"plotlyServerURL\": \"https://plot.ly\", \"responsive\": true}                    ).then(function(){\n",
       "                            \n",
       "var gd = document.getElementById('8fa35699-276b-47d9-aebd-c6b82889148b');\n",
       "var x = new MutationObserver(function (mutations, observer) {{\n",
       "        var display = window.getComputedStyle(gd).display;\n",
       "        if (!display || display === 'none') {{\n",
       "            console.log([gd, 'removed!']);\n",
       "            Plotly.purge(gd);\n",
       "            observer.disconnect();\n",
       "        }}\n",
       "}});\n",
       "\n",
       "// Listen for the removal of the full notebook cells\n",
       "var notebookContainer = gd.closest('#notebook-container');\n",
       "if (notebookContainer) {{\n",
       "    x.observe(notebookContainer, {childList: true});\n",
       "}}\n",
       "\n",
       "// Listen for the clearing of the current output cell\n",
       "var outputEl = gd.closest('.output');\n",
       "if (outputEl) {{\n",
       "    x.observe(outputEl, {childList: true});\n",
       "}}\n",
       "\n",
       "                        })                };                });            </script>        </div>"
      ]
     },
     "metadata": {},
     "output_type": "display_data"
    }
   ],
   "source": [
    "df2.iplot()"
   ]
  },
  {
   "cell_type": "code",
   "execution_count": 21,
   "id": "4ad90f5a",
   "metadata": {},
   "outputs": [
    {
     "data": {
      "application/vnd.plotly.v1+json": {
       "config": {
        "linkText": "Export to plot.ly",
        "plotlyServerURL": "https://plot.ly",
        "showLink": true
       },
       "data": [
        {
         "line": {
          "color": "rgba(255, 153, 51, 1.0)",
          "dash": "solid",
          "shape": "linear",
          "width": 1.3
         },
         "marker": {
          "size": 12,
          "symbol": "circle"
         },
         "mode": "markers",
         "name": "B",
         "text": "",
         "type": "scatter",
         "x": [
          -1.5780143094608707,
          0.4224141679036228,
          -0.046044199547425994,
          0.2764425774695236,
          0.2832003904525572,
          -0.8244229229915959,
          0.3231680986676643,
          -2.5784754728961077,
          -1.1174667014919542,
          -0.10433571740892703,
          -0.8635825627075128,
          0.7213549567592623,
          -0.514209164071635,
          -0.0894937461585034,
          -1.0493787538844543,
          1.1600959677883953,
          0.015315579009527229,
          1.1373452911453181,
          -0.35205604004623087,
          0.9733588160495177,
          1.0175919245173992,
          -1.1032733279615654,
          -0.04091946153944837,
          0.29127869094225495,
          -0.8031504118174125,
          0.6154323976045675,
          -0.9416530536217149,
          -0.8615871361773523,
          1.7197517910385434,
          -1.3245217395911422,
          -0.9905387437971541,
          0.612921924303667,
          -1.7195845050451466,
          1.7794753656569549,
          1.390338780884705,
          1.5420775527370045,
          1.4602461868666108,
          0.3920840158671529,
          0.20740068599803843,
          -0.0525907643085713,
          -2.124496090536296,
          1.8033601534563382,
          -2.2134597571962984,
          -1.2320037595512683,
          -0.013623770292160971,
          0.10361627865663506,
          1.8251728914117562,
          -1.4567844712500666,
          1.6815715414433596,
          -1.6382228363459552,
          1.1785073527119436,
          -2.1103799953953857,
          -2.360654618156865,
          1.06403721627327,
          -0.6021400767598017,
          -0.47764716258391327,
          0.170088710868202,
          1.6261280670577174,
          0.29696401753219864,
          -0.551821204569244,
          -0.7933538478762096,
          1.2175829255456183,
          1.2929051874329027,
          1.8671528425987827,
          -0.4997985409441982,
          -1.0199402532984096,
          -0.773586095168086,
          -0.36877594456216256,
          -0.7896229212932089,
          -1.6187547203217891,
          0.5095063621113651,
          0.3892508134673948,
          1.8226250380923086,
          1.398772283602051,
          0.28258121963712785,
          0.3171731159206602,
          -0.4664976111440749,
          -0.2845925650841886,
          -1.4177805231493208,
          0.9495788651228273,
          0.42885197403303343,
          2.0694579684956147,
          -0.7334623227655961,
          -0.05343421964291611,
          -0.42613012697760827,
          0.7942339422888914,
          0.9822033206905049,
          1.1274178789267362,
          -0.4865849503191588,
          0.252100329107842,
          -0.5178559805808933,
          -0.7894057794818384,
          -0.6942281167523381,
          -1.2733291431281641,
          0.6615762834883798,
          -0.47001228540783596,
          1.1182681925497504,
          -0.23366998936225875,
          1.838116177785737,
          -0.8406962071636835
         ],
         "y": [
          -0.0259506725481951,
          0.24435649772913426,
          1.0877733311223357,
          -1.8962004040020193,
          -0.25954921711141765,
          2.7043824859122476,
          1.0926540178862534,
          0.35217276213382537,
          0.1407838761058627,
          -0.6885384052765048,
          -1.383324172827188,
          1.1577865659859314,
          -1.8530220238946453,
          -1.2259532131837694,
          -1.7724024475662012,
          0.16921653511331095,
          -0.23502175645737877,
          -0.19493413743530474,
          2.1059690127705033,
          0.7145282505605425,
          -1.2459465065590833,
          -0.6112834219178358,
          -1.2972285557713692,
          -0.04391332479597896,
          -0.9127750185864033,
          0.8642737524596605,
          -1.2427033799781488,
          0.17809916107149085,
          0.9855511500907624,
          0.5789203698228469,
          1.353179929831089,
          -1.5811690329479169,
          0.21627646035202477,
          0.22918666030418786,
          -0.7657227806022304,
          1.2970745084573303,
          -0.4411467425812966,
          -0.002253022989131673,
          -0.27334995315785343,
          -0.747367567496964,
          -0.7707536473647956,
          -0.05356741888756035,
          -0.16058500038988138,
          -0.5283774811894479,
          0.7155354694021077,
          -0.6711991806061014,
          2.552152773933515,
          -0.5804357246008203,
          -0.9473705154872256,
          -0.7083728099568252,
          -0.12062595408966743,
          1.3937635936198711,
          1.3108596651627333,
          0.5468020472079963,
          -1.435505117973782,
          -0.5332814220831296,
          1.6801961892764308,
          -0.5839531012332301,
          -0.6360695371158908,
          -0.6699857250566243,
          1.3350702453545424,
          0.15520860787965896,
          -0.5236228725603096,
          -0.7853909085159455,
          0.12147932511505855,
          -0.15327619748009327,
          -1.0783259244660068,
          1.210341428022308,
          0.13966304107529887,
          -0.9399084888506885,
          -0.59902023061572,
          -0.9954913339458762,
          -0.7571127903134742,
          0.9807267710763179,
          0.7122861855974634,
          -0.9759818563206035,
          1.3560811000635984,
          -0.01974306520172108,
          0.018638522220582106,
          1.252650763361496,
          -1.7834401536838884,
          -0.32449111720371465,
          -3.147935945088936,
          -2.4677680161269415,
          -0.048587764266386856,
          0.3680883517657553,
          -0.725297987922035,
          -0.21514594619635463,
          -0.9977141038793348,
          -1.36596465153972,
          -0.552387349054642,
          -0.06680693818684787,
          -0.10991903665861248,
          -0.053436332518115956,
          -0.6239178589232137,
          1.0931547879237713,
          0.87178061557824,
          -0.13461311038414722,
          1.6880989246818119,
          0.546249759714265
         ]
        }
       ],
       "layout": {
        "legend": {
         "bgcolor": "#F5F6F9",
         "font": {
          "color": "#4D5663"
         }
        },
        "paper_bgcolor": "#F5F6F9",
        "plot_bgcolor": "#F5F6F9",
        "template": {
         "data": {
          "bar": [
           {
            "error_x": {
             "color": "#2a3f5f"
            },
            "error_y": {
             "color": "#2a3f5f"
            },
            "marker": {
             "line": {
              "color": "#E5ECF6",
              "width": 0.5
             },
             "pattern": {
              "fillmode": "overlay",
              "size": 10,
              "solidity": 0.2
             }
            },
            "type": "bar"
           }
          ],
          "barpolar": [
           {
            "marker": {
             "line": {
              "color": "#E5ECF6",
              "width": 0.5
             },
             "pattern": {
              "fillmode": "overlay",
              "size": 10,
              "solidity": 0.2
             }
            },
            "type": "barpolar"
           }
          ],
          "carpet": [
           {
            "aaxis": {
             "endlinecolor": "#2a3f5f",
             "gridcolor": "white",
             "linecolor": "white",
             "minorgridcolor": "white",
             "startlinecolor": "#2a3f5f"
            },
            "baxis": {
             "endlinecolor": "#2a3f5f",
             "gridcolor": "white",
             "linecolor": "white",
             "minorgridcolor": "white",
             "startlinecolor": "#2a3f5f"
            },
            "type": "carpet"
           }
          ],
          "choropleth": [
           {
            "colorbar": {
             "outlinewidth": 0,
             "ticks": ""
            },
            "type": "choropleth"
           }
          ],
          "contour": [
           {
            "colorbar": {
             "outlinewidth": 0,
             "ticks": ""
            },
            "colorscale": [
             [
              0,
              "#0d0887"
             ],
             [
              0.1111111111111111,
              "#46039f"
             ],
             [
              0.2222222222222222,
              "#7201a8"
             ],
             [
              0.3333333333333333,
              "#9c179e"
             ],
             [
              0.4444444444444444,
              "#bd3786"
             ],
             [
              0.5555555555555556,
              "#d8576b"
             ],
             [
              0.6666666666666666,
              "#ed7953"
             ],
             [
              0.7777777777777778,
              "#fb9f3a"
             ],
             [
              0.8888888888888888,
              "#fdca26"
             ],
             [
              1,
              "#f0f921"
             ]
            ],
            "type": "contour"
           }
          ],
          "contourcarpet": [
           {
            "colorbar": {
             "outlinewidth": 0,
             "ticks": ""
            },
            "type": "contourcarpet"
           }
          ],
          "heatmap": [
           {
            "colorbar": {
             "outlinewidth": 0,
             "ticks": ""
            },
            "colorscale": [
             [
              0,
              "#0d0887"
             ],
             [
              0.1111111111111111,
              "#46039f"
             ],
             [
              0.2222222222222222,
              "#7201a8"
             ],
             [
              0.3333333333333333,
              "#9c179e"
             ],
             [
              0.4444444444444444,
              "#bd3786"
             ],
             [
              0.5555555555555556,
              "#d8576b"
             ],
             [
              0.6666666666666666,
              "#ed7953"
             ],
             [
              0.7777777777777778,
              "#fb9f3a"
             ],
             [
              0.8888888888888888,
              "#fdca26"
             ],
             [
              1,
              "#f0f921"
             ]
            ],
            "type": "heatmap"
           }
          ],
          "heatmapgl": [
           {
            "colorbar": {
             "outlinewidth": 0,
             "ticks": ""
            },
            "colorscale": [
             [
              0,
              "#0d0887"
             ],
             [
              0.1111111111111111,
              "#46039f"
             ],
             [
              0.2222222222222222,
              "#7201a8"
             ],
             [
              0.3333333333333333,
              "#9c179e"
             ],
             [
              0.4444444444444444,
              "#bd3786"
             ],
             [
              0.5555555555555556,
              "#d8576b"
             ],
             [
              0.6666666666666666,
              "#ed7953"
             ],
             [
              0.7777777777777778,
              "#fb9f3a"
             ],
             [
              0.8888888888888888,
              "#fdca26"
             ],
             [
              1,
              "#f0f921"
             ]
            ],
            "type": "heatmapgl"
           }
          ],
          "histogram": [
           {
            "marker": {
             "pattern": {
              "fillmode": "overlay",
              "size": 10,
              "solidity": 0.2
             }
            },
            "type": "histogram"
           }
          ],
          "histogram2d": [
           {
            "colorbar": {
             "outlinewidth": 0,
             "ticks": ""
            },
            "colorscale": [
             [
              0,
              "#0d0887"
             ],
             [
              0.1111111111111111,
              "#46039f"
             ],
             [
              0.2222222222222222,
              "#7201a8"
             ],
             [
              0.3333333333333333,
              "#9c179e"
             ],
             [
              0.4444444444444444,
              "#bd3786"
             ],
             [
              0.5555555555555556,
              "#d8576b"
             ],
             [
              0.6666666666666666,
              "#ed7953"
             ],
             [
              0.7777777777777778,
              "#fb9f3a"
             ],
             [
              0.8888888888888888,
              "#fdca26"
             ],
             [
              1,
              "#f0f921"
             ]
            ],
            "type": "histogram2d"
           }
          ],
          "histogram2dcontour": [
           {
            "colorbar": {
             "outlinewidth": 0,
             "ticks": ""
            },
            "colorscale": [
             [
              0,
              "#0d0887"
             ],
             [
              0.1111111111111111,
              "#46039f"
             ],
             [
              0.2222222222222222,
              "#7201a8"
             ],
             [
              0.3333333333333333,
              "#9c179e"
             ],
             [
              0.4444444444444444,
              "#bd3786"
             ],
             [
              0.5555555555555556,
              "#d8576b"
             ],
             [
              0.6666666666666666,
              "#ed7953"
             ],
             [
              0.7777777777777778,
              "#fb9f3a"
             ],
             [
              0.8888888888888888,
              "#fdca26"
             ],
             [
              1,
              "#f0f921"
             ]
            ],
            "type": "histogram2dcontour"
           }
          ],
          "mesh3d": [
           {
            "colorbar": {
             "outlinewidth": 0,
             "ticks": ""
            },
            "type": "mesh3d"
           }
          ],
          "parcoords": [
           {
            "line": {
             "colorbar": {
              "outlinewidth": 0,
              "ticks": ""
             }
            },
            "type": "parcoords"
           }
          ],
          "pie": [
           {
            "automargin": true,
            "type": "pie"
           }
          ],
          "scatter": [
           {
            "marker": {
             "colorbar": {
              "outlinewidth": 0,
              "ticks": ""
             }
            },
            "type": "scatter"
           }
          ],
          "scatter3d": [
           {
            "line": {
             "colorbar": {
              "outlinewidth": 0,
              "ticks": ""
             }
            },
            "marker": {
             "colorbar": {
              "outlinewidth": 0,
              "ticks": ""
             }
            },
            "type": "scatter3d"
           }
          ],
          "scattercarpet": [
           {
            "marker": {
             "colorbar": {
              "outlinewidth": 0,
              "ticks": ""
             }
            },
            "type": "scattercarpet"
           }
          ],
          "scattergeo": [
           {
            "marker": {
             "colorbar": {
              "outlinewidth": 0,
              "ticks": ""
             }
            },
            "type": "scattergeo"
           }
          ],
          "scattergl": [
           {
            "marker": {
             "colorbar": {
              "outlinewidth": 0,
              "ticks": ""
             }
            },
            "type": "scattergl"
           }
          ],
          "scattermapbox": [
           {
            "marker": {
             "colorbar": {
              "outlinewidth": 0,
              "ticks": ""
             }
            },
            "type": "scattermapbox"
           }
          ],
          "scatterpolar": [
           {
            "marker": {
             "colorbar": {
              "outlinewidth": 0,
              "ticks": ""
             }
            },
            "type": "scatterpolar"
           }
          ],
          "scatterpolargl": [
           {
            "marker": {
             "colorbar": {
              "outlinewidth": 0,
              "ticks": ""
             }
            },
            "type": "scatterpolargl"
           }
          ],
          "scatterternary": [
           {
            "marker": {
             "colorbar": {
              "outlinewidth": 0,
              "ticks": ""
             }
            },
            "type": "scatterternary"
           }
          ],
          "surface": [
           {
            "colorbar": {
             "outlinewidth": 0,
             "ticks": ""
            },
            "colorscale": [
             [
              0,
              "#0d0887"
             ],
             [
              0.1111111111111111,
              "#46039f"
             ],
             [
              0.2222222222222222,
              "#7201a8"
             ],
             [
              0.3333333333333333,
              "#9c179e"
             ],
             [
              0.4444444444444444,
              "#bd3786"
             ],
             [
              0.5555555555555556,
              "#d8576b"
             ],
             [
              0.6666666666666666,
              "#ed7953"
             ],
             [
              0.7777777777777778,
              "#fb9f3a"
             ],
             [
              0.8888888888888888,
              "#fdca26"
             ],
             [
              1,
              "#f0f921"
             ]
            ],
            "type": "surface"
           }
          ],
          "table": [
           {
            "cells": {
             "fill": {
              "color": "#EBF0F8"
             },
             "line": {
              "color": "white"
             }
            },
            "header": {
             "fill": {
              "color": "#C8D4E3"
             },
             "line": {
              "color": "white"
             }
            },
            "type": "table"
           }
          ]
         },
         "layout": {
          "annotationdefaults": {
           "arrowcolor": "#2a3f5f",
           "arrowhead": 0,
           "arrowwidth": 1
          },
          "autotypenumbers": "strict",
          "coloraxis": {
           "colorbar": {
            "outlinewidth": 0,
            "ticks": ""
           }
          },
          "colorscale": {
           "diverging": [
            [
             0,
             "#8e0152"
            ],
            [
             0.1,
             "#c51b7d"
            ],
            [
             0.2,
             "#de77ae"
            ],
            [
             0.3,
             "#f1b6da"
            ],
            [
             0.4,
             "#fde0ef"
            ],
            [
             0.5,
             "#f7f7f7"
            ],
            [
             0.6,
             "#e6f5d0"
            ],
            [
             0.7,
             "#b8e186"
            ],
            [
             0.8,
             "#7fbc41"
            ],
            [
             0.9,
             "#4d9221"
            ],
            [
             1,
             "#276419"
            ]
           ],
           "sequential": [
            [
             0,
             "#0d0887"
            ],
            [
             0.1111111111111111,
             "#46039f"
            ],
            [
             0.2222222222222222,
             "#7201a8"
            ],
            [
             0.3333333333333333,
             "#9c179e"
            ],
            [
             0.4444444444444444,
             "#bd3786"
            ],
            [
             0.5555555555555556,
             "#d8576b"
            ],
            [
             0.6666666666666666,
             "#ed7953"
            ],
            [
             0.7777777777777778,
             "#fb9f3a"
            ],
            [
             0.8888888888888888,
             "#fdca26"
            ],
            [
             1,
             "#f0f921"
            ]
           ],
           "sequentialminus": [
            [
             0,
             "#0d0887"
            ],
            [
             0.1111111111111111,
             "#46039f"
            ],
            [
             0.2222222222222222,
             "#7201a8"
            ],
            [
             0.3333333333333333,
             "#9c179e"
            ],
            [
             0.4444444444444444,
             "#bd3786"
            ],
            [
             0.5555555555555556,
             "#d8576b"
            ],
            [
             0.6666666666666666,
             "#ed7953"
            ],
            [
             0.7777777777777778,
             "#fb9f3a"
            ],
            [
             0.8888888888888888,
             "#fdca26"
            ],
            [
             1,
             "#f0f921"
            ]
           ]
          },
          "colorway": [
           "#636efa",
           "#EF553B",
           "#00cc96",
           "#ab63fa",
           "#FFA15A",
           "#19d3f3",
           "#FF6692",
           "#B6E880",
           "#FF97FF",
           "#FECB52"
          ],
          "font": {
           "color": "#2a3f5f"
          },
          "geo": {
           "bgcolor": "white",
           "lakecolor": "white",
           "landcolor": "#E5ECF6",
           "showlakes": true,
           "showland": true,
           "subunitcolor": "white"
          },
          "hoverlabel": {
           "align": "left"
          },
          "hovermode": "closest",
          "mapbox": {
           "style": "light"
          },
          "paper_bgcolor": "white",
          "plot_bgcolor": "#E5ECF6",
          "polar": {
           "angularaxis": {
            "gridcolor": "white",
            "linecolor": "white",
            "ticks": ""
           },
           "bgcolor": "#E5ECF6",
           "radialaxis": {
            "gridcolor": "white",
            "linecolor": "white",
            "ticks": ""
           }
          },
          "scene": {
           "xaxis": {
            "backgroundcolor": "#E5ECF6",
            "gridcolor": "white",
            "gridwidth": 2,
            "linecolor": "white",
            "showbackground": true,
            "ticks": "",
            "zerolinecolor": "white"
           },
           "yaxis": {
            "backgroundcolor": "#E5ECF6",
            "gridcolor": "white",
            "gridwidth": 2,
            "linecolor": "white",
            "showbackground": true,
            "ticks": "",
            "zerolinecolor": "white"
           },
           "zaxis": {
            "backgroundcolor": "#E5ECF6",
            "gridcolor": "white",
            "gridwidth": 2,
            "linecolor": "white",
            "showbackground": true,
            "ticks": "",
            "zerolinecolor": "white"
           }
          },
          "shapedefaults": {
           "line": {
            "color": "#2a3f5f"
           }
          },
          "ternary": {
           "aaxis": {
            "gridcolor": "white",
            "linecolor": "white",
            "ticks": ""
           },
           "baxis": {
            "gridcolor": "white",
            "linecolor": "white",
            "ticks": ""
           },
           "bgcolor": "#E5ECF6",
           "caxis": {
            "gridcolor": "white",
            "linecolor": "white",
            "ticks": ""
           }
          },
          "title": {
           "x": 0.05
          },
          "xaxis": {
           "automargin": true,
           "gridcolor": "white",
           "linecolor": "white",
           "ticks": "",
           "title": {
            "standoff": 15
           },
           "zerolinecolor": "white",
           "zerolinewidth": 2
          },
          "yaxis": {
           "automargin": true,
           "gridcolor": "white",
           "linecolor": "white",
           "ticks": "",
           "title": {
            "standoff": 15
           },
           "zerolinecolor": "white",
           "zerolinewidth": 2
          }
         }
        },
        "title": {
         "font": {
          "color": "#4D5663"
         }
        },
        "xaxis": {
         "gridcolor": "#E1E5ED",
         "showgrid": true,
         "tickfont": {
          "color": "#4D5663"
         },
         "title": {
          "font": {
           "color": "#4D5663"
          },
          "text": ""
         },
         "zerolinecolor": "#E1E5ED"
        },
        "yaxis": {
         "gridcolor": "#E1E5ED",
         "showgrid": true,
         "tickfont": {
          "color": "#4D5663"
         },
         "title": {
          "font": {
           "color": "#4D5663"
          },
          "text": ""
         },
         "zerolinecolor": "#E1E5ED"
        }
       }
      },
      "text/html": [
       "<div>                            <div id=\"c0946cf0-8d05-4452-be4e-9492e534cb73\" class=\"plotly-graph-div\" style=\"height:525px; width:100%;\"></div>            <script type=\"text/javascript\">                require([\"plotly\"], function(Plotly) {                    window.PLOTLYENV=window.PLOTLYENV || {};\n",
       "                    window.PLOTLYENV.BASE_URL='https://plot.ly';                                    if (document.getElementById(\"c0946cf0-8d05-4452-be4e-9492e534cb73\")) {                    Plotly.newPlot(                        \"c0946cf0-8d05-4452-be4e-9492e534cb73\",                        [{\"line\":{\"color\":\"rgba(255, 153, 51, 1.0)\",\"dash\":\"solid\",\"shape\":\"linear\",\"width\":1.3},\"marker\":{\"size\":12,\"symbol\":\"circle\"},\"mode\":\"markers\",\"name\":\"B\",\"text\":\"\",\"type\":\"scatter\",\"x\":[-1.5780143094608707,0.4224141679036228,-0.046044199547425994,0.2764425774695236,0.2832003904525572,-0.8244229229915959,0.3231680986676643,-2.5784754728961077,-1.1174667014919542,-0.10433571740892703,-0.8635825627075128,0.7213549567592623,-0.514209164071635,-0.0894937461585034,-1.0493787538844543,1.1600959677883953,0.015315579009527229,1.1373452911453181,-0.35205604004623087,0.9733588160495177,1.0175919245173992,-1.1032733279615654,-0.04091946153944837,0.29127869094225495,-0.8031504118174125,0.6154323976045675,-0.9416530536217149,-0.8615871361773523,1.7197517910385434,-1.3245217395911422,-0.9905387437971541,0.612921924303667,-1.7195845050451466,1.7794753656569549,1.390338780884705,1.5420775527370045,1.4602461868666108,0.3920840158671529,0.20740068599803843,-0.0525907643085713,-2.124496090536296,1.8033601534563382,-2.2134597571962984,-1.2320037595512683,-0.013623770292160971,0.10361627865663506,1.8251728914117562,-1.4567844712500666,1.6815715414433596,-1.6382228363459552,1.1785073527119436,-2.1103799953953857,-2.360654618156865,1.06403721627327,-0.6021400767598017,-0.47764716258391327,0.170088710868202,1.6261280670577174,0.29696401753219864,-0.551821204569244,-0.7933538478762096,1.2175829255456183,1.2929051874329027,1.8671528425987827,-0.4997985409441982,-1.0199402532984096,-0.773586095168086,-0.36877594456216256,-0.7896229212932089,-1.6187547203217891,0.5095063621113651,0.3892508134673948,1.8226250380923086,1.398772283602051,0.28258121963712785,0.3171731159206602,-0.4664976111440749,-0.2845925650841886,-1.4177805231493208,0.9495788651228273,0.42885197403303343,2.0694579684956147,-0.7334623227655961,-0.05343421964291611,-0.42613012697760827,0.7942339422888914,0.9822033206905049,1.1274178789267362,-0.4865849503191588,0.252100329107842,-0.5178559805808933,-0.7894057794818384,-0.6942281167523381,-1.2733291431281641,0.6615762834883798,-0.47001228540783596,1.1182681925497504,-0.23366998936225875,1.838116177785737,-0.8406962071636835],\"y\":[-0.0259506725481951,0.24435649772913426,1.0877733311223357,-1.8962004040020193,-0.25954921711141765,2.7043824859122476,1.0926540178862534,0.35217276213382537,0.1407838761058627,-0.6885384052765048,-1.383324172827188,1.1577865659859314,-1.8530220238946453,-1.2259532131837694,-1.7724024475662012,0.16921653511331095,-0.23502175645737877,-0.19493413743530474,2.1059690127705033,0.7145282505605425,-1.2459465065590833,-0.6112834219178358,-1.2972285557713692,-0.04391332479597896,-0.9127750185864033,0.8642737524596605,-1.2427033799781488,0.17809916107149085,0.9855511500907624,0.5789203698228469,1.353179929831089,-1.5811690329479169,0.21627646035202477,0.22918666030418786,-0.7657227806022304,1.2970745084573303,-0.4411467425812966,-0.002253022989131673,-0.27334995315785343,-0.747367567496964,-0.7707536473647956,-0.05356741888756035,-0.16058500038988138,-0.5283774811894479,0.7155354694021077,-0.6711991806061014,2.552152773933515,-0.5804357246008203,-0.9473705154872256,-0.7083728099568252,-0.12062595408966743,1.3937635936198711,1.3108596651627333,0.5468020472079963,-1.435505117973782,-0.5332814220831296,1.6801961892764308,-0.5839531012332301,-0.6360695371158908,-0.6699857250566243,1.3350702453545424,0.15520860787965896,-0.5236228725603096,-0.7853909085159455,0.12147932511505855,-0.15327619748009327,-1.0783259244660068,1.210341428022308,0.13966304107529887,-0.9399084888506885,-0.59902023061572,-0.9954913339458762,-0.7571127903134742,0.9807267710763179,0.7122861855974634,-0.9759818563206035,1.3560811000635984,-0.01974306520172108,0.018638522220582106,1.252650763361496,-1.7834401536838884,-0.32449111720371465,-3.147935945088936,-2.4677680161269415,-0.048587764266386856,0.3680883517657553,-0.725297987922035,-0.21514594619635463,-0.9977141038793348,-1.36596465153972,-0.552387349054642,-0.06680693818684787,-0.10991903665861248,-0.053436332518115956,-0.6239178589232137,1.0931547879237713,0.87178061557824,-0.13461311038414722,1.6880989246818119,0.546249759714265]}],                        {\"legend\":{\"bgcolor\":\"#F5F6F9\",\"font\":{\"color\":\"#4D5663\"}},\"paper_bgcolor\":\"#F5F6F9\",\"plot_bgcolor\":\"#F5F6F9\",\"template\":{\"data\":{\"bar\":[{\"error_x\":{\"color\":\"#2a3f5f\"},\"error_y\":{\"color\":\"#2a3f5f\"},\"marker\":{\"line\":{\"color\":\"#E5ECF6\",\"width\":0.5},\"pattern\":{\"fillmode\":\"overlay\",\"size\":10,\"solidity\":0.2}},\"type\":\"bar\"}],\"barpolar\":[{\"marker\":{\"line\":{\"color\":\"#E5ECF6\",\"width\":0.5},\"pattern\":{\"fillmode\":\"overlay\",\"size\":10,\"solidity\":0.2}},\"type\":\"barpolar\"}],\"carpet\":[{\"aaxis\":{\"endlinecolor\":\"#2a3f5f\",\"gridcolor\":\"white\",\"linecolor\":\"white\",\"minorgridcolor\":\"white\",\"startlinecolor\":\"#2a3f5f\"},\"baxis\":{\"endlinecolor\":\"#2a3f5f\",\"gridcolor\":\"white\",\"linecolor\":\"white\",\"minorgridcolor\":\"white\",\"startlinecolor\":\"#2a3f5f\"},\"type\":\"carpet\"}],\"choropleth\":[{\"colorbar\":{\"outlinewidth\":0,\"ticks\":\"\"},\"type\":\"choropleth\"}],\"contour\":[{\"colorbar\":{\"outlinewidth\":0,\"ticks\":\"\"},\"colorscale\":[[0.0,\"#0d0887\"],[0.1111111111111111,\"#46039f\"],[0.2222222222222222,\"#7201a8\"],[0.3333333333333333,\"#9c179e\"],[0.4444444444444444,\"#bd3786\"],[0.5555555555555556,\"#d8576b\"],[0.6666666666666666,\"#ed7953\"],[0.7777777777777778,\"#fb9f3a\"],[0.8888888888888888,\"#fdca26\"],[1.0,\"#f0f921\"]],\"type\":\"contour\"}],\"contourcarpet\":[{\"colorbar\":{\"outlinewidth\":0,\"ticks\":\"\"},\"type\":\"contourcarpet\"}],\"heatmap\":[{\"colorbar\":{\"outlinewidth\":0,\"ticks\":\"\"},\"colorscale\":[[0.0,\"#0d0887\"],[0.1111111111111111,\"#46039f\"],[0.2222222222222222,\"#7201a8\"],[0.3333333333333333,\"#9c179e\"],[0.4444444444444444,\"#bd3786\"],[0.5555555555555556,\"#d8576b\"],[0.6666666666666666,\"#ed7953\"],[0.7777777777777778,\"#fb9f3a\"],[0.8888888888888888,\"#fdca26\"],[1.0,\"#f0f921\"]],\"type\":\"heatmap\"}],\"heatmapgl\":[{\"colorbar\":{\"outlinewidth\":0,\"ticks\":\"\"},\"colorscale\":[[0.0,\"#0d0887\"],[0.1111111111111111,\"#46039f\"],[0.2222222222222222,\"#7201a8\"],[0.3333333333333333,\"#9c179e\"],[0.4444444444444444,\"#bd3786\"],[0.5555555555555556,\"#d8576b\"],[0.6666666666666666,\"#ed7953\"],[0.7777777777777778,\"#fb9f3a\"],[0.8888888888888888,\"#fdca26\"],[1.0,\"#f0f921\"]],\"type\":\"heatmapgl\"}],\"histogram\":[{\"marker\":{\"pattern\":{\"fillmode\":\"overlay\",\"size\":10,\"solidity\":0.2}},\"type\":\"histogram\"}],\"histogram2d\":[{\"colorbar\":{\"outlinewidth\":0,\"ticks\":\"\"},\"colorscale\":[[0.0,\"#0d0887\"],[0.1111111111111111,\"#46039f\"],[0.2222222222222222,\"#7201a8\"],[0.3333333333333333,\"#9c179e\"],[0.4444444444444444,\"#bd3786\"],[0.5555555555555556,\"#d8576b\"],[0.6666666666666666,\"#ed7953\"],[0.7777777777777778,\"#fb9f3a\"],[0.8888888888888888,\"#fdca26\"],[1.0,\"#f0f921\"]],\"type\":\"histogram2d\"}],\"histogram2dcontour\":[{\"colorbar\":{\"outlinewidth\":0,\"ticks\":\"\"},\"colorscale\":[[0.0,\"#0d0887\"],[0.1111111111111111,\"#46039f\"],[0.2222222222222222,\"#7201a8\"],[0.3333333333333333,\"#9c179e\"],[0.4444444444444444,\"#bd3786\"],[0.5555555555555556,\"#d8576b\"],[0.6666666666666666,\"#ed7953\"],[0.7777777777777778,\"#fb9f3a\"],[0.8888888888888888,\"#fdca26\"],[1.0,\"#f0f921\"]],\"type\":\"histogram2dcontour\"}],\"mesh3d\":[{\"colorbar\":{\"outlinewidth\":0,\"ticks\":\"\"},\"type\":\"mesh3d\"}],\"parcoords\":[{\"line\":{\"colorbar\":{\"outlinewidth\":0,\"ticks\":\"\"}},\"type\":\"parcoords\"}],\"pie\":[{\"automargin\":true,\"type\":\"pie\"}],\"scatter\":[{\"marker\":{\"colorbar\":{\"outlinewidth\":0,\"ticks\":\"\"}},\"type\":\"scatter\"}],\"scatter3d\":[{\"line\":{\"colorbar\":{\"outlinewidth\":0,\"ticks\":\"\"}},\"marker\":{\"colorbar\":{\"outlinewidth\":0,\"ticks\":\"\"}},\"type\":\"scatter3d\"}],\"scattercarpet\":[{\"marker\":{\"colorbar\":{\"outlinewidth\":0,\"ticks\":\"\"}},\"type\":\"scattercarpet\"}],\"scattergeo\":[{\"marker\":{\"colorbar\":{\"outlinewidth\":0,\"ticks\":\"\"}},\"type\":\"scattergeo\"}],\"scattergl\":[{\"marker\":{\"colorbar\":{\"outlinewidth\":0,\"ticks\":\"\"}},\"type\":\"scattergl\"}],\"scattermapbox\":[{\"marker\":{\"colorbar\":{\"outlinewidth\":0,\"ticks\":\"\"}},\"type\":\"scattermapbox\"}],\"scatterpolar\":[{\"marker\":{\"colorbar\":{\"outlinewidth\":0,\"ticks\":\"\"}},\"type\":\"scatterpolar\"}],\"scatterpolargl\":[{\"marker\":{\"colorbar\":{\"outlinewidth\":0,\"ticks\":\"\"}},\"type\":\"scatterpolargl\"}],\"scatterternary\":[{\"marker\":{\"colorbar\":{\"outlinewidth\":0,\"ticks\":\"\"}},\"type\":\"scatterternary\"}],\"surface\":[{\"colorbar\":{\"outlinewidth\":0,\"ticks\":\"\"},\"colorscale\":[[0.0,\"#0d0887\"],[0.1111111111111111,\"#46039f\"],[0.2222222222222222,\"#7201a8\"],[0.3333333333333333,\"#9c179e\"],[0.4444444444444444,\"#bd3786\"],[0.5555555555555556,\"#d8576b\"],[0.6666666666666666,\"#ed7953\"],[0.7777777777777778,\"#fb9f3a\"],[0.8888888888888888,\"#fdca26\"],[1.0,\"#f0f921\"]],\"type\":\"surface\"}],\"table\":[{\"cells\":{\"fill\":{\"color\":\"#EBF0F8\"},\"line\":{\"color\":\"white\"}},\"header\":{\"fill\":{\"color\":\"#C8D4E3\"},\"line\":{\"color\":\"white\"}},\"type\":\"table\"}]},\"layout\":{\"annotationdefaults\":{\"arrowcolor\":\"#2a3f5f\",\"arrowhead\":0,\"arrowwidth\":1},\"autotypenumbers\":\"strict\",\"coloraxis\":{\"colorbar\":{\"outlinewidth\":0,\"ticks\":\"\"}},\"colorscale\":{\"diverging\":[[0,\"#8e0152\"],[0.1,\"#c51b7d\"],[0.2,\"#de77ae\"],[0.3,\"#f1b6da\"],[0.4,\"#fde0ef\"],[0.5,\"#f7f7f7\"],[0.6,\"#e6f5d0\"],[0.7,\"#b8e186\"],[0.8,\"#7fbc41\"],[0.9,\"#4d9221\"],[1,\"#276419\"]],\"sequential\":[[0.0,\"#0d0887\"],[0.1111111111111111,\"#46039f\"],[0.2222222222222222,\"#7201a8\"],[0.3333333333333333,\"#9c179e\"],[0.4444444444444444,\"#bd3786\"],[0.5555555555555556,\"#d8576b\"],[0.6666666666666666,\"#ed7953\"],[0.7777777777777778,\"#fb9f3a\"],[0.8888888888888888,\"#fdca26\"],[1.0,\"#f0f921\"]],\"sequentialminus\":[[0.0,\"#0d0887\"],[0.1111111111111111,\"#46039f\"],[0.2222222222222222,\"#7201a8\"],[0.3333333333333333,\"#9c179e\"],[0.4444444444444444,\"#bd3786\"],[0.5555555555555556,\"#d8576b\"],[0.6666666666666666,\"#ed7953\"],[0.7777777777777778,\"#fb9f3a\"],[0.8888888888888888,\"#fdca26\"],[1.0,\"#f0f921\"]]},\"colorway\":[\"#636efa\",\"#EF553B\",\"#00cc96\",\"#ab63fa\",\"#FFA15A\",\"#19d3f3\",\"#FF6692\",\"#B6E880\",\"#FF97FF\",\"#FECB52\"],\"font\":{\"color\":\"#2a3f5f\"},\"geo\":{\"bgcolor\":\"white\",\"lakecolor\":\"white\",\"landcolor\":\"#E5ECF6\",\"showlakes\":true,\"showland\":true,\"subunitcolor\":\"white\"},\"hoverlabel\":{\"align\":\"left\"},\"hovermode\":\"closest\",\"mapbox\":{\"style\":\"light\"},\"paper_bgcolor\":\"white\",\"plot_bgcolor\":\"#E5ECF6\",\"polar\":{\"angularaxis\":{\"gridcolor\":\"white\",\"linecolor\":\"white\",\"ticks\":\"\"},\"bgcolor\":\"#E5ECF6\",\"radialaxis\":{\"gridcolor\":\"white\",\"linecolor\":\"white\",\"ticks\":\"\"}},\"scene\":{\"xaxis\":{\"backgroundcolor\":\"#E5ECF6\",\"gridcolor\":\"white\",\"gridwidth\":2,\"linecolor\":\"white\",\"showbackground\":true,\"ticks\":\"\",\"zerolinecolor\":\"white\"},\"yaxis\":{\"backgroundcolor\":\"#E5ECF6\",\"gridcolor\":\"white\",\"gridwidth\":2,\"linecolor\":\"white\",\"showbackground\":true,\"ticks\":\"\",\"zerolinecolor\":\"white\"},\"zaxis\":{\"backgroundcolor\":\"#E5ECF6\",\"gridcolor\":\"white\",\"gridwidth\":2,\"linecolor\":\"white\",\"showbackground\":true,\"ticks\":\"\",\"zerolinecolor\":\"white\"}},\"shapedefaults\":{\"line\":{\"color\":\"#2a3f5f\"}},\"ternary\":{\"aaxis\":{\"gridcolor\":\"white\",\"linecolor\":\"white\",\"ticks\":\"\"},\"baxis\":{\"gridcolor\":\"white\",\"linecolor\":\"white\",\"ticks\":\"\"},\"bgcolor\":\"#E5ECF6\",\"caxis\":{\"gridcolor\":\"white\",\"linecolor\":\"white\",\"ticks\":\"\"}},\"title\":{\"x\":0.05},\"xaxis\":{\"automargin\":true,\"gridcolor\":\"white\",\"linecolor\":\"white\",\"ticks\":\"\",\"title\":{\"standoff\":15},\"zerolinecolor\":\"white\",\"zerolinewidth\":2},\"yaxis\":{\"automargin\":true,\"gridcolor\":\"white\",\"linecolor\":\"white\",\"ticks\":\"\",\"title\":{\"standoff\":15},\"zerolinecolor\":\"white\",\"zerolinewidth\":2}}},\"title\":{\"font\":{\"color\":\"#4D5663\"}},\"xaxis\":{\"gridcolor\":\"#E1E5ED\",\"showgrid\":true,\"tickfont\":{\"color\":\"#4D5663\"},\"title\":{\"font\":{\"color\":\"#4D5663\"},\"text\":\"\"},\"zerolinecolor\":\"#E1E5ED\"},\"yaxis\":{\"gridcolor\":\"#E1E5ED\",\"showgrid\":true,\"tickfont\":{\"color\":\"#4D5663\"},\"title\":{\"font\":{\"color\":\"#4D5663\"},\"text\":\"\"},\"zerolinecolor\":\"#E1E5ED\"}},                        {\"showLink\": true, \"linkText\": \"Export to plot.ly\", \"plotlyServerURL\": \"https://plot.ly\", \"responsive\": true}                    ).then(function(){\n",
       "                            \n",
       "var gd = document.getElementById('c0946cf0-8d05-4452-be4e-9492e534cb73');\n",
       "var x = new MutationObserver(function (mutations, observer) {{\n",
       "        var display = window.getComputedStyle(gd).display;\n",
       "        if (!display || display === 'none') {{\n",
       "            console.log([gd, 'removed!']);\n",
       "            Plotly.purge(gd);\n",
       "            observer.disconnect();\n",
       "        }}\n",
       "}});\n",
       "\n",
       "// Listen for the removal of the full notebook cells\n",
       "var notebookContainer = gd.closest('#notebook-container');\n",
       "if (notebookContainer) {{\n",
       "    x.observe(notebookContainer, {childList: true});\n",
       "}}\n",
       "\n",
       "// Listen for the clearing of the current output cell\n",
       "var outputEl = gd.closest('.output');\n",
       "if (outputEl) {{\n",
       "    x.observe(outputEl, {childList: true});\n",
       "}}\n",
       "\n",
       "                        })                };                });            </script>        </div>"
      ]
     },
     "metadata": {},
     "output_type": "display_data"
    }
   ],
   "source": [
    "df.iplot(kind='scatter',x='A',y='B',mode='markers')"
   ]
  },
  {
   "cell_type": "code",
   "execution_count": 23,
   "id": "16597342",
   "metadata": {},
   "outputs": [
    {
     "data": {
      "application/vnd.plotly.v1+json": {
       "config": {
        "linkText": "Export to plot.ly",
        "plotlyServerURL": "https://plot.ly",
        "showLink": true
       },
       "data": [
        {
         "marker": {
          "color": "rgba(255, 153, 51, 0.6)",
          "line": {
           "color": "rgba(255, 153, 51, 1.0)",
           "width": 1
          }
         },
         "name": "Values",
         "orientation": "v",
         "text": "",
         "type": "bar",
         "x": [
          "A",
          "B",
          "C"
         ],
         "y": [
          32,
          43,
          50
         ]
        }
       ],
       "layout": {
        "legend": {
         "bgcolor": "#F5F6F9",
         "font": {
          "color": "#4D5663"
         }
        },
        "paper_bgcolor": "#F5F6F9",
        "plot_bgcolor": "#F5F6F9",
        "template": {
         "data": {
          "bar": [
           {
            "error_x": {
             "color": "#2a3f5f"
            },
            "error_y": {
             "color": "#2a3f5f"
            },
            "marker": {
             "line": {
              "color": "#E5ECF6",
              "width": 0.5
             },
             "pattern": {
              "fillmode": "overlay",
              "size": 10,
              "solidity": 0.2
             }
            },
            "type": "bar"
           }
          ],
          "barpolar": [
           {
            "marker": {
             "line": {
              "color": "#E5ECF6",
              "width": 0.5
             },
             "pattern": {
              "fillmode": "overlay",
              "size": 10,
              "solidity": 0.2
             }
            },
            "type": "barpolar"
           }
          ],
          "carpet": [
           {
            "aaxis": {
             "endlinecolor": "#2a3f5f",
             "gridcolor": "white",
             "linecolor": "white",
             "minorgridcolor": "white",
             "startlinecolor": "#2a3f5f"
            },
            "baxis": {
             "endlinecolor": "#2a3f5f",
             "gridcolor": "white",
             "linecolor": "white",
             "minorgridcolor": "white",
             "startlinecolor": "#2a3f5f"
            },
            "type": "carpet"
           }
          ],
          "choropleth": [
           {
            "colorbar": {
             "outlinewidth": 0,
             "ticks": ""
            },
            "type": "choropleth"
           }
          ],
          "contour": [
           {
            "colorbar": {
             "outlinewidth": 0,
             "ticks": ""
            },
            "colorscale": [
             [
              0,
              "#0d0887"
             ],
             [
              0.1111111111111111,
              "#46039f"
             ],
             [
              0.2222222222222222,
              "#7201a8"
             ],
             [
              0.3333333333333333,
              "#9c179e"
             ],
             [
              0.4444444444444444,
              "#bd3786"
             ],
             [
              0.5555555555555556,
              "#d8576b"
             ],
             [
              0.6666666666666666,
              "#ed7953"
             ],
             [
              0.7777777777777778,
              "#fb9f3a"
             ],
             [
              0.8888888888888888,
              "#fdca26"
             ],
             [
              1,
              "#f0f921"
             ]
            ],
            "type": "contour"
           }
          ],
          "contourcarpet": [
           {
            "colorbar": {
             "outlinewidth": 0,
             "ticks": ""
            },
            "type": "contourcarpet"
           }
          ],
          "heatmap": [
           {
            "colorbar": {
             "outlinewidth": 0,
             "ticks": ""
            },
            "colorscale": [
             [
              0,
              "#0d0887"
             ],
             [
              0.1111111111111111,
              "#46039f"
             ],
             [
              0.2222222222222222,
              "#7201a8"
             ],
             [
              0.3333333333333333,
              "#9c179e"
             ],
             [
              0.4444444444444444,
              "#bd3786"
             ],
             [
              0.5555555555555556,
              "#d8576b"
             ],
             [
              0.6666666666666666,
              "#ed7953"
             ],
             [
              0.7777777777777778,
              "#fb9f3a"
             ],
             [
              0.8888888888888888,
              "#fdca26"
             ],
             [
              1,
              "#f0f921"
             ]
            ],
            "type": "heatmap"
           }
          ],
          "heatmapgl": [
           {
            "colorbar": {
             "outlinewidth": 0,
             "ticks": ""
            },
            "colorscale": [
             [
              0,
              "#0d0887"
             ],
             [
              0.1111111111111111,
              "#46039f"
             ],
             [
              0.2222222222222222,
              "#7201a8"
             ],
             [
              0.3333333333333333,
              "#9c179e"
             ],
             [
              0.4444444444444444,
              "#bd3786"
             ],
             [
              0.5555555555555556,
              "#d8576b"
             ],
             [
              0.6666666666666666,
              "#ed7953"
             ],
             [
              0.7777777777777778,
              "#fb9f3a"
             ],
             [
              0.8888888888888888,
              "#fdca26"
             ],
             [
              1,
              "#f0f921"
             ]
            ],
            "type": "heatmapgl"
           }
          ],
          "histogram": [
           {
            "marker": {
             "pattern": {
              "fillmode": "overlay",
              "size": 10,
              "solidity": 0.2
             }
            },
            "type": "histogram"
           }
          ],
          "histogram2d": [
           {
            "colorbar": {
             "outlinewidth": 0,
             "ticks": ""
            },
            "colorscale": [
             [
              0,
              "#0d0887"
             ],
             [
              0.1111111111111111,
              "#46039f"
             ],
             [
              0.2222222222222222,
              "#7201a8"
             ],
             [
              0.3333333333333333,
              "#9c179e"
             ],
             [
              0.4444444444444444,
              "#bd3786"
             ],
             [
              0.5555555555555556,
              "#d8576b"
             ],
             [
              0.6666666666666666,
              "#ed7953"
             ],
             [
              0.7777777777777778,
              "#fb9f3a"
             ],
             [
              0.8888888888888888,
              "#fdca26"
             ],
             [
              1,
              "#f0f921"
             ]
            ],
            "type": "histogram2d"
           }
          ],
          "histogram2dcontour": [
           {
            "colorbar": {
             "outlinewidth": 0,
             "ticks": ""
            },
            "colorscale": [
             [
              0,
              "#0d0887"
             ],
             [
              0.1111111111111111,
              "#46039f"
             ],
             [
              0.2222222222222222,
              "#7201a8"
             ],
             [
              0.3333333333333333,
              "#9c179e"
             ],
             [
              0.4444444444444444,
              "#bd3786"
             ],
             [
              0.5555555555555556,
              "#d8576b"
             ],
             [
              0.6666666666666666,
              "#ed7953"
             ],
             [
              0.7777777777777778,
              "#fb9f3a"
             ],
             [
              0.8888888888888888,
              "#fdca26"
             ],
             [
              1,
              "#f0f921"
             ]
            ],
            "type": "histogram2dcontour"
           }
          ],
          "mesh3d": [
           {
            "colorbar": {
             "outlinewidth": 0,
             "ticks": ""
            },
            "type": "mesh3d"
           }
          ],
          "parcoords": [
           {
            "line": {
             "colorbar": {
              "outlinewidth": 0,
              "ticks": ""
             }
            },
            "type": "parcoords"
           }
          ],
          "pie": [
           {
            "automargin": true,
            "type": "pie"
           }
          ],
          "scatter": [
           {
            "marker": {
             "colorbar": {
              "outlinewidth": 0,
              "ticks": ""
             }
            },
            "type": "scatter"
           }
          ],
          "scatter3d": [
           {
            "line": {
             "colorbar": {
              "outlinewidth": 0,
              "ticks": ""
             }
            },
            "marker": {
             "colorbar": {
              "outlinewidth": 0,
              "ticks": ""
             }
            },
            "type": "scatter3d"
           }
          ],
          "scattercarpet": [
           {
            "marker": {
             "colorbar": {
              "outlinewidth": 0,
              "ticks": ""
             }
            },
            "type": "scattercarpet"
           }
          ],
          "scattergeo": [
           {
            "marker": {
             "colorbar": {
              "outlinewidth": 0,
              "ticks": ""
             }
            },
            "type": "scattergeo"
           }
          ],
          "scattergl": [
           {
            "marker": {
             "colorbar": {
              "outlinewidth": 0,
              "ticks": ""
             }
            },
            "type": "scattergl"
           }
          ],
          "scattermapbox": [
           {
            "marker": {
             "colorbar": {
              "outlinewidth": 0,
              "ticks": ""
             }
            },
            "type": "scattermapbox"
           }
          ],
          "scatterpolar": [
           {
            "marker": {
             "colorbar": {
              "outlinewidth": 0,
              "ticks": ""
             }
            },
            "type": "scatterpolar"
           }
          ],
          "scatterpolargl": [
           {
            "marker": {
             "colorbar": {
              "outlinewidth": 0,
              "ticks": ""
             }
            },
            "type": "scatterpolargl"
           }
          ],
          "scatterternary": [
           {
            "marker": {
             "colorbar": {
              "outlinewidth": 0,
              "ticks": ""
             }
            },
            "type": "scatterternary"
           }
          ],
          "surface": [
           {
            "colorbar": {
             "outlinewidth": 0,
             "ticks": ""
            },
            "colorscale": [
             [
              0,
              "#0d0887"
             ],
             [
              0.1111111111111111,
              "#46039f"
             ],
             [
              0.2222222222222222,
              "#7201a8"
             ],
             [
              0.3333333333333333,
              "#9c179e"
             ],
             [
              0.4444444444444444,
              "#bd3786"
             ],
             [
              0.5555555555555556,
              "#d8576b"
             ],
             [
              0.6666666666666666,
              "#ed7953"
             ],
             [
              0.7777777777777778,
              "#fb9f3a"
             ],
             [
              0.8888888888888888,
              "#fdca26"
             ],
             [
              1,
              "#f0f921"
             ]
            ],
            "type": "surface"
           }
          ],
          "table": [
           {
            "cells": {
             "fill": {
              "color": "#EBF0F8"
             },
             "line": {
              "color": "white"
             }
            },
            "header": {
             "fill": {
              "color": "#C8D4E3"
             },
             "line": {
              "color": "white"
             }
            },
            "type": "table"
           }
          ]
         },
         "layout": {
          "annotationdefaults": {
           "arrowcolor": "#2a3f5f",
           "arrowhead": 0,
           "arrowwidth": 1
          },
          "autotypenumbers": "strict",
          "coloraxis": {
           "colorbar": {
            "outlinewidth": 0,
            "ticks": ""
           }
          },
          "colorscale": {
           "diverging": [
            [
             0,
             "#8e0152"
            ],
            [
             0.1,
             "#c51b7d"
            ],
            [
             0.2,
             "#de77ae"
            ],
            [
             0.3,
             "#f1b6da"
            ],
            [
             0.4,
             "#fde0ef"
            ],
            [
             0.5,
             "#f7f7f7"
            ],
            [
             0.6,
             "#e6f5d0"
            ],
            [
             0.7,
             "#b8e186"
            ],
            [
             0.8,
             "#7fbc41"
            ],
            [
             0.9,
             "#4d9221"
            ],
            [
             1,
             "#276419"
            ]
           ],
           "sequential": [
            [
             0,
             "#0d0887"
            ],
            [
             0.1111111111111111,
             "#46039f"
            ],
            [
             0.2222222222222222,
             "#7201a8"
            ],
            [
             0.3333333333333333,
             "#9c179e"
            ],
            [
             0.4444444444444444,
             "#bd3786"
            ],
            [
             0.5555555555555556,
             "#d8576b"
            ],
            [
             0.6666666666666666,
             "#ed7953"
            ],
            [
             0.7777777777777778,
             "#fb9f3a"
            ],
            [
             0.8888888888888888,
             "#fdca26"
            ],
            [
             1,
             "#f0f921"
            ]
           ],
           "sequentialminus": [
            [
             0,
             "#0d0887"
            ],
            [
             0.1111111111111111,
             "#46039f"
            ],
            [
             0.2222222222222222,
             "#7201a8"
            ],
            [
             0.3333333333333333,
             "#9c179e"
            ],
            [
             0.4444444444444444,
             "#bd3786"
            ],
            [
             0.5555555555555556,
             "#d8576b"
            ],
            [
             0.6666666666666666,
             "#ed7953"
            ],
            [
             0.7777777777777778,
             "#fb9f3a"
            ],
            [
             0.8888888888888888,
             "#fdca26"
            ],
            [
             1,
             "#f0f921"
            ]
           ]
          },
          "colorway": [
           "#636efa",
           "#EF553B",
           "#00cc96",
           "#ab63fa",
           "#FFA15A",
           "#19d3f3",
           "#FF6692",
           "#B6E880",
           "#FF97FF",
           "#FECB52"
          ],
          "font": {
           "color": "#2a3f5f"
          },
          "geo": {
           "bgcolor": "white",
           "lakecolor": "white",
           "landcolor": "#E5ECF6",
           "showlakes": true,
           "showland": true,
           "subunitcolor": "white"
          },
          "hoverlabel": {
           "align": "left"
          },
          "hovermode": "closest",
          "mapbox": {
           "style": "light"
          },
          "paper_bgcolor": "white",
          "plot_bgcolor": "#E5ECF6",
          "polar": {
           "angularaxis": {
            "gridcolor": "white",
            "linecolor": "white",
            "ticks": ""
           },
           "bgcolor": "#E5ECF6",
           "radialaxis": {
            "gridcolor": "white",
            "linecolor": "white",
            "ticks": ""
           }
          },
          "scene": {
           "xaxis": {
            "backgroundcolor": "#E5ECF6",
            "gridcolor": "white",
            "gridwidth": 2,
            "linecolor": "white",
            "showbackground": true,
            "ticks": "",
            "zerolinecolor": "white"
           },
           "yaxis": {
            "backgroundcolor": "#E5ECF6",
            "gridcolor": "white",
            "gridwidth": 2,
            "linecolor": "white",
            "showbackground": true,
            "ticks": "",
            "zerolinecolor": "white"
           },
           "zaxis": {
            "backgroundcolor": "#E5ECF6",
            "gridcolor": "white",
            "gridwidth": 2,
            "linecolor": "white",
            "showbackground": true,
            "ticks": "",
            "zerolinecolor": "white"
           }
          },
          "shapedefaults": {
           "line": {
            "color": "#2a3f5f"
           }
          },
          "ternary": {
           "aaxis": {
            "gridcolor": "white",
            "linecolor": "white",
            "ticks": ""
           },
           "baxis": {
            "gridcolor": "white",
            "linecolor": "white",
            "ticks": ""
           },
           "bgcolor": "#E5ECF6",
           "caxis": {
            "gridcolor": "white",
            "linecolor": "white",
            "ticks": ""
           }
          },
          "title": {
           "x": 0.05
          },
          "xaxis": {
           "automargin": true,
           "gridcolor": "white",
           "linecolor": "white",
           "ticks": "",
           "title": {
            "standoff": 15
           },
           "zerolinecolor": "white",
           "zerolinewidth": 2
          },
          "yaxis": {
           "automargin": true,
           "gridcolor": "white",
           "linecolor": "white",
           "ticks": "",
           "title": {
            "standoff": 15
           },
           "zerolinecolor": "white",
           "zerolinewidth": 2
          }
         }
        },
        "title": {
         "font": {
          "color": "#4D5663"
         }
        },
        "xaxis": {
         "gridcolor": "#E1E5ED",
         "showgrid": true,
         "tickfont": {
          "color": "#4D5663"
         },
         "title": {
          "font": {
           "color": "#4D5663"
          },
          "text": ""
         },
         "zerolinecolor": "#E1E5ED"
        },
        "yaxis": {
         "gridcolor": "#E1E5ED",
         "showgrid": true,
         "tickfont": {
          "color": "#4D5663"
         },
         "title": {
          "font": {
           "color": "#4D5663"
          },
          "text": ""
         },
         "zerolinecolor": "#E1E5ED"
        }
       }
      },
      "text/html": [
       "<div>                            <div id=\"d3116ee6-1483-4781-ad65-3c36ee8b0094\" class=\"plotly-graph-div\" style=\"height:525px; width:100%;\"></div>            <script type=\"text/javascript\">                require([\"plotly\"], function(Plotly) {                    window.PLOTLYENV=window.PLOTLYENV || {};\n",
       "                    window.PLOTLYENV.BASE_URL='https://plot.ly';                                    if (document.getElementById(\"d3116ee6-1483-4781-ad65-3c36ee8b0094\")) {                    Plotly.newPlot(                        \"d3116ee6-1483-4781-ad65-3c36ee8b0094\",                        [{\"marker\":{\"color\":\"rgba(255, 153, 51, 0.6)\",\"line\":{\"color\":\"rgba(255, 153, 51, 1.0)\",\"width\":1}},\"name\":\"Values\",\"orientation\":\"v\",\"text\":\"\",\"type\":\"bar\",\"x\":[\"A\",\"B\",\"C\"],\"y\":[32,43,50]}],                        {\"legend\":{\"bgcolor\":\"#F5F6F9\",\"font\":{\"color\":\"#4D5663\"}},\"paper_bgcolor\":\"#F5F6F9\",\"plot_bgcolor\":\"#F5F6F9\",\"template\":{\"data\":{\"bar\":[{\"error_x\":{\"color\":\"#2a3f5f\"},\"error_y\":{\"color\":\"#2a3f5f\"},\"marker\":{\"line\":{\"color\":\"#E5ECF6\",\"width\":0.5},\"pattern\":{\"fillmode\":\"overlay\",\"size\":10,\"solidity\":0.2}},\"type\":\"bar\"}],\"barpolar\":[{\"marker\":{\"line\":{\"color\":\"#E5ECF6\",\"width\":0.5},\"pattern\":{\"fillmode\":\"overlay\",\"size\":10,\"solidity\":0.2}},\"type\":\"barpolar\"}],\"carpet\":[{\"aaxis\":{\"endlinecolor\":\"#2a3f5f\",\"gridcolor\":\"white\",\"linecolor\":\"white\",\"minorgridcolor\":\"white\",\"startlinecolor\":\"#2a3f5f\"},\"baxis\":{\"endlinecolor\":\"#2a3f5f\",\"gridcolor\":\"white\",\"linecolor\":\"white\",\"minorgridcolor\":\"white\",\"startlinecolor\":\"#2a3f5f\"},\"type\":\"carpet\"}],\"choropleth\":[{\"colorbar\":{\"outlinewidth\":0,\"ticks\":\"\"},\"type\":\"choropleth\"}],\"contour\":[{\"colorbar\":{\"outlinewidth\":0,\"ticks\":\"\"},\"colorscale\":[[0.0,\"#0d0887\"],[0.1111111111111111,\"#46039f\"],[0.2222222222222222,\"#7201a8\"],[0.3333333333333333,\"#9c179e\"],[0.4444444444444444,\"#bd3786\"],[0.5555555555555556,\"#d8576b\"],[0.6666666666666666,\"#ed7953\"],[0.7777777777777778,\"#fb9f3a\"],[0.8888888888888888,\"#fdca26\"],[1.0,\"#f0f921\"]],\"type\":\"contour\"}],\"contourcarpet\":[{\"colorbar\":{\"outlinewidth\":0,\"ticks\":\"\"},\"type\":\"contourcarpet\"}],\"heatmap\":[{\"colorbar\":{\"outlinewidth\":0,\"ticks\":\"\"},\"colorscale\":[[0.0,\"#0d0887\"],[0.1111111111111111,\"#46039f\"],[0.2222222222222222,\"#7201a8\"],[0.3333333333333333,\"#9c179e\"],[0.4444444444444444,\"#bd3786\"],[0.5555555555555556,\"#d8576b\"],[0.6666666666666666,\"#ed7953\"],[0.7777777777777778,\"#fb9f3a\"],[0.8888888888888888,\"#fdca26\"],[1.0,\"#f0f921\"]],\"type\":\"heatmap\"}],\"heatmapgl\":[{\"colorbar\":{\"outlinewidth\":0,\"ticks\":\"\"},\"colorscale\":[[0.0,\"#0d0887\"],[0.1111111111111111,\"#46039f\"],[0.2222222222222222,\"#7201a8\"],[0.3333333333333333,\"#9c179e\"],[0.4444444444444444,\"#bd3786\"],[0.5555555555555556,\"#d8576b\"],[0.6666666666666666,\"#ed7953\"],[0.7777777777777778,\"#fb9f3a\"],[0.8888888888888888,\"#fdca26\"],[1.0,\"#f0f921\"]],\"type\":\"heatmapgl\"}],\"histogram\":[{\"marker\":{\"pattern\":{\"fillmode\":\"overlay\",\"size\":10,\"solidity\":0.2}},\"type\":\"histogram\"}],\"histogram2d\":[{\"colorbar\":{\"outlinewidth\":0,\"ticks\":\"\"},\"colorscale\":[[0.0,\"#0d0887\"],[0.1111111111111111,\"#46039f\"],[0.2222222222222222,\"#7201a8\"],[0.3333333333333333,\"#9c179e\"],[0.4444444444444444,\"#bd3786\"],[0.5555555555555556,\"#d8576b\"],[0.6666666666666666,\"#ed7953\"],[0.7777777777777778,\"#fb9f3a\"],[0.8888888888888888,\"#fdca26\"],[1.0,\"#f0f921\"]],\"type\":\"histogram2d\"}],\"histogram2dcontour\":[{\"colorbar\":{\"outlinewidth\":0,\"ticks\":\"\"},\"colorscale\":[[0.0,\"#0d0887\"],[0.1111111111111111,\"#46039f\"],[0.2222222222222222,\"#7201a8\"],[0.3333333333333333,\"#9c179e\"],[0.4444444444444444,\"#bd3786\"],[0.5555555555555556,\"#d8576b\"],[0.6666666666666666,\"#ed7953\"],[0.7777777777777778,\"#fb9f3a\"],[0.8888888888888888,\"#fdca26\"],[1.0,\"#f0f921\"]],\"type\":\"histogram2dcontour\"}],\"mesh3d\":[{\"colorbar\":{\"outlinewidth\":0,\"ticks\":\"\"},\"type\":\"mesh3d\"}],\"parcoords\":[{\"line\":{\"colorbar\":{\"outlinewidth\":0,\"ticks\":\"\"}},\"type\":\"parcoords\"}],\"pie\":[{\"automargin\":true,\"type\":\"pie\"}],\"scatter\":[{\"marker\":{\"colorbar\":{\"outlinewidth\":0,\"ticks\":\"\"}},\"type\":\"scatter\"}],\"scatter3d\":[{\"line\":{\"colorbar\":{\"outlinewidth\":0,\"ticks\":\"\"}},\"marker\":{\"colorbar\":{\"outlinewidth\":0,\"ticks\":\"\"}},\"type\":\"scatter3d\"}],\"scattercarpet\":[{\"marker\":{\"colorbar\":{\"outlinewidth\":0,\"ticks\":\"\"}},\"type\":\"scattercarpet\"}],\"scattergeo\":[{\"marker\":{\"colorbar\":{\"outlinewidth\":0,\"ticks\":\"\"}},\"type\":\"scattergeo\"}],\"scattergl\":[{\"marker\":{\"colorbar\":{\"outlinewidth\":0,\"ticks\":\"\"}},\"type\":\"scattergl\"}],\"scattermapbox\":[{\"marker\":{\"colorbar\":{\"outlinewidth\":0,\"ticks\":\"\"}},\"type\":\"scattermapbox\"}],\"scatterpolar\":[{\"marker\":{\"colorbar\":{\"outlinewidth\":0,\"ticks\":\"\"}},\"type\":\"scatterpolar\"}],\"scatterpolargl\":[{\"marker\":{\"colorbar\":{\"outlinewidth\":0,\"ticks\":\"\"}},\"type\":\"scatterpolargl\"}],\"scatterternary\":[{\"marker\":{\"colorbar\":{\"outlinewidth\":0,\"ticks\":\"\"}},\"type\":\"scatterternary\"}],\"surface\":[{\"colorbar\":{\"outlinewidth\":0,\"ticks\":\"\"},\"colorscale\":[[0.0,\"#0d0887\"],[0.1111111111111111,\"#46039f\"],[0.2222222222222222,\"#7201a8\"],[0.3333333333333333,\"#9c179e\"],[0.4444444444444444,\"#bd3786\"],[0.5555555555555556,\"#d8576b\"],[0.6666666666666666,\"#ed7953\"],[0.7777777777777778,\"#fb9f3a\"],[0.8888888888888888,\"#fdca26\"],[1.0,\"#f0f921\"]],\"type\":\"surface\"}],\"table\":[{\"cells\":{\"fill\":{\"color\":\"#EBF0F8\"},\"line\":{\"color\":\"white\"}},\"header\":{\"fill\":{\"color\":\"#C8D4E3\"},\"line\":{\"color\":\"white\"}},\"type\":\"table\"}]},\"layout\":{\"annotationdefaults\":{\"arrowcolor\":\"#2a3f5f\",\"arrowhead\":0,\"arrowwidth\":1},\"autotypenumbers\":\"strict\",\"coloraxis\":{\"colorbar\":{\"outlinewidth\":0,\"ticks\":\"\"}},\"colorscale\":{\"diverging\":[[0,\"#8e0152\"],[0.1,\"#c51b7d\"],[0.2,\"#de77ae\"],[0.3,\"#f1b6da\"],[0.4,\"#fde0ef\"],[0.5,\"#f7f7f7\"],[0.6,\"#e6f5d0\"],[0.7,\"#b8e186\"],[0.8,\"#7fbc41\"],[0.9,\"#4d9221\"],[1,\"#276419\"]],\"sequential\":[[0.0,\"#0d0887\"],[0.1111111111111111,\"#46039f\"],[0.2222222222222222,\"#7201a8\"],[0.3333333333333333,\"#9c179e\"],[0.4444444444444444,\"#bd3786\"],[0.5555555555555556,\"#d8576b\"],[0.6666666666666666,\"#ed7953\"],[0.7777777777777778,\"#fb9f3a\"],[0.8888888888888888,\"#fdca26\"],[1.0,\"#f0f921\"]],\"sequentialminus\":[[0.0,\"#0d0887\"],[0.1111111111111111,\"#46039f\"],[0.2222222222222222,\"#7201a8\"],[0.3333333333333333,\"#9c179e\"],[0.4444444444444444,\"#bd3786\"],[0.5555555555555556,\"#d8576b\"],[0.6666666666666666,\"#ed7953\"],[0.7777777777777778,\"#fb9f3a\"],[0.8888888888888888,\"#fdca26\"],[1.0,\"#f0f921\"]]},\"colorway\":[\"#636efa\",\"#EF553B\",\"#00cc96\",\"#ab63fa\",\"#FFA15A\",\"#19d3f3\",\"#FF6692\",\"#B6E880\",\"#FF97FF\",\"#FECB52\"],\"font\":{\"color\":\"#2a3f5f\"},\"geo\":{\"bgcolor\":\"white\",\"lakecolor\":\"white\",\"landcolor\":\"#E5ECF6\",\"showlakes\":true,\"showland\":true,\"subunitcolor\":\"white\"},\"hoverlabel\":{\"align\":\"left\"},\"hovermode\":\"closest\",\"mapbox\":{\"style\":\"light\"},\"paper_bgcolor\":\"white\",\"plot_bgcolor\":\"#E5ECF6\",\"polar\":{\"angularaxis\":{\"gridcolor\":\"white\",\"linecolor\":\"white\",\"ticks\":\"\"},\"bgcolor\":\"#E5ECF6\",\"radialaxis\":{\"gridcolor\":\"white\",\"linecolor\":\"white\",\"ticks\":\"\"}},\"scene\":{\"xaxis\":{\"backgroundcolor\":\"#E5ECF6\",\"gridcolor\":\"white\",\"gridwidth\":2,\"linecolor\":\"white\",\"showbackground\":true,\"ticks\":\"\",\"zerolinecolor\":\"white\"},\"yaxis\":{\"backgroundcolor\":\"#E5ECF6\",\"gridcolor\":\"white\",\"gridwidth\":2,\"linecolor\":\"white\",\"showbackground\":true,\"ticks\":\"\",\"zerolinecolor\":\"white\"},\"zaxis\":{\"backgroundcolor\":\"#E5ECF6\",\"gridcolor\":\"white\",\"gridwidth\":2,\"linecolor\":\"white\",\"showbackground\":true,\"ticks\":\"\",\"zerolinecolor\":\"white\"}},\"shapedefaults\":{\"line\":{\"color\":\"#2a3f5f\"}},\"ternary\":{\"aaxis\":{\"gridcolor\":\"white\",\"linecolor\":\"white\",\"ticks\":\"\"},\"baxis\":{\"gridcolor\":\"white\",\"linecolor\":\"white\",\"ticks\":\"\"},\"bgcolor\":\"#E5ECF6\",\"caxis\":{\"gridcolor\":\"white\",\"linecolor\":\"white\",\"ticks\":\"\"}},\"title\":{\"x\":0.05},\"xaxis\":{\"automargin\":true,\"gridcolor\":\"white\",\"linecolor\":\"white\",\"ticks\":\"\",\"title\":{\"standoff\":15},\"zerolinecolor\":\"white\",\"zerolinewidth\":2},\"yaxis\":{\"automargin\":true,\"gridcolor\":\"white\",\"linecolor\":\"white\",\"ticks\":\"\",\"title\":{\"standoff\":15},\"zerolinecolor\":\"white\",\"zerolinewidth\":2}}},\"title\":{\"font\":{\"color\":\"#4D5663\"}},\"xaxis\":{\"gridcolor\":\"#E1E5ED\",\"showgrid\":true,\"tickfont\":{\"color\":\"#4D5663\"},\"title\":{\"font\":{\"color\":\"#4D5663\"},\"text\":\"\"},\"zerolinecolor\":\"#E1E5ED\"},\"yaxis\":{\"gridcolor\":\"#E1E5ED\",\"showgrid\":true,\"tickfont\":{\"color\":\"#4D5663\"},\"title\":{\"font\":{\"color\":\"#4D5663\"},\"text\":\"\"},\"zerolinecolor\":\"#E1E5ED\"}},                        {\"showLink\": true, \"linkText\": \"Export to plot.ly\", \"plotlyServerURL\": \"https://plot.ly\", \"responsive\": true}                    ).then(function(){\n",
       "                            \n",
       "var gd = document.getElementById('d3116ee6-1483-4781-ad65-3c36ee8b0094');\n",
       "var x = new MutationObserver(function (mutations, observer) {{\n",
       "        var display = window.getComputedStyle(gd).display;\n",
       "        if (!display || display === 'none') {{\n",
       "            console.log([gd, 'removed!']);\n",
       "            Plotly.purge(gd);\n",
       "            observer.disconnect();\n",
       "        }}\n",
       "}});\n",
       "\n",
       "// Listen for the removal of the full notebook cells\n",
       "var notebookContainer = gd.closest('#notebook-container');\n",
       "if (notebookContainer) {{\n",
       "    x.observe(notebookContainer, {childList: true});\n",
       "}}\n",
       "\n",
       "// Listen for the clearing of the current output cell\n",
       "var outputEl = gd.closest('.output');\n",
       "if (outputEl) {{\n",
       "    x.observe(outputEl, {childList: true});\n",
       "}}\n",
       "\n",
       "                        })                };                });            </script>        </div>"
      ]
     },
     "metadata": {},
     "output_type": "display_data"
    }
   ],
   "source": [
    "df2.iplot(kind = 'bar', x='Category', y='Values')"
   ]
  },
  {
   "cell_type": "code",
   "execution_count": 25,
   "id": "05a74db9",
   "metadata": {},
   "outputs": [
    {
     "data": {
      "text/html": [
       "<div>\n",
       "<style scoped>\n",
       "    .dataframe tbody tr th:only-of-type {\n",
       "        vertical-align: middle;\n",
       "    }\n",
       "\n",
       "    .dataframe tbody tr th {\n",
       "        vertical-align: top;\n",
       "    }\n",
       "\n",
       "    .dataframe thead th {\n",
       "        text-align: right;\n",
       "    }\n",
       "</style>\n",
       "<table border=\"1\" class=\"dataframe\">\n",
       "  <thead>\n",
       "    <tr style=\"text-align: right;\">\n",
       "      <th></th>\n",
       "      <th>A</th>\n",
       "      <th>B</th>\n",
       "      <th>C</th>\n",
       "      <th>D</th>\n",
       "    </tr>\n",
       "  </thead>\n",
       "  <tbody>\n",
       "    <tr>\n",
       "      <th>0</th>\n",
       "      <td>-1.578014</td>\n",
       "      <td>-0.025951</td>\n",
       "      <td>0.089753</td>\n",
       "      <td>0.415829</td>\n",
       "    </tr>\n",
       "    <tr>\n",
       "      <th>1</th>\n",
       "      <td>0.422414</td>\n",
       "      <td>0.244356</td>\n",
       "      <td>-1.122145</td>\n",
       "      <td>0.089081</td>\n",
       "    </tr>\n",
       "    <tr>\n",
       "      <th>2</th>\n",
       "      <td>-0.046044</td>\n",
       "      <td>1.087773</td>\n",
       "      <td>0.413087</td>\n",
       "      <td>0.632898</td>\n",
       "    </tr>\n",
       "    <tr>\n",
       "      <th>3</th>\n",
       "      <td>0.276443</td>\n",
       "      <td>-1.896200</td>\n",
       "      <td>1.229143</td>\n",
       "      <td>-0.268696</td>\n",
       "    </tr>\n",
       "    <tr>\n",
       "      <th>4</th>\n",
       "      <td>0.283200</td>\n",
       "      <td>-0.259549</td>\n",
       "      <td>-0.188771</td>\n",
       "      <td>1.393516</td>\n",
       "    </tr>\n",
       "    <tr>\n",
       "      <th>...</th>\n",
       "      <td>...</td>\n",
       "      <td>...</td>\n",
       "      <td>...</td>\n",
       "      <td>...</td>\n",
       "    </tr>\n",
       "    <tr>\n",
       "      <th>95</th>\n",
       "      <td>-0.470012</td>\n",
       "      <td>1.093155</td>\n",
       "      <td>-0.168137</td>\n",
       "      <td>0.652850</td>\n",
       "    </tr>\n",
       "    <tr>\n",
       "      <th>96</th>\n",
       "      <td>1.118268</td>\n",
       "      <td>0.871781</td>\n",
       "      <td>-1.275670</td>\n",
       "      <td>-0.345881</td>\n",
       "    </tr>\n",
       "    <tr>\n",
       "      <th>97</th>\n",
       "      <td>-0.233670</td>\n",
       "      <td>-0.134613</td>\n",
       "      <td>0.752864</td>\n",
       "      <td>-0.105785</td>\n",
       "    </tr>\n",
       "    <tr>\n",
       "      <th>98</th>\n",
       "      <td>1.838116</td>\n",
       "      <td>1.688099</td>\n",
       "      <td>1.984766</td>\n",
       "      <td>2.409585</td>\n",
       "    </tr>\n",
       "    <tr>\n",
       "      <th>99</th>\n",
       "      <td>-0.840696</td>\n",
       "      <td>0.546250</td>\n",
       "      <td>-0.083385</td>\n",
       "      <td>-0.286803</td>\n",
       "    </tr>\n",
       "  </tbody>\n",
       "</table>\n",
       "<p>100 rows × 4 columns</p>\n",
       "</div>"
      ],
      "text/plain": [
       "           A         B         C         D\n",
       "0  -1.578014 -0.025951  0.089753  0.415829\n",
       "1   0.422414  0.244356 -1.122145  0.089081\n",
       "2  -0.046044  1.087773  0.413087  0.632898\n",
       "3   0.276443 -1.896200  1.229143 -0.268696\n",
       "4   0.283200 -0.259549 -0.188771  1.393516\n",
       "..       ...       ...       ...       ...\n",
       "95 -0.470012  1.093155 -0.168137  0.652850\n",
       "96  1.118268  0.871781 -1.275670 -0.345881\n",
       "97 -0.233670 -0.134613  0.752864 -0.105785\n",
       "98  1.838116  1.688099  1.984766  2.409585\n",
       "99 -0.840696  0.546250 -0.083385 -0.286803\n",
       "\n",
       "[100 rows x 4 columns]"
      ]
     },
     "execution_count": 25,
     "metadata": {},
     "output_type": "execute_result"
    }
   ],
   "source": [
    "df"
   ]
  },
  {
   "cell_type": "code",
   "execution_count": 29,
   "id": "65339725",
   "metadata": {},
   "outputs": [
    {
     "data": {
      "application/vnd.plotly.v1+json": {
       "config": {
        "linkText": "Export to plot.ly",
        "plotlyServerURL": "https://plot.ly",
        "showLink": true
       },
       "data": [
        {
         "marker": {
          "color": "rgba(255, 153, 51, 0.6)",
          "line": {
           "color": "rgba(255, 153, 51, 1.0)",
           "width": 1
          }
         },
         "name": "None",
         "orientation": "v",
         "text": "",
         "type": "bar",
         "x": [
          "A",
          "B",
          "C",
          "D"
         ],
         "y": [
          -0.8779485096146776,
          -11.024124877882986,
          7.216891911228155,
          2.572350199776846
         ]
        }
       ],
       "layout": {
        "legend": {
         "bgcolor": "#F5F6F9",
         "font": {
          "color": "#4D5663"
         }
        },
        "paper_bgcolor": "#F5F6F9",
        "plot_bgcolor": "#F5F6F9",
        "template": {
         "data": {
          "bar": [
           {
            "error_x": {
             "color": "#2a3f5f"
            },
            "error_y": {
             "color": "#2a3f5f"
            },
            "marker": {
             "line": {
              "color": "#E5ECF6",
              "width": 0.5
             },
             "pattern": {
              "fillmode": "overlay",
              "size": 10,
              "solidity": 0.2
             }
            },
            "type": "bar"
           }
          ],
          "barpolar": [
           {
            "marker": {
             "line": {
              "color": "#E5ECF6",
              "width": 0.5
             },
             "pattern": {
              "fillmode": "overlay",
              "size": 10,
              "solidity": 0.2
             }
            },
            "type": "barpolar"
           }
          ],
          "carpet": [
           {
            "aaxis": {
             "endlinecolor": "#2a3f5f",
             "gridcolor": "white",
             "linecolor": "white",
             "minorgridcolor": "white",
             "startlinecolor": "#2a3f5f"
            },
            "baxis": {
             "endlinecolor": "#2a3f5f",
             "gridcolor": "white",
             "linecolor": "white",
             "minorgridcolor": "white",
             "startlinecolor": "#2a3f5f"
            },
            "type": "carpet"
           }
          ],
          "choropleth": [
           {
            "colorbar": {
             "outlinewidth": 0,
             "ticks": ""
            },
            "type": "choropleth"
           }
          ],
          "contour": [
           {
            "colorbar": {
             "outlinewidth": 0,
             "ticks": ""
            },
            "colorscale": [
             [
              0,
              "#0d0887"
             ],
             [
              0.1111111111111111,
              "#46039f"
             ],
             [
              0.2222222222222222,
              "#7201a8"
             ],
             [
              0.3333333333333333,
              "#9c179e"
             ],
             [
              0.4444444444444444,
              "#bd3786"
             ],
             [
              0.5555555555555556,
              "#d8576b"
             ],
             [
              0.6666666666666666,
              "#ed7953"
             ],
             [
              0.7777777777777778,
              "#fb9f3a"
             ],
             [
              0.8888888888888888,
              "#fdca26"
             ],
             [
              1,
              "#f0f921"
             ]
            ],
            "type": "contour"
           }
          ],
          "contourcarpet": [
           {
            "colorbar": {
             "outlinewidth": 0,
             "ticks": ""
            },
            "type": "contourcarpet"
           }
          ],
          "heatmap": [
           {
            "colorbar": {
             "outlinewidth": 0,
             "ticks": ""
            },
            "colorscale": [
             [
              0,
              "#0d0887"
             ],
             [
              0.1111111111111111,
              "#46039f"
             ],
             [
              0.2222222222222222,
              "#7201a8"
             ],
             [
              0.3333333333333333,
              "#9c179e"
             ],
             [
              0.4444444444444444,
              "#bd3786"
             ],
             [
              0.5555555555555556,
              "#d8576b"
             ],
             [
              0.6666666666666666,
              "#ed7953"
             ],
             [
              0.7777777777777778,
              "#fb9f3a"
             ],
             [
              0.8888888888888888,
              "#fdca26"
             ],
             [
              1,
              "#f0f921"
             ]
            ],
            "type": "heatmap"
           }
          ],
          "heatmapgl": [
           {
            "colorbar": {
             "outlinewidth": 0,
             "ticks": ""
            },
            "colorscale": [
             [
              0,
              "#0d0887"
             ],
             [
              0.1111111111111111,
              "#46039f"
             ],
             [
              0.2222222222222222,
              "#7201a8"
             ],
             [
              0.3333333333333333,
              "#9c179e"
             ],
             [
              0.4444444444444444,
              "#bd3786"
             ],
             [
              0.5555555555555556,
              "#d8576b"
             ],
             [
              0.6666666666666666,
              "#ed7953"
             ],
             [
              0.7777777777777778,
              "#fb9f3a"
             ],
             [
              0.8888888888888888,
              "#fdca26"
             ],
             [
              1,
              "#f0f921"
             ]
            ],
            "type": "heatmapgl"
           }
          ],
          "histogram": [
           {
            "marker": {
             "pattern": {
              "fillmode": "overlay",
              "size": 10,
              "solidity": 0.2
             }
            },
            "type": "histogram"
           }
          ],
          "histogram2d": [
           {
            "colorbar": {
             "outlinewidth": 0,
             "ticks": ""
            },
            "colorscale": [
             [
              0,
              "#0d0887"
             ],
             [
              0.1111111111111111,
              "#46039f"
             ],
             [
              0.2222222222222222,
              "#7201a8"
             ],
             [
              0.3333333333333333,
              "#9c179e"
             ],
             [
              0.4444444444444444,
              "#bd3786"
             ],
             [
              0.5555555555555556,
              "#d8576b"
             ],
             [
              0.6666666666666666,
              "#ed7953"
             ],
             [
              0.7777777777777778,
              "#fb9f3a"
             ],
             [
              0.8888888888888888,
              "#fdca26"
             ],
             [
              1,
              "#f0f921"
             ]
            ],
            "type": "histogram2d"
           }
          ],
          "histogram2dcontour": [
           {
            "colorbar": {
             "outlinewidth": 0,
             "ticks": ""
            },
            "colorscale": [
             [
              0,
              "#0d0887"
             ],
             [
              0.1111111111111111,
              "#46039f"
             ],
             [
              0.2222222222222222,
              "#7201a8"
             ],
             [
              0.3333333333333333,
              "#9c179e"
             ],
             [
              0.4444444444444444,
              "#bd3786"
             ],
             [
              0.5555555555555556,
              "#d8576b"
             ],
             [
              0.6666666666666666,
              "#ed7953"
             ],
             [
              0.7777777777777778,
              "#fb9f3a"
             ],
             [
              0.8888888888888888,
              "#fdca26"
             ],
             [
              1,
              "#f0f921"
             ]
            ],
            "type": "histogram2dcontour"
           }
          ],
          "mesh3d": [
           {
            "colorbar": {
             "outlinewidth": 0,
             "ticks": ""
            },
            "type": "mesh3d"
           }
          ],
          "parcoords": [
           {
            "line": {
             "colorbar": {
              "outlinewidth": 0,
              "ticks": ""
             }
            },
            "type": "parcoords"
           }
          ],
          "pie": [
           {
            "automargin": true,
            "type": "pie"
           }
          ],
          "scatter": [
           {
            "marker": {
             "colorbar": {
              "outlinewidth": 0,
              "ticks": ""
             }
            },
            "type": "scatter"
           }
          ],
          "scatter3d": [
           {
            "line": {
             "colorbar": {
              "outlinewidth": 0,
              "ticks": ""
             }
            },
            "marker": {
             "colorbar": {
              "outlinewidth": 0,
              "ticks": ""
             }
            },
            "type": "scatter3d"
           }
          ],
          "scattercarpet": [
           {
            "marker": {
             "colorbar": {
              "outlinewidth": 0,
              "ticks": ""
             }
            },
            "type": "scattercarpet"
           }
          ],
          "scattergeo": [
           {
            "marker": {
             "colorbar": {
              "outlinewidth": 0,
              "ticks": ""
             }
            },
            "type": "scattergeo"
           }
          ],
          "scattergl": [
           {
            "marker": {
             "colorbar": {
              "outlinewidth": 0,
              "ticks": ""
             }
            },
            "type": "scattergl"
           }
          ],
          "scattermapbox": [
           {
            "marker": {
             "colorbar": {
              "outlinewidth": 0,
              "ticks": ""
             }
            },
            "type": "scattermapbox"
           }
          ],
          "scatterpolar": [
           {
            "marker": {
             "colorbar": {
              "outlinewidth": 0,
              "ticks": ""
             }
            },
            "type": "scatterpolar"
           }
          ],
          "scatterpolargl": [
           {
            "marker": {
             "colorbar": {
              "outlinewidth": 0,
              "ticks": ""
             }
            },
            "type": "scatterpolargl"
           }
          ],
          "scatterternary": [
           {
            "marker": {
             "colorbar": {
              "outlinewidth": 0,
              "ticks": ""
             }
            },
            "type": "scatterternary"
           }
          ],
          "surface": [
           {
            "colorbar": {
             "outlinewidth": 0,
             "ticks": ""
            },
            "colorscale": [
             [
              0,
              "#0d0887"
             ],
             [
              0.1111111111111111,
              "#46039f"
             ],
             [
              0.2222222222222222,
              "#7201a8"
             ],
             [
              0.3333333333333333,
              "#9c179e"
             ],
             [
              0.4444444444444444,
              "#bd3786"
             ],
             [
              0.5555555555555556,
              "#d8576b"
             ],
             [
              0.6666666666666666,
              "#ed7953"
             ],
             [
              0.7777777777777778,
              "#fb9f3a"
             ],
             [
              0.8888888888888888,
              "#fdca26"
             ],
             [
              1,
              "#f0f921"
             ]
            ],
            "type": "surface"
           }
          ],
          "table": [
           {
            "cells": {
             "fill": {
              "color": "#EBF0F8"
             },
             "line": {
              "color": "white"
             }
            },
            "header": {
             "fill": {
              "color": "#C8D4E3"
             },
             "line": {
              "color": "white"
             }
            },
            "type": "table"
           }
          ]
         },
         "layout": {
          "annotationdefaults": {
           "arrowcolor": "#2a3f5f",
           "arrowhead": 0,
           "arrowwidth": 1
          },
          "autotypenumbers": "strict",
          "coloraxis": {
           "colorbar": {
            "outlinewidth": 0,
            "ticks": ""
           }
          },
          "colorscale": {
           "diverging": [
            [
             0,
             "#8e0152"
            ],
            [
             0.1,
             "#c51b7d"
            ],
            [
             0.2,
             "#de77ae"
            ],
            [
             0.3,
             "#f1b6da"
            ],
            [
             0.4,
             "#fde0ef"
            ],
            [
             0.5,
             "#f7f7f7"
            ],
            [
             0.6,
             "#e6f5d0"
            ],
            [
             0.7,
             "#b8e186"
            ],
            [
             0.8,
             "#7fbc41"
            ],
            [
             0.9,
             "#4d9221"
            ],
            [
             1,
             "#276419"
            ]
           ],
           "sequential": [
            [
             0,
             "#0d0887"
            ],
            [
             0.1111111111111111,
             "#46039f"
            ],
            [
             0.2222222222222222,
             "#7201a8"
            ],
            [
             0.3333333333333333,
             "#9c179e"
            ],
            [
             0.4444444444444444,
             "#bd3786"
            ],
            [
             0.5555555555555556,
             "#d8576b"
            ],
            [
             0.6666666666666666,
             "#ed7953"
            ],
            [
             0.7777777777777778,
             "#fb9f3a"
            ],
            [
             0.8888888888888888,
             "#fdca26"
            ],
            [
             1,
             "#f0f921"
            ]
           ],
           "sequentialminus": [
            [
             0,
             "#0d0887"
            ],
            [
             0.1111111111111111,
             "#46039f"
            ],
            [
             0.2222222222222222,
             "#7201a8"
            ],
            [
             0.3333333333333333,
             "#9c179e"
            ],
            [
             0.4444444444444444,
             "#bd3786"
            ],
            [
             0.5555555555555556,
             "#d8576b"
            ],
            [
             0.6666666666666666,
             "#ed7953"
            ],
            [
             0.7777777777777778,
             "#fb9f3a"
            ],
            [
             0.8888888888888888,
             "#fdca26"
            ],
            [
             1,
             "#f0f921"
            ]
           ]
          },
          "colorway": [
           "#636efa",
           "#EF553B",
           "#00cc96",
           "#ab63fa",
           "#FFA15A",
           "#19d3f3",
           "#FF6692",
           "#B6E880",
           "#FF97FF",
           "#FECB52"
          ],
          "font": {
           "color": "#2a3f5f"
          },
          "geo": {
           "bgcolor": "white",
           "lakecolor": "white",
           "landcolor": "#E5ECF6",
           "showlakes": true,
           "showland": true,
           "subunitcolor": "white"
          },
          "hoverlabel": {
           "align": "left"
          },
          "hovermode": "closest",
          "mapbox": {
           "style": "light"
          },
          "paper_bgcolor": "white",
          "plot_bgcolor": "#E5ECF6",
          "polar": {
           "angularaxis": {
            "gridcolor": "white",
            "linecolor": "white",
            "ticks": ""
           },
           "bgcolor": "#E5ECF6",
           "radialaxis": {
            "gridcolor": "white",
            "linecolor": "white",
            "ticks": ""
           }
          },
          "scene": {
           "xaxis": {
            "backgroundcolor": "#E5ECF6",
            "gridcolor": "white",
            "gridwidth": 2,
            "linecolor": "white",
            "showbackground": true,
            "ticks": "",
            "zerolinecolor": "white"
           },
           "yaxis": {
            "backgroundcolor": "#E5ECF6",
            "gridcolor": "white",
            "gridwidth": 2,
            "linecolor": "white",
            "showbackground": true,
            "ticks": "",
            "zerolinecolor": "white"
           },
           "zaxis": {
            "backgroundcolor": "#E5ECF6",
            "gridcolor": "white",
            "gridwidth": 2,
            "linecolor": "white",
            "showbackground": true,
            "ticks": "",
            "zerolinecolor": "white"
           }
          },
          "shapedefaults": {
           "line": {
            "color": "#2a3f5f"
           }
          },
          "ternary": {
           "aaxis": {
            "gridcolor": "white",
            "linecolor": "white",
            "ticks": ""
           },
           "baxis": {
            "gridcolor": "white",
            "linecolor": "white",
            "ticks": ""
           },
           "bgcolor": "#E5ECF6",
           "caxis": {
            "gridcolor": "white",
            "linecolor": "white",
            "ticks": ""
           }
          },
          "title": {
           "x": 0.05
          },
          "xaxis": {
           "automargin": true,
           "gridcolor": "white",
           "linecolor": "white",
           "ticks": "",
           "title": {
            "standoff": 15
           },
           "zerolinecolor": "white",
           "zerolinewidth": 2
          },
          "yaxis": {
           "automargin": true,
           "gridcolor": "white",
           "linecolor": "white",
           "ticks": "",
           "title": {
            "standoff": 15
           },
           "zerolinecolor": "white",
           "zerolinewidth": 2
          }
         }
        },
        "title": {
         "font": {
          "color": "#4D5663"
         }
        },
        "xaxis": {
         "gridcolor": "#E1E5ED",
         "showgrid": true,
         "tickfont": {
          "color": "#4D5663"
         },
         "title": {
          "font": {
           "color": "#4D5663"
          },
          "text": ""
         },
         "zerolinecolor": "#E1E5ED"
        },
        "yaxis": {
         "gridcolor": "#E1E5ED",
         "showgrid": true,
         "tickfont": {
          "color": "#4D5663"
         },
         "title": {
          "font": {
           "color": "#4D5663"
          },
          "text": ""
         },
         "zerolinecolor": "#E1E5ED"
        }
       }
      },
      "text/html": [
       "<div>                            <div id=\"1cf2cbac-522a-4831-ba67-d6ac91714e1c\" class=\"plotly-graph-div\" style=\"height:525px; width:100%;\"></div>            <script type=\"text/javascript\">                require([\"plotly\"], function(Plotly) {                    window.PLOTLYENV=window.PLOTLYENV || {};\n",
       "                    window.PLOTLYENV.BASE_URL='https://plot.ly';                                    if (document.getElementById(\"1cf2cbac-522a-4831-ba67-d6ac91714e1c\")) {                    Plotly.newPlot(                        \"1cf2cbac-522a-4831-ba67-d6ac91714e1c\",                        [{\"marker\":{\"color\":\"rgba(255, 153, 51, 0.6)\",\"line\":{\"color\":\"rgba(255, 153, 51, 1.0)\",\"width\":1}},\"name\":\"None\",\"orientation\":\"v\",\"text\":\"\",\"type\":\"bar\",\"x\":[\"A\",\"B\",\"C\",\"D\"],\"y\":[-0.8779485096146776,-11.024124877882986,7.216891911228155,2.572350199776846]}],                        {\"legend\":{\"bgcolor\":\"#F5F6F9\",\"font\":{\"color\":\"#4D5663\"}},\"paper_bgcolor\":\"#F5F6F9\",\"plot_bgcolor\":\"#F5F6F9\",\"template\":{\"data\":{\"bar\":[{\"error_x\":{\"color\":\"#2a3f5f\"},\"error_y\":{\"color\":\"#2a3f5f\"},\"marker\":{\"line\":{\"color\":\"#E5ECF6\",\"width\":0.5},\"pattern\":{\"fillmode\":\"overlay\",\"size\":10,\"solidity\":0.2}},\"type\":\"bar\"}],\"barpolar\":[{\"marker\":{\"line\":{\"color\":\"#E5ECF6\",\"width\":0.5},\"pattern\":{\"fillmode\":\"overlay\",\"size\":10,\"solidity\":0.2}},\"type\":\"barpolar\"}],\"carpet\":[{\"aaxis\":{\"endlinecolor\":\"#2a3f5f\",\"gridcolor\":\"white\",\"linecolor\":\"white\",\"minorgridcolor\":\"white\",\"startlinecolor\":\"#2a3f5f\"},\"baxis\":{\"endlinecolor\":\"#2a3f5f\",\"gridcolor\":\"white\",\"linecolor\":\"white\",\"minorgridcolor\":\"white\",\"startlinecolor\":\"#2a3f5f\"},\"type\":\"carpet\"}],\"choropleth\":[{\"colorbar\":{\"outlinewidth\":0,\"ticks\":\"\"},\"type\":\"choropleth\"}],\"contour\":[{\"colorbar\":{\"outlinewidth\":0,\"ticks\":\"\"},\"colorscale\":[[0.0,\"#0d0887\"],[0.1111111111111111,\"#46039f\"],[0.2222222222222222,\"#7201a8\"],[0.3333333333333333,\"#9c179e\"],[0.4444444444444444,\"#bd3786\"],[0.5555555555555556,\"#d8576b\"],[0.6666666666666666,\"#ed7953\"],[0.7777777777777778,\"#fb9f3a\"],[0.8888888888888888,\"#fdca26\"],[1.0,\"#f0f921\"]],\"type\":\"contour\"}],\"contourcarpet\":[{\"colorbar\":{\"outlinewidth\":0,\"ticks\":\"\"},\"type\":\"contourcarpet\"}],\"heatmap\":[{\"colorbar\":{\"outlinewidth\":0,\"ticks\":\"\"},\"colorscale\":[[0.0,\"#0d0887\"],[0.1111111111111111,\"#46039f\"],[0.2222222222222222,\"#7201a8\"],[0.3333333333333333,\"#9c179e\"],[0.4444444444444444,\"#bd3786\"],[0.5555555555555556,\"#d8576b\"],[0.6666666666666666,\"#ed7953\"],[0.7777777777777778,\"#fb9f3a\"],[0.8888888888888888,\"#fdca26\"],[1.0,\"#f0f921\"]],\"type\":\"heatmap\"}],\"heatmapgl\":[{\"colorbar\":{\"outlinewidth\":0,\"ticks\":\"\"},\"colorscale\":[[0.0,\"#0d0887\"],[0.1111111111111111,\"#46039f\"],[0.2222222222222222,\"#7201a8\"],[0.3333333333333333,\"#9c179e\"],[0.4444444444444444,\"#bd3786\"],[0.5555555555555556,\"#d8576b\"],[0.6666666666666666,\"#ed7953\"],[0.7777777777777778,\"#fb9f3a\"],[0.8888888888888888,\"#fdca26\"],[1.0,\"#f0f921\"]],\"type\":\"heatmapgl\"}],\"histogram\":[{\"marker\":{\"pattern\":{\"fillmode\":\"overlay\",\"size\":10,\"solidity\":0.2}},\"type\":\"histogram\"}],\"histogram2d\":[{\"colorbar\":{\"outlinewidth\":0,\"ticks\":\"\"},\"colorscale\":[[0.0,\"#0d0887\"],[0.1111111111111111,\"#46039f\"],[0.2222222222222222,\"#7201a8\"],[0.3333333333333333,\"#9c179e\"],[0.4444444444444444,\"#bd3786\"],[0.5555555555555556,\"#d8576b\"],[0.6666666666666666,\"#ed7953\"],[0.7777777777777778,\"#fb9f3a\"],[0.8888888888888888,\"#fdca26\"],[1.0,\"#f0f921\"]],\"type\":\"histogram2d\"}],\"histogram2dcontour\":[{\"colorbar\":{\"outlinewidth\":0,\"ticks\":\"\"},\"colorscale\":[[0.0,\"#0d0887\"],[0.1111111111111111,\"#46039f\"],[0.2222222222222222,\"#7201a8\"],[0.3333333333333333,\"#9c179e\"],[0.4444444444444444,\"#bd3786\"],[0.5555555555555556,\"#d8576b\"],[0.6666666666666666,\"#ed7953\"],[0.7777777777777778,\"#fb9f3a\"],[0.8888888888888888,\"#fdca26\"],[1.0,\"#f0f921\"]],\"type\":\"histogram2dcontour\"}],\"mesh3d\":[{\"colorbar\":{\"outlinewidth\":0,\"ticks\":\"\"},\"type\":\"mesh3d\"}],\"parcoords\":[{\"line\":{\"colorbar\":{\"outlinewidth\":0,\"ticks\":\"\"}},\"type\":\"parcoords\"}],\"pie\":[{\"automargin\":true,\"type\":\"pie\"}],\"scatter\":[{\"marker\":{\"colorbar\":{\"outlinewidth\":0,\"ticks\":\"\"}},\"type\":\"scatter\"}],\"scatter3d\":[{\"line\":{\"colorbar\":{\"outlinewidth\":0,\"ticks\":\"\"}},\"marker\":{\"colorbar\":{\"outlinewidth\":0,\"ticks\":\"\"}},\"type\":\"scatter3d\"}],\"scattercarpet\":[{\"marker\":{\"colorbar\":{\"outlinewidth\":0,\"ticks\":\"\"}},\"type\":\"scattercarpet\"}],\"scattergeo\":[{\"marker\":{\"colorbar\":{\"outlinewidth\":0,\"ticks\":\"\"}},\"type\":\"scattergeo\"}],\"scattergl\":[{\"marker\":{\"colorbar\":{\"outlinewidth\":0,\"ticks\":\"\"}},\"type\":\"scattergl\"}],\"scattermapbox\":[{\"marker\":{\"colorbar\":{\"outlinewidth\":0,\"ticks\":\"\"}},\"type\":\"scattermapbox\"}],\"scatterpolar\":[{\"marker\":{\"colorbar\":{\"outlinewidth\":0,\"ticks\":\"\"}},\"type\":\"scatterpolar\"}],\"scatterpolargl\":[{\"marker\":{\"colorbar\":{\"outlinewidth\":0,\"ticks\":\"\"}},\"type\":\"scatterpolargl\"}],\"scatterternary\":[{\"marker\":{\"colorbar\":{\"outlinewidth\":0,\"ticks\":\"\"}},\"type\":\"scatterternary\"}],\"surface\":[{\"colorbar\":{\"outlinewidth\":0,\"ticks\":\"\"},\"colorscale\":[[0.0,\"#0d0887\"],[0.1111111111111111,\"#46039f\"],[0.2222222222222222,\"#7201a8\"],[0.3333333333333333,\"#9c179e\"],[0.4444444444444444,\"#bd3786\"],[0.5555555555555556,\"#d8576b\"],[0.6666666666666666,\"#ed7953\"],[0.7777777777777778,\"#fb9f3a\"],[0.8888888888888888,\"#fdca26\"],[1.0,\"#f0f921\"]],\"type\":\"surface\"}],\"table\":[{\"cells\":{\"fill\":{\"color\":\"#EBF0F8\"},\"line\":{\"color\":\"white\"}},\"header\":{\"fill\":{\"color\":\"#C8D4E3\"},\"line\":{\"color\":\"white\"}},\"type\":\"table\"}]},\"layout\":{\"annotationdefaults\":{\"arrowcolor\":\"#2a3f5f\",\"arrowhead\":0,\"arrowwidth\":1},\"autotypenumbers\":\"strict\",\"coloraxis\":{\"colorbar\":{\"outlinewidth\":0,\"ticks\":\"\"}},\"colorscale\":{\"diverging\":[[0,\"#8e0152\"],[0.1,\"#c51b7d\"],[0.2,\"#de77ae\"],[0.3,\"#f1b6da\"],[0.4,\"#fde0ef\"],[0.5,\"#f7f7f7\"],[0.6,\"#e6f5d0\"],[0.7,\"#b8e186\"],[0.8,\"#7fbc41\"],[0.9,\"#4d9221\"],[1,\"#276419\"]],\"sequential\":[[0.0,\"#0d0887\"],[0.1111111111111111,\"#46039f\"],[0.2222222222222222,\"#7201a8\"],[0.3333333333333333,\"#9c179e\"],[0.4444444444444444,\"#bd3786\"],[0.5555555555555556,\"#d8576b\"],[0.6666666666666666,\"#ed7953\"],[0.7777777777777778,\"#fb9f3a\"],[0.8888888888888888,\"#fdca26\"],[1.0,\"#f0f921\"]],\"sequentialminus\":[[0.0,\"#0d0887\"],[0.1111111111111111,\"#46039f\"],[0.2222222222222222,\"#7201a8\"],[0.3333333333333333,\"#9c179e\"],[0.4444444444444444,\"#bd3786\"],[0.5555555555555556,\"#d8576b\"],[0.6666666666666666,\"#ed7953\"],[0.7777777777777778,\"#fb9f3a\"],[0.8888888888888888,\"#fdca26\"],[1.0,\"#f0f921\"]]},\"colorway\":[\"#636efa\",\"#EF553B\",\"#00cc96\",\"#ab63fa\",\"#FFA15A\",\"#19d3f3\",\"#FF6692\",\"#B6E880\",\"#FF97FF\",\"#FECB52\"],\"font\":{\"color\":\"#2a3f5f\"},\"geo\":{\"bgcolor\":\"white\",\"lakecolor\":\"white\",\"landcolor\":\"#E5ECF6\",\"showlakes\":true,\"showland\":true,\"subunitcolor\":\"white\"},\"hoverlabel\":{\"align\":\"left\"},\"hovermode\":\"closest\",\"mapbox\":{\"style\":\"light\"},\"paper_bgcolor\":\"white\",\"plot_bgcolor\":\"#E5ECF6\",\"polar\":{\"angularaxis\":{\"gridcolor\":\"white\",\"linecolor\":\"white\",\"ticks\":\"\"},\"bgcolor\":\"#E5ECF6\",\"radialaxis\":{\"gridcolor\":\"white\",\"linecolor\":\"white\",\"ticks\":\"\"}},\"scene\":{\"xaxis\":{\"backgroundcolor\":\"#E5ECF6\",\"gridcolor\":\"white\",\"gridwidth\":2,\"linecolor\":\"white\",\"showbackground\":true,\"ticks\":\"\",\"zerolinecolor\":\"white\"},\"yaxis\":{\"backgroundcolor\":\"#E5ECF6\",\"gridcolor\":\"white\",\"gridwidth\":2,\"linecolor\":\"white\",\"showbackground\":true,\"ticks\":\"\",\"zerolinecolor\":\"white\"},\"zaxis\":{\"backgroundcolor\":\"#E5ECF6\",\"gridcolor\":\"white\",\"gridwidth\":2,\"linecolor\":\"white\",\"showbackground\":true,\"ticks\":\"\",\"zerolinecolor\":\"white\"}},\"shapedefaults\":{\"line\":{\"color\":\"#2a3f5f\"}},\"ternary\":{\"aaxis\":{\"gridcolor\":\"white\",\"linecolor\":\"white\",\"ticks\":\"\"},\"baxis\":{\"gridcolor\":\"white\",\"linecolor\":\"white\",\"ticks\":\"\"},\"bgcolor\":\"#E5ECF6\",\"caxis\":{\"gridcolor\":\"white\",\"linecolor\":\"white\",\"ticks\":\"\"}},\"title\":{\"x\":0.05},\"xaxis\":{\"automargin\":true,\"gridcolor\":\"white\",\"linecolor\":\"white\",\"ticks\":\"\",\"title\":{\"standoff\":15},\"zerolinecolor\":\"white\",\"zerolinewidth\":2},\"yaxis\":{\"automargin\":true,\"gridcolor\":\"white\",\"linecolor\":\"white\",\"ticks\":\"\",\"title\":{\"standoff\":15},\"zerolinecolor\":\"white\",\"zerolinewidth\":2}}},\"title\":{\"font\":{\"color\":\"#4D5663\"}},\"xaxis\":{\"gridcolor\":\"#E1E5ED\",\"showgrid\":true,\"tickfont\":{\"color\":\"#4D5663\"},\"title\":{\"font\":{\"color\":\"#4D5663\"},\"text\":\"\"},\"zerolinecolor\":\"#E1E5ED\"},\"yaxis\":{\"gridcolor\":\"#E1E5ED\",\"showgrid\":true,\"tickfont\":{\"color\":\"#4D5663\"},\"title\":{\"font\":{\"color\":\"#4D5663\"},\"text\":\"\"},\"zerolinecolor\":\"#E1E5ED\"}},                        {\"showLink\": true, \"linkText\": \"Export to plot.ly\", \"plotlyServerURL\": \"https://plot.ly\", \"responsive\": true}                    ).then(function(){\n",
       "                            \n",
       "var gd = document.getElementById('1cf2cbac-522a-4831-ba67-d6ac91714e1c');\n",
       "var x = new MutationObserver(function (mutations, observer) {{\n",
       "        var display = window.getComputedStyle(gd).display;\n",
       "        if (!display || display === 'none') {{\n",
       "            console.log([gd, 'removed!']);\n",
       "            Plotly.purge(gd);\n",
       "            observer.disconnect();\n",
       "        }}\n",
       "}});\n",
       "\n",
       "// Listen for the removal of the full notebook cells\n",
       "var notebookContainer = gd.closest('#notebook-container');\n",
       "if (notebookContainer) {{\n",
       "    x.observe(notebookContainer, {childList: true});\n",
       "}}\n",
       "\n",
       "// Listen for the clearing of the current output cell\n",
       "var outputEl = gd.closest('.output');\n",
       "if (outputEl) {{\n",
       "    x.observe(outputEl, {childList: true});\n",
       "}}\n",
       "\n",
       "                        })                };                });            </script>        </div>"
      ]
     },
     "metadata": {},
     "output_type": "display_data"
    }
   ],
   "source": [
    "df.sum().iplot(kind = 'bar')"
   ]
  },
  {
   "cell_type": "code",
   "execution_count": 30,
   "id": "4247917b",
   "metadata": {},
   "outputs": [
    {
     "data": {
      "application/vnd.plotly.v1+json": {
       "config": {
        "linkText": "Export to plot.ly",
        "plotlyServerURL": "https://plot.ly",
        "showLink": true
       },
       "data": [
        {
         "boxpoints": false,
         "line": {
          "width": 1.3
         },
         "marker": {
          "color": "rgba(255, 153, 51, 1.0)"
         },
         "name": "A",
         "orientation": "v",
         "type": "box",
         "y": [
          -1.5780143094608707,
          0.4224141679036228,
          -0.046044199547425994,
          0.2764425774695236,
          0.2832003904525572,
          -0.8244229229915959,
          0.3231680986676643,
          -2.5784754728961077,
          -1.1174667014919542,
          -0.10433571740892703,
          -0.8635825627075128,
          0.7213549567592623,
          -0.514209164071635,
          -0.0894937461585034,
          -1.0493787538844543,
          1.1600959677883953,
          0.015315579009527229,
          1.1373452911453181,
          -0.35205604004623087,
          0.9733588160495177,
          1.0175919245173992,
          -1.1032733279615654,
          -0.04091946153944837,
          0.29127869094225495,
          -0.8031504118174125,
          0.6154323976045675,
          -0.9416530536217149,
          -0.8615871361773523,
          1.7197517910385434,
          -1.3245217395911422,
          -0.9905387437971541,
          0.612921924303667,
          -1.7195845050451466,
          1.7794753656569549,
          1.390338780884705,
          1.5420775527370045,
          1.4602461868666108,
          0.3920840158671529,
          0.20740068599803843,
          -0.0525907643085713,
          -2.124496090536296,
          1.8033601534563382,
          -2.2134597571962984,
          -1.2320037595512683,
          -0.013623770292160971,
          0.10361627865663506,
          1.8251728914117562,
          -1.4567844712500666,
          1.6815715414433596,
          -1.6382228363459552,
          1.1785073527119436,
          -2.1103799953953857,
          -2.360654618156865,
          1.06403721627327,
          -0.6021400767598017,
          -0.47764716258391327,
          0.170088710868202,
          1.6261280670577174,
          0.29696401753219864,
          -0.551821204569244,
          -0.7933538478762096,
          1.2175829255456183,
          1.2929051874329027,
          1.8671528425987827,
          -0.4997985409441982,
          -1.0199402532984096,
          -0.773586095168086,
          -0.36877594456216256,
          -0.7896229212932089,
          -1.6187547203217891,
          0.5095063621113651,
          0.3892508134673948,
          1.8226250380923086,
          1.398772283602051,
          0.28258121963712785,
          0.3171731159206602,
          -0.4664976111440749,
          -0.2845925650841886,
          -1.4177805231493208,
          0.9495788651228273,
          0.42885197403303343,
          2.0694579684956147,
          -0.7334623227655961,
          -0.05343421964291611,
          -0.42613012697760827,
          0.7942339422888914,
          0.9822033206905049,
          1.1274178789267362,
          -0.4865849503191588,
          0.252100329107842,
          -0.5178559805808933,
          -0.7894057794818384,
          -0.6942281167523381,
          -1.2733291431281641,
          0.6615762834883798,
          -0.47001228540783596,
          1.1182681925497504,
          -0.23366998936225875,
          1.838116177785737,
          -0.8406962071636835
         ]
        },
        {
         "boxpoints": false,
         "line": {
          "width": 1.3
         },
         "marker": {
          "color": "rgba(55, 128, 191, 1.0)"
         },
         "name": "B",
         "orientation": "v",
         "type": "box",
         "y": [
          -0.0259506725481951,
          0.24435649772913426,
          1.0877733311223357,
          -1.8962004040020193,
          -0.25954921711141765,
          2.7043824859122476,
          1.0926540178862534,
          0.35217276213382537,
          0.1407838761058627,
          -0.6885384052765048,
          -1.383324172827188,
          1.1577865659859314,
          -1.8530220238946453,
          -1.2259532131837694,
          -1.7724024475662012,
          0.16921653511331095,
          -0.23502175645737877,
          -0.19493413743530474,
          2.1059690127705033,
          0.7145282505605425,
          -1.2459465065590833,
          -0.6112834219178358,
          -1.2972285557713692,
          -0.04391332479597896,
          -0.9127750185864033,
          0.8642737524596605,
          -1.2427033799781488,
          0.17809916107149085,
          0.9855511500907624,
          0.5789203698228469,
          1.353179929831089,
          -1.5811690329479169,
          0.21627646035202477,
          0.22918666030418786,
          -0.7657227806022304,
          1.2970745084573303,
          -0.4411467425812966,
          -0.002253022989131673,
          -0.27334995315785343,
          -0.747367567496964,
          -0.7707536473647956,
          -0.05356741888756035,
          -0.16058500038988138,
          -0.5283774811894479,
          0.7155354694021077,
          -0.6711991806061014,
          2.552152773933515,
          -0.5804357246008203,
          -0.9473705154872256,
          -0.7083728099568252,
          -0.12062595408966743,
          1.3937635936198711,
          1.3108596651627333,
          0.5468020472079963,
          -1.435505117973782,
          -0.5332814220831296,
          1.6801961892764308,
          -0.5839531012332301,
          -0.6360695371158908,
          -0.6699857250566243,
          1.3350702453545424,
          0.15520860787965896,
          -0.5236228725603096,
          -0.7853909085159455,
          0.12147932511505855,
          -0.15327619748009327,
          -1.0783259244660068,
          1.210341428022308,
          0.13966304107529887,
          -0.9399084888506885,
          -0.59902023061572,
          -0.9954913339458762,
          -0.7571127903134742,
          0.9807267710763179,
          0.7122861855974634,
          -0.9759818563206035,
          1.3560811000635984,
          -0.01974306520172108,
          0.018638522220582106,
          1.252650763361496,
          -1.7834401536838884,
          -0.32449111720371465,
          -3.147935945088936,
          -2.4677680161269415,
          -0.048587764266386856,
          0.3680883517657553,
          -0.725297987922035,
          -0.21514594619635463,
          -0.9977141038793348,
          -1.36596465153972,
          -0.552387349054642,
          -0.06680693818684787,
          -0.10991903665861248,
          -0.053436332518115956,
          -0.6239178589232137,
          1.0931547879237713,
          0.87178061557824,
          -0.13461311038414722,
          1.6880989246818119,
          0.546249759714265
         ]
        },
        {
         "boxpoints": false,
         "line": {
          "width": 1.3
         },
         "marker": {
          "color": "rgba(50, 171, 96, 1.0)"
         },
         "name": "C",
         "orientation": "v",
         "type": "box",
         "y": [
          0.08975292272801964,
          -1.122144724506423,
          0.41308708804683814,
          1.2291429573776043,
          -0.18877065292459855,
          -1.1827133158515823,
          0.1243820620472914,
          1.3664152433556176,
          -1.9317263932300122,
          -1.352599334638764,
          -1.2421362710127315,
          -0.11841390076466209,
          0.5676533077324823,
          2.0739104604246714,
          -0.5815660193270941,
          1.2342106376219761,
          1.2498521339262563,
          1.3641228885897345,
          0.6459650488502955,
          2.5601818715799407,
          -1.0978307291157816,
          1.1829438560535108,
          0.29373657583670565,
          0.3230546181531871,
          0.6987780265399964,
          -0.3545513737268042,
          1.4857524601434882,
          -0.4132454754168434,
          0.05185298448743799,
          0.318740957267097,
          1.3422031376556471,
          0.4159717801633933,
          1.1240504425180868,
          0.08843141393854091,
          0.19569293967241883,
          -0.5106019786377393,
          0.651574929047979,
          1.076220472519304,
          0.8488139449190083,
          0.625719223791922,
          0.5384437942374167,
          -0.5791426091552936,
          0.07668327712532673,
          -1.0390555690919654,
          -0.9271828938913351,
          0.391321175625563,
          -1.1318486107929164,
          -0.9620286554769042,
          0.455186372710968,
          -0.12246231655648669,
          1.7658189811363842,
          0.015485743147627212,
          -0.15939516759891706,
          0.5973398128847196,
          -0.17092565166135884,
          1.4947565162288488,
          0.08818093299296717,
          0.3432864897356414,
          -1.5572520156193959,
          0.955097996963139,
          -1.1463326824656868,
          -0.9679646288045803,
          -0.8996013936916627,
          1.619383421354637,
          1.8915358096961847,
          -1.3010202332392893,
          -0.4430385120251768,
          -0.36277275864847225,
          -0.3507681604645573,
          0.4001941423834444,
          0.6379541719377324,
          -0.921473030500794,
          -1.6067592713761423,
          -0.868582936032858,
          -0.9872348162604733,
          1.1826319763894984,
          -1.5857224651751778,
          1.3525105825459645,
          -0.9124056218723686,
          -0.3721181347015726,
          -0.7723146374495938,
          -0.5279691194847891,
          -0.14970976371896033,
          -1.2540461059105112,
          -0.18344310199684313,
          0.7354652158449307,
          -0.031022490215679255,
          1.407338098420656,
          1.0351227840283723,
          0.20974743668509147,
          0.7160528638967536,
          0.053054345974461244,
          0.57691522773279,
          -1.8239612844563236,
          -1.9614136463628828,
          -0.1681368787066811,
          -1.275670453649495,
          0.7528644393397567,
          1.984766448686928,
          -0.08338474525791412
         ]
        },
        {
         "boxpoints": false,
         "line": {
          "width": 1.3
         },
         "marker": {
          "color": "rgba(128, 0, 128, 1.0)"
         },
         "name": "D",
         "orientation": "v",
         "type": "box",
         "y": [
          0.41582869604078676,
          0.08908090066659761,
          0.632897792621766,
          -0.2686957435142303,
          1.3935159015592866,
          -0.8841738165587938,
          0.04932020526232218,
          0.36083784255909696,
          0.5930700973382189,
          -0.7657210849831314,
          0.3267866329349151,
          1.5315699020346707,
          0.9712367876769182,
          -0.5905627182410459,
          -1.3007546297340629,
          -0.34270591049516025,
          -1.5444237356190753,
          1.3699224480253112,
          -0.5266601285331476,
          0.5218845104131509,
          -0.289624293712778,
          1.627351155893597,
          -1.1085599103320858,
          -0.7420379098700417,
          -0.3149385319792866,
          -0.385322306494416,
          1.3644526579034364,
          2.079390165287902,
          -0.9742206393662634,
          1.2164447116874373,
          0.3884321920313758,
          0.05507351497563259,
          0.5537148088290685,
          0.9223255572156578,
          -1.1670079433842513,
          -0.3135914685982984,
          1.0280770318659986,
          1.034208907032944,
          -0.9543377870675673,
          0.3829261951238701,
          -0.4774554270984158,
          1.857189262125492,
          0.27372529281337127,
          0.5145056173683261,
          -1.8524243682403903,
          0.6609968024478915,
          0.9861395451158472,
          0.236140297614199,
          0.2908269638573059,
          -0.5752767944825667,
          -0.10057475917755876,
          -0.8304574393966371,
          0.8394761248023412,
          -0.023112911194574703,
          -0.10541255871813637,
          0.40528831453003633,
          -1.7710003577295346,
          0.7003695443008019,
          -0.29595497417923705,
          0.7877849088254777,
          0.018086661637771565,
          -0.7523864957601858,
          -0.5925693080516211,
          2.7421756230459726,
          1.0868034162769078,
          2.2164334411102016,
          -0.5579699522423354,
          -1.2120639369984552,
          0.1440693357679276,
          -0.3112521195278353,
          -0.658596876546112,
          -0.8516897810622372,
          0.26133771366302966,
          -0.5009523402944972,
          -0.2610761190843744,
          1.3331496610644178,
          -0.2833154163537059,
          0.3906132760197774,
          0.36039296559861506,
          -1.4904439630173527,
          -0.5517329797875375,
          0.16347899128366633,
          0.7391508140400805,
          -1.13270922546856,
          -0.11346311599323608,
          -3.084242905951554,
          -1.0235631003432333,
          -0.8657644590205056,
          -0.43819452759309097,
          -2.020390719364349,
          0.024301027689802666,
          1.409069805891714,
          -0.5961646060273115,
          -0.4957491641382199,
          -0.8021720304829231,
          0.6528503562831411,
          -0.3458809496432313,
          -0.10578463830901161,
          2.40958535050643,
          -0.286802649121502
         ]
        }
       ],
       "layout": {
        "legend": {
         "bgcolor": "#F5F6F9",
         "font": {
          "color": "#4D5663"
         }
        },
        "paper_bgcolor": "#F5F6F9",
        "plot_bgcolor": "#F5F6F9",
        "template": {
         "data": {
          "bar": [
           {
            "error_x": {
             "color": "#2a3f5f"
            },
            "error_y": {
             "color": "#2a3f5f"
            },
            "marker": {
             "line": {
              "color": "#E5ECF6",
              "width": 0.5
             },
             "pattern": {
              "fillmode": "overlay",
              "size": 10,
              "solidity": 0.2
             }
            },
            "type": "bar"
           }
          ],
          "barpolar": [
           {
            "marker": {
             "line": {
              "color": "#E5ECF6",
              "width": 0.5
             },
             "pattern": {
              "fillmode": "overlay",
              "size": 10,
              "solidity": 0.2
             }
            },
            "type": "barpolar"
           }
          ],
          "carpet": [
           {
            "aaxis": {
             "endlinecolor": "#2a3f5f",
             "gridcolor": "white",
             "linecolor": "white",
             "minorgridcolor": "white",
             "startlinecolor": "#2a3f5f"
            },
            "baxis": {
             "endlinecolor": "#2a3f5f",
             "gridcolor": "white",
             "linecolor": "white",
             "minorgridcolor": "white",
             "startlinecolor": "#2a3f5f"
            },
            "type": "carpet"
           }
          ],
          "choropleth": [
           {
            "colorbar": {
             "outlinewidth": 0,
             "ticks": ""
            },
            "type": "choropleth"
           }
          ],
          "contour": [
           {
            "colorbar": {
             "outlinewidth": 0,
             "ticks": ""
            },
            "colorscale": [
             [
              0,
              "#0d0887"
             ],
             [
              0.1111111111111111,
              "#46039f"
             ],
             [
              0.2222222222222222,
              "#7201a8"
             ],
             [
              0.3333333333333333,
              "#9c179e"
             ],
             [
              0.4444444444444444,
              "#bd3786"
             ],
             [
              0.5555555555555556,
              "#d8576b"
             ],
             [
              0.6666666666666666,
              "#ed7953"
             ],
             [
              0.7777777777777778,
              "#fb9f3a"
             ],
             [
              0.8888888888888888,
              "#fdca26"
             ],
             [
              1,
              "#f0f921"
             ]
            ],
            "type": "contour"
           }
          ],
          "contourcarpet": [
           {
            "colorbar": {
             "outlinewidth": 0,
             "ticks": ""
            },
            "type": "contourcarpet"
           }
          ],
          "heatmap": [
           {
            "colorbar": {
             "outlinewidth": 0,
             "ticks": ""
            },
            "colorscale": [
             [
              0,
              "#0d0887"
             ],
             [
              0.1111111111111111,
              "#46039f"
             ],
             [
              0.2222222222222222,
              "#7201a8"
             ],
             [
              0.3333333333333333,
              "#9c179e"
             ],
             [
              0.4444444444444444,
              "#bd3786"
             ],
             [
              0.5555555555555556,
              "#d8576b"
             ],
             [
              0.6666666666666666,
              "#ed7953"
             ],
             [
              0.7777777777777778,
              "#fb9f3a"
             ],
             [
              0.8888888888888888,
              "#fdca26"
             ],
             [
              1,
              "#f0f921"
             ]
            ],
            "type": "heatmap"
           }
          ],
          "heatmapgl": [
           {
            "colorbar": {
             "outlinewidth": 0,
             "ticks": ""
            },
            "colorscale": [
             [
              0,
              "#0d0887"
             ],
             [
              0.1111111111111111,
              "#46039f"
             ],
             [
              0.2222222222222222,
              "#7201a8"
             ],
             [
              0.3333333333333333,
              "#9c179e"
             ],
             [
              0.4444444444444444,
              "#bd3786"
             ],
             [
              0.5555555555555556,
              "#d8576b"
             ],
             [
              0.6666666666666666,
              "#ed7953"
             ],
             [
              0.7777777777777778,
              "#fb9f3a"
             ],
             [
              0.8888888888888888,
              "#fdca26"
             ],
             [
              1,
              "#f0f921"
             ]
            ],
            "type": "heatmapgl"
           }
          ],
          "histogram": [
           {
            "marker": {
             "pattern": {
              "fillmode": "overlay",
              "size": 10,
              "solidity": 0.2
             }
            },
            "type": "histogram"
           }
          ],
          "histogram2d": [
           {
            "colorbar": {
             "outlinewidth": 0,
             "ticks": ""
            },
            "colorscale": [
             [
              0,
              "#0d0887"
             ],
             [
              0.1111111111111111,
              "#46039f"
             ],
             [
              0.2222222222222222,
              "#7201a8"
             ],
             [
              0.3333333333333333,
              "#9c179e"
             ],
             [
              0.4444444444444444,
              "#bd3786"
             ],
             [
              0.5555555555555556,
              "#d8576b"
             ],
             [
              0.6666666666666666,
              "#ed7953"
             ],
             [
              0.7777777777777778,
              "#fb9f3a"
             ],
             [
              0.8888888888888888,
              "#fdca26"
             ],
             [
              1,
              "#f0f921"
             ]
            ],
            "type": "histogram2d"
           }
          ],
          "histogram2dcontour": [
           {
            "colorbar": {
             "outlinewidth": 0,
             "ticks": ""
            },
            "colorscale": [
             [
              0,
              "#0d0887"
             ],
             [
              0.1111111111111111,
              "#46039f"
             ],
             [
              0.2222222222222222,
              "#7201a8"
             ],
             [
              0.3333333333333333,
              "#9c179e"
             ],
             [
              0.4444444444444444,
              "#bd3786"
             ],
             [
              0.5555555555555556,
              "#d8576b"
             ],
             [
              0.6666666666666666,
              "#ed7953"
             ],
             [
              0.7777777777777778,
              "#fb9f3a"
             ],
             [
              0.8888888888888888,
              "#fdca26"
             ],
             [
              1,
              "#f0f921"
             ]
            ],
            "type": "histogram2dcontour"
           }
          ],
          "mesh3d": [
           {
            "colorbar": {
             "outlinewidth": 0,
             "ticks": ""
            },
            "type": "mesh3d"
           }
          ],
          "parcoords": [
           {
            "line": {
             "colorbar": {
              "outlinewidth": 0,
              "ticks": ""
             }
            },
            "type": "parcoords"
           }
          ],
          "pie": [
           {
            "automargin": true,
            "type": "pie"
           }
          ],
          "scatter": [
           {
            "marker": {
             "colorbar": {
              "outlinewidth": 0,
              "ticks": ""
             }
            },
            "type": "scatter"
           }
          ],
          "scatter3d": [
           {
            "line": {
             "colorbar": {
              "outlinewidth": 0,
              "ticks": ""
             }
            },
            "marker": {
             "colorbar": {
              "outlinewidth": 0,
              "ticks": ""
             }
            },
            "type": "scatter3d"
           }
          ],
          "scattercarpet": [
           {
            "marker": {
             "colorbar": {
              "outlinewidth": 0,
              "ticks": ""
             }
            },
            "type": "scattercarpet"
           }
          ],
          "scattergeo": [
           {
            "marker": {
             "colorbar": {
              "outlinewidth": 0,
              "ticks": ""
             }
            },
            "type": "scattergeo"
           }
          ],
          "scattergl": [
           {
            "marker": {
             "colorbar": {
              "outlinewidth": 0,
              "ticks": ""
             }
            },
            "type": "scattergl"
           }
          ],
          "scattermapbox": [
           {
            "marker": {
             "colorbar": {
              "outlinewidth": 0,
              "ticks": ""
             }
            },
            "type": "scattermapbox"
           }
          ],
          "scatterpolar": [
           {
            "marker": {
             "colorbar": {
              "outlinewidth": 0,
              "ticks": ""
             }
            },
            "type": "scatterpolar"
           }
          ],
          "scatterpolargl": [
           {
            "marker": {
             "colorbar": {
              "outlinewidth": 0,
              "ticks": ""
             }
            },
            "type": "scatterpolargl"
           }
          ],
          "scatterternary": [
           {
            "marker": {
             "colorbar": {
              "outlinewidth": 0,
              "ticks": ""
             }
            },
            "type": "scatterternary"
           }
          ],
          "surface": [
           {
            "colorbar": {
             "outlinewidth": 0,
             "ticks": ""
            },
            "colorscale": [
             [
              0,
              "#0d0887"
             ],
             [
              0.1111111111111111,
              "#46039f"
             ],
             [
              0.2222222222222222,
              "#7201a8"
             ],
             [
              0.3333333333333333,
              "#9c179e"
             ],
             [
              0.4444444444444444,
              "#bd3786"
             ],
             [
              0.5555555555555556,
              "#d8576b"
             ],
             [
              0.6666666666666666,
              "#ed7953"
             ],
             [
              0.7777777777777778,
              "#fb9f3a"
             ],
             [
              0.8888888888888888,
              "#fdca26"
             ],
             [
              1,
              "#f0f921"
             ]
            ],
            "type": "surface"
           }
          ],
          "table": [
           {
            "cells": {
             "fill": {
              "color": "#EBF0F8"
             },
             "line": {
              "color": "white"
             }
            },
            "header": {
             "fill": {
              "color": "#C8D4E3"
             },
             "line": {
              "color": "white"
             }
            },
            "type": "table"
           }
          ]
         },
         "layout": {
          "annotationdefaults": {
           "arrowcolor": "#2a3f5f",
           "arrowhead": 0,
           "arrowwidth": 1
          },
          "autotypenumbers": "strict",
          "coloraxis": {
           "colorbar": {
            "outlinewidth": 0,
            "ticks": ""
           }
          },
          "colorscale": {
           "diverging": [
            [
             0,
             "#8e0152"
            ],
            [
             0.1,
             "#c51b7d"
            ],
            [
             0.2,
             "#de77ae"
            ],
            [
             0.3,
             "#f1b6da"
            ],
            [
             0.4,
             "#fde0ef"
            ],
            [
             0.5,
             "#f7f7f7"
            ],
            [
             0.6,
             "#e6f5d0"
            ],
            [
             0.7,
             "#b8e186"
            ],
            [
             0.8,
             "#7fbc41"
            ],
            [
             0.9,
             "#4d9221"
            ],
            [
             1,
             "#276419"
            ]
           ],
           "sequential": [
            [
             0,
             "#0d0887"
            ],
            [
             0.1111111111111111,
             "#46039f"
            ],
            [
             0.2222222222222222,
             "#7201a8"
            ],
            [
             0.3333333333333333,
             "#9c179e"
            ],
            [
             0.4444444444444444,
             "#bd3786"
            ],
            [
             0.5555555555555556,
             "#d8576b"
            ],
            [
             0.6666666666666666,
             "#ed7953"
            ],
            [
             0.7777777777777778,
             "#fb9f3a"
            ],
            [
             0.8888888888888888,
             "#fdca26"
            ],
            [
             1,
             "#f0f921"
            ]
           ],
           "sequentialminus": [
            [
             0,
             "#0d0887"
            ],
            [
             0.1111111111111111,
             "#46039f"
            ],
            [
             0.2222222222222222,
             "#7201a8"
            ],
            [
             0.3333333333333333,
             "#9c179e"
            ],
            [
             0.4444444444444444,
             "#bd3786"
            ],
            [
             0.5555555555555556,
             "#d8576b"
            ],
            [
             0.6666666666666666,
             "#ed7953"
            ],
            [
             0.7777777777777778,
             "#fb9f3a"
            ],
            [
             0.8888888888888888,
             "#fdca26"
            ],
            [
             1,
             "#f0f921"
            ]
           ]
          },
          "colorway": [
           "#636efa",
           "#EF553B",
           "#00cc96",
           "#ab63fa",
           "#FFA15A",
           "#19d3f3",
           "#FF6692",
           "#B6E880",
           "#FF97FF",
           "#FECB52"
          ],
          "font": {
           "color": "#2a3f5f"
          },
          "geo": {
           "bgcolor": "white",
           "lakecolor": "white",
           "landcolor": "#E5ECF6",
           "showlakes": true,
           "showland": true,
           "subunitcolor": "white"
          },
          "hoverlabel": {
           "align": "left"
          },
          "hovermode": "closest",
          "mapbox": {
           "style": "light"
          },
          "paper_bgcolor": "white",
          "plot_bgcolor": "#E5ECF6",
          "polar": {
           "angularaxis": {
            "gridcolor": "white",
            "linecolor": "white",
            "ticks": ""
           },
           "bgcolor": "#E5ECF6",
           "radialaxis": {
            "gridcolor": "white",
            "linecolor": "white",
            "ticks": ""
           }
          },
          "scene": {
           "xaxis": {
            "backgroundcolor": "#E5ECF6",
            "gridcolor": "white",
            "gridwidth": 2,
            "linecolor": "white",
            "showbackground": true,
            "ticks": "",
            "zerolinecolor": "white"
           },
           "yaxis": {
            "backgroundcolor": "#E5ECF6",
            "gridcolor": "white",
            "gridwidth": 2,
            "linecolor": "white",
            "showbackground": true,
            "ticks": "",
            "zerolinecolor": "white"
           },
           "zaxis": {
            "backgroundcolor": "#E5ECF6",
            "gridcolor": "white",
            "gridwidth": 2,
            "linecolor": "white",
            "showbackground": true,
            "ticks": "",
            "zerolinecolor": "white"
           }
          },
          "shapedefaults": {
           "line": {
            "color": "#2a3f5f"
           }
          },
          "ternary": {
           "aaxis": {
            "gridcolor": "white",
            "linecolor": "white",
            "ticks": ""
           },
           "baxis": {
            "gridcolor": "white",
            "linecolor": "white",
            "ticks": ""
           },
           "bgcolor": "#E5ECF6",
           "caxis": {
            "gridcolor": "white",
            "linecolor": "white",
            "ticks": ""
           }
          },
          "title": {
           "x": 0.05
          },
          "xaxis": {
           "automargin": true,
           "gridcolor": "white",
           "linecolor": "white",
           "ticks": "",
           "title": {
            "standoff": 15
           },
           "zerolinecolor": "white",
           "zerolinewidth": 2
          },
          "yaxis": {
           "automargin": true,
           "gridcolor": "white",
           "linecolor": "white",
           "ticks": "",
           "title": {
            "standoff": 15
           },
           "zerolinecolor": "white",
           "zerolinewidth": 2
          }
         }
        },
        "title": {
         "font": {
          "color": "#4D5663"
         }
        },
        "xaxis": {
         "gridcolor": "#E1E5ED",
         "showgrid": true,
         "tickfont": {
          "color": "#4D5663"
         },
         "title": {
          "font": {
           "color": "#4D5663"
          },
          "text": ""
         },
         "zerolinecolor": "#E1E5ED"
        },
        "yaxis": {
         "gridcolor": "#E1E5ED",
         "showgrid": true,
         "tickfont": {
          "color": "#4D5663"
         },
         "title": {
          "font": {
           "color": "#4D5663"
          },
          "text": ""
         },
         "zerolinecolor": "#E1E5ED"
        }
       }
      },
      "text/html": [
       "<div>                            <div id=\"88505be8-52c8-4fe7-8bed-31e333a3defb\" class=\"plotly-graph-div\" style=\"height:525px; width:100%;\"></div>            <script type=\"text/javascript\">                require([\"plotly\"], function(Plotly) {                    window.PLOTLYENV=window.PLOTLYENV || {};\n",
       "                    window.PLOTLYENV.BASE_URL='https://plot.ly';                                    if (document.getElementById(\"88505be8-52c8-4fe7-8bed-31e333a3defb\")) {                    Plotly.newPlot(                        \"88505be8-52c8-4fe7-8bed-31e333a3defb\",                        [{\"boxpoints\":false,\"line\":{\"width\":1.3},\"marker\":{\"color\":\"rgba(255, 153, 51, 1.0)\"},\"name\":\"A\",\"orientation\":\"v\",\"type\":\"box\",\"y\":[-1.5780143094608707,0.4224141679036228,-0.046044199547425994,0.2764425774695236,0.2832003904525572,-0.8244229229915959,0.3231680986676643,-2.5784754728961077,-1.1174667014919542,-0.10433571740892703,-0.8635825627075128,0.7213549567592623,-0.514209164071635,-0.0894937461585034,-1.0493787538844543,1.1600959677883953,0.015315579009527229,1.1373452911453181,-0.35205604004623087,0.9733588160495177,1.0175919245173992,-1.1032733279615654,-0.04091946153944837,0.29127869094225495,-0.8031504118174125,0.6154323976045675,-0.9416530536217149,-0.8615871361773523,1.7197517910385434,-1.3245217395911422,-0.9905387437971541,0.612921924303667,-1.7195845050451466,1.7794753656569549,1.390338780884705,1.5420775527370045,1.4602461868666108,0.3920840158671529,0.20740068599803843,-0.0525907643085713,-2.124496090536296,1.8033601534563382,-2.2134597571962984,-1.2320037595512683,-0.013623770292160971,0.10361627865663506,1.8251728914117562,-1.4567844712500666,1.6815715414433596,-1.6382228363459552,1.1785073527119436,-2.1103799953953857,-2.360654618156865,1.06403721627327,-0.6021400767598017,-0.47764716258391327,0.170088710868202,1.6261280670577174,0.29696401753219864,-0.551821204569244,-0.7933538478762096,1.2175829255456183,1.2929051874329027,1.8671528425987827,-0.4997985409441982,-1.0199402532984096,-0.773586095168086,-0.36877594456216256,-0.7896229212932089,-1.6187547203217891,0.5095063621113651,0.3892508134673948,1.8226250380923086,1.398772283602051,0.28258121963712785,0.3171731159206602,-0.4664976111440749,-0.2845925650841886,-1.4177805231493208,0.9495788651228273,0.42885197403303343,2.0694579684956147,-0.7334623227655961,-0.05343421964291611,-0.42613012697760827,0.7942339422888914,0.9822033206905049,1.1274178789267362,-0.4865849503191588,0.252100329107842,-0.5178559805808933,-0.7894057794818384,-0.6942281167523381,-1.2733291431281641,0.6615762834883798,-0.47001228540783596,1.1182681925497504,-0.23366998936225875,1.838116177785737,-0.8406962071636835]},{\"boxpoints\":false,\"line\":{\"width\":1.3},\"marker\":{\"color\":\"rgba(55, 128, 191, 1.0)\"},\"name\":\"B\",\"orientation\":\"v\",\"type\":\"box\",\"y\":[-0.0259506725481951,0.24435649772913426,1.0877733311223357,-1.8962004040020193,-0.25954921711141765,2.7043824859122476,1.0926540178862534,0.35217276213382537,0.1407838761058627,-0.6885384052765048,-1.383324172827188,1.1577865659859314,-1.8530220238946453,-1.2259532131837694,-1.7724024475662012,0.16921653511331095,-0.23502175645737877,-0.19493413743530474,2.1059690127705033,0.7145282505605425,-1.2459465065590833,-0.6112834219178358,-1.2972285557713692,-0.04391332479597896,-0.9127750185864033,0.8642737524596605,-1.2427033799781488,0.17809916107149085,0.9855511500907624,0.5789203698228469,1.353179929831089,-1.5811690329479169,0.21627646035202477,0.22918666030418786,-0.7657227806022304,1.2970745084573303,-0.4411467425812966,-0.002253022989131673,-0.27334995315785343,-0.747367567496964,-0.7707536473647956,-0.05356741888756035,-0.16058500038988138,-0.5283774811894479,0.7155354694021077,-0.6711991806061014,2.552152773933515,-0.5804357246008203,-0.9473705154872256,-0.7083728099568252,-0.12062595408966743,1.3937635936198711,1.3108596651627333,0.5468020472079963,-1.435505117973782,-0.5332814220831296,1.6801961892764308,-0.5839531012332301,-0.6360695371158908,-0.6699857250566243,1.3350702453545424,0.15520860787965896,-0.5236228725603096,-0.7853909085159455,0.12147932511505855,-0.15327619748009327,-1.0783259244660068,1.210341428022308,0.13966304107529887,-0.9399084888506885,-0.59902023061572,-0.9954913339458762,-0.7571127903134742,0.9807267710763179,0.7122861855974634,-0.9759818563206035,1.3560811000635984,-0.01974306520172108,0.018638522220582106,1.252650763361496,-1.7834401536838884,-0.32449111720371465,-3.147935945088936,-2.4677680161269415,-0.048587764266386856,0.3680883517657553,-0.725297987922035,-0.21514594619635463,-0.9977141038793348,-1.36596465153972,-0.552387349054642,-0.06680693818684787,-0.10991903665861248,-0.053436332518115956,-0.6239178589232137,1.0931547879237713,0.87178061557824,-0.13461311038414722,1.6880989246818119,0.546249759714265]},{\"boxpoints\":false,\"line\":{\"width\":1.3},\"marker\":{\"color\":\"rgba(50, 171, 96, 1.0)\"},\"name\":\"C\",\"orientation\":\"v\",\"type\":\"box\",\"y\":[0.08975292272801964,-1.122144724506423,0.41308708804683814,1.2291429573776043,-0.18877065292459855,-1.1827133158515823,0.1243820620472914,1.3664152433556176,-1.9317263932300122,-1.352599334638764,-1.2421362710127315,-0.11841390076466209,0.5676533077324823,2.0739104604246714,-0.5815660193270941,1.2342106376219761,1.2498521339262563,1.3641228885897345,0.6459650488502955,2.5601818715799407,-1.0978307291157816,1.1829438560535108,0.29373657583670565,0.3230546181531871,0.6987780265399964,-0.3545513737268042,1.4857524601434882,-0.4132454754168434,0.05185298448743799,0.318740957267097,1.3422031376556471,0.4159717801633933,1.1240504425180868,0.08843141393854091,0.19569293967241883,-0.5106019786377393,0.651574929047979,1.076220472519304,0.8488139449190083,0.625719223791922,0.5384437942374167,-0.5791426091552936,0.07668327712532673,-1.0390555690919654,-0.9271828938913351,0.391321175625563,-1.1318486107929164,-0.9620286554769042,0.455186372710968,-0.12246231655648669,1.7658189811363842,0.015485743147627212,-0.15939516759891706,0.5973398128847196,-0.17092565166135884,1.4947565162288488,0.08818093299296717,0.3432864897356414,-1.5572520156193959,0.955097996963139,-1.1463326824656868,-0.9679646288045803,-0.8996013936916627,1.619383421354637,1.8915358096961847,-1.3010202332392893,-0.4430385120251768,-0.36277275864847225,-0.3507681604645573,0.4001941423834444,0.6379541719377324,-0.921473030500794,-1.6067592713761423,-0.868582936032858,-0.9872348162604733,1.1826319763894984,-1.5857224651751778,1.3525105825459645,-0.9124056218723686,-0.3721181347015726,-0.7723146374495938,-0.5279691194847891,-0.14970976371896033,-1.2540461059105112,-0.18344310199684313,0.7354652158449307,-0.031022490215679255,1.407338098420656,1.0351227840283723,0.20974743668509147,0.7160528638967536,0.053054345974461244,0.57691522773279,-1.8239612844563236,-1.9614136463628828,-0.1681368787066811,-1.275670453649495,0.7528644393397567,1.984766448686928,-0.08338474525791412]},{\"boxpoints\":false,\"line\":{\"width\":1.3},\"marker\":{\"color\":\"rgba(128, 0, 128, 1.0)\"},\"name\":\"D\",\"orientation\":\"v\",\"type\":\"box\",\"y\":[0.41582869604078676,0.08908090066659761,0.632897792621766,-0.2686957435142303,1.3935159015592866,-0.8841738165587938,0.04932020526232218,0.36083784255909696,0.5930700973382189,-0.7657210849831314,0.3267866329349151,1.5315699020346707,0.9712367876769182,-0.5905627182410459,-1.3007546297340629,-0.34270591049516025,-1.5444237356190753,1.3699224480253112,-0.5266601285331476,0.5218845104131509,-0.289624293712778,1.627351155893597,-1.1085599103320858,-0.7420379098700417,-0.3149385319792866,-0.385322306494416,1.3644526579034364,2.079390165287902,-0.9742206393662634,1.2164447116874373,0.3884321920313758,0.05507351497563259,0.5537148088290685,0.9223255572156578,-1.1670079433842513,-0.3135914685982984,1.0280770318659986,1.034208907032944,-0.9543377870675673,0.3829261951238701,-0.4774554270984158,1.857189262125492,0.27372529281337127,0.5145056173683261,-1.8524243682403903,0.6609968024478915,0.9861395451158472,0.236140297614199,0.2908269638573059,-0.5752767944825667,-0.10057475917755876,-0.8304574393966371,0.8394761248023412,-0.023112911194574703,-0.10541255871813637,0.40528831453003633,-1.7710003577295346,0.7003695443008019,-0.29595497417923705,0.7877849088254777,0.018086661637771565,-0.7523864957601858,-0.5925693080516211,2.7421756230459726,1.0868034162769078,2.2164334411102016,-0.5579699522423354,-1.2120639369984552,0.1440693357679276,-0.3112521195278353,-0.658596876546112,-0.8516897810622372,0.26133771366302966,-0.5009523402944972,-0.2610761190843744,1.3331496610644178,-0.2833154163537059,0.3906132760197774,0.36039296559861506,-1.4904439630173527,-0.5517329797875375,0.16347899128366633,0.7391508140400805,-1.13270922546856,-0.11346311599323608,-3.084242905951554,-1.0235631003432333,-0.8657644590205056,-0.43819452759309097,-2.020390719364349,0.024301027689802666,1.409069805891714,-0.5961646060273115,-0.4957491641382199,-0.8021720304829231,0.6528503562831411,-0.3458809496432313,-0.10578463830901161,2.40958535050643,-0.286802649121502]}],                        {\"legend\":{\"bgcolor\":\"#F5F6F9\",\"font\":{\"color\":\"#4D5663\"}},\"paper_bgcolor\":\"#F5F6F9\",\"plot_bgcolor\":\"#F5F6F9\",\"template\":{\"data\":{\"bar\":[{\"error_x\":{\"color\":\"#2a3f5f\"},\"error_y\":{\"color\":\"#2a3f5f\"},\"marker\":{\"line\":{\"color\":\"#E5ECF6\",\"width\":0.5},\"pattern\":{\"fillmode\":\"overlay\",\"size\":10,\"solidity\":0.2}},\"type\":\"bar\"}],\"barpolar\":[{\"marker\":{\"line\":{\"color\":\"#E5ECF6\",\"width\":0.5},\"pattern\":{\"fillmode\":\"overlay\",\"size\":10,\"solidity\":0.2}},\"type\":\"barpolar\"}],\"carpet\":[{\"aaxis\":{\"endlinecolor\":\"#2a3f5f\",\"gridcolor\":\"white\",\"linecolor\":\"white\",\"minorgridcolor\":\"white\",\"startlinecolor\":\"#2a3f5f\"},\"baxis\":{\"endlinecolor\":\"#2a3f5f\",\"gridcolor\":\"white\",\"linecolor\":\"white\",\"minorgridcolor\":\"white\",\"startlinecolor\":\"#2a3f5f\"},\"type\":\"carpet\"}],\"choropleth\":[{\"colorbar\":{\"outlinewidth\":0,\"ticks\":\"\"},\"type\":\"choropleth\"}],\"contour\":[{\"colorbar\":{\"outlinewidth\":0,\"ticks\":\"\"},\"colorscale\":[[0.0,\"#0d0887\"],[0.1111111111111111,\"#46039f\"],[0.2222222222222222,\"#7201a8\"],[0.3333333333333333,\"#9c179e\"],[0.4444444444444444,\"#bd3786\"],[0.5555555555555556,\"#d8576b\"],[0.6666666666666666,\"#ed7953\"],[0.7777777777777778,\"#fb9f3a\"],[0.8888888888888888,\"#fdca26\"],[1.0,\"#f0f921\"]],\"type\":\"contour\"}],\"contourcarpet\":[{\"colorbar\":{\"outlinewidth\":0,\"ticks\":\"\"},\"type\":\"contourcarpet\"}],\"heatmap\":[{\"colorbar\":{\"outlinewidth\":0,\"ticks\":\"\"},\"colorscale\":[[0.0,\"#0d0887\"],[0.1111111111111111,\"#46039f\"],[0.2222222222222222,\"#7201a8\"],[0.3333333333333333,\"#9c179e\"],[0.4444444444444444,\"#bd3786\"],[0.5555555555555556,\"#d8576b\"],[0.6666666666666666,\"#ed7953\"],[0.7777777777777778,\"#fb9f3a\"],[0.8888888888888888,\"#fdca26\"],[1.0,\"#f0f921\"]],\"type\":\"heatmap\"}],\"heatmapgl\":[{\"colorbar\":{\"outlinewidth\":0,\"ticks\":\"\"},\"colorscale\":[[0.0,\"#0d0887\"],[0.1111111111111111,\"#46039f\"],[0.2222222222222222,\"#7201a8\"],[0.3333333333333333,\"#9c179e\"],[0.4444444444444444,\"#bd3786\"],[0.5555555555555556,\"#d8576b\"],[0.6666666666666666,\"#ed7953\"],[0.7777777777777778,\"#fb9f3a\"],[0.8888888888888888,\"#fdca26\"],[1.0,\"#f0f921\"]],\"type\":\"heatmapgl\"}],\"histogram\":[{\"marker\":{\"pattern\":{\"fillmode\":\"overlay\",\"size\":10,\"solidity\":0.2}},\"type\":\"histogram\"}],\"histogram2d\":[{\"colorbar\":{\"outlinewidth\":0,\"ticks\":\"\"},\"colorscale\":[[0.0,\"#0d0887\"],[0.1111111111111111,\"#46039f\"],[0.2222222222222222,\"#7201a8\"],[0.3333333333333333,\"#9c179e\"],[0.4444444444444444,\"#bd3786\"],[0.5555555555555556,\"#d8576b\"],[0.6666666666666666,\"#ed7953\"],[0.7777777777777778,\"#fb9f3a\"],[0.8888888888888888,\"#fdca26\"],[1.0,\"#f0f921\"]],\"type\":\"histogram2d\"}],\"histogram2dcontour\":[{\"colorbar\":{\"outlinewidth\":0,\"ticks\":\"\"},\"colorscale\":[[0.0,\"#0d0887\"],[0.1111111111111111,\"#46039f\"],[0.2222222222222222,\"#7201a8\"],[0.3333333333333333,\"#9c179e\"],[0.4444444444444444,\"#bd3786\"],[0.5555555555555556,\"#d8576b\"],[0.6666666666666666,\"#ed7953\"],[0.7777777777777778,\"#fb9f3a\"],[0.8888888888888888,\"#fdca26\"],[1.0,\"#f0f921\"]],\"type\":\"histogram2dcontour\"}],\"mesh3d\":[{\"colorbar\":{\"outlinewidth\":0,\"ticks\":\"\"},\"type\":\"mesh3d\"}],\"parcoords\":[{\"line\":{\"colorbar\":{\"outlinewidth\":0,\"ticks\":\"\"}},\"type\":\"parcoords\"}],\"pie\":[{\"automargin\":true,\"type\":\"pie\"}],\"scatter\":[{\"marker\":{\"colorbar\":{\"outlinewidth\":0,\"ticks\":\"\"}},\"type\":\"scatter\"}],\"scatter3d\":[{\"line\":{\"colorbar\":{\"outlinewidth\":0,\"ticks\":\"\"}},\"marker\":{\"colorbar\":{\"outlinewidth\":0,\"ticks\":\"\"}},\"type\":\"scatter3d\"}],\"scattercarpet\":[{\"marker\":{\"colorbar\":{\"outlinewidth\":0,\"ticks\":\"\"}},\"type\":\"scattercarpet\"}],\"scattergeo\":[{\"marker\":{\"colorbar\":{\"outlinewidth\":0,\"ticks\":\"\"}},\"type\":\"scattergeo\"}],\"scattergl\":[{\"marker\":{\"colorbar\":{\"outlinewidth\":0,\"ticks\":\"\"}},\"type\":\"scattergl\"}],\"scattermapbox\":[{\"marker\":{\"colorbar\":{\"outlinewidth\":0,\"ticks\":\"\"}},\"type\":\"scattermapbox\"}],\"scatterpolar\":[{\"marker\":{\"colorbar\":{\"outlinewidth\":0,\"ticks\":\"\"}},\"type\":\"scatterpolar\"}],\"scatterpolargl\":[{\"marker\":{\"colorbar\":{\"outlinewidth\":0,\"ticks\":\"\"}},\"type\":\"scatterpolargl\"}],\"scatterternary\":[{\"marker\":{\"colorbar\":{\"outlinewidth\":0,\"ticks\":\"\"}},\"type\":\"scatterternary\"}],\"surface\":[{\"colorbar\":{\"outlinewidth\":0,\"ticks\":\"\"},\"colorscale\":[[0.0,\"#0d0887\"],[0.1111111111111111,\"#46039f\"],[0.2222222222222222,\"#7201a8\"],[0.3333333333333333,\"#9c179e\"],[0.4444444444444444,\"#bd3786\"],[0.5555555555555556,\"#d8576b\"],[0.6666666666666666,\"#ed7953\"],[0.7777777777777778,\"#fb9f3a\"],[0.8888888888888888,\"#fdca26\"],[1.0,\"#f0f921\"]],\"type\":\"surface\"}],\"table\":[{\"cells\":{\"fill\":{\"color\":\"#EBF0F8\"},\"line\":{\"color\":\"white\"}},\"header\":{\"fill\":{\"color\":\"#C8D4E3\"},\"line\":{\"color\":\"white\"}},\"type\":\"table\"}]},\"layout\":{\"annotationdefaults\":{\"arrowcolor\":\"#2a3f5f\",\"arrowhead\":0,\"arrowwidth\":1},\"autotypenumbers\":\"strict\",\"coloraxis\":{\"colorbar\":{\"outlinewidth\":0,\"ticks\":\"\"}},\"colorscale\":{\"diverging\":[[0,\"#8e0152\"],[0.1,\"#c51b7d\"],[0.2,\"#de77ae\"],[0.3,\"#f1b6da\"],[0.4,\"#fde0ef\"],[0.5,\"#f7f7f7\"],[0.6,\"#e6f5d0\"],[0.7,\"#b8e186\"],[0.8,\"#7fbc41\"],[0.9,\"#4d9221\"],[1,\"#276419\"]],\"sequential\":[[0.0,\"#0d0887\"],[0.1111111111111111,\"#46039f\"],[0.2222222222222222,\"#7201a8\"],[0.3333333333333333,\"#9c179e\"],[0.4444444444444444,\"#bd3786\"],[0.5555555555555556,\"#d8576b\"],[0.6666666666666666,\"#ed7953\"],[0.7777777777777778,\"#fb9f3a\"],[0.8888888888888888,\"#fdca26\"],[1.0,\"#f0f921\"]],\"sequentialminus\":[[0.0,\"#0d0887\"],[0.1111111111111111,\"#46039f\"],[0.2222222222222222,\"#7201a8\"],[0.3333333333333333,\"#9c179e\"],[0.4444444444444444,\"#bd3786\"],[0.5555555555555556,\"#d8576b\"],[0.6666666666666666,\"#ed7953\"],[0.7777777777777778,\"#fb9f3a\"],[0.8888888888888888,\"#fdca26\"],[1.0,\"#f0f921\"]]},\"colorway\":[\"#636efa\",\"#EF553B\",\"#00cc96\",\"#ab63fa\",\"#FFA15A\",\"#19d3f3\",\"#FF6692\",\"#B6E880\",\"#FF97FF\",\"#FECB52\"],\"font\":{\"color\":\"#2a3f5f\"},\"geo\":{\"bgcolor\":\"white\",\"lakecolor\":\"white\",\"landcolor\":\"#E5ECF6\",\"showlakes\":true,\"showland\":true,\"subunitcolor\":\"white\"},\"hoverlabel\":{\"align\":\"left\"},\"hovermode\":\"closest\",\"mapbox\":{\"style\":\"light\"},\"paper_bgcolor\":\"white\",\"plot_bgcolor\":\"#E5ECF6\",\"polar\":{\"angularaxis\":{\"gridcolor\":\"white\",\"linecolor\":\"white\",\"ticks\":\"\"},\"bgcolor\":\"#E5ECF6\",\"radialaxis\":{\"gridcolor\":\"white\",\"linecolor\":\"white\",\"ticks\":\"\"}},\"scene\":{\"xaxis\":{\"backgroundcolor\":\"#E5ECF6\",\"gridcolor\":\"white\",\"gridwidth\":2,\"linecolor\":\"white\",\"showbackground\":true,\"ticks\":\"\",\"zerolinecolor\":\"white\"},\"yaxis\":{\"backgroundcolor\":\"#E5ECF6\",\"gridcolor\":\"white\",\"gridwidth\":2,\"linecolor\":\"white\",\"showbackground\":true,\"ticks\":\"\",\"zerolinecolor\":\"white\"},\"zaxis\":{\"backgroundcolor\":\"#E5ECF6\",\"gridcolor\":\"white\",\"gridwidth\":2,\"linecolor\":\"white\",\"showbackground\":true,\"ticks\":\"\",\"zerolinecolor\":\"white\"}},\"shapedefaults\":{\"line\":{\"color\":\"#2a3f5f\"}},\"ternary\":{\"aaxis\":{\"gridcolor\":\"white\",\"linecolor\":\"white\",\"ticks\":\"\"},\"baxis\":{\"gridcolor\":\"white\",\"linecolor\":\"white\",\"ticks\":\"\"},\"bgcolor\":\"#E5ECF6\",\"caxis\":{\"gridcolor\":\"white\",\"linecolor\":\"white\",\"ticks\":\"\"}},\"title\":{\"x\":0.05},\"xaxis\":{\"automargin\":true,\"gridcolor\":\"white\",\"linecolor\":\"white\",\"ticks\":\"\",\"title\":{\"standoff\":15},\"zerolinecolor\":\"white\",\"zerolinewidth\":2},\"yaxis\":{\"automargin\":true,\"gridcolor\":\"white\",\"linecolor\":\"white\",\"ticks\":\"\",\"title\":{\"standoff\":15},\"zerolinecolor\":\"white\",\"zerolinewidth\":2}}},\"title\":{\"font\":{\"color\":\"#4D5663\"}},\"xaxis\":{\"gridcolor\":\"#E1E5ED\",\"showgrid\":true,\"tickfont\":{\"color\":\"#4D5663\"},\"title\":{\"font\":{\"color\":\"#4D5663\"},\"text\":\"\"},\"zerolinecolor\":\"#E1E5ED\"},\"yaxis\":{\"gridcolor\":\"#E1E5ED\",\"showgrid\":true,\"tickfont\":{\"color\":\"#4D5663\"},\"title\":{\"font\":{\"color\":\"#4D5663\"},\"text\":\"\"},\"zerolinecolor\":\"#E1E5ED\"}},                        {\"showLink\": true, \"linkText\": \"Export to plot.ly\", \"plotlyServerURL\": \"https://plot.ly\", \"responsive\": true}                    ).then(function(){\n",
       "                            \n",
       "var gd = document.getElementById('88505be8-52c8-4fe7-8bed-31e333a3defb');\n",
       "var x = new MutationObserver(function (mutations, observer) {{\n",
       "        var display = window.getComputedStyle(gd).display;\n",
       "        if (!display || display === 'none') {{\n",
       "            console.log([gd, 'removed!']);\n",
       "            Plotly.purge(gd);\n",
       "            observer.disconnect();\n",
       "        }}\n",
       "}});\n",
       "\n",
       "// Listen for the removal of the full notebook cells\n",
       "var notebookContainer = gd.closest('#notebook-container');\n",
       "if (notebookContainer) {{\n",
       "    x.observe(notebookContainer, {childList: true});\n",
       "}}\n",
       "\n",
       "// Listen for the clearing of the current output cell\n",
       "var outputEl = gd.closest('.output');\n",
       "if (outputEl) {{\n",
       "    x.observe(outputEl, {childList: true});\n",
       "}}\n",
       "\n",
       "                        })                };                });            </script>        </div>"
      ]
     },
     "metadata": {},
     "output_type": "display_data"
    }
   ],
   "source": [
    "df.iplot(kind='box')"
   ]
  },
  {
   "cell_type": "code",
   "execution_count": 32,
   "id": "f7785531",
   "metadata": {},
   "outputs": [],
   "source": [
    "df3 = pd.DataFrame({'x':[1,2,3,4,5],'y':[10,20,30,20,10],'z':[500,400,300,200,100]})"
   ]
  },
  {
   "cell_type": "code",
   "execution_count": 34,
   "id": "d8167498",
   "metadata": {},
   "outputs": [
    {
     "data": {
      "text/html": [
       "<div>\n",
       "<style scoped>\n",
       "    .dataframe tbody tr th:only-of-type {\n",
       "        vertical-align: middle;\n",
       "    }\n",
       "\n",
       "    .dataframe tbody tr th {\n",
       "        vertical-align: top;\n",
       "    }\n",
       "\n",
       "    .dataframe thead th {\n",
       "        text-align: right;\n",
       "    }\n",
       "</style>\n",
       "<table border=\"1\" class=\"dataframe\">\n",
       "  <thead>\n",
       "    <tr style=\"text-align: right;\">\n",
       "      <th></th>\n",
       "      <th>x</th>\n",
       "      <th>y</th>\n",
       "      <th>z</th>\n",
       "    </tr>\n",
       "  </thead>\n",
       "  <tbody>\n",
       "    <tr>\n",
       "      <th>0</th>\n",
       "      <td>1</td>\n",
       "      <td>10</td>\n",
       "      <td>500</td>\n",
       "    </tr>\n",
       "    <tr>\n",
       "      <th>1</th>\n",
       "      <td>2</td>\n",
       "      <td>20</td>\n",
       "      <td>400</td>\n",
       "    </tr>\n",
       "    <tr>\n",
       "      <th>2</th>\n",
       "      <td>3</td>\n",
       "      <td>30</td>\n",
       "      <td>300</td>\n",
       "    </tr>\n",
       "    <tr>\n",
       "      <th>3</th>\n",
       "      <td>4</td>\n",
       "      <td>20</td>\n",
       "      <td>200</td>\n",
       "    </tr>\n",
       "    <tr>\n",
       "      <th>4</th>\n",
       "      <td>5</td>\n",
       "      <td>10</td>\n",
       "      <td>100</td>\n",
       "    </tr>\n",
       "  </tbody>\n",
       "</table>\n",
       "</div>"
      ],
      "text/plain": [
       "   x   y    z\n",
       "0  1  10  500\n",
       "1  2  20  400\n",
       "2  3  30  300\n",
       "3  4  20  200\n",
       "4  5  10  100"
      ]
     },
     "execution_count": 34,
     "metadata": {},
     "output_type": "execute_result"
    }
   ],
   "source": [
    "df3"
   ]
  },
  {
   "cell_type": "code",
   "execution_count": 35,
   "id": "b630062c",
   "metadata": {},
   "outputs": [
    {
     "data": {
      "application/vnd.plotly.v1+json": {
       "config": {
        "linkText": "Export to plot.ly",
        "plotlyServerURL": "https://plot.ly",
        "showLink": true
       },
       "data": [
        {
         "colorscale": [
          [
           0,
           "rgb(255, 153, 51)"
          ],
          [
           0.1111111111111111,
           "rgb(55, 128, 191)"
          ],
          [
           0.2222222222222222,
           "rgb(50, 171, 96)"
          ],
          [
           0.3333333333333333,
           "rgb(128, 0, 128)"
          ],
          [
           0.4444444444444444,
           "rgb(219, 64, 82)"
          ],
          [
           0.5555555555555556,
           "rgb(0, 128, 128)"
          ],
          [
           0.6666666666666666,
           "rgb(255, 255, 51)"
          ],
          [
           0.7777777777777778,
           "rgb(128, 128, 0)"
          ],
          [
           0.8888888888888888,
           "rgb(251, 128, 114)"
          ],
          [
           1,
           "rgb(128, 177, 211)"
          ]
         ],
         "type": "surface",
         "x": [
          0,
          1,
          2,
          3,
          4
         ],
         "y": [
          "x",
          "y",
          "z"
         ],
         "z": [
          [
           1,
           2,
           3,
           4,
           5
          ],
          [
           10,
           20,
           30,
           20,
           10
          ],
          [
           500,
           400,
           300,
           200,
           100
          ]
         ]
        }
       ],
       "layout": {
        "legend": {
         "bgcolor": "#F5F6F9",
         "font": {
          "color": "#4D5663"
         }
        },
        "paper_bgcolor": "#F5F6F9",
        "plot_bgcolor": "#F5F6F9",
        "template": {
         "data": {
          "bar": [
           {
            "error_x": {
             "color": "#2a3f5f"
            },
            "error_y": {
             "color": "#2a3f5f"
            },
            "marker": {
             "line": {
              "color": "#E5ECF6",
              "width": 0.5
             },
             "pattern": {
              "fillmode": "overlay",
              "size": 10,
              "solidity": 0.2
             }
            },
            "type": "bar"
           }
          ],
          "barpolar": [
           {
            "marker": {
             "line": {
              "color": "#E5ECF6",
              "width": 0.5
             },
             "pattern": {
              "fillmode": "overlay",
              "size": 10,
              "solidity": 0.2
             }
            },
            "type": "barpolar"
           }
          ],
          "carpet": [
           {
            "aaxis": {
             "endlinecolor": "#2a3f5f",
             "gridcolor": "white",
             "linecolor": "white",
             "minorgridcolor": "white",
             "startlinecolor": "#2a3f5f"
            },
            "baxis": {
             "endlinecolor": "#2a3f5f",
             "gridcolor": "white",
             "linecolor": "white",
             "minorgridcolor": "white",
             "startlinecolor": "#2a3f5f"
            },
            "type": "carpet"
           }
          ],
          "choropleth": [
           {
            "colorbar": {
             "outlinewidth": 0,
             "ticks": ""
            },
            "type": "choropleth"
           }
          ],
          "contour": [
           {
            "colorbar": {
             "outlinewidth": 0,
             "ticks": ""
            },
            "colorscale": [
             [
              0,
              "#0d0887"
             ],
             [
              0.1111111111111111,
              "#46039f"
             ],
             [
              0.2222222222222222,
              "#7201a8"
             ],
             [
              0.3333333333333333,
              "#9c179e"
             ],
             [
              0.4444444444444444,
              "#bd3786"
             ],
             [
              0.5555555555555556,
              "#d8576b"
             ],
             [
              0.6666666666666666,
              "#ed7953"
             ],
             [
              0.7777777777777778,
              "#fb9f3a"
             ],
             [
              0.8888888888888888,
              "#fdca26"
             ],
             [
              1,
              "#f0f921"
             ]
            ],
            "type": "contour"
           }
          ],
          "contourcarpet": [
           {
            "colorbar": {
             "outlinewidth": 0,
             "ticks": ""
            },
            "type": "contourcarpet"
           }
          ],
          "heatmap": [
           {
            "colorbar": {
             "outlinewidth": 0,
             "ticks": ""
            },
            "colorscale": [
             [
              0,
              "#0d0887"
             ],
             [
              0.1111111111111111,
              "#46039f"
             ],
             [
              0.2222222222222222,
              "#7201a8"
             ],
             [
              0.3333333333333333,
              "#9c179e"
             ],
             [
              0.4444444444444444,
              "#bd3786"
             ],
             [
              0.5555555555555556,
              "#d8576b"
             ],
             [
              0.6666666666666666,
              "#ed7953"
             ],
             [
              0.7777777777777778,
              "#fb9f3a"
             ],
             [
              0.8888888888888888,
              "#fdca26"
             ],
             [
              1,
              "#f0f921"
             ]
            ],
            "type": "heatmap"
           }
          ],
          "heatmapgl": [
           {
            "colorbar": {
             "outlinewidth": 0,
             "ticks": ""
            },
            "colorscale": [
             [
              0,
              "#0d0887"
             ],
             [
              0.1111111111111111,
              "#46039f"
             ],
             [
              0.2222222222222222,
              "#7201a8"
             ],
             [
              0.3333333333333333,
              "#9c179e"
             ],
             [
              0.4444444444444444,
              "#bd3786"
             ],
             [
              0.5555555555555556,
              "#d8576b"
             ],
             [
              0.6666666666666666,
              "#ed7953"
             ],
             [
              0.7777777777777778,
              "#fb9f3a"
             ],
             [
              0.8888888888888888,
              "#fdca26"
             ],
             [
              1,
              "#f0f921"
             ]
            ],
            "type": "heatmapgl"
           }
          ],
          "histogram": [
           {
            "marker": {
             "pattern": {
              "fillmode": "overlay",
              "size": 10,
              "solidity": 0.2
             }
            },
            "type": "histogram"
           }
          ],
          "histogram2d": [
           {
            "colorbar": {
             "outlinewidth": 0,
             "ticks": ""
            },
            "colorscale": [
             [
              0,
              "#0d0887"
             ],
             [
              0.1111111111111111,
              "#46039f"
             ],
             [
              0.2222222222222222,
              "#7201a8"
             ],
             [
              0.3333333333333333,
              "#9c179e"
             ],
             [
              0.4444444444444444,
              "#bd3786"
             ],
             [
              0.5555555555555556,
              "#d8576b"
             ],
             [
              0.6666666666666666,
              "#ed7953"
             ],
             [
              0.7777777777777778,
              "#fb9f3a"
             ],
             [
              0.8888888888888888,
              "#fdca26"
             ],
             [
              1,
              "#f0f921"
             ]
            ],
            "type": "histogram2d"
           }
          ],
          "histogram2dcontour": [
           {
            "colorbar": {
             "outlinewidth": 0,
             "ticks": ""
            },
            "colorscale": [
             [
              0,
              "#0d0887"
             ],
             [
              0.1111111111111111,
              "#46039f"
             ],
             [
              0.2222222222222222,
              "#7201a8"
             ],
             [
              0.3333333333333333,
              "#9c179e"
             ],
             [
              0.4444444444444444,
              "#bd3786"
             ],
             [
              0.5555555555555556,
              "#d8576b"
             ],
             [
              0.6666666666666666,
              "#ed7953"
             ],
             [
              0.7777777777777778,
              "#fb9f3a"
             ],
             [
              0.8888888888888888,
              "#fdca26"
             ],
             [
              1,
              "#f0f921"
             ]
            ],
            "type": "histogram2dcontour"
           }
          ],
          "mesh3d": [
           {
            "colorbar": {
             "outlinewidth": 0,
             "ticks": ""
            },
            "type": "mesh3d"
           }
          ],
          "parcoords": [
           {
            "line": {
             "colorbar": {
              "outlinewidth": 0,
              "ticks": ""
             }
            },
            "type": "parcoords"
           }
          ],
          "pie": [
           {
            "automargin": true,
            "type": "pie"
           }
          ],
          "scatter": [
           {
            "marker": {
             "colorbar": {
              "outlinewidth": 0,
              "ticks": ""
             }
            },
            "type": "scatter"
           }
          ],
          "scatter3d": [
           {
            "line": {
             "colorbar": {
              "outlinewidth": 0,
              "ticks": ""
             }
            },
            "marker": {
             "colorbar": {
              "outlinewidth": 0,
              "ticks": ""
             }
            },
            "type": "scatter3d"
           }
          ],
          "scattercarpet": [
           {
            "marker": {
             "colorbar": {
              "outlinewidth": 0,
              "ticks": ""
             }
            },
            "type": "scattercarpet"
           }
          ],
          "scattergeo": [
           {
            "marker": {
             "colorbar": {
              "outlinewidth": 0,
              "ticks": ""
             }
            },
            "type": "scattergeo"
           }
          ],
          "scattergl": [
           {
            "marker": {
             "colorbar": {
              "outlinewidth": 0,
              "ticks": ""
             }
            },
            "type": "scattergl"
           }
          ],
          "scattermapbox": [
           {
            "marker": {
             "colorbar": {
              "outlinewidth": 0,
              "ticks": ""
             }
            },
            "type": "scattermapbox"
           }
          ],
          "scatterpolar": [
           {
            "marker": {
             "colorbar": {
              "outlinewidth": 0,
              "ticks": ""
             }
            },
            "type": "scatterpolar"
           }
          ],
          "scatterpolargl": [
           {
            "marker": {
             "colorbar": {
              "outlinewidth": 0,
              "ticks": ""
             }
            },
            "type": "scatterpolargl"
           }
          ],
          "scatterternary": [
           {
            "marker": {
             "colorbar": {
              "outlinewidth": 0,
              "ticks": ""
             }
            },
            "type": "scatterternary"
           }
          ],
          "surface": [
           {
            "colorbar": {
             "outlinewidth": 0,
             "ticks": ""
            },
            "colorscale": [
             [
              0,
              "#0d0887"
             ],
             [
              0.1111111111111111,
              "#46039f"
             ],
             [
              0.2222222222222222,
              "#7201a8"
             ],
             [
              0.3333333333333333,
              "#9c179e"
             ],
             [
              0.4444444444444444,
              "#bd3786"
             ],
             [
              0.5555555555555556,
              "#d8576b"
             ],
             [
              0.6666666666666666,
              "#ed7953"
             ],
             [
              0.7777777777777778,
              "#fb9f3a"
             ],
             [
              0.8888888888888888,
              "#fdca26"
             ],
             [
              1,
              "#f0f921"
             ]
            ],
            "type": "surface"
           }
          ],
          "table": [
           {
            "cells": {
             "fill": {
              "color": "#EBF0F8"
             },
             "line": {
              "color": "white"
             }
            },
            "header": {
             "fill": {
              "color": "#C8D4E3"
             },
             "line": {
              "color": "white"
             }
            },
            "type": "table"
           }
          ]
         },
         "layout": {
          "annotationdefaults": {
           "arrowcolor": "#2a3f5f",
           "arrowhead": 0,
           "arrowwidth": 1
          },
          "autotypenumbers": "strict",
          "coloraxis": {
           "colorbar": {
            "outlinewidth": 0,
            "ticks": ""
           }
          },
          "colorscale": {
           "diverging": [
            [
             0,
             "#8e0152"
            ],
            [
             0.1,
             "#c51b7d"
            ],
            [
             0.2,
             "#de77ae"
            ],
            [
             0.3,
             "#f1b6da"
            ],
            [
             0.4,
             "#fde0ef"
            ],
            [
             0.5,
             "#f7f7f7"
            ],
            [
             0.6,
             "#e6f5d0"
            ],
            [
             0.7,
             "#b8e186"
            ],
            [
             0.8,
             "#7fbc41"
            ],
            [
             0.9,
             "#4d9221"
            ],
            [
             1,
             "#276419"
            ]
           ],
           "sequential": [
            [
             0,
             "#0d0887"
            ],
            [
             0.1111111111111111,
             "#46039f"
            ],
            [
             0.2222222222222222,
             "#7201a8"
            ],
            [
             0.3333333333333333,
             "#9c179e"
            ],
            [
             0.4444444444444444,
             "#bd3786"
            ],
            [
             0.5555555555555556,
             "#d8576b"
            ],
            [
             0.6666666666666666,
             "#ed7953"
            ],
            [
             0.7777777777777778,
             "#fb9f3a"
            ],
            [
             0.8888888888888888,
             "#fdca26"
            ],
            [
             1,
             "#f0f921"
            ]
           ],
           "sequentialminus": [
            [
             0,
             "#0d0887"
            ],
            [
             0.1111111111111111,
             "#46039f"
            ],
            [
             0.2222222222222222,
             "#7201a8"
            ],
            [
             0.3333333333333333,
             "#9c179e"
            ],
            [
             0.4444444444444444,
             "#bd3786"
            ],
            [
             0.5555555555555556,
             "#d8576b"
            ],
            [
             0.6666666666666666,
             "#ed7953"
            ],
            [
             0.7777777777777778,
             "#fb9f3a"
            ],
            [
             0.8888888888888888,
             "#fdca26"
            ],
            [
             1,
             "#f0f921"
            ]
           ]
          },
          "colorway": [
           "#636efa",
           "#EF553B",
           "#00cc96",
           "#ab63fa",
           "#FFA15A",
           "#19d3f3",
           "#FF6692",
           "#B6E880",
           "#FF97FF",
           "#FECB52"
          ],
          "font": {
           "color": "#2a3f5f"
          },
          "geo": {
           "bgcolor": "white",
           "lakecolor": "white",
           "landcolor": "#E5ECF6",
           "showlakes": true,
           "showland": true,
           "subunitcolor": "white"
          },
          "hoverlabel": {
           "align": "left"
          },
          "hovermode": "closest",
          "mapbox": {
           "style": "light"
          },
          "paper_bgcolor": "white",
          "plot_bgcolor": "#E5ECF6",
          "polar": {
           "angularaxis": {
            "gridcolor": "white",
            "linecolor": "white",
            "ticks": ""
           },
           "bgcolor": "#E5ECF6",
           "radialaxis": {
            "gridcolor": "white",
            "linecolor": "white",
            "ticks": ""
           }
          },
          "scene": {
           "xaxis": {
            "backgroundcolor": "#E5ECF6",
            "gridcolor": "white",
            "gridwidth": 2,
            "linecolor": "white",
            "showbackground": true,
            "ticks": "",
            "zerolinecolor": "white"
           },
           "yaxis": {
            "backgroundcolor": "#E5ECF6",
            "gridcolor": "white",
            "gridwidth": 2,
            "linecolor": "white",
            "showbackground": true,
            "ticks": "",
            "zerolinecolor": "white"
           },
           "zaxis": {
            "backgroundcolor": "#E5ECF6",
            "gridcolor": "white",
            "gridwidth": 2,
            "linecolor": "white",
            "showbackground": true,
            "ticks": "",
            "zerolinecolor": "white"
           }
          },
          "shapedefaults": {
           "line": {
            "color": "#2a3f5f"
           }
          },
          "ternary": {
           "aaxis": {
            "gridcolor": "white",
            "linecolor": "white",
            "ticks": ""
           },
           "baxis": {
            "gridcolor": "white",
            "linecolor": "white",
            "ticks": ""
           },
           "bgcolor": "#E5ECF6",
           "caxis": {
            "gridcolor": "white",
            "linecolor": "white",
            "ticks": ""
           }
          },
          "title": {
           "x": 0.05
          },
          "xaxis": {
           "automargin": true,
           "gridcolor": "white",
           "linecolor": "white",
           "ticks": "",
           "title": {
            "standoff": 15
           },
           "zerolinecolor": "white",
           "zerolinewidth": 2
          },
          "yaxis": {
           "automargin": true,
           "gridcolor": "white",
           "linecolor": "white",
           "ticks": "",
           "title": {
            "standoff": 15
           },
           "zerolinecolor": "white",
           "zerolinewidth": 2
          }
         }
        },
        "title": {
         "font": {
          "color": "#4D5663"
         }
        },
        "xaxis": {
         "gridcolor": "#E1E5ED",
         "showgrid": true,
         "tickfont": {
          "color": "#4D5663"
         },
         "title": {
          "font": {
           "color": "#4D5663"
          },
          "text": ""
         },
         "zerolinecolor": "#E1E5ED"
        },
        "yaxis": {
         "gridcolor": "#E1E5ED",
         "showgrid": true,
         "tickfont": {
          "color": "#4D5663"
         },
         "title": {
          "font": {
           "color": "#4D5663"
          },
          "text": ""
         },
         "zerolinecolor": "#E1E5ED"
        }
       }
      },
      "text/html": [
       "<div>                            <div id=\"befa7532-df09-4ae4-b6fe-1c5a08732437\" class=\"plotly-graph-div\" style=\"height:525px; width:100%;\"></div>            <script type=\"text/javascript\">                require([\"plotly\"], function(Plotly) {                    window.PLOTLYENV=window.PLOTLYENV || {};\n",
       "                    window.PLOTLYENV.BASE_URL='https://plot.ly';                                    if (document.getElementById(\"befa7532-df09-4ae4-b6fe-1c5a08732437\")) {                    Plotly.newPlot(                        \"befa7532-df09-4ae4-b6fe-1c5a08732437\",                        [{\"colorscale\":[[0.0,\"rgb(255, 153, 51)\"],[0.1111111111111111,\"rgb(55, 128, 191)\"],[0.2222222222222222,\"rgb(50, 171, 96)\"],[0.3333333333333333,\"rgb(128, 0, 128)\"],[0.4444444444444444,\"rgb(219, 64, 82)\"],[0.5555555555555556,\"rgb(0, 128, 128)\"],[0.6666666666666666,\"rgb(255, 255, 51)\"],[0.7777777777777778,\"rgb(128, 128, 0)\"],[0.8888888888888888,\"rgb(251, 128, 114)\"],[1.0,\"rgb(128, 177, 211)\"]],\"type\":\"surface\",\"x\":[0,1,2,3,4],\"y\":[\"x\",\"y\",\"z\"],\"z\":[[1,2,3,4,5],[10,20,30,20,10],[500,400,300,200,100]]}],                        {\"legend\":{\"bgcolor\":\"#F5F6F9\",\"font\":{\"color\":\"#4D5663\"}},\"paper_bgcolor\":\"#F5F6F9\",\"plot_bgcolor\":\"#F5F6F9\",\"template\":{\"data\":{\"bar\":[{\"error_x\":{\"color\":\"#2a3f5f\"},\"error_y\":{\"color\":\"#2a3f5f\"},\"marker\":{\"line\":{\"color\":\"#E5ECF6\",\"width\":0.5},\"pattern\":{\"fillmode\":\"overlay\",\"size\":10,\"solidity\":0.2}},\"type\":\"bar\"}],\"barpolar\":[{\"marker\":{\"line\":{\"color\":\"#E5ECF6\",\"width\":0.5},\"pattern\":{\"fillmode\":\"overlay\",\"size\":10,\"solidity\":0.2}},\"type\":\"barpolar\"}],\"carpet\":[{\"aaxis\":{\"endlinecolor\":\"#2a3f5f\",\"gridcolor\":\"white\",\"linecolor\":\"white\",\"minorgridcolor\":\"white\",\"startlinecolor\":\"#2a3f5f\"},\"baxis\":{\"endlinecolor\":\"#2a3f5f\",\"gridcolor\":\"white\",\"linecolor\":\"white\",\"minorgridcolor\":\"white\",\"startlinecolor\":\"#2a3f5f\"},\"type\":\"carpet\"}],\"choropleth\":[{\"colorbar\":{\"outlinewidth\":0,\"ticks\":\"\"},\"type\":\"choropleth\"}],\"contour\":[{\"colorbar\":{\"outlinewidth\":0,\"ticks\":\"\"},\"colorscale\":[[0.0,\"#0d0887\"],[0.1111111111111111,\"#46039f\"],[0.2222222222222222,\"#7201a8\"],[0.3333333333333333,\"#9c179e\"],[0.4444444444444444,\"#bd3786\"],[0.5555555555555556,\"#d8576b\"],[0.6666666666666666,\"#ed7953\"],[0.7777777777777778,\"#fb9f3a\"],[0.8888888888888888,\"#fdca26\"],[1.0,\"#f0f921\"]],\"type\":\"contour\"}],\"contourcarpet\":[{\"colorbar\":{\"outlinewidth\":0,\"ticks\":\"\"},\"type\":\"contourcarpet\"}],\"heatmap\":[{\"colorbar\":{\"outlinewidth\":0,\"ticks\":\"\"},\"colorscale\":[[0.0,\"#0d0887\"],[0.1111111111111111,\"#46039f\"],[0.2222222222222222,\"#7201a8\"],[0.3333333333333333,\"#9c179e\"],[0.4444444444444444,\"#bd3786\"],[0.5555555555555556,\"#d8576b\"],[0.6666666666666666,\"#ed7953\"],[0.7777777777777778,\"#fb9f3a\"],[0.8888888888888888,\"#fdca26\"],[1.0,\"#f0f921\"]],\"type\":\"heatmap\"}],\"heatmapgl\":[{\"colorbar\":{\"outlinewidth\":0,\"ticks\":\"\"},\"colorscale\":[[0.0,\"#0d0887\"],[0.1111111111111111,\"#46039f\"],[0.2222222222222222,\"#7201a8\"],[0.3333333333333333,\"#9c179e\"],[0.4444444444444444,\"#bd3786\"],[0.5555555555555556,\"#d8576b\"],[0.6666666666666666,\"#ed7953\"],[0.7777777777777778,\"#fb9f3a\"],[0.8888888888888888,\"#fdca26\"],[1.0,\"#f0f921\"]],\"type\":\"heatmapgl\"}],\"histogram\":[{\"marker\":{\"pattern\":{\"fillmode\":\"overlay\",\"size\":10,\"solidity\":0.2}},\"type\":\"histogram\"}],\"histogram2d\":[{\"colorbar\":{\"outlinewidth\":0,\"ticks\":\"\"},\"colorscale\":[[0.0,\"#0d0887\"],[0.1111111111111111,\"#46039f\"],[0.2222222222222222,\"#7201a8\"],[0.3333333333333333,\"#9c179e\"],[0.4444444444444444,\"#bd3786\"],[0.5555555555555556,\"#d8576b\"],[0.6666666666666666,\"#ed7953\"],[0.7777777777777778,\"#fb9f3a\"],[0.8888888888888888,\"#fdca26\"],[1.0,\"#f0f921\"]],\"type\":\"histogram2d\"}],\"histogram2dcontour\":[{\"colorbar\":{\"outlinewidth\":0,\"ticks\":\"\"},\"colorscale\":[[0.0,\"#0d0887\"],[0.1111111111111111,\"#46039f\"],[0.2222222222222222,\"#7201a8\"],[0.3333333333333333,\"#9c179e\"],[0.4444444444444444,\"#bd3786\"],[0.5555555555555556,\"#d8576b\"],[0.6666666666666666,\"#ed7953\"],[0.7777777777777778,\"#fb9f3a\"],[0.8888888888888888,\"#fdca26\"],[1.0,\"#f0f921\"]],\"type\":\"histogram2dcontour\"}],\"mesh3d\":[{\"colorbar\":{\"outlinewidth\":0,\"ticks\":\"\"},\"type\":\"mesh3d\"}],\"parcoords\":[{\"line\":{\"colorbar\":{\"outlinewidth\":0,\"ticks\":\"\"}},\"type\":\"parcoords\"}],\"pie\":[{\"automargin\":true,\"type\":\"pie\"}],\"scatter\":[{\"marker\":{\"colorbar\":{\"outlinewidth\":0,\"ticks\":\"\"}},\"type\":\"scatter\"}],\"scatter3d\":[{\"line\":{\"colorbar\":{\"outlinewidth\":0,\"ticks\":\"\"}},\"marker\":{\"colorbar\":{\"outlinewidth\":0,\"ticks\":\"\"}},\"type\":\"scatter3d\"}],\"scattercarpet\":[{\"marker\":{\"colorbar\":{\"outlinewidth\":0,\"ticks\":\"\"}},\"type\":\"scattercarpet\"}],\"scattergeo\":[{\"marker\":{\"colorbar\":{\"outlinewidth\":0,\"ticks\":\"\"}},\"type\":\"scattergeo\"}],\"scattergl\":[{\"marker\":{\"colorbar\":{\"outlinewidth\":0,\"ticks\":\"\"}},\"type\":\"scattergl\"}],\"scattermapbox\":[{\"marker\":{\"colorbar\":{\"outlinewidth\":0,\"ticks\":\"\"}},\"type\":\"scattermapbox\"}],\"scatterpolar\":[{\"marker\":{\"colorbar\":{\"outlinewidth\":0,\"ticks\":\"\"}},\"type\":\"scatterpolar\"}],\"scatterpolargl\":[{\"marker\":{\"colorbar\":{\"outlinewidth\":0,\"ticks\":\"\"}},\"type\":\"scatterpolargl\"}],\"scatterternary\":[{\"marker\":{\"colorbar\":{\"outlinewidth\":0,\"ticks\":\"\"}},\"type\":\"scatterternary\"}],\"surface\":[{\"colorbar\":{\"outlinewidth\":0,\"ticks\":\"\"},\"colorscale\":[[0.0,\"#0d0887\"],[0.1111111111111111,\"#46039f\"],[0.2222222222222222,\"#7201a8\"],[0.3333333333333333,\"#9c179e\"],[0.4444444444444444,\"#bd3786\"],[0.5555555555555556,\"#d8576b\"],[0.6666666666666666,\"#ed7953\"],[0.7777777777777778,\"#fb9f3a\"],[0.8888888888888888,\"#fdca26\"],[1.0,\"#f0f921\"]],\"type\":\"surface\"}],\"table\":[{\"cells\":{\"fill\":{\"color\":\"#EBF0F8\"},\"line\":{\"color\":\"white\"}},\"header\":{\"fill\":{\"color\":\"#C8D4E3\"},\"line\":{\"color\":\"white\"}},\"type\":\"table\"}]},\"layout\":{\"annotationdefaults\":{\"arrowcolor\":\"#2a3f5f\",\"arrowhead\":0,\"arrowwidth\":1},\"autotypenumbers\":\"strict\",\"coloraxis\":{\"colorbar\":{\"outlinewidth\":0,\"ticks\":\"\"}},\"colorscale\":{\"diverging\":[[0,\"#8e0152\"],[0.1,\"#c51b7d\"],[0.2,\"#de77ae\"],[0.3,\"#f1b6da\"],[0.4,\"#fde0ef\"],[0.5,\"#f7f7f7\"],[0.6,\"#e6f5d0\"],[0.7,\"#b8e186\"],[0.8,\"#7fbc41\"],[0.9,\"#4d9221\"],[1,\"#276419\"]],\"sequential\":[[0.0,\"#0d0887\"],[0.1111111111111111,\"#46039f\"],[0.2222222222222222,\"#7201a8\"],[0.3333333333333333,\"#9c179e\"],[0.4444444444444444,\"#bd3786\"],[0.5555555555555556,\"#d8576b\"],[0.6666666666666666,\"#ed7953\"],[0.7777777777777778,\"#fb9f3a\"],[0.8888888888888888,\"#fdca26\"],[1.0,\"#f0f921\"]],\"sequentialminus\":[[0.0,\"#0d0887\"],[0.1111111111111111,\"#46039f\"],[0.2222222222222222,\"#7201a8\"],[0.3333333333333333,\"#9c179e\"],[0.4444444444444444,\"#bd3786\"],[0.5555555555555556,\"#d8576b\"],[0.6666666666666666,\"#ed7953\"],[0.7777777777777778,\"#fb9f3a\"],[0.8888888888888888,\"#fdca26\"],[1.0,\"#f0f921\"]]},\"colorway\":[\"#636efa\",\"#EF553B\",\"#00cc96\",\"#ab63fa\",\"#FFA15A\",\"#19d3f3\",\"#FF6692\",\"#B6E880\",\"#FF97FF\",\"#FECB52\"],\"font\":{\"color\":\"#2a3f5f\"},\"geo\":{\"bgcolor\":\"white\",\"lakecolor\":\"white\",\"landcolor\":\"#E5ECF6\",\"showlakes\":true,\"showland\":true,\"subunitcolor\":\"white\"},\"hoverlabel\":{\"align\":\"left\"},\"hovermode\":\"closest\",\"mapbox\":{\"style\":\"light\"},\"paper_bgcolor\":\"white\",\"plot_bgcolor\":\"#E5ECF6\",\"polar\":{\"angularaxis\":{\"gridcolor\":\"white\",\"linecolor\":\"white\",\"ticks\":\"\"},\"bgcolor\":\"#E5ECF6\",\"radialaxis\":{\"gridcolor\":\"white\",\"linecolor\":\"white\",\"ticks\":\"\"}},\"scene\":{\"xaxis\":{\"backgroundcolor\":\"#E5ECF6\",\"gridcolor\":\"white\",\"gridwidth\":2,\"linecolor\":\"white\",\"showbackground\":true,\"ticks\":\"\",\"zerolinecolor\":\"white\"},\"yaxis\":{\"backgroundcolor\":\"#E5ECF6\",\"gridcolor\":\"white\",\"gridwidth\":2,\"linecolor\":\"white\",\"showbackground\":true,\"ticks\":\"\",\"zerolinecolor\":\"white\"},\"zaxis\":{\"backgroundcolor\":\"#E5ECF6\",\"gridcolor\":\"white\",\"gridwidth\":2,\"linecolor\":\"white\",\"showbackground\":true,\"ticks\":\"\",\"zerolinecolor\":\"white\"}},\"shapedefaults\":{\"line\":{\"color\":\"#2a3f5f\"}},\"ternary\":{\"aaxis\":{\"gridcolor\":\"white\",\"linecolor\":\"white\",\"ticks\":\"\"},\"baxis\":{\"gridcolor\":\"white\",\"linecolor\":\"white\",\"ticks\":\"\"},\"bgcolor\":\"#E5ECF6\",\"caxis\":{\"gridcolor\":\"white\",\"linecolor\":\"white\",\"ticks\":\"\"}},\"title\":{\"x\":0.05},\"xaxis\":{\"automargin\":true,\"gridcolor\":\"white\",\"linecolor\":\"white\",\"ticks\":\"\",\"title\":{\"standoff\":15},\"zerolinecolor\":\"white\",\"zerolinewidth\":2},\"yaxis\":{\"automargin\":true,\"gridcolor\":\"white\",\"linecolor\":\"white\",\"ticks\":\"\",\"title\":{\"standoff\":15},\"zerolinecolor\":\"white\",\"zerolinewidth\":2}}},\"title\":{\"font\":{\"color\":\"#4D5663\"}},\"xaxis\":{\"gridcolor\":\"#E1E5ED\",\"showgrid\":true,\"tickfont\":{\"color\":\"#4D5663\"},\"title\":{\"font\":{\"color\":\"#4D5663\"},\"text\":\"\"},\"zerolinecolor\":\"#E1E5ED\"},\"yaxis\":{\"gridcolor\":\"#E1E5ED\",\"showgrid\":true,\"tickfont\":{\"color\":\"#4D5663\"},\"title\":{\"font\":{\"color\":\"#4D5663\"},\"text\":\"\"},\"zerolinecolor\":\"#E1E5ED\"}},                        {\"showLink\": true, \"linkText\": \"Export to plot.ly\", \"plotlyServerURL\": \"https://plot.ly\", \"responsive\": true}                    ).then(function(){\n",
       "                            \n",
       "var gd = document.getElementById('befa7532-df09-4ae4-b6fe-1c5a08732437');\n",
       "var x = new MutationObserver(function (mutations, observer) {{\n",
       "        var display = window.getComputedStyle(gd).display;\n",
       "        if (!display || display === 'none') {{\n",
       "            console.log([gd, 'removed!']);\n",
       "            Plotly.purge(gd);\n",
       "            observer.disconnect();\n",
       "        }}\n",
       "}});\n",
       "\n",
       "// Listen for the removal of the full notebook cells\n",
       "var notebookContainer = gd.closest('#notebook-container');\n",
       "if (notebookContainer) {{\n",
       "    x.observe(notebookContainer, {childList: true});\n",
       "}}\n",
       "\n",
       "// Listen for the clearing of the current output cell\n",
       "var outputEl = gd.closest('.output');\n",
       "if (outputEl) {{\n",
       "    x.observe(outputEl, {childList: true});\n",
       "}}\n",
       "\n",
       "                        })                };                });            </script>        </div>"
      ]
     },
     "metadata": {},
     "output_type": "display_data"
    }
   ],
   "source": [
    "df3.iplot(kind='surface')"
   ]
  },
  {
   "cell_type": "code",
   "execution_count": 37,
   "id": "aef7eb65",
   "metadata": {},
   "outputs": [
    {
     "data": {
      "application/vnd.plotly.v1+json": {
       "config": {
        "linkText": "Export to plot.ly",
        "plotlyServerURL": "https://plot.ly",
        "showLink": true
       },
       "data": [
        {
         "colorscale": [
          [
           0,
           "rgb(165,0,38)"
          ],
          [
           0.1,
           "rgb(215,48,39)"
          ],
          [
           0.2,
           "rgb(244,109,67)"
          ],
          [
           0.3,
           "rgb(253,174,97)"
          ],
          [
           0.4,
           "rgb(254,224,144)"
          ],
          [
           0.5,
           "rgb(255,255,191)"
          ],
          [
           0.6,
           "rgb(224,243,248)"
          ],
          [
           0.7,
           "rgb(171,217,233)"
          ],
          [
           0.8,
           "rgb(116,173,209)"
          ],
          [
           0.9,
           "rgb(69,117,180)"
          ],
          [
           1,
           "rgb(49,54,149)"
          ]
         ],
         "type": "surface",
         "x": [
          0,
          1,
          2,
          3,
          4
         ],
         "y": [
          "x",
          "y",
          "z"
         ],
         "z": [
          [
           1,
           2,
           3,
           4,
           5
          ],
          [
           10,
           20,
           30,
           20,
           10
          ],
          [
           500,
           400,
           300,
           200,
           100
          ]
         ]
        }
       ],
       "layout": {
        "legend": {
         "bgcolor": "#F5F6F9",
         "font": {
          "color": "#4D5663"
         }
        },
        "paper_bgcolor": "#F5F6F9",
        "plot_bgcolor": "#F5F6F9",
        "template": {
         "data": {
          "bar": [
           {
            "error_x": {
             "color": "#2a3f5f"
            },
            "error_y": {
             "color": "#2a3f5f"
            },
            "marker": {
             "line": {
              "color": "#E5ECF6",
              "width": 0.5
             },
             "pattern": {
              "fillmode": "overlay",
              "size": 10,
              "solidity": 0.2
             }
            },
            "type": "bar"
           }
          ],
          "barpolar": [
           {
            "marker": {
             "line": {
              "color": "#E5ECF6",
              "width": 0.5
             },
             "pattern": {
              "fillmode": "overlay",
              "size": 10,
              "solidity": 0.2
             }
            },
            "type": "barpolar"
           }
          ],
          "carpet": [
           {
            "aaxis": {
             "endlinecolor": "#2a3f5f",
             "gridcolor": "white",
             "linecolor": "white",
             "minorgridcolor": "white",
             "startlinecolor": "#2a3f5f"
            },
            "baxis": {
             "endlinecolor": "#2a3f5f",
             "gridcolor": "white",
             "linecolor": "white",
             "minorgridcolor": "white",
             "startlinecolor": "#2a3f5f"
            },
            "type": "carpet"
           }
          ],
          "choropleth": [
           {
            "colorbar": {
             "outlinewidth": 0,
             "ticks": ""
            },
            "type": "choropleth"
           }
          ],
          "contour": [
           {
            "colorbar": {
             "outlinewidth": 0,
             "ticks": ""
            },
            "colorscale": [
             [
              0,
              "#0d0887"
             ],
             [
              0.1111111111111111,
              "#46039f"
             ],
             [
              0.2222222222222222,
              "#7201a8"
             ],
             [
              0.3333333333333333,
              "#9c179e"
             ],
             [
              0.4444444444444444,
              "#bd3786"
             ],
             [
              0.5555555555555556,
              "#d8576b"
             ],
             [
              0.6666666666666666,
              "#ed7953"
             ],
             [
              0.7777777777777778,
              "#fb9f3a"
             ],
             [
              0.8888888888888888,
              "#fdca26"
             ],
             [
              1,
              "#f0f921"
             ]
            ],
            "type": "contour"
           }
          ],
          "contourcarpet": [
           {
            "colorbar": {
             "outlinewidth": 0,
             "ticks": ""
            },
            "type": "contourcarpet"
           }
          ],
          "heatmap": [
           {
            "colorbar": {
             "outlinewidth": 0,
             "ticks": ""
            },
            "colorscale": [
             [
              0,
              "#0d0887"
             ],
             [
              0.1111111111111111,
              "#46039f"
             ],
             [
              0.2222222222222222,
              "#7201a8"
             ],
             [
              0.3333333333333333,
              "#9c179e"
             ],
             [
              0.4444444444444444,
              "#bd3786"
             ],
             [
              0.5555555555555556,
              "#d8576b"
             ],
             [
              0.6666666666666666,
              "#ed7953"
             ],
             [
              0.7777777777777778,
              "#fb9f3a"
             ],
             [
              0.8888888888888888,
              "#fdca26"
             ],
             [
              1,
              "#f0f921"
             ]
            ],
            "type": "heatmap"
           }
          ],
          "heatmapgl": [
           {
            "colorbar": {
             "outlinewidth": 0,
             "ticks": ""
            },
            "colorscale": [
             [
              0,
              "#0d0887"
             ],
             [
              0.1111111111111111,
              "#46039f"
             ],
             [
              0.2222222222222222,
              "#7201a8"
             ],
             [
              0.3333333333333333,
              "#9c179e"
             ],
             [
              0.4444444444444444,
              "#bd3786"
             ],
             [
              0.5555555555555556,
              "#d8576b"
             ],
             [
              0.6666666666666666,
              "#ed7953"
             ],
             [
              0.7777777777777778,
              "#fb9f3a"
             ],
             [
              0.8888888888888888,
              "#fdca26"
             ],
             [
              1,
              "#f0f921"
             ]
            ],
            "type": "heatmapgl"
           }
          ],
          "histogram": [
           {
            "marker": {
             "pattern": {
              "fillmode": "overlay",
              "size": 10,
              "solidity": 0.2
             }
            },
            "type": "histogram"
           }
          ],
          "histogram2d": [
           {
            "colorbar": {
             "outlinewidth": 0,
             "ticks": ""
            },
            "colorscale": [
             [
              0,
              "#0d0887"
             ],
             [
              0.1111111111111111,
              "#46039f"
             ],
             [
              0.2222222222222222,
              "#7201a8"
             ],
             [
              0.3333333333333333,
              "#9c179e"
             ],
             [
              0.4444444444444444,
              "#bd3786"
             ],
             [
              0.5555555555555556,
              "#d8576b"
             ],
             [
              0.6666666666666666,
              "#ed7953"
             ],
             [
              0.7777777777777778,
              "#fb9f3a"
             ],
             [
              0.8888888888888888,
              "#fdca26"
             ],
             [
              1,
              "#f0f921"
             ]
            ],
            "type": "histogram2d"
           }
          ],
          "histogram2dcontour": [
           {
            "colorbar": {
             "outlinewidth": 0,
             "ticks": ""
            },
            "colorscale": [
             [
              0,
              "#0d0887"
             ],
             [
              0.1111111111111111,
              "#46039f"
             ],
             [
              0.2222222222222222,
              "#7201a8"
             ],
             [
              0.3333333333333333,
              "#9c179e"
             ],
             [
              0.4444444444444444,
              "#bd3786"
             ],
             [
              0.5555555555555556,
              "#d8576b"
             ],
             [
              0.6666666666666666,
              "#ed7953"
             ],
             [
              0.7777777777777778,
              "#fb9f3a"
             ],
             [
              0.8888888888888888,
              "#fdca26"
             ],
             [
              1,
              "#f0f921"
             ]
            ],
            "type": "histogram2dcontour"
           }
          ],
          "mesh3d": [
           {
            "colorbar": {
             "outlinewidth": 0,
             "ticks": ""
            },
            "type": "mesh3d"
           }
          ],
          "parcoords": [
           {
            "line": {
             "colorbar": {
              "outlinewidth": 0,
              "ticks": ""
             }
            },
            "type": "parcoords"
           }
          ],
          "pie": [
           {
            "automargin": true,
            "type": "pie"
           }
          ],
          "scatter": [
           {
            "marker": {
             "colorbar": {
              "outlinewidth": 0,
              "ticks": ""
             }
            },
            "type": "scatter"
           }
          ],
          "scatter3d": [
           {
            "line": {
             "colorbar": {
              "outlinewidth": 0,
              "ticks": ""
             }
            },
            "marker": {
             "colorbar": {
              "outlinewidth": 0,
              "ticks": ""
             }
            },
            "type": "scatter3d"
           }
          ],
          "scattercarpet": [
           {
            "marker": {
             "colorbar": {
              "outlinewidth": 0,
              "ticks": ""
             }
            },
            "type": "scattercarpet"
           }
          ],
          "scattergeo": [
           {
            "marker": {
             "colorbar": {
              "outlinewidth": 0,
              "ticks": ""
             }
            },
            "type": "scattergeo"
           }
          ],
          "scattergl": [
           {
            "marker": {
             "colorbar": {
              "outlinewidth": 0,
              "ticks": ""
             }
            },
            "type": "scattergl"
           }
          ],
          "scattermapbox": [
           {
            "marker": {
             "colorbar": {
              "outlinewidth": 0,
              "ticks": ""
             }
            },
            "type": "scattermapbox"
           }
          ],
          "scatterpolar": [
           {
            "marker": {
             "colorbar": {
              "outlinewidth": 0,
              "ticks": ""
             }
            },
            "type": "scatterpolar"
           }
          ],
          "scatterpolargl": [
           {
            "marker": {
             "colorbar": {
              "outlinewidth": 0,
              "ticks": ""
             }
            },
            "type": "scatterpolargl"
           }
          ],
          "scatterternary": [
           {
            "marker": {
             "colorbar": {
              "outlinewidth": 0,
              "ticks": ""
             }
            },
            "type": "scatterternary"
           }
          ],
          "surface": [
           {
            "colorbar": {
             "outlinewidth": 0,
             "ticks": ""
            },
            "colorscale": [
             [
              0,
              "#0d0887"
             ],
             [
              0.1111111111111111,
              "#46039f"
             ],
             [
              0.2222222222222222,
              "#7201a8"
             ],
             [
              0.3333333333333333,
              "#9c179e"
             ],
             [
              0.4444444444444444,
              "#bd3786"
             ],
             [
              0.5555555555555556,
              "#d8576b"
             ],
             [
              0.6666666666666666,
              "#ed7953"
             ],
             [
              0.7777777777777778,
              "#fb9f3a"
             ],
             [
              0.8888888888888888,
              "#fdca26"
             ],
             [
              1,
              "#f0f921"
             ]
            ],
            "type": "surface"
           }
          ],
          "table": [
           {
            "cells": {
             "fill": {
              "color": "#EBF0F8"
             },
             "line": {
              "color": "white"
             }
            },
            "header": {
             "fill": {
              "color": "#C8D4E3"
             },
             "line": {
              "color": "white"
             }
            },
            "type": "table"
           }
          ]
         },
         "layout": {
          "annotationdefaults": {
           "arrowcolor": "#2a3f5f",
           "arrowhead": 0,
           "arrowwidth": 1
          },
          "autotypenumbers": "strict",
          "coloraxis": {
           "colorbar": {
            "outlinewidth": 0,
            "ticks": ""
           }
          },
          "colorscale": {
           "diverging": [
            [
             0,
             "#8e0152"
            ],
            [
             0.1,
             "#c51b7d"
            ],
            [
             0.2,
             "#de77ae"
            ],
            [
             0.3,
             "#f1b6da"
            ],
            [
             0.4,
             "#fde0ef"
            ],
            [
             0.5,
             "#f7f7f7"
            ],
            [
             0.6,
             "#e6f5d0"
            ],
            [
             0.7,
             "#b8e186"
            ],
            [
             0.8,
             "#7fbc41"
            ],
            [
             0.9,
             "#4d9221"
            ],
            [
             1,
             "#276419"
            ]
           ],
           "sequential": [
            [
             0,
             "#0d0887"
            ],
            [
             0.1111111111111111,
             "#46039f"
            ],
            [
             0.2222222222222222,
             "#7201a8"
            ],
            [
             0.3333333333333333,
             "#9c179e"
            ],
            [
             0.4444444444444444,
             "#bd3786"
            ],
            [
             0.5555555555555556,
             "#d8576b"
            ],
            [
             0.6666666666666666,
             "#ed7953"
            ],
            [
             0.7777777777777778,
             "#fb9f3a"
            ],
            [
             0.8888888888888888,
             "#fdca26"
            ],
            [
             1,
             "#f0f921"
            ]
           ],
           "sequentialminus": [
            [
             0,
             "#0d0887"
            ],
            [
             0.1111111111111111,
             "#46039f"
            ],
            [
             0.2222222222222222,
             "#7201a8"
            ],
            [
             0.3333333333333333,
             "#9c179e"
            ],
            [
             0.4444444444444444,
             "#bd3786"
            ],
            [
             0.5555555555555556,
             "#d8576b"
            ],
            [
             0.6666666666666666,
             "#ed7953"
            ],
            [
             0.7777777777777778,
             "#fb9f3a"
            ],
            [
             0.8888888888888888,
             "#fdca26"
            ],
            [
             1,
             "#f0f921"
            ]
           ]
          },
          "colorway": [
           "#636efa",
           "#EF553B",
           "#00cc96",
           "#ab63fa",
           "#FFA15A",
           "#19d3f3",
           "#FF6692",
           "#B6E880",
           "#FF97FF",
           "#FECB52"
          ],
          "font": {
           "color": "#2a3f5f"
          },
          "geo": {
           "bgcolor": "white",
           "lakecolor": "white",
           "landcolor": "#E5ECF6",
           "showlakes": true,
           "showland": true,
           "subunitcolor": "white"
          },
          "hoverlabel": {
           "align": "left"
          },
          "hovermode": "closest",
          "mapbox": {
           "style": "light"
          },
          "paper_bgcolor": "white",
          "plot_bgcolor": "#E5ECF6",
          "polar": {
           "angularaxis": {
            "gridcolor": "white",
            "linecolor": "white",
            "ticks": ""
           },
           "bgcolor": "#E5ECF6",
           "radialaxis": {
            "gridcolor": "white",
            "linecolor": "white",
            "ticks": ""
           }
          },
          "scene": {
           "xaxis": {
            "backgroundcolor": "#E5ECF6",
            "gridcolor": "white",
            "gridwidth": 2,
            "linecolor": "white",
            "showbackground": true,
            "ticks": "",
            "zerolinecolor": "white"
           },
           "yaxis": {
            "backgroundcolor": "#E5ECF6",
            "gridcolor": "white",
            "gridwidth": 2,
            "linecolor": "white",
            "showbackground": true,
            "ticks": "",
            "zerolinecolor": "white"
           },
           "zaxis": {
            "backgroundcolor": "#E5ECF6",
            "gridcolor": "white",
            "gridwidth": 2,
            "linecolor": "white",
            "showbackground": true,
            "ticks": "",
            "zerolinecolor": "white"
           }
          },
          "shapedefaults": {
           "line": {
            "color": "#2a3f5f"
           }
          },
          "ternary": {
           "aaxis": {
            "gridcolor": "white",
            "linecolor": "white",
            "ticks": ""
           },
           "baxis": {
            "gridcolor": "white",
            "linecolor": "white",
            "ticks": ""
           },
           "bgcolor": "#E5ECF6",
           "caxis": {
            "gridcolor": "white",
            "linecolor": "white",
            "ticks": ""
           }
          },
          "title": {
           "x": 0.05
          },
          "xaxis": {
           "automargin": true,
           "gridcolor": "white",
           "linecolor": "white",
           "ticks": "",
           "title": {
            "standoff": 15
           },
           "zerolinecolor": "white",
           "zerolinewidth": 2
          },
          "yaxis": {
           "automargin": true,
           "gridcolor": "white",
           "linecolor": "white",
           "ticks": "",
           "title": {
            "standoff": 15
           },
           "zerolinecolor": "white",
           "zerolinewidth": 2
          }
         }
        },
        "title": {
         "font": {
          "color": "#4D5663"
         }
        },
        "xaxis": {
         "gridcolor": "#E1E5ED",
         "showgrid": true,
         "tickfont": {
          "color": "#4D5663"
         },
         "title": {
          "font": {
           "color": "#4D5663"
          },
          "text": ""
         },
         "zerolinecolor": "#E1E5ED"
        },
        "yaxis": {
         "gridcolor": "#E1E5ED",
         "showgrid": true,
         "tickfont": {
          "color": "#4D5663"
         },
         "title": {
          "font": {
           "color": "#4D5663"
          },
          "text": ""
         },
         "zerolinecolor": "#E1E5ED"
        }
       }
      },
      "text/html": [
       "<div>                            <div id=\"e3e5152a-0d8e-43a1-a622-610811f6997b\" class=\"plotly-graph-div\" style=\"height:525px; width:100%;\"></div>            <script type=\"text/javascript\">                require([\"plotly\"], function(Plotly) {                    window.PLOTLYENV=window.PLOTLYENV || {};\n",
       "                    window.PLOTLYENV.BASE_URL='https://plot.ly';                                    if (document.getElementById(\"e3e5152a-0d8e-43a1-a622-610811f6997b\")) {                    Plotly.newPlot(                        \"e3e5152a-0d8e-43a1-a622-610811f6997b\",                        [{\"colorscale\":[[0.0,\"rgb(165,0,38)\"],[0.1,\"rgb(215,48,39)\"],[0.2,\"rgb(244,109,67)\"],[0.3,\"rgb(253,174,97)\"],[0.4,\"rgb(254,224,144)\"],[0.5,\"rgb(255,255,191)\"],[0.6,\"rgb(224,243,248)\"],[0.7,\"rgb(171,217,233)\"],[0.8,\"rgb(116,173,209)\"],[0.9,\"rgb(69,117,180)\"],[1.0,\"rgb(49,54,149)\"]],\"type\":\"surface\",\"x\":[0,1,2,3,4],\"y\":[\"x\",\"y\",\"z\"],\"z\":[[1,2,3,4,5],[10,20,30,20,10],[500,400,300,200,100]]}],                        {\"legend\":{\"bgcolor\":\"#F5F6F9\",\"font\":{\"color\":\"#4D5663\"}},\"paper_bgcolor\":\"#F5F6F9\",\"plot_bgcolor\":\"#F5F6F9\",\"template\":{\"data\":{\"bar\":[{\"error_x\":{\"color\":\"#2a3f5f\"},\"error_y\":{\"color\":\"#2a3f5f\"},\"marker\":{\"line\":{\"color\":\"#E5ECF6\",\"width\":0.5},\"pattern\":{\"fillmode\":\"overlay\",\"size\":10,\"solidity\":0.2}},\"type\":\"bar\"}],\"barpolar\":[{\"marker\":{\"line\":{\"color\":\"#E5ECF6\",\"width\":0.5},\"pattern\":{\"fillmode\":\"overlay\",\"size\":10,\"solidity\":0.2}},\"type\":\"barpolar\"}],\"carpet\":[{\"aaxis\":{\"endlinecolor\":\"#2a3f5f\",\"gridcolor\":\"white\",\"linecolor\":\"white\",\"minorgridcolor\":\"white\",\"startlinecolor\":\"#2a3f5f\"},\"baxis\":{\"endlinecolor\":\"#2a3f5f\",\"gridcolor\":\"white\",\"linecolor\":\"white\",\"minorgridcolor\":\"white\",\"startlinecolor\":\"#2a3f5f\"},\"type\":\"carpet\"}],\"choropleth\":[{\"colorbar\":{\"outlinewidth\":0,\"ticks\":\"\"},\"type\":\"choropleth\"}],\"contour\":[{\"colorbar\":{\"outlinewidth\":0,\"ticks\":\"\"},\"colorscale\":[[0.0,\"#0d0887\"],[0.1111111111111111,\"#46039f\"],[0.2222222222222222,\"#7201a8\"],[0.3333333333333333,\"#9c179e\"],[0.4444444444444444,\"#bd3786\"],[0.5555555555555556,\"#d8576b\"],[0.6666666666666666,\"#ed7953\"],[0.7777777777777778,\"#fb9f3a\"],[0.8888888888888888,\"#fdca26\"],[1.0,\"#f0f921\"]],\"type\":\"contour\"}],\"contourcarpet\":[{\"colorbar\":{\"outlinewidth\":0,\"ticks\":\"\"},\"type\":\"contourcarpet\"}],\"heatmap\":[{\"colorbar\":{\"outlinewidth\":0,\"ticks\":\"\"},\"colorscale\":[[0.0,\"#0d0887\"],[0.1111111111111111,\"#46039f\"],[0.2222222222222222,\"#7201a8\"],[0.3333333333333333,\"#9c179e\"],[0.4444444444444444,\"#bd3786\"],[0.5555555555555556,\"#d8576b\"],[0.6666666666666666,\"#ed7953\"],[0.7777777777777778,\"#fb9f3a\"],[0.8888888888888888,\"#fdca26\"],[1.0,\"#f0f921\"]],\"type\":\"heatmap\"}],\"heatmapgl\":[{\"colorbar\":{\"outlinewidth\":0,\"ticks\":\"\"},\"colorscale\":[[0.0,\"#0d0887\"],[0.1111111111111111,\"#46039f\"],[0.2222222222222222,\"#7201a8\"],[0.3333333333333333,\"#9c179e\"],[0.4444444444444444,\"#bd3786\"],[0.5555555555555556,\"#d8576b\"],[0.6666666666666666,\"#ed7953\"],[0.7777777777777778,\"#fb9f3a\"],[0.8888888888888888,\"#fdca26\"],[1.0,\"#f0f921\"]],\"type\":\"heatmapgl\"}],\"histogram\":[{\"marker\":{\"pattern\":{\"fillmode\":\"overlay\",\"size\":10,\"solidity\":0.2}},\"type\":\"histogram\"}],\"histogram2d\":[{\"colorbar\":{\"outlinewidth\":0,\"ticks\":\"\"},\"colorscale\":[[0.0,\"#0d0887\"],[0.1111111111111111,\"#46039f\"],[0.2222222222222222,\"#7201a8\"],[0.3333333333333333,\"#9c179e\"],[0.4444444444444444,\"#bd3786\"],[0.5555555555555556,\"#d8576b\"],[0.6666666666666666,\"#ed7953\"],[0.7777777777777778,\"#fb9f3a\"],[0.8888888888888888,\"#fdca26\"],[1.0,\"#f0f921\"]],\"type\":\"histogram2d\"}],\"histogram2dcontour\":[{\"colorbar\":{\"outlinewidth\":0,\"ticks\":\"\"},\"colorscale\":[[0.0,\"#0d0887\"],[0.1111111111111111,\"#46039f\"],[0.2222222222222222,\"#7201a8\"],[0.3333333333333333,\"#9c179e\"],[0.4444444444444444,\"#bd3786\"],[0.5555555555555556,\"#d8576b\"],[0.6666666666666666,\"#ed7953\"],[0.7777777777777778,\"#fb9f3a\"],[0.8888888888888888,\"#fdca26\"],[1.0,\"#f0f921\"]],\"type\":\"histogram2dcontour\"}],\"mesh3d\":[{\"colorbar\":{\"outlinewidth\":0,\"ticks\":\"\"},\"type\":\"mesh3d\"}],\"parcoords\":[{\"line\":{\"colorbar\":{\"outlinewidth\":0,\"ticks\":\"\"}},\"type\":\"parcoords\"}],\"pie\":[{\"automargin\":true,\"type\":\"pie\"}],\"scatter\":[{\"marker\":{\"colorbar\":{\"outlinewidth\":0,\"ticks\":\"\"}},\"type\":\"scatter\"}],\"scatter3d\":[{\"line\":{\"colorbar\":{\"outlinewidth\":0,\"ticks\":\"\"}},\"marker\":{\"colorbar\":{\"outlinewidth\":0,\"ticks\":\"\"}},\"type\":\"scatter3d\"}],\"scattercarpet\":[{\"marker\":{\"colorbar\":{\"outlinewidth\":0,\"ticks\":\"\"}},\"type\":\"scattercarpet\"}],\"scattergeo\":[{\"marker\":{\"colorbar\":{\"outlinewidth\":0,\"ticks\":\"\"}},\"type\":\"scattergeo\"}],\"scattergl\":[{\"marker\":{\"colorbar\":{\"outlinewidth\":0,\"ticks\":\"\"}},\"type\":\"scattergl\"}],\"scattermapbox\":[{\"marker\":{\"colorbar\":{\"outlinewidth\":0,\"ticks\":\"\"}},\"type\":\"scattermapbox\"}],\"scatterpolar\":[{\"marker\":{\"colorbar\":{\"outlinewidth\":0,\"ticks\":\"\"}},\"type\":\"scatterpolar\"}],\"scatterpolargl\":[{\"marker\":{\"colorbar\":{\"outlinewidth\":0,\"ticks\":\"\"}},\"type\":\"scatterpolargl\"}],\"scatterternary\":[{\"marker\":{\"colorbar\":{\"outlinewidth\":0,\"ticks\":\"\"}},\"type\":\"scatterternary\"}],\"surface\":[{\"colorbar\":{\"outlinewidth\":0,\"ticks\":\"\"},\"colorscale\":[[0.0,\"#0d0887\"],[0.1111111111111111,\"#46039f\"],[0.2222222222222222,\"#7201a8\"],[0.3333333333333333,\"#9c179e\"],[0.4444444444444444,\"#bd3786\"],[0.5555555555555556,\"#d8576b\"],[0.6666666666666666,\"#ed7953\"],[0.7777777777777778,\"#fb9f3a\"],[0.8888888888888888,\"#fdca26\"],[1.0,\"#f0f921\"]],\"type\":\"surface\"}],\"table\":[{\"cells\":{\"fill\":{\"color\":\"#EBF0F8\"},\"line\":{\"color\":\"white\"}},\"header\":{\"fill\":{\"color\":\"#C8D4E3\"},\"line\":{\"color\":\"white\"}},\"type\":\"table\"}]},\"layout\":{\"annotationdefaults\":{\"arrowcolor\":\"#2a3f5f\",\"arrowhead\":0,\"arrowwidth\":1},\"autotypenumbers\":\"strict\",\"coloraxis\":{\"colorbar\":{\"outlinewidth\":0,\"ticks\":\"\"}},\"colorscale\":{\"diverging\":[[0,\"#8e0152\"],[0.1,\"#c51b7d\"],[0.2,\"#de77ae\"],[0.3,\"#f1b6da\"],[0.4,\"#fde0ef\"],[0.5,\"#f7f7f7\"],[0.6,\"#e6f5d0\"],[0.7,\"#b8e186\"],[0.8,\"#7fbc41\"],[0.9,\"#4d9221\"],[1,\"#276419\"]],\"sequential\":[[0.0,\"#0d0887\"],[0.1111111111111111,\"#46039f\"],[0.2222222222222222,\"#7201a8\"],[0.3333333333333333,\"#9c179e\"],[0.4444444444444444,\"#bd3786\"],[0.5555555555555556,\"#d8576b\"],[0.6666666666666666,\"#ed7953\"],[0.7777777777777778,\"#fb9f3a\"],[0.8888888888888888,\"#fdca26\"],[1.0,\"#f0f921\"]],\"sequentialminus\":[[0.0,\"#0d0887\"],[0.1111111111111111,\"#46039f\"],[0.2222222222222222,\"#7201a8\"],[0.3333333333333333,\"#9c179e\"],[0.4444444444444444,\"#bd3786\"],[0.5555555555555556,\"#d8576b\"],[0.6666666666666666,\"#ed7953\"],[0.7777777777777778,\"#fb9f3a\"],[0.8888888888888888,\"#fdca26\"],[1.0,\"#f0f921\"]]},\"colorway\":[\"#636efa\",\"#EF553B\",\"#00cc96\",\"#ab63fa\",\"#FFA15A\",\"#19d3f3\",\"#FF6692\",\"#B6E880\",\"#FF97FF\",\"#FECB52\"],\"font\":{\"color\":\"#2a3f5f\"},\"geo\":{\"bgcolor\":\"white\",\"lakecolor\":\"white\",\"landcolor\":\"#E5ECF6\",\"showlakes\":true,\"showland\":true,\"subunitcolor\":\"white\"},\"hoverlabel\":{\"align\":\"left\"},\"hovermode\":\"closest\",\"mapbox\":{\"style\":\"light\"},\"paper_bgcolor\":\"white\",\"plot_bgcolor\":\"#E5ECF6\",\"polar\":{\"angularaxis\":{\"gridcolor\":\"white\",\"linecolor\":\"white\",\"ticks\":\"\"},\"bgcolor\":\"#E5ECF6\",\"radialaxis\":{\"gridcolor\":\"white\",\"linecolor\":\"white\",\"ticks\":\"\"}},\"scene\":{\"xaxis\":{\"backgroundcolor\":\"#E5ECF6\",\"gridcolor\":\"white\",\"gridwidth\":2,\"linecolor\":\"white\",\"showbackground\":true,\"ticks\":\"\",\"zerolinecolor\":\"white\"},\"yaxis\":{\"backgroundcolor\":\"#E5ECF6\",\"gridcolor\":\"white\",\"gridwidth\":2,\"linecolor\":\"white\",\"showbackground\":true,\"ticks\":\"\",\"zerolinecolor\":\"white\"},\"zaxis\":{\"backgroundcolor\":\"#E5ECF6\",\"gridcolor\":\"white\",\"gridwidth\":2,\"linecolor\":\"white\",\"showbackground\":true,\"ticks\":\"\",\"zerolinecolor\":\"white\"}},\"shapedefaults\":{\"line\":{\"color\":\"#2a3f5f\"}},\"ternary\":{\"aaxis\":{\"gridcolor\":\"white\",\"linecolor\":\"white\",\"ticks\":\"\"},\"baxis\":{\"gridcolor\":\"white\",\"linecolor\":\"white\",\"ticks\":\"\"},\"bgcolor\":\"#E5ECF6\",\"caxis\":{\"gridcolor\":\"white\",\"linecolor\":\"white\",\"ticks\":\"\"}},\"title\":{\"x\":0.05},\"xaxis\":{\"automargin\":true,\"gridcolor\":\"white\",\"linecolor\":\"white\",\"ticks\":\"\",\"title\":{\"standoff\":15},\"zerolinecolor\":\"white\",\"zerolinewidth\":2},\"yaxis\":{\"automargin\":true,\"gridcolor\":\"white\",\"linecolor\":\"white\",\"ticks\":\"\",\"title\":{\"standoff\":15},\"zerolinecolor\":\"white\",\"zerolinewidth\":2}}},\"title\":{\"font\":{\"color\":\"#4D5663\"}},\"xaxis\":{\"gridcolor\":\"#E1E5ED\",\"showgrid\":true,\"tickfont\":{\"color\":\"#4D5663\"},\"title\":{\"font\":{\"color\":\"#4D5663\"},\"text\":\"\"},\"zerolinecolor\":\"#E1E5ED\"},\"yaxis\":{\"gridcolor\":\"#E1E5ED\",\"showgrid\":true,\"tickfont\":{\"color\":\"#4D5663\"},\"title\":{\"font\":{\"color\":\"#4D5663\"},\"text\":\"\"},\"zerolinecolor\":\"#E1E5ED\"}},                        {\"showLink\": true, \"linkText\": \"Export to plot.ly\", \"plotlyServerURL\": \"https://plot.ly\", \"responsive\": true}                    ).then(function(){\n",
       "                            \n",
       "var gd = document.getElementById('e3e5152a-0d8e-43a1-a622-610811f6997b');\n",
       "var x = new MutationObserver(function (mutations, observer) {{\n",
       "        var display = window.getComputedStyle(gd).display;\n",
       "        if (!display || display === 'none') {{\n",
       "            console.log([gd, 'removed!']);\n",
       "            Plotly.purge(gd);\n",
       "            observer.disconnect();\n",
       "        }}\n",
       "}});\n",
       "\n",
       "// Listen for the removal of the full notebook cells\n",
       "var notebookContainer = gd.closest('#notebook-container');\n",
       "if (notebookContainer) {{\n",
       "    x.observe(notebookContainer, {childList: true});\n",
       "}}\n",
       "\n",
       "// Listen for the clearing of the current output cell\n",
       "var outputEl = gd.closest('.output');\n",
       "if (outputEl) {{\n",
       "    x.observe(outputEl, {childList: true});\n",
       "}}\n",
       "\n",
       "                        })                };                });            </script>        </div>"
      ]
     },
     "metadata": {},
     "output_type": "display_data"
    }
   ],
   "source": [
    "df3.iplot(kind='surface',colorscale='rdylbu')"
   ]
  },
  {
   "cell_type": "code",
   "execution_count": 39,
   "id": "d17af6b1",
   "metadata": {},
   "outputs": [
    {
     "data": {
      "application/vnd.plotly.v1+json": {
       "config": {
        "linkText": "Export to plot.ly",
        "plotlyServerURL": "https://plot.ly",
        "showLink": true
       },
       "data": [
        {
         "histfunc": "count",
         "histnorm": "",
         "marker": {
          "color": "rgba(255, 153, 51, 1.0)",
          "line": {
           "color": "#4D5663",
           "width": 1.3
          }
         },
         "name": "A",
         "nbinsx": 25,
         "opacity": 0.8,
         "orientation": "v",
         "type": "histogram",
         "x": [
          -1.5780143094608707,
          0.4224141679036228,
          -0.046044199547425994,
          0.2764425774695236,
          0.2832003904525572,
          -0.8244229229915959,
          0.3231680986676643,
          -2.5784754728961077,
          -1.1174667014919542,
          -0.10433571740892703,
          -0.8635825627075128,
          0.7213549567592623,
          -0.514209164071635,
          -0.0894937461585034,
          -1.0493787538844543,
          1.1600959677883953,
          0.015315579009527229,
          1.1373452911453181,
          -0.35205604004623087,
          0.9733588160495177,
          1.0175919245173992,
          -1.1032733279615654,
          -0.04091946153944837,
          0.29127869094225495,
          -0.8031504118174125,
          0.6154323976045675,
          -0.9416530536217149,
          -0.8615871361773523,
          1.7197517910385434,
          -1.3245217395911422,
          -0.9905387437971541,
          0.612921924303667,
          -1.7195845050451466,
          1.7794753656569549,
          1.390338780884705,
          1.5420775527370045,
          1.4602461868666108,
          0.3920840158671529,
          0.20740068599803843,
          -0.0525907643085713,
          -2.124496090536296,
          1.8033601534563382,
          -2.2134597571962984,
          -1.2320037595512683,
          -0.013623770292160971,
          0.10361627865663506,
          1.8251728914117562,
          -1.4567844712500666,
          1.6815715414433596,
          -1.6382228363459552,
          1.1785073527119436,
          -2.1103799953953857,
          -2.360654618156865,
          1.06403721627327,
          -0.6021400767598017,
          -0.47764716258391327,
          0.170088710868202,
          1.6261280670577174,
          0.29696401753219864,
          -0.551821204569244,
          -0.7933538478762096,
          1.2175829255456183,
          1.2929051874329027,
          1.8671528425987827,
          -0.4997985409441982,
          -1.0199402532984096,
          -0.773586095168086,
          -0.36877594456216256,
          -0.7896229212932089,
          -1.6187547203217891,
          0.5095063621113651,
          0.3892508134673948,
          1.8226250380923086,
          1.398772283602051,
          0.28258121963712785,
          0.3171731159206602,
          -0.4664976111440749,
          -0.2845925650841886,
          -1.4177805231493208,
          0.9495788651228273,
          0.42885197403303343,
          2.0694579684956147,
          -0.7334623227655961,
          -0.05343421964291611,
          -0.42613012697760827,
          0.7942339422888914,
          0.9822033206905049,
          1.1274178789267362,
          -0.4865849503191588,
          0.252100329107842,
          -0.5178559805808933,
          -0.7894057794818384,
          -0.6942281167523381,
          -1.2733291431281641,
          0.6615762834883798,
          -0.47001228540783596,
          1.1182681925497504,
          -0.23366998936225875,
          1.838116177785737,
          -0.8406962071636835
         ]
        },
        {
         "histfunc": "count",
         "histnorm": "",
         "marker": {
          "color": "rgba(55, 128, 191, 1.0)",
          "line": {
           "color": "#4D5663",
           "width": 1.3
          }
         },
         "name": "B",
         "nbinsx": 25,
         "opacity": 0.8,
         "orientation": "v",
         "type": "histogram",
         "x": [
          -0.0259506725481951,
          0.24435649772913426,
          1.0877733311223357,
          -1.8962004040020193,
          -0.25954921711141765,
          2.7043824859122476,
          1.0926540178862534,
          0.35217276213382537,
          0.1407838761058627,
          -0.6885384052765048,
          -1.383324172827188,
          1.1577865659859314,
          -1.8530220238946453,
          -1.2259532131837694,
          -1.7724024475662012,
          0.16921653511331095,
          -0.23502175645737877,
          -0.19493413743530474,
          2.1059690127705033,
          0.7145282505605425,
          -1.2459465065590833,
          -0.6112834219178358,
          -1.2972285557713692,
          -0.04391332479597896,
          -0.9127750185864033,
          0.8642737524596605,
          -1.2427033799781488,
          0.17809916107149085,
          0.9855511500907624,
          0.5789203698228469,
          1.353179929831089,
          -1.5811690329479169,
          0.21627646035202477,
          0.22918666030418786,
          -0.7657227806022304,
          1.2970745084573303,
          -0.4411467425812966,
          -0.002253022989131673,
          -0.27334995315785343,
          -0.747367567496964,
          -0.7707536473647956,
          -0.05356741888756035,
          -0.16058500038988138,
          -0.5283774811894479,
          0.7155354694021077,
          -0.6711991806061014,
          2.552152773933515,
          -0.5804357246008203,
          -0.9473705154872256,
          -0.7083728099568252,
          -0.12062595408966743,
          1.3937635936198711,
          1.3108596651627333,
          0.5468020472079963,
          -1.435505117973782,
          -0.5332814220831296,
          1.6801961892764308,
          -0.5839531012332301,
          -0.6360695371158908,
          -0.6699857250566243,
          1.3350702453545424,
          0.15520860787965896,
          -0.5236228725603096,
          -0.7853909085159455,
          0.12147932511505855,
          -0.15327619748009327,
          -1.0783259244660068,
          1.210341428022308,
          0.13966304107529887,
          -0.9399084888506885,
          -0.59902023061572,
          -0.9954913339458762,
          -0.7571127903134742,
          0.9807267710763179,
          0.7122861855974634,
          -0.9759818563206035,
          1.3560811000635984,
          -0.01974306520172108,
          0.018638522220582106,
          1.252650763361496,
          -1.7834401536838884,
          -0.32449111720371465,
          -3.147935945088936,
          -2.4677680161269415,
          -0.048587764266386856,
          0.3680883517657553,
          -0.725297987922035,
          -0.21514594619635463,
          -0.9977141038793348,
          -1.36596465153972,
          -0.552387349054642,
          -0.06680693818684787,
          -0.10991903665861248,
          -0.053436332518115956,
          -0.6239178589232137,
          1.0931547879237713,
          0.87178061557824,
          -0.13461311038414722,
          1.6880989246818119,
          0.546249759714265
         ]
        },
        {
         "histfunc": "count",
         "histnorm": "",
         "marker": {
          "color": "rgba(50, 171, 96, 1.0)",
          "line": {
           "color": "#4D5663",
           "width": 1.3
          }
         },
         "name": "C",
         "nbinsx": 25,
         "opacity": 0.8,
         "orientation": "v",
         "type": "histogram",
         "x": [
          0.08975292272801964,
          -1.122144724506423,
          0.41308708804683814,
          1.2291429573776043,
          -0.18877065292459855,
          -1.1827133158515823,
          0.1243820620472914,
          1.3664152433556176,
          -1.9317263932300122,
          -1.352599334638764,
          -1.2421362710127315,
          -0.11841390076466209,
          0.5676533077324823,
          2.0739104604246714,
          -0.5815660193270941,
          1.2342106376219761,
          1.2498521339262563,
          1.3641228885897345,
          0.6459650488502955,
          2.5601818715799407,
          -1.0978307291157816,
          1.1829438560535108,
          0.29373657583670565,
          0.3230546181531871,
          0.6987780265399964,
          -0.3545513737268042,
          1.4857524601434882,
          -0.4132454754168434,
          0.05185298448743799,
          0.318740957267097,
          1.3422031376556471,
          0.4159717801633933,
          1.1240504425180868,
          0.08843141393854091,
          0.19569293967241883,
          -0.5106019786377393,
          0.651574929047979,
          1.076220472519304,
          0.8488139449190083,
          0.625719223791922,
          0.5384437942374167,
          -0.5791426091552936,
          0.07668327712532673,
          -1.0390555690919654,
          -0.9271828938913351,
          0.391321175625563,
          -1.1318486107929164,
          -0.9620286554769042,
          0.455186372710968,
          -0.12246231655648669,
          1.7658189811363842,
          0.015485743147627212,
          -0.15939516759891706,
          0.5973398128847196,
          -0.17092565166135884,
          1.4947565162288488,
          0.08818093299296717,
          0.3432864897356414,
          -1.5572520156193959,
          0.955097996963139,
          -1.1463326824656868,
          -0.9679646288045803,
          -0.8996013936916627,
          1.619383421354637,
          1.8915358096961847,
          -1.3010202332392893,
          -0.4430385120251768,
          -0.36277275864847225,
          -0.3507681604645573,
          0.4001941423834444,
          0.6379541719377324,
          -0.921473030500794,
          -1.6067592713761423,
          -0.868582936032858,
          -0.9872348162604733,
          1.1826319763894984,
          -1.5857224651751778,
          1.3525105825459645,
          -0.9124056218723686,
          -0.3721181347015726,
          -0.7723146374495938,
          -0.5279691194847891,
          -0.14970976371896033,
          -1.2540461059105112,
          -0.18344310199684313,
          0.7354652158449307,
          -0.031022490215679255,
          1.407338098420656,
          1.0351227840283723,
          0.20974743668509147,
          0.7160528638967536,
          0.053054345974461244,
          0.57691522773279,
          -1.8239612844563236,
          -1.9614136463628828,
          -0.1681368787066811,
          -1.275670453649495,
          0.7528644393397567,
          1.984766448686928,
          -0.08338474525791412
         ]
        },
        {
         "histfunc": "count",
         "histnorm": "",
         "marker": {
          "color": "rgba(128, 0, 128, 1.0)",
          "line": {
           "color": "#4D5663",
           "width": 1.3
          }
         },
         "name": "D",
         "nbinsx": 25,
         "opacity": 0.8,
         "orientation": "v",
         "type": "histogram",
         "x": [
          0.41582869604078676,
          0.08908090066659761,
          0.632897792621766,
          -0.2686957435142303,
          1.3935159015592866,
          -0.8841738165587938,
          0.04932020526232218,
          0.36083784255909696,
          0.5930700973382189,
          -0.7657210849831314,
          0.3267866329349151,
          1.5315699020346707,
          0.9712367876769182,
          -0.5905627182410459,
          -1.3007546297340629,
          -0.34270591049516025,
          -1.5444237356190753,
          1.3699224480253112,
          -0.5266601285331476,
          0.5218845104131509,
          -0.289624293712778,
          1.627351155893597,
          -1.1085599103320858,
          -0.7420379098700417,
          -0.3149385319792866,
          -0.385322306494416,
          1.3644526579034364,
          2.079390165287902,
          -0.9742206393662634,
          1.2164447116874373,
          0.3884321920313758,
          0.05507351497563259,
          0.5537148088290685,
          0.9223255572156578,
          -1.1670079433842513,
          -0.3135914685982984,
          1.0280770318659986,
          1.034208907032944,
          -0.9543377870675673,
          0.3829261951238701,
          -0.4774554270984158,
          1.857189262125492,
          0.27372529281337127,
          0.5145056173683261,
          -1.8524243682403903,
          0.6609968024478915,
          0.9861395451158472,
          0.236140297614199,
          0.2908269638573059,
          -0.5752767944825667,
          -0.10057475917755876,
          -0.8304574393966371,
          0.8394761248023412,
          -0.023112911194574703,
          -0.10541255871813637,
          0.40528831453003633,
          -1.7710003577295346,
          0.7003695443008019,
          -0.29595497417923705,
          0.7877849088254777,
          0.018086661637771565,
          -0.7523864957601858,
          -0.5925693080516211,
          2.7421756230459726,
          1.0868034162769078,
          2.2164334411102016,
          -0.5579699522423354,
          -1.2120639369984552,
          0.1440693357679276,
          -0.3112521195278353,
          -0.658596876546112,
          -0.8516897810622372,
          0.26133771366302966,
          -0.5009523402944972,
          -0.2610761190843744,
          1.3331496610644178,
          -0.2833154163537059,
          0.3906132760197774,
          0.36039296559861506,
          -1.4904439630173527,
          -0.5517329797875375,
          0.16347899128366633,
          0.7391508140400805,
          -1.13270922546856,
          -0.11346311599323608,
          -3.084242905951554,
          -1.0235631003432333,
          -0.8657644590205056,
          -0.43819452759309097,
          -2.020390719364349,
          0.024301027689802666,
          1.409069805891714,
          -0.5961646060273115,
          -0.4957491641382199,
          -0.8021720304829231,
          0.6528503562831411,
          -0.3458809496432313,
          -0.10578463830901161,
          2.40958535050643,
          -0.286802649121502
         ]
        }
       ],
       "layout": {
        "barmode": "overlay",
        "legend": {
         "bgcolor": "#F5F6F9",
         "font": {
          "color": "#4D5663"
         }
        },
        "paper_bgcolor": "#F5F6F9",
        "plot_bgcolor": "#F5F6F9",
        "template": {
         "data": {
          "bar": [
           {
            "error_x": {
             "color": "#2a3f5f"
            },
            "error_y": {
             "color": "#2a3f5f"
            },
            "marker": {
             "line": {
              "color": "#E5ECF6",
              "width": 0.5
             },
             "pattern": {
              "fillmode": "overlay",
              "size": 10,
              "solidity": 0.2
             }
            },
            "type": "bar"
           }
          ],
          "barpolar": [
           {
            "marker": {
             "line": {
              "color": "#E5ECF6",
              "width": 0.5
             },
             "pattern": {
              "fillmode": "overlay",
              "size": 10,
              "solidity": 0.2
             }
            },
            "type": "barpolar"
           }
          ],
          "carpet": [
           {
            "aaxis": {
             "endlinecolor": "#2a3f5f",
             "gridcolor": "white",
             "linecolor": "white",
             "minorgridcolor": "white",
             "startlinecolor": "#2a3f5f"
            },
            "baxis": {
             "endlinecolor": "#2a3f5f",
             "gridcolor": "white",
             "linecolor": "white",
             "minorgridcolor": "white",
             "startlinecolor": "#2a3f5f"
            },
            "type": "carpet"
           }
          ],
          "choropleth": [
           {
            "colorbar": {
             "outlinewidth": 0,
             "ticks": ""
            },
            "type": "choropleth"
           }
          ],
          "contour": [
           {
            "colorbar": {
             "outlinewidth": 0,
             "ticks": ""
            },
            "colorscale": [
             [
              0,
              "#0d0887"
             ],
             [
              0.1111111111111111,
              "#46039f"
             ],
             [
              0.2222222222222222,
              "#7201a8"
             ],
             [
              0.3333333333333333,
              "#9c179e"
             ],
             [
              0.4444444444444444,
              "#bd3786"
             ],
             [
              0.5555555555555556,
              "#d8576b"
             ],
             [
              0.6666666666666666,
              "#ed7953"
             ],
             [
              0.7777777777777778,
              "#fb9f3a"
             ],
             [
              0.8888888888888888,
              "#fdca26"
             ],
             [
              1,
              "#f0f921"
             ]
            ],
            "type": "contour"
           }
          ],
          "contourcarpet": [
           {
            "colorbar": {
             "outlinewidth": 0,
             "ticks": ""
            },
            "type": "contourcarpet"
           }
          ],
          "heatmap": [
           {
            "colorbar": {
             "outlinewidth": 0,
             "ticks": ""
            },
            "colorscale": [
             [
              0,
              "#0d0887"
             ],
             [
              0.1111111111111111,
              "#46039f"
             ],
             [
              0.2222222222222222,
              "#7201a8"
             ],
             [
              0.3333333333333333,
              "#9c179e"
             ],
             [
              0.4444444444444444,
              "#bd3786"
             ],
             [
              0.5555555555555556,
              "#d8576b"
             ],
             [
              0.6666666666666666,
              "#ed7953"
             ],
             [
              0.7777777777777778,
              "#fb9f3a"
             ],
             [
              0.8888888888888888,
              "#fdca26"
             ],
             [
              1,
              "#f0f921"
             ]
            ],
            "type": "heatmap"
           }
          ],
          "heatmapgl": [
           {
            "colorbar": {
             "outlinewidth": 0,
             "ticks": ""
            },
            "colorscale": [
             [
              0,
              "#0d0887"
             ],
             [
              0.1111111111111111,
              "#46039f"
             ],
             [
              0.2222222222222222,
              "#7201a8"
             ],
             [
              0.3333333333333333,
              "#9c179e"
             ],
             [
              0.4444444444444444,
              "#bd3786"
             ],
             [
              0.5555555555555556,
              "#d8576b"
             ],
             [
              0.6666666666666666,
              "#ed7953"
             ],
             [
              0.7777777777777778,
              "#fb9f3a"
             ],
             [
              0.8888888888888888,
              "#fdca26"
             ],
             [
              1,
              "#f0f921"
             ]
            ],
            "type": "heatmapgl"
           }
          ],
          "histogram": [
           {
            "marker": {
             "pattern": {
              "fillmode": "overlay",
              "size": 10,
              "solidity": 0.2
             }
            },
            "type": "histogram"
           }
          ],
          "histogram2d": [
           {
            "colorbar": {
             "outlinewidth": 0,
             "ticks": ""
            },
            "colorscale": [
             [
              0,
              "#0d0887"
             ],
             [
              0.1111111111111111,
              "#46039f"
             ],
             [
              0.2222222222222222,
              "#7201a8"
             ],
             [
              0.3333333333333333,
              "#9c179e"
             ],
             [
              0.4444444444444444,
              "#bd3786"
             ],
             [
              0.5555555555555556,
              "#d8576b"
             ],
             [
              0.6666666666666666,
              "#ed7953"
             ],
             [
              0.7777777777777778,
              "#fb9f3a"
             ],
             [
              0.8888888888888888,
              "#fdca26"
             ],
             [
              1,
              "#f0f921"
             ]
            ],
            "type": "histogram2d"
           }
          ],
          "histogram2dcontour": [
           {
            "colorbar": {
             "outlinewidth": 0,
             "ticks": ""
            },
            "colorscale": [
             [
              0,
              "#0d0887"
             ],
             [
              0.1111111111111111,
              "#46039f"
             ],
             [
              0.2222222222222222,
              "#7201a8"
             ],
             [
              0.3333333333333333,
              "#9c179e"
             ],
             [
              0.4444444444444444,
              "#bd3786"
             ],
             [
              0.5555555555555556,
              "#d8576b"
             ],
             [
              0.6666666666666666,
              "#ed7953"
             ],
             [
              0.7777777777777778,
              "#fb9f3a"
             ],
             [
              0.8888888888888888,
              "#fdca26"
             ],
             [
              1,
              "#f0f921"
             ]
            ],
            "type": "histogram2dcontour"
           }
          ],
          "mesh3d": [
           {
            "colorbar": {
             "outlinewidth": 0,
             "ticks": ""
            },
            "type": "mesh3d"
           }
          ],
          "parcoords": [
           {
            "line": {
             "colorbar": {
              "outlinewidth": 0,
              "ticks": ""
             }
            },
            "type": "parcoords"
           }
          ],
          "pie": [
           {
            "automargin": true,
            "type": "pie"
           }
          ],
          "scatter": [
           {
            "marker": {
             "colorbar": {
              "outlinewidth": 0,
              "ticks": ""
             }
            },
            "type": "scatter"
           }
          ],
          "scatter3d": [
           {
            "line": {
             "colorbar": {
              "outlinewidth": 0,
              "ticks": ""
             }
            },
            "marker": {
             "colorbar": {
              "outlinewidth": 0,
              "ticks": ""
             }
            },
            "type": "scatter3d"
           }
          ],
          "scattercarpet": [
           {
            "marker": {
             "colorbar": {
              "outlinewidth": 0,
              "ticks": ""
             }
            },
            "type": "scattercarpet"
           }
          ],
          "scattergeo": [
           {
            "marker": {
             "colorbar": {
              "outlinewidth": 0,
              "ticks": ""
             }
            },
            "type": "scattergeo"
           }
          ],
          "scattergl": [
           {
            "marker": {
             "colorbar": {
              "outlinewidth": 0,
              "ticks": ""
             }
            },
            "type": "scattergl"
           }
          ],
          "scattermapbox": [
           {
            "marker": {
             "colorbar": {
              "outlinewidth": 0,
              "ticks": ""
             }
            },
            "type": "scattermapbox"
           }
          ],
          "scatterpolar": [
           {
            "marker": {
             "colorbar": {
              "outlinewidth": 0,
              "ticks": ""
             }
            },
            "type": "scatterpolar"
           }
          ],
          "scatterpolargl": [
           {
            "marker": {
             "colorbar": {
              "outlinewidth": 0,
              "ticks": ""
             }
            },
            "type": "scatterpolargl"
           }
          ],
          "scatterternary": [
           {
            "marker": {
             "colorbar": {
              "outlinewidth": 0,
              "ticks": ""
             }
            },
            "type": "scatterternary"
           }
          ],
          "surface": [
           {
            "colorbar": {
             "outlinewidth": 0,
             "ticks": ""
            },
            "colorscale": [
             [
              0,
              "#0d0887"
             ],
             [
              0.1111111111111111,
              "#46039f"
             ],
             [
              0.2222222222222222,
              "#7201a8"
             ],
             [
              0.3333333333333333,
              "#9c179e"
             ],
             [
              0.4444444444444444,
              "#bd3786"
             ],
             [
              0.5555555555555556,
              "#d8576b"
             ],
             [
              0.6666666666666666,
              "#ed7953"
             ],
             [
              0.7777777777777778,
              "#fb9f3a"
             ],
             [
              0.8888888888888888,
              "#fdca26"
             ],
             [
              1,
              "#f0f921"
             ]
            ],
            "type": "surface"
           }
          ],
          "table": [
           {
            "cells": {
             "fill": {
              "color": "#EBF0F8"
             },
             "line": {
              "color": "white"
             }
            },
            "header": {
             "fill": {
              "color": "#C8D4E3"
             },
             "line": {
              "color": "white"
             }
            },
            "type": "table"
           }
          ]
         },
         "layout": {
          "annotationdefaults": {
           "arrowcolor": "#2a3f5f",
           "arrowhead": 0,
           "arrowwidth": 1
          },
          "autotypenumbers": "strict",
          "coloraxis": {
           "colorbar": {
            "outlinewidth": 0,
            "ticks": ""
           }
          },
          "colorscale": {
           "diverging": [
            [
             0,
             "#8e0152"
            ],
            [
             0.1,
             "#c51b7d"
            ],
            [
             0.2,
             "#de77ae"
            ],
            [
             0.3,
             "#f1b6da"
            ],
            [
             0.4,
             "#fde0ef"
            ],
            [
             0.5,
             "#f7f7f7"
            ],
            [
             0.6,
             "#e6f5d0"
            ],
            [
             0.7,
             "#b8e186"
            ],
            [
             0.8,
             "#7fbc41"
            ],
            [
             0.9,
             "#4d9221"
            ],
            [
             1,
             "#276419"
            ]
           ],
           "sequential": [
            [
             0,
             "#0d0887"
            ],
            [
             0.1111111111111111,
             "#46039f"
            ],
            [
             0.2222222222222222,
             "#7201a8"
            ],
            [
             0.3333333333333333,
             "#9c179e"
            ],
            [
             0.4444444444444444,
             "#bd3786"
            ],
            [
             0.5555555555555556,
             "#d8576b"
            ],
            [
             0.6666666666666666,
             "#ed7953"
            ],
            [
             0.7777777777777778,
             "#fb9f3a"
            ],
            [
             0.8888888888888888,
             "#fdca26"
            ],
            [
             1,
             "#f0f921"
            ]
           ],
           "sequentialminus": [
            [
             0,
             "#0d0887"
            ],
            [
             0.1111111111111111,
             "#46039f"
            ],
            [
             0.2222222222222222,
             "#7201a8"
            ],
            [
             0.3333333333333333,
             "#9c179e"
            ],
            [
             0.4444444444444444,
             "#bd3786"
            ],
            [
             0.5555555555555556,
             "#d8576b"
            ],
            [
             0.6666666666666666,
             "#ed7953"
            ],
            [
             0.7777777777777778,
             "#fb9f3a"
            ],
            [
             0.8888888888888888,
             "#fdca26"
            ],
            [
             1,
             "#f0f921"
            ]
           ]
          },
          "colorway": [
           "#636efa",
           "#EF553B",
           "#00cc96",
           "#ab63fa",
           "#FFA15A",
           "#19d3f3",
           "#FF6692",
           "#B6E880",
           "#FF97FF",
           "#FECB52"
          ],
          "font": {
           "color": "#2a3f5f"
          },
          "geo": {
           "bgcolor": "white",
           "lakecolor": "white",
           "landcolor": "#E5ECF6",
           "showlakes": true,
           "showland": true,
           "subunitcolor": "white"
          },
          "hoverlabel": {
           "align": "left"
          },
          "hovermode": "closest",
          "mapbox": {
           "style": "light"
          },
          "paper_bgcolor": "white",
          "plot_bgcolor": "#E5ECF6",
          "polar": {
           "angularaxis": {
            "gridcolor": "white",
            "linecolor": "white",
            "ticks": ""
           },
           "bgcolor": "#E5ECF6",
           "radialaxis": {
            "gridcolor": "white",
            "linecolor": "white",
            "ticks": ""
           }
          },
          "scene": {
           "xaxis": {
            "backgroundcolor": "#E5ECF6",
            "gridcolor": "white",
            "gridwidth": 2,
            "linecolor": "white",
            "showbackground": true,
            "ticks": "",
            "zerolinecolor": "white"
           },
           "yaxis": {
            "backgroundcolor": "#E5ECF6",
            "gridcolor": "white",
            "gridwidth": 2,
            "linecolor": "white",
            "showbackground": true,
            "ticks": "",
            "zerolinecolor": "white"
           },
           "zaxis": {
            "backgroundcolor": "#E5ECF6",
            "gridcolor": "white",
            "gridwidth": 2,
            "linecolor": "white",
            "showbackground": true,
            "ticks": "",
            "zerolinecolor": "white"
           }
          },
          "shapedefaults": {
           "line": {
            "color": "#2a3f5f"
           }
          },
          "ternary": {
           "aaxis": {
            "gridcolor": "white",
            "linecolor": "white",
            "ticks": ""
           },
           "baxis": {
            "gridcolor": "white",
            "linecolor": "white",
            "ticks": ""
           },
           "bgcolor": "#E5ECF6",
           "caxis": {
            "gridcolor": "white",
            "linecolor": "white",
            "ticks": ""
           }
          },
          "title": {
           "x": 0.05
          },
          "xaxis": {
           "automargin": true,
           "gridcolor": "white",
           "linecolor": "white",
           "ticks": "",
           "title": {
            "standoff": 15
           },
           "zerolinecolor": "white",
           "zerolinewidth": 2
          },
          "yaxis": {
           "automargin": true,
           "gridcolor": "white",
           "linecolor": "white",
           "ticks": "",
           "title": {
            "standoff": 15
           },
           "zerolinecolor": "white",
           "zerolinewidth": 2
          }
         }
        },
        "title": {
         "font": {
          "color": "#4D5663"
         }
        },
        "xaxis": {
         "gridcolor": "#E1E5ED",
         "showgrid": true,
         "tickfont": {
          "color": "#4D5663"
         },
         "title": {
          "font": {
           "color": "#4D5663"
          },
          "text": ""
         },
         "zerolinecolor": "#E1E5ED"
        },
        "yaxis": {
         "gridcolor": "#E1E5ED",
         "showgrid": true,
         "tickfont": {
          "color": "#4D5663"
         },
         "title": {
          "font": {
           "color": "#4D5663"
          },
          "text": ""
         },
         "zerolinecolor": "#E1E5ED"
        }
       }
      },
      "text/html": [
       "<div>                            <div id=\"d1c87145-b25a-414d-ae69-1c651387c8e5\" class=\"plotly-graph-div\" style=\"height:525px; width:100%;\"></div>            <script type=\"text/javascript\">                require([\"plotly\"], function(Plotly) {                    window.PLOTLYENV=window.PLOTLYENV || {};\n",
       "                    window.PLOTLYENV.BASE_URL='https://plot.ly';                                    if (document.getElementById(\"d1c87145-b25a-414d-ae69-1c651387c8e5\")) {                    Plotly.newPlot(                        \"d1c87145-b25a-414d-ae69-1c651387c8e5\",                        [{\"histfunc\":\"count\",\"histnorm\":\"\",\"marker\":{\"color\":\"rgba(255, 153, 51, 1.0)\",\"line\":{\"color\":\"#4D5663\",\"width\":1.3}},\"name\":\"A\",\"nbinsx\":25,\"opacity\":0.8,\"orientation\":\"v\",\"type\":\"histogram\",\"x\":[-1.5780143094608707,0.4224141679036228,-0.046044199547425994,0.2764425774695236,0.2832003904525572,-0.8244229229915959,0.3231680986676643,-2.5784754728961077,-1.1174667014919542,-0.10433571740892703,-0.8635825627075128,0.7213549567592623,-0.514209164071635,-0.0894937461585034,-1.0493787538844543,1.1600959677883953,0.015315579009527229,1.1373452911453181,-0.35205604004623087,0.9733588160495177,1.0175919245173992,-1.1032733279615654,-0.04091946153944837,0.29127869094225495,-0.8031504118174125,0.6154323976045675,-0.9416530536217149,-0.8615871361773523,1.7197517910385434,-1.3245217395911422,-0.9905387437971541,0.612921924303667,-1.7195845050451466,1.7794753656569549,1.390338780884705,1.5420775527370045,1.4602461868666108,0.3920840158671529,0.20740068599803843,-0.0525907643085713,-2.124496090536296,1.8033601534563382,-2.2134597571962984,-1.2320037595512683,-0.013623770292160971,0.10361627865663506,1.8251728914117562,-1.4567844712500666,1.6815715414433596,-1.6382228363459552,1.1785073527119436,-2.1103799953953857,-2.360654618156865,1.06403721627327,-0.6021400767598017,-0.47764716258391327,0.170088710868202,1.6261280670577174,0.29696401753219864,-0.551821204569244,-0.7933538478762096,1.2175829255456183,1.2929051874329027,1.8671528425987827,-0.4997985409441982,-1.0199402532984096,-0.773586095168086,-0.36877594456216256,-0.7896229212932089,-1.6187547203217891,0.5095063621113651,0.3892508134673948,1.8226250380923086,1.398772283602051,0.28258121963712785,0.3171731159206602,-0.4664976111440749,-0.2845925650841886,-1.4177805231493208,0.9495788651228273,0.42885197403303343,2.0694579684956147,-0.7334623227655961,-0.05343421964291611,-0.42613012697760827,0.7942339422888914,0.9822033206905049,1.1274178789267362,-0.4865849503191588,0.252100329107842,-0.5178559805808933,-0.7894057794818384,-0.6942281167523381,-1.2733291431281641,0.6615762834883798,-0.47001228540783596,1.1182681925497504,-0.23366998936225875,1.838116177785737,-0.8406962071636835]},{\"histfunc\":\"count\",\"histnorm\":\"\",\"marker\":{\"color\":\"rgba(55, 128, 191, 1.0)\",\"line\":{\"color\":\"#4D5663\",\"width\":1.3}},\"name\":\"B\",\"nbinsx\":25,\"opacity\":0.8,\"orientation\":\"v\",\"type\":\"histogram\",\"x\":[-0.0259506725481951,0.24435649772913426,1.0877733311223357,-1.8962004040020193,-0.25954921711141765,2.7043824859122476,1.0926540178862534,0.35217276213382537,0.1407838761058627,-0.6885384052765048,-1.383324172827188,1.1577865659859314,-1.8530220238946453,-1.2259532131837694,-1.7724024475662012,0.16921653511331095,-0.23502175645737877,-0.19493413743530474,2.1059690127705033,0.7145282505605425,-1.2459465065590833,-0.6112834219178358,-1.2972285557713692,-0.04391332479597896,-0.9127750185864033,0.8642737524596605,-1.2427033799781488,0.17809916107149085,0.9855511500907624,0.5789203698228469,1.353179929831089,-1.5811690329479169,0.21627646035202477,0.22918666030418786,-0.7657227806022304,1.2970745084573303,-0.4411467425812966,-0.002253022989131673,-0.27334995315785343,-0.747367567496964,-0.7707536473647956,-0.05356741888756035,-0.16058500038988138,-0.5283774811894479,0.7155354694021077,-0.6711991806061014,2.552152773933515,-0.5804357246008203,-0.9473705154872256,-0.7083728099568252,-0.12062595408966743,1.3937635936198711,1.3108596651627333,0.5468020472079963,-1.435505117973782,-0.5332814220831296,1.6801961892764308,-0.5839531012332301,-0.6360695371158908,-0.6699857250566243,1.3350702453545424,0.15520860787965896,-0.5236228725603096,-0.7853909085159455,0.12147932511505855,-0.15327619748009327,-1.0783259244660068,1.210341428022308,0.13966304107529887,-0.9399084888506885,-0.59902023061572,-0.9954913339458762,-0.7571127903134742,0.9807267710763179,0.7122861855974634,-0.9759818563206035,1.3560811000635984,-0.01974306520172108,0.018638522220582106,1.252650763361496,-1.7834401536838884,-0.32449111720371465,-3.147935945088936,-2.4677680161269415,-0.048587764266386856,0.3680883517657553,-0.725297987922035,-0.21514594619635463,-0.9977141038793348,-1.36596465153972,-0.552387349054642,-0.06680693818684787,-0.10991903665861248,-0.053436332518115956,-0.6239178589232137,1.0931547879237713,0.87178061557824,-0.13461311038414722,1.6880989246818119,0.546249759714265]},{\"histfunc\":\"count\",\"histnorm\":\"\",\"marker\":{\"color\":\"rgba(50, 171, 96, 1.0)\",\"line\":{\"color\":\"#4D5663\",\"width\":1.3}},\"name\":\"C\",\"nbinsx\":25,\"opacity\":0.8,\"orientation\":\"v\",\"type\":\"histogram\",\"x\":[0.08975292272801964,-1.122144724506423,0.41308708804683814,1.2291429573776043,-0.18877065292459855,-1.1827133158515823,0.1243820620472914,1.3664152433556176,-1.9317263932300122,-1.352599334638764,-1.2421362710127315,-0.11841390076466209,0.5676533077324823,2.0739104604246714,-0.5815660193270941,1.2342106376219761,1.2498521339262563,1.3641228885897345,0.6459650488502955,2.5601818715799407,-1.0978307291157816,1.1829438560535108,0.29373657583670565,0.3230546181531871,0.6987780265399964,-0.3545513737268042,1.4857524601434882,-0.4132454754168434,0.05185298448743799,0.318740957267097,1.3422031376556471,0.4159717801633933,1.1240504425180868,0.08843141393854091,0.19569293967241883,-0.5106019786377393,0.651574929047979,1.076220472519304,0.8488139449190083,0.625719223791922,0.5384437942374167,-0.5791426091552936,0.07668327712532673,-1.0390555690919654,-0.9271828938913351,0.391321175625563,-1.1318486107929164,-0.9620286554769042,0.455186372710968,-0.12246231655648669,1.7658189811363842,0.015485743147627212,-0.15939516759891706,0.5973398128847196,-0.17092565166135884,1.4947565162288488,0.08818093299296717,0.3432864897356414,-1.5572520156193959,0.955097996963139,-1.1463326824656868,-0.9679646288045803,-0.8996013936916627,1.619383421354637,1.8915358096961847,-1.3010202332392893,-0.4430385120251768,-0.36277275864847225,-0.3507681604645573,0.4001941423834444,0.6379541719377324,-0.921473030500794,-1.6067592713761423,-0.868582936032858,-0.9872348162604733,1.1826319763894984,-1.5857224651751778,1.3525105825459645,-0.9124056218723686,-0.3721181347015726,-0.7723146374495938,-0.5279691194847891,-0.14970976371896033,-1.2540461059105112,-0.18344310199684313,0.7354652158449307,-0.031022490215679255,1.407338098420656,1.0351227840283723,0.20974743668509147,0.7160528638967536,0.053054345974461244,0.57691522773279,-1.8239612844563236,-1.9614136463628828,-0.1681368787066811,-1.275670453649495,0.7528644393397567,1.984766448686928,-0.08338474525791412]},{\"histfunc\":\"count\",\"histnorm\":\"\",\"marker\":{\"color\":\"rgba(128, 0, 128, 1.0)\",\"line\":{\"color\":\"#4D5663\",\"width\":1.3}},\"name\":\"D\",\"nbinsx\":25,\"opacity\":0.8,\"orientation\":\"v\",\"type\":\"histogram\",\"x\":[0.41582869604078676,0.08908090066659761,0.632897792621766,-0.2686957435142303,1.3935159015592866,-0.8841738165587938,0.04932020526232218,0.36083784255909696,0.5930700973382189,-0.7657210849831314,0.3267866329349151,1.5315699020346707,0.9712367876769182,-0.5905627182410459,-1.3007546297340629,-0.34270591049516025,-1.5444237356190753,1.3699224480253112,-0.5266601285331476,0.5218845104131509,-0.289624293712778,1.627351155893597,-1.1085599103320858,-0.7420379098700417,-0.3149385319792866,-0.385322306494416,1.3644526579034364,2.079390165287902,-0.9742206393662634,1.2164447116874373,0.3884321920313758,0.05507351497563259,0.5537148088290685,0.9223255572156578,-1.1670079433842513,-0.3135914685982984,1.0280770318659986,1.034208907032944,-0.9543377870675673,0.3829261951238701,-0.4774554270984158,1.857189262125492,0.27372529281337127,0.5145056173683261,-1.8524243682403903,0.6609968024478915,0.9861395451158472,0.236140297614199,0.2908269638573059,-0.5752767944825667,-0.10057475917755876,-0.8304574393966371,0.8394761248023412,-0.023112911194574703,-0.10541255871813637,0.40528831453003633,-1.7710003577295346,0.7003695443008019,-0.29595497417923705,0.7877849088254777,0.018086661637771565,-0.7523864957601858,-0.5925693080516211,2.7421756230459726,1.0868034162769078,2.2164334411102016,-0.5579699522423354,-1.2120639369984552,0.1440693357679276,-0.3112521195278353,-0.658596876546112,-0.8516897810622372,0.26133771366302966,-0.5009523402944972,-0.2610761190843744,1.3331496610644178,-0.2833154163537059,0.3906132760197774,0.36039296559861506,-1.4904439630173527,-0.5517329797875375,0.16347899128366633,0.7391508140400805,-1.13270922546856,-0.11346311599323608,-3.084242905951554,-1.0235631003432333,-0.8657644590205056,-0.43819452759309097,-2.020390719364349,0.024301027689802666,1.409069805891714,-0.5961646060273115,-0.4957491641382199,-0.8021720304829231,0.6528503562831411,-0.3458809496432313,-0.10578463830901161,2.40958535050643,-0.286802649121502]}],                        {\"barmode\":\"overlay\",\"legend\":{\"bgcolor\":\"#F5F6F9\",\"font\":{\"color\":\"#4D5663\"}},\"paper_bgcolor\":\"#F5F6F9\",\"plot_bgcolor\":\"#F5F6F9\",\"template\":{\"data\":{\"bar\":[{\"error_x\":{\"color\":\"#2a3f5f\"},\"error_y\":{\"color\":\"#2a3f5f\"},\"marker\":{\"line\":{\"color\":\"#E5ECF6\",\"width\":0.5},\"pattern\":{\"fillmode\":\"overlay\",\"size\":10,\"solidity\":0.2}},\"type\":\"bar\"}],\"barpolar\":[{\"marker\":{\"line\":{\"color\":\"#E5ECF6\",\"width\":0.5},\"pattern\":{\"fillmode\":\"overlay\",\"size\":10,\"solidity\":0.2}},\"type\":\"barpolar\"}],\"carpet\":[{\"aaxis\":{\"endlinecolor\":\"#2a3f5f\",\"gridcolor\":\"white\",\"linecolor\":\"white\",\"minorgridcolor\":\"white\",\"startlinecolor\":\"#2a3f5f\"},\"baxis\":{\"endlinecolor\":\"#2a3f5f\",\"gridcolor\":\"white\",\"linecolor\":\"white\",\"minorgridcolor\":\"white\",\"startlinecolor\":\"#2a3f5f\"},\"type\":\"carpet\"}],\"choropleth\":[{\"colorbar\":{\"outlinewidth\":0,\"ticks\":\"\"},\"type\":\"choropleth\"}],\"contour\":[{\"colorbar\":{\"outlinewidth\":0,\"ticks\":\"\"},\"colorscale\":[[0.0,\"#0d0887\"],[0.1111111111111111,\"#46039f\"],[0.2222222222222222,\"#7201a8\"],[0.3333333333333333,\"#9c179e\"],[0.4444444444444444,\"#bd3786\"],[0.5555555555555556,\"#d8576b\"],[0.6666666666666666,\"#ed7953\"],[0.7777777777777778,\"#fb9f3a\"],[0.8888888888888888,\"#fdca26\"],[1.0,\"#f0f921\"]],\"type\":\"contour\"}],\"contourcarpet\":[{\"colorbar\":{\"outlinewidth\":0,\"ticks\":\"\"},\"type\":\"contourcarpet\"}],\"heatmap\":[{\"colorbar\":{\"outlinewidth\":0,\"ticks\":\"\"},\"colorscale\":[[0.0,\"#0d0887\"],[0.1111111111111111,\"#46039f\"],[0.2222222222222222,\"#7201a8\"],[0.3333333333333333,\"#9c179e\"],[0.4444444444444444,\"#bd3786\"],[0.5555555555555556,\"#d8576b\"],[0.6666666666666666,\"#ed7953\"],[0.7777777777777778,\"#fb9f3a\"],[0.8888888888888888,\"#fdca26\"],[1.0,\"#f0f921\"]],\"type\":\"heatmap\"}],\"heatmapgl\":[{\"colorbar\":{\"outlinewidth\":0,\"ticks\":\"\"},\"colorscale\":[[0.0,\"#0d0887\"],[0.1111111111111111,\"#46039f\"],[0.2222222222222222,\"#7201a8\"],[0.3333333333333333,\"#9c179e\"],[0.4444444444444444,\"#bd3786\"],[0.5555555555555556,\"#d8576b\"],[0.6666666666666666,\"#ed7953\"],[0.7777777777777778,\"#fb9f3a\"],[0.8888888888888888,\"#fdca26\"],[1.0,\"#f0f921\"]],\"type\":\"heatmapgl\"}],\"histogram\":[{\"marker\":{\"pattern\":{\"fillmode\":\"overlay\",\"size\":10,\"solidity\":0.2}},\"type\":\"histogram\"}],\"histogram2d\":[{\"colorbar\":{\"outlinewidth\":0,\"ticks\":\"\"},\"colorscale\":[[0.0,\"#0d0887\"],[0.1111111111111111,\"#46039f\"],[0.2222222222222222,\"#7201a8\"],[0.3333333333333333,\"#9c179e\"],[0.4444444444444444,\"#bd3786\"],[0.5555555555555556,\"#d8576b\"],[0.6666666666666666,\"#ed7953\"],[0.7777777777777778,\"#fb9f3a\"],[0.8888888888888888,\"#fdca26\"],[1.0,\"#f0f921\"]],\"type\":\"histogram2d\"}],\"histogram2dcontour\":[{\"colorbar\":{\"outlinewidth\":0,\"ticks\":\"\"},\"colorscale\":[[0.0,\"#0d0887\"],[0.1111111111111111,\"#46039f\"],[0.2222222222222222,\"#7201a8\"],[0.3333333333333333,\"#9c179e\"],[0.4444444444444444,\"#bd3786\"],[0.5555555555555556,\"#d8576b\"],[0.6666666666666666,\"#ed7953\"],[0.7777777777777778,\"#fb9f3a\"],[0.8888888888888888,\"#fdca26\"],[1.0,\"#f0f921\"]],\"type\":\"histogram2dcontour\"}],\"mesh3d\":[{\"colorbar\":{\"outlinewidth\":0,\"ticks\":\"\"},\"type\":\"mesh3d\"}],\"parcoords\":[{\"line\":{\"colorbar\":{\"outlinewidth\":0,\"ticks\":\"\"}},\"type\":\"parcoords\"}],\"pie\":[{\"automargin\":true,\"type\":\"pie\"}],\"scatter\":[{\"marker\":{\"colorbar\":{\"outlinewidth\":0,\"ticks\":\"\"}},\"type\":\"scatter\"}],\"scatter3d\":[{\"line\":{\"colorbar\":{\"outlinewidth\":0,\"ticks\":\"\"}},\"marker\":{\"colorbar\":{\"outlinewidth\":0,\"ticks\":\"\"}},\"type\":\"scatter3d\"}],\"scattercarpet\":[{\"marker\":{\"colorbar\":{\"outlinewidth\":0,\"ticks\":\"\"}},\"type\":\"scattercarpet\"}],\"scattergeo\":[{\"marker\":{\"colorbar\":{\"outlinewidth\":0,\"ticks\":\"\"}},\"type\":\"scattergeo\"}],\"scattergl\":[{\"marker\":{\"colorbar\":{\"outlinewidth\":0,\"ticks\":\"\"}},\"type\":\"scattergl\"}],\"scattermapbox\":[{\"marker\":{\"colorbar\":{\"outlinewidth\":0,\"ticks\":\"\"}},\"type\":\"scattermapbox\"}],\"scatterpolar\":[{\"marker\":{\"colorbar\":{\"outlinewidth\":0,\"ticks\":\"\"}},\"type\":\"scatterpolar\"}],\"scatterpolargl\":[{\"marker\":{\"colorbar\":{\"outlinewidth\":0,\"ticks\":\"\"}},\"type\":\"scatterpolargl\"}],\"scatterternary\":[{\"marker\":{\"colorbar\":{\"outlinewidth\":0,\"ticks\":\"\"}},\"type\":\"scatterternary\"}],\"surface\":[{\"colorbar\":{\"outlinewidth\":0,\"ticks\":\"\"},\"colorscale\":[[0.0,\"#0d0887\"],[0.1111111111111111,\"#46039f\"],[0.2222222222222222,\"#7201a8\"],[0.3333333333333333,\"#9c179e\"],[0.4444444444444444,\"#bd3786\"],[0.5555555555555556,\"#d8576b\"],[0.6666666666666666,\"#ed7953\"],[0.7777777777777778,\"#fb9f3a\"],[0.8888888888888888,\"#fdca26\"],[1.0,\"#f0f921\"]],\"type\":\"surface\"}],\"table\":[{\"cells\":{\"fill\":{\"color\":\"#EBF0F8\"},\"line\":{\"color\":\"white\"}},\"header\":{\"fill\":{\"color\":\"#C8D4E3\"},\"line\":{\"color\":\"white\"}},\"type\":\"table\"}]},\"layout\":{\"annotationdefaults\":{\"arrowcolor\":\"#2a3f5f\",\"arrowhead\":0,\"arrowwidth\":1},\"autotypenumbers\":\"strict\",\"coloraxis\":{\"colorbar\":{\"outlinewidth\":0,\"ticks\":\"\"}},\"colorscale\":{\"diverging\":[[0,\"#8e0152\"],[0.1,\"#c51b7d\"],[0.2,\"#de77ae\"],[0.3,\"#f1b6da\"],[0.4,\"#fde0ef\"],[0.5,\"#f7f7f7\"],[0.6,\"#e6f5d0\"],[0.7,\"#b8e186\"],[0.8,\"#7fbc41\"],[0.9,\"#4d9221\"],[1,\"#276419\"]],\"sequential\":[[0.0,\"#0d0887\"],[0.1111111111111111,\"#46039f\"],[0.2222222222222222,\"#7201a8\"],[0.3333333333333333,\"#9c179e\"],[0.4444444444444444,\"#bd3786\"],[0.5555555555555556,\"#d8576b\"],[0.6666666666666666,\"#ed7953\"],[0.7777777777777778,\"#fb9f3a\"],[0.8888888888888888,\"#fdca26\"],[1.0,\"#f0f921\"]],\"sequentialminus\":[[0.0,\"#0d0887\"],[0.1111111111111111,\"#46039f\"],[0.2222222222222222,\"#7201a8\"],[0.3333333333333333,\"#9c179e\"],[0.4444444444444444,\"#bd3786\"],[0.5555555555555556,\"#d8576b\"],[0.6666666666666666,\"#ed7953\"],[0.7777777777777778,\"#fb9f3a\"],[0.8888888888888888,\"#fdca26\"],[1.0,\"#f0f921\"]]},\"colorway\":[\"#636efa\",\"#EF553B\",\"#00cc96\",\"#ab63fa\",\"#FFA15A\",\"#19d3f3\",\"#FF6692\",\"#B6E880\",\"#FF97FF\",\"#FECB52\"],\"font\":{\"color\":\"#2a3f5f\"},\"geo\":{\"bgcolor\":\"white\",\"lakecolor\":\"white\",\"landcolor\":\"#E5ECF6\",\"showlakes\":true,\"showland\":true,\"subunitcolor\":\"white\"},\"hoverlabel\":{\"align\":\"left\"},\"hovermode\":\"closest\",\"mapbox\":{\"style\":\"light\"},\"paper_bgcolor\":\"white\",\"plot_bgcolor\":\"#E5ECF6\",\"polar\":{\"angularaxis\":{\"gridcolor\":\"white\",\"linecolor\":\"white\",\"ticks\":\"\"},\"bgcolor\":\"#E5ECF6\",\"radialaxis\":{\"gridcolor\":\"white\",\"linecolor\":\"white\",\"ticks\":\"\"}},\"scene\":{\"xaxis\":{\"backgroundcolor\":\"#E5ECF6\",\"gridcolor\":\"white\",\"gridwidth\":2,\"linecolor\":\"white\",\"showbackground\":true,\"ticks\":\"\",\"zerolinecolor\":\"white\"},\"yaxis\":{\"backgroundcolor\":\"#E5ECF6\",\"gridcolor\":\"white\",\"gridwidth\":2,\"linecolor\":\"white\",\"showbackground\":true,\"ticks\":\"\",\"zerolinecolor\":\"white\"},\"zaxis\":{\"backgroundcolor\":\"#E5ECF6\",\"gridcolor\":\"white\",\"gridwidth\":2,\"linecolor\":\"white\",\"showbackground\":true,\"ticks\":\"\",\"zerolinecolor\":\"white\"}},\"shapedefaults\":{\"line\":{\"color\":\"#2a3f5f\"}},\"ternary\":{\"aaxis\":{\"gridcolor\":\"white\",\"linecolor\":\"white\",\"ticks\":\"\"},\"baxis\":{\"gridcolor\":\"white\",\"linecolor\":\"white\",\"ticks\":\"\"},\"bgcolor\":\"#E5ECF6\",\"caxis\":{\"gridcolor\":\"white\",\"linecolor\":\"white\",\"ticks\":\"\"}},\"title\":{\"x\":0.05},\"xaxis\":{\"automargin\":true,\"gridcolor\":\"white\",\"linecolor\":\"white\",\"ticks\":\"\",\"title\":{\"standoff\":15},\"zerolinecolor\":\"white\",\"zerolinewidth\":2},\"yaxis\":{\"automargin\":true,\"gridcolor\":\"white\",\"linecolor\":\"white\",\"ticks\":\"\",\"title\":{\"standoff\":15},\"zerolinecolor\":\"white\",\"zerolinewidth\":2}}},\"title\":{\"font\":{\"color\":\"#4D5663\"}},\"xaxis\":{\"gridcolor\":\"#E1E5ED\",\"showgrid\":true,\"tickfont\":{\"color\":\"#4D5663\"},\"title\":{\"font\":{\"color\":\"#4D5663\"},\"text\":\"\"},\"zerolinecolor\":\"#E1E5ED\"},\"yaxis\":{\"gridcolor\":\"#E1E5ED\",\"showgrid\":true,\"tickfont\":{\"color\":\"#4D5663\"},\"title\":{\"font\":{\"color\":\"#4D5663\"},\"text\":\"\"},\"zerolinecolor\":\"#E1E5ED\"}},                        {\"showLink\": true, \"linkText\": \"Export to plot.ly\", \"plotlyServerURL\": \"https://plot.ly\", \"responsive\": true}                    ).then(function(){\n",
       "                            \n",
       "var gd = document.getElementById('d1c87145-b25a-414d-ae69-1c651387c8e5');\n",
       "var x = new MutationObserver(function (mutations, observer) {{\n",
       "        var display = window.getComputedStyle(gd).display;\n",
       "        if (!display || display === 'none') {{\n",
       "            console.log([gd, 'removed!']);\n",
       "            Plotly.purge(gd);\n",
       "            observer.disconnect();\n",
       "        }}\n",
       "}});\n",
       "\n",
       "// Listen for the removal of the full notebook cells\n",
       "var notebookContainer = gd.closest('#notebook-container');\n",
       "if (notebookContainer) {{\n",
       "    x.observe(notebookContainer, {childList: true});\n",
       "}}\n",
       "\n",
       "// Listen for the clearing of the current output cell\n",
       "var outputEl = gd.closest('.output');\n",
       "if (outputEl) {{\n",
       "    x.observe(outputEl, {childList: true});\n",
       "}}\n",
       "\n",
       "                        })                };                });            </script>        </div>"
      ]
     },
     "metadata": {},
     "output_type": "display_data"
    }
   ],
   "source": [
    "df.iplot(kind='hist',bins=25)"
   ]
  },
  {
   "cell_type": "code",
   "execution_count": 40,
   "id": "cfff76aa",
   "metadata": {},
   "outputs": [
    {
     "name": "stderr",
     "output_type": "stream",
     "text": [
      "C:\\Users\\crq96\\Anaconda3\\lib\\site-packages\\cufflinks\\plotlytools.py:849: FutureWarning:\n",
      "\n",
      "The pandas.np module is deprecated and will be removed from pandas in a future version. Import numpy directly instead\n",
      "\n",
      "C:\\Users\\crq96\\Anaconda3\\lib\\site-packages\\cufflinks\\plotlytools.py:850: FutureWarning:\n",
      "\n",
      "The pandas.np module is deprecated and will be removed from pandas in a future version. Import numpy directly instead\n",
      "\n"
     ]
    },
    {
     "data": {
      "application/vnd.plotly.v1+json": {
       "config": {
        "linkText": "Export to plot.ly",
        "plotlyServerURL": "https://plot.ly",
        "showLink": true
       },
       "data": [
        {
         "line": {
          "color": "rgba(255, 153, 51, 1.0)",
          "dash": "solid",
          "shape": "linear",
          "width": 1.3
         },
         "mode": "lines",
         "name": "A",
         "text": "",
         "type": "scatter",
         "x": [
          0,
          1,
          2,
          3,
          4,
          5,
          6,
          7,
          8,
          9,
          10,
          11,
          12,
          13,
          14,
          15,
          16,
          17,
          18,
          19,
          20,
          21,
          22,
          23,
          24,
          25,
          26,
          27,
          28,
          29,
          30,
          31,
          32,
          33,
          34,
          35,
          36,
          37,
          38,
          39,
          40,
          41,
          42,
          43,
          44,
          45,
          46,
          47,
          48,
          49,
          50,
          51,
          52,
          53,
          54,
          55,
          56,
          57,
          58,
          59,
          60,
          61,
          62,
          63,
          64,
          65,
          66,
          67,
          68,
          69,
          70,
          71,
          72,
          73,
          74,
          75,
          76,
          77,
          78,
          79,
          80,
          81,
          82,
          83,
          84,
          85,
          86,
          87,
          88,
          89,
          90,
          91,
          92,
          93,
          94,
          95,
          96,
          97,
          98,
          99
         ],
         "y": [
          -1.5780143094608707,
          0.4224141679036228,
          -0.046044199547425994,
          0.2764425774695236,
          0.2832003904525572,
          -0.8244229229915959,
          0.3231680986676643,
          -2.5784754728961077,
          -1.1174667014919542,
          -0.10433571740892703,
          -0.8635825627075128,
          0.7213549567592623,
          -0.514209164071635,
          -0.0894937461585034,
          -1.0493787538844543,
          1.1600959677883953,
          0.015315579009527229,
          1.1373452911453181,
          -0.35205604004623087,
          0.9733588160495177,
          1.0175919245173992,
          -1.1032733279615654,
          -0.04091946153944837,
          0.29127869094225495,
          -0.8031504118174125,
          0.6154323976045675,
          -0.9416530536217149,
          -0.8615871361773523,
          1.7197517910385434,
          -1.3245217395911422,
          -0.9905387437971541,
          0.612921924303667,
          -1.7195845050451466,
          1.7794753656569549,
          1.390338780884705,
          1.5420775527370045,
          1.4602461868666108,
          0.3920840158671529,
          0.20740068599803843,
          -0.0525907643085713,
          -2.124496090536296,
          1.8033601534563382,
          -2.2134597571962984,
          -1.2320037595512683,
          -0.013623770292160971,
          0.10361627865663506,
          1.8251728914117562,
          -1.4567844712500666,
          1.6815715414433596,
          -1.6382228363459552,
          1.1785073527119436,
          -2.1103799953953857,
          -2.360654618156865,
          1.06403721627327,
          -0.6021400767598017,
          -0.47764716258391327,
          0.170088710868202,
          1.6261280670577174,
          0.29696401753219864,
          -0.551821204569244,
          -0.7933538478762096,
          1.2175829255456183,
          1.2929051874329027,
          1.8671528425987827,
          -0.4997985409441982,
          -1.0199402532984096,
          -0.773586095168086,
          -0.36877594456216256,
          -0.7896229212932089,
          -1.6187547203217891,
          0.5095063621113651,
          0.3892508134673948,
          1.8226250380923086,
          1.398772283602051,
          0.28258121963712785,
          0.3171731159206602,
          -0.4664976111440749,
          -0.2845925650841886,
          -1.4177805231493208,
          0.9495788651228273,
          0.42885197403303343,
          2.0694579684956147,
          -0.7334623227655961,
          -0.05343421964291611,
          -0.42613012697760827,
          0.7942339422888914,
          0.9822033206905049,
          1.1274178789267362,
          -0.4865849503191588,
          0.252100329107842,
          -0.5178559805808933,
          -0.7894057794818384,
          -0.6942281167523381,
          -1.2733291431281641,
          0.6615762834883798,
          -0.47001228540783596,
          1.1182681925497504,
          -0.23366998936225875,
          1.838116177785737,
          -0.8406962071636835
         ]
        },
        {
         "line": {
          "color": "rgba(55, 128, 191, 1.0)",
          "dash": "solid",
          "shape": "linear",
          "width": 1.3
         },
         "mode": "lines",
         "name": "B",
         "text": "",
         "type": "scatter",
         "x": [
          0,
          1,
          2,
          3,
          4,
          5,
          6,
          7,
          8,
          9,
          10,
          11,
          12,
          13,
          14,
          15,
          16,
          17,
          18,
          19,
          20,
          21,
          22,
          23,
          24,
          25,
          26,
          27,
          28,
          29,
          30,
          31,
          32,
          33,
          34,
          35,
          36,
          37,
          38,
          39,
          40,
          41,
          42,
          43,
          44,
          45,
          46,
          47,
          48,
          49,
          50,
          51,
          52,
          53,
          54,
          55,
          56,
          57,
          58,
          59,
          60,
          61,
          62,
          63,
          64,
          65,
          66,
          67,
          68,
          69,
          70,
          71,
          72,
          73,
          74,
          75,
          76,
          77,
          78,
          79,
          80,
          81,
          82,
          83,
          84,
          85,
          86,
          87,
          88,
          89,
          90,
          91,
          92,
          93,
          94,
          95,
          96,
          97,
          98,
          99
         ],
         "y": [
          -0.0259506725481951,
          0.24435649772913426,
          1.0877733311223357,
          -1.8962004040020193,
          -0.25954921711141765,
          2.7043824859122476,
          1.0926540178862534,
          0.35217276213382537,
          0.1407838761058627,
          -0.6885384052765048,
          -1.383324172827188,
          1.1577865659859314,
          -1.8530220238946453,
          -1.2259532131837694,
          -1.7724024475662012,
          0.16921653511331095,
          -0.23502175645737877,
          -0.19493413743530474,
          2.1059690127705033,
          0.7145282505605425,
          -1.2459465065590833,
          -0.6112834219178358,
          -1.2972285557713692,
          -0.04391332479597896,
          -0.9127750185864033,
          0.8642737524596605,
          -1.2427033799781488,
          0.17809916107149085,
          0.9855511500907624,
          0.5789203698228469,
          1.353179929831089,
          -1.5811690329479169,
          0.21627646035202477,
          0.22918666030418786,
          -0.7657227806022304,
          1.2970745084573303,
          -0.4411467425812966,
          -0.002253022989131673,
          -0.27334995315785343,
          -0.747367567496964,
          -0.7707536473647956,
          -0.05356741888756035,
          -0.16058500038988138,
          -0.5283774811894479,
          0.7155354694021077,
          -0.6711991806061014,
          2.552152773933515,
          -0.5804357246008203,
          -0.9473705154872256,
          -0.7083728099568252,
          -0.12062595408966743,
          1.3937635936198711,
          1.3108596651627333,
          0.5468020472079963,
          -1.435505117973782,
          -0.5332814220831296,
          1.6801961892764308,
          -0.5839531012332301,
          -0.6360695371158908,
          -0.6699857250566243,
          1.3350702453545424,
          0.15520860787965896,
          -0.5236228725603096,
          -0.7853909085159455,
          0.12147932511505855,
          -0.15327619748009327,
          -1.0783259244660068,
          1.210341428022308,
          0.13966304107529887,
          -0.9399084888506885,
          -0.59902023061572,
          -0.9954913339458762,
          -0.7571127903134742,
          0.9807267710763179,
          0.7122861855974634,
          -0.9759818563206035,
          1.3560811000635984,
          -0.01974306520172108,
          0.018638522220582106,
          1.252650763361496,
          -1.7834401536838884,
          -0.32449111720371465,
          -3.147935945088936,
          -2.4677680161269415,
          -0.048587764266386856,
          0.3680883517657553,
          -0.725297987922035,
          -0.21514594619635463,
          -0.9977141038793348,
          -1.36596465153972,
          -0.552387349054642,
          -0.06680693818684787,
          -0.10991903665861248,
          -0.053436332518115956,
          -0.6239178589232137,
          1.0931547879237713,
          0.87178061557824,
          -0.13461311038414722,
          1.6880989246818119,
          0.546249759714265
         ]
        },
        {
         "connectgaps": false,
         "fill": "tozeroy",
         "line": {
          "color": "green",
          "dash": "solid",
          "shape": "linear",
          "width": 0.5
         },
         "mode": "lines",
         "name": "Spread",
         "showlegend": false,
         "type": "scatter",
         "x": [
          0,
          1,
          2,
          3,
          4,
          5,
          6,
          7,
          8,
          9,
          10,
          11,
          12,
          13,
          14,
          15,
          16,
          17,
          18,
          19,
          20,
          21,
          22,
          23,
          24,
          25,
          26,
          27,
          28,
          29,
          30,
          31,
          32,
          33,
          34,
          35,
          36,
          37,
          38,
          39,
          40,
          41,
          42,
          43,
          44,
          45,
          46,
          47,
          48,
          49,
          50,
          51,
          52,
          53,
          54,
          55,
          56,
          57,
          58,
          59,
          60,
          61,
          62,
          63,
          64,
          65,
          66,
          67,
          68,
          69,
          70,
          71,
          72,
          73,
          74,
          75,
          76,
          77,
          78,
          79,
          80,
          81,
          82,
          83,
          84,
          85,
          86,
          87,
          88,
          89,
          90,
          91,
          92,
          93,
          94,
          95,
          96,
          97,
          98,
          99
         ],
         "xaxis": "x2",
         "y": [
          "",
          0.17805767017448854,
          "",
          2.172642981471543,
          0.5427496075639748,
          "",
          "",
          "",
          "",
          0.5842026878675778,
          0.5197416101196751,
          "",
          1.3388128598230105,
          1.136459467025266,
          0.7230236936817469,
          0.9908794326750844,
          0.250337335466906,
          1.3322794285806228,
          "",
          0.2588305654889752,
          2.2635384310764826,
          "",
          1.2563090942319208,
          0.33519201573823393,
          0.10962460676899077,
          "",
          0.3010503263564339,
          "",
          0.7342006409477809,
          "",
          "",
          2.194090957251584,
          "",
          1.550288705352767,
          2.1560615614869354,
          0.24500304427967423,
          1.9013929294479075,
          0.39433703885628457,
          0.4807506391558919,
          0.6947768031883926,
          "",
          1.8569275723438985,
          "",
          "",
          "",
          0.7748154592627364,
          "",
          "",
          2.628942056930585,
          "",
          1.299133306801611,
          "",
          "",
          0.5172351690652738,
          0.8333650412139804,
          0.0556342594992163,
          "",
          2.2100811682909476,
          0.9330335546480895,
          0.11816452048738035,
          "",
          1.0623743176659595,
          1.8165280599932123,
          2.6525437511147283,
          "",
          "",
          0.3047398292979209,
          "",
          "",
          "",
          1.108526592727085,
          1.384742147413271,
          2.579737828405783,
          0.4180455125257332,
          "",
          1.2931549722412639,
          "",
          "",
          "",
          "",
          2.212292127716922,
          2.3939490856993295,
          2.4144736223233396,
          2.4143337964840255,
          "",
          0.42614559052313616,
          1.70750130861254,
          1.342563825123091,
          0.511129153560176,
          1.618064980647562,
          0.034531368473748714,
          "",
          "",
          "",
          1.2854941424115935,
          "",
          0.24648757697151036,
          "",
          0.15001725310392522,
          ""
         ],
         "yaxis": "y2"
        },
        {
         "connectgaps": false,
         "fill": "tozeroy",
         "line": {
          "color": "red",
          "dash": "solid",
          "shape": "linear",
          "width": 0.5
         },
         "mode": "lines",
         "name": "Spread",
         "showlegend": false,
         "type": "scatter",
         "x": [
          0,
          1,
          2,
          3,
          4,
          5,
          6,
          7,
          8,
          9,
          10,
          11,
          12,
          13,
          14,
          15,
          16,
          17,
          18,
          19,
          20,
          21,
          22,
          23,
          24,
          25,
          26,
          27,
          28,
          29,
          30,
          31,
          32,
          33,
          34,
          35,
          36,
          37,
          38,
          39,
          40,
          41,
          42,
          43,
          44,
          45,
          46,
          47,
          48,
          49,
          50,
          51,
          52,
          53,
          54,
          55,
          56,
          57,
          58,
          59,
          60,
          61,
          62,
          63,
          64,
          65,
          66,
          67,
          68,
          69,
          70,
          71,
          72,
          73,
          74,
          75,
          76,
          77,
          78,
          79,
          80,
          81,
          82,
          83,
          84,
          85,
          86,
          87,
          88,
          89,
          90,
          91,
          92,
          93,
          94,
          95,
          96,
          97,
          98,
          99
         ],
         "xaxis": "x2",
         "y": [
          -1.5520636369126757,
          "",
          -1.1338175306697615,
          "",
          "",
          -3.5288054089038434,
          -0.769485919218589,
          -2.930648235029933,
          -1.2582505775978168,
          "",
          "",
          -0.4364316092266691,
          "",
          "",
          "",
          "",
          "",
          "",
          -2.4580250528167342,
          "",
          "",
          -0.4919899060437296,
          "",
          "",
          "",
          -0.24884135485509307,
          "",
          -1.0396862972488432,
          "",
          -1.903442109413989,
          -2.343718673628243,
          "",
          -1.9358609653971715,
          "",
          "",
          "",
          "",
          "",
          "",
          "",
          -1.3537424431715004,
          "",
          -2.052874756806417,
          -0.7036262783618203,
          -0.7291592396942687,
          "",
          -0.7269798825217588,
          -0.8763487466492463,
          "",
          -0.9298500263891301,
          "",
          -3.504143589015257,
          -3.671514283319598,
          "",
          "",
          "",
          -1.5101074784082287,
          "",
          "",
          "",
          -2.128424093230752,
          "",
          "",
          "",
          -0.6212778660592567,
          -0.8666640558183164,
          "",
          -1.5791173725844705,
          -0.9292859623685077,
          -0.6788462314711007,
          "",
          "",
          "",
          "",
          -0.4297049659603355,
          "",
          -1.8225787112076732,
          -0.26484949988246753,
          -1.4364190453699028,
          -0.30307189823866876,
          "",
          "",
          "",
          "",
          -0.37754236271122144,
          "",
          "",
          "",
          "",
          "",
          "",
          -0.7225988412949905,
          -0.5843090800937256,
          -1.2198928106100482,
          "",
          -1.5631670733316072,
          "",
          -0.09905687897811152,
          "",
          -1.3869459668779487
         ],
         "yaxis": "y2"
        }
       ],
       "layout": {
        "hovermode": "x",
        "legend": {
         "bgcolor": "#F5F6F9",
         "font": {
          "color": "#4D5663"
         }
        },
        "paper_bgcolor": "#F5F6F9",
        "plot_bgcolor": "#F5F6F9",
        "template": {
         "data": {
          "bar": [
           {
            "error_x": {
             "color": "#2a3f5f"
            },
            "error_y": {
             "color": "#2a3f5f"
            },
            "marker": {
             "line": {
              "color": "#E5ECF6",
              "width": 0.5
             },
             "pattern": {
              "fillmode": "overlay",
              "size": 10,
              "solidity": 0.2
             }
            },
            "type": "bar"
           }
          ],
          "barpolar": [
           {
            "marker": {
             "line": {
              "color": "#E5ECF6",
              "width": 0.5
             },
             "pattern": {
              "fillmode": "overlay",
              "size": 10,
              "solidity": 0.2
             }
            },
            "type": "barpolar"
           }
          ],
          "carpet": [
           {
            "aaxis": {
             "endlinecolor": "#2a3f5f",
             "gridcolor": "white",
             "linecolor": "white",
             "minorgridcolor": "white",
             "startlinecolor": "#2a3f5f"
            },
            "baxis": {
             "endlinecolor": "#2a3f5f",
             "gridcolor": "white",
             "linecolor": "white",
             "minorgridcolor": "white",
             "startlinecolor": "#2a3f5f"
            },
            "type": "carpet"
           }
          ],
          "choropleth": [
           {
            "colorbar": {
             "outlinewidth": 0,
             "ticks": ""
            },
            "type": "choropleth"
           }
          ],
          "contour": [
           {
            "colorbar": {
             "outlinewidth": 0,
             "ticks": ""
            },
            "colorscale": [
             [
              0,
              "#0d0887"
             ],
             [
              0.1111111111111111,
              "#46039f"
             ],
             [
              0.2222222222222222,
              "#7201a8"
             ],
             [
              0.3333333333333333,
              "#9c179e"
             ],
             [
              0.4444444444444444,
              "#bd3786"
             ],
             [
              0.5555555555555556,
              "#d8576b"
             ],
             [
              0.6666666666666666,
              "#ed7953"
             ],
             [
              0.7777777777777778,
              "#fb9f3a"
             ],
             [
              0.8888888888888888,
              "#fdca26"
             ],
             [
              1,
              "#f0f921"
             ]
            ],
            "type": "contour"
           }
          ],
          "contourcarpet": [
           {
            "colorbar": {
             "outlinewidth": 0,
             "ticks": ""
            },
            "type": "contourcarpet"
           }
          ],
          "heatmap": [
           {
            "colorbar": {
             "outlinewidth": 0,
             "ticks": ""
            },
            "colorscale": [
             [
              0,
              "#0d0887"
             ],
             [
              0.1111111111111111,
              "#46039f"
             ],
             [
              0.2222222222222222,
              "#7201a8"
             ],
             [
              0.3333333333333333,
              "#9c179e"
             ],
             [
              0.4444444444444444,
              "#bd3786"
             ],
             [
              0.5555555555555556,
              "#d8576b"
             ],
             [
              0.6666666666666666,
              "#ed7953"
             ],
             [
              0.7777777777777778,
              "#fb9f3a"
             ],
             [
              0.8888888888888888,
              "#fdca26"
             ],
             [
              1,
              "#f0f921"
             ]
            ],
            "type": "heatmap"
           }
          ],
          "heatmapgl": [
           {
            "colorbar": {
             "outlinewidth": 0,
             "ticks": ""
            },
            "colorscale": [
             [
              0,
              "#0d0887"
             ],
             [
              0.1111111111111111,
              "#46039f"
             ],
             [
              0.2222222222222222,
              "#7201a8"
             ],
             [
              0.3333333333333333,
              "#9c179e"
             ],
             [
              0.4444444444444444,
              "#bd3786"
             ],
             [
              0.5555555555555556,
              "#d8576b"
             ],
             [
              0.6666666666666666,
              "#ed7953"
             ],
             [
              0.7777777777777778,
              "#fb9f3a"
             ],
             [
              0.8888888888888888,
              "#fdca26"
             ],
             [
              1,
              "#f0f921"
             ]
            ],
            "type": "heatmapgl"
           }
          ],
          "histogram": [
           {
            "marker": {
             "pattern": {
              "fillmode": "overlay",
              "size": 10,
              "solidity": 0.2
             }
            },
            "type": "histogram"
           }
          ],
          "histogram2d": [
           {
            "colorbar": {
             "outlinewidth": 0,
             "ticks": ""
            },
            "colorscale": [
             [
              0,
              "#0d0887"
             ],
             [
              0.1111111111111111,
              "#46039f"
             ],
             [
              0.2222222222222222,
              "#7201a8"
             ],
             [
              0.3333333333333333,
              "#9c179e"
             ],
             [
              0.4444444444444444,
              "#bd3786"
             ],
             [
              0.5555555555555556,
              "#d8576b"
             ],
             [
              0.6666666666666666,
              "#ed7953"
             ],
             [
              0.7777777777777778,
              "#fb9f3a"
             ],
             [
              0.8888888888888888,
              "#fdca26"
             ],
             [
              1,
              "#f0f921"
             ]
            ],
            "type": "histogram2d"
           }
          ],
          "histogram2dcontour": [
           {
            "colorbar": {
             "outlinewidth": 0,
             "ticks": ""
            },
            "colorscale": [
             [
              0,
              "#0d0887"
             ],
             [
              0.1111111111111111,
              "#46039f"
             ],
             [
              0.2222222222222222,
              "#7201a8"
             ],
             [
              0.3333333333333333,
              "#9c179e"
             ],
             [
              0.4444444444444444,
              "#bd3786"
             ],
             [
              0.5555555555555556,
              "#d8576b"
             ],
             [
              0.6666666666666666,
              "#ed7953"
             ],
             [
              0.7777777777777778,
              "#fb9f3a"
             ],
             [
              0.8888888888888888,
              "#fdca26"
             ],
             [
              1,
              "#f0f921"
             ]
            ],
            "type": "histogram2dcontour"
           }
          ],
          "mesh3d": [
           {
            "colorbar": {
             "outlinewidth": 0,
             "ticks": ""
            },
            "type": "mesh3d"
           }
          ],
          "parcoords": [
           {
            "line": {
             "colorbar": {
              "outlinewidth": 0,
              "ticks": ""
             }
            },
            "type": "parcoords"
           }
          ],
          "pie": [
           {
            "automargin": true,
            "type": "pie"
           }
          ],
          "scatter": [
           {
            "marker": {
             "colorbar": {
              "outlinewidth": 0,
              "ticks": ""
             }
            },
            "type": "scatter"
           }
          ],
          "scatter3d": [
           {
            "line": {
             "colorbar": {
              "outlinewidth": 0,
              "ticks": ""
             }
            },
            "marker": {
             "colorbar": {
              "outlinewidth": 0,
              "ticks": ""
             }
            },
            "type": "scatter3d"
           }
          ],
          "scattercarpet": [
           {
            "marker": {
             "colorbar": {
              "outlinewidth": 0,
              "ticks": ""
             }
            },
            "type": "scattercarpet"
           }
          ],
          "scattergeo": [
           {
            "marker": {
             "colorbar": {
              "outlinewidth": 0,
              "ticks": ""
             }
            },
            "type": "scattergeo"
           }
          ],
          "scattergl": [
           {
            "marker": {
             "colorbar": {
              "outlinewidth": 0,
              "ticks": ""
             }
            },
            "type": "scattergl"
           }
          ],
          "scattermapbox": [
           {
            "marker": {
             "colorbar": {
              "outlinewidth": 0,
              "ticks": ""
             }
            },
            "type": "scattermapbox"
           }
          ],
          "scatterpolar": [
           {
            "marker": {
             "colorbar": {
              "outlinewidth": 0,
              "ticks": ""
             }
            },
            "type": "scatterpolar"
           }
          ],
          "scatterpolargl": [
           {
            "marker": {
             "colorbar": {
              "outlinewidth": 0,
              "ticks": ""
             }
            },
            "type": "scatterpolargl"
           }
          ],
          "scatterternary": [
           {
            "marker": {
             "colorbar": {
              "outlinewidth": 0,
              "ticks": ""
             }
            },
            "type": "scatterternary"
           }
          ],
          "surface": [
           {
            "colorbar": {
             "outlinewidth": 0,
             "ticks": ""
            },
            "colorscale": [
             [
              0,
              "#0d0887"
             ],
             [
              0.1111111111111111,
              "#46039f"
             ],
             [
              0.2222222222222222,
              "#7201a8"
             ],
             [
              0.3333333333333333,
              "#9c179e"
             ],
             [
              0.4444444444444444,
              "#bd3786"
             ],
             [
              0.5555555555555556,
              "#d8576b"
             ],
             [
              0.6666666666666666,
              "#ed7953"
             ],
             [
              0.7777777777777778,
              "#fb9f3a"
             ],
             [
              0.8888888888888888,
              "#fdca26"
             ],
             [
              1,
              "#f0f921"
             ]
            ],
            "type": "surface"
           }
          ],
          "table": [
           {
            "cells": {
             "fill": {
              "color": "#EBF0F8"
             },
             "line": {
              "color": "white"
             }
            },
            "header": {
             "fill": {
              "color": "#C8D4E3"
             },
             "line": {
              "color": "white"
             }
            },
            "type": "table"
           }
          ]
         },
         "layout": {
          "annotationdefaults": {
           "arrowcolor": "#2a3f5f",
           "arrowhead": 0,
           "arrowwidth": 1
          },
          "autotypenumbers": "strict",
          "coloraxis": {
           "colorbar": {
            "outlinewidth": 0,
            "ticks": ""
           }
          },
          "colorscale": {
           "diverging": [
            [
             0,
             "#8e0152"
            ],
            [
             0.1,
             "#c51b7d"
            ],
            [
             0.2,
             "#de77ae"
            ],
            [
             0.3,
             "#f1b6da"
            ],
            [
             0.4,
             "#fde0ef"
            ],
            [
             0.5,
             "#f7f7f7"
            ],
            [
             0.6,
             "#e6f5d0"
            ],
            [
             0.7,
             "#b8e186"
            ],
            [
             0.8,
             "#7fbc41"
            ],
            [
             0.9,
             "#4d9221"
            ],
            [
             1,
             "#276419"
            ]
           ],
           "sequential": [
            [
             0,
             "#0d0887"
            ],
            [
             0.1111111111111111,
             "#46039f"
            ],
            [
             0.2222222222222222,
             "#7201a8"
            ],
            [
             0.3333333333333333,
             "#9c179e"
            ],
            [
             0.4444444444444444,
             "#bd3786"
            ],
            [
             0.5555555555555556,
             "#d8576b"
            ],
            [
             0.6666666666666666,
             "#ed7953"
            ],
            [
             0.7777777777777778,
             "#fb9f3a"
            ],
            [
             0.8888888888888888,
             "#fdca26"
            ],
            [
             1,
             "#f0f921"
            ]
           ],
           "sequentialminus": [
            [
             0,
             "#0d0887"
            ],
            [
             0.1111111111111111,
             "#46039f"
            ],
            [
             0.2222222222222222,
             "#7201a8"
            ],
            [
             0.3333333333333333,
             "#9c179e"
            ],
            [
             0.4444444444444444,
             "#bd3786"
            ],
            [
             0.5555555555555556,
             "#d8576b"
            ],
            [
             0.6666666666666666,
             "#ed7953"
            ],
            [
             0.7777777777777778,
             "#fb9f3a"
            ],
            [
             0.8888888888888888,
             "#fdca26"
            ],
            [
             1,
             "#f0f921"
            ]
           ]
          },
          "colorway": [
           "#636efa",
           "#EF553B",
           "#00cc96",
           "#ab63fa",
           "#FFA15A",
           "#19d3f3",
           "#FF6692",
           "#B6E880",
           "#FF97FF",
           "#FECB52"
          ],
          "font": {
           "color": "#2a3f5f"
          },
          "geo": {
           "bgcolor": "white",
           "lakecolor": "white",
           "landcolor": "#E5ECF6",
           "showlakes": true,
           "showland": true,
           "subunitcolor": "white"
          },
          "hoverlabel": {
           "align": "left"
          },
          "hovermode": "closest",
          "mapbox": {
           "style": "light"
          },
          "paper_bgcolor": "white",
          "plot_bgcolor": "#E5ECF6",
          "polar": {
           "angularaxis": {
            "gridcolor": "white",
            "linecolor": "white",
            "ticks": ""
           },
           "bgcolor": "#E5ECF6",
           "radialaxis": {
            "gridcolor": "white",
            "linecolor": "white",
            "ticks": ""
           }
          },
          "scene": {
           "xaxis": {
            "backgroundcolor": "#E5ECF6",
            "gridcolor": "white",
            "gridwidth": 2,
            "linecolor": "white",
            "showbackground": true,
            "ticks": "",
            "zerolinecolor": "white"
           },
           "yaxis": {
            "backgroundcolor": "#E5ECF6",
            "gridcolor": "white",
            "gridwidth": 2,
            "linecolor": "white",
            "showbackground": true,
            "ticks": "",
            "zerolinecolor": "white"
           },
           "zaxis": {
            "backgroundcolor": "#E5ECF6",
            "gridcolor": "white",
            "gridwidth": 2,
            "linecolor": "white",
            "showbackground": true,
            "ticks": "",
            "zerolinecolor": "white"
           }
          },
          "shapedefaults": {
           "line": {
            "color": "#2a3f5f"
           }
          },
          "ternary": {
           "aaxis": {
            "gridcolor": "white",
            "linecolor": "white",
            "ticks": ""
           },
           "baxis": {
            "gridcolor": "white",
            "linecolor": "white",
            "ticks": ""
           },
           "bgcolor": "#E5ECF6",
           "caxis": {
            "gridcolor": "white",
            "linecolor": "white",
            "ticks": ""
           }
          },
          "title": {
           "x": 0.05
          },
          "xaxis": {
           "automargin": true,
           "gridcolor": "white",
           "linecolor": "white",
           "ticks": "",
           "title": {
            "standoff": 15
           },
           "zerolinecolor": "white",
           "zerolinewidth": 2
          },
          "yaxis": {
           "automargin": true,
           "gridcolor": "white",
           "linecolor": "white",
           "ticks": "",
           "title": {
            "standoff": 15
           },
           "zerolinecolor": "white",
           "zerolinewidth": 2
          }
         }
        },
        "title": {
         "font": {
          "color": "#4D5663"
         }
        },
        "xaxis": {
         "gridcolor": "#E1E5ED",
         "showgrid": true,
         "tickfont": {
          "color": "#4D5663"
         },
         "title": {
          "font": {
           "color": "#4D5663"
          },
          "text": ""
         },
         "zerolinecolor": "#E1E5ED"
        },
        "xaxis2": {
         "anchor": "y2",
         "gridcolor": "#E1E5ED",
         "showgrid": true,
         "showticklabels": false,
         "tickfont": {
          "color": "#4D5663"
         },
         "title": {
          "font": {
           "color": "#4D5663"
          },
          "text": ""
         },
         "zerolinecolor": "#E1E5ED"
        },
        "yaxis": {
         "domain": [
          0.3,
          1
         ],
         "gridcolor": "#E1E5ED",
         "showgrid": true,
         "tickfont": {
          "color": "#4D5663"
         },
         "title": {
          "font": {
           "color": "#4D5663"
          },
          "text": ""
         },
         "zerolinecolor": "#E1E5ED"
        },
        "yaxis2": {
         "domain": [
          0,
          0.25
         ],
         "gridcolor": "#E1E5ED",
         "showgrid": true,
         "tickfont": {
          "color": "#4D5663"
         },
         "title": {
          "font": {
           "color": "#4D5663"
          },
          "text": "Spread"
         },
         "zerolinecolor": "#E1E5ED"
        }
       }
      },
      "text/html": [
       "<div>                            <div id=\"2cf222c8-cc0b-45e5-a513-66c8127a8e31\" class=\"plotly-graph-div\" style=\"height:525px; width:100%;\"></div>            <script type=\"text/javascript\">                require([\"plotly\"], function(Plotly) {                    window.PLOTLYENV=window.PLOTLYENV || {};\n",
       "                    window.PLOTLYENV.BASE_URL='https://plot.ly';                                    if (document.getElementById(\"2cf222c8-cc0b-45e5-a513-66c8127a8e31\")) {                    Plotly.newPlot(                        \"2cf222c8-cc0b-45e5-a513-66c8127a8e31\",                        [{\"line\":{\"color\":\"rgba(255, 153, 51, 1.0)\",\"dash\":\"solid\",\"shape\":\"linear\",\"width\":1.3},\"mode\":\"lines\",\"name\":\"A\",\"text\":\"\",\"type\":\"scatter\",\"x\":[0,1,2,3,4,5,6,7,8,9,10,11,12,13,14,15,16,17,18,19,20,21,22,23,24,25,26,27,28,29,30,31,32,33,34,35,36,37,38,39,40,41,42,43,44,45,46,47,48,49,50,51,52,53,54,55,56,57,58,59,60,61,62,63,64,65,66,67,68,69,70,71,72,73,74,75,76,77,78,79,80,81,82,83,84,85,86,87,88,89,90,91,92,93,94,95,96,97,98,99],\"y\":[-1.5780143094608707,0.4224141679036228,-0.046044199547425994,0.2764425774695236,0.2832003904525572,-0.8244229229915959,0.3231680986676643,-2.5784754728961077,-1.1174667014919542,-0.10433571740892703,-0.8635825627075128,0.7213549567592623,-0.514209164071635,-0.0894937461585034,-1.0493787538844543,1.1600959677883953,0.015315579009527229,1.1373452911453181,-0.35205604004623087,0.9733588160495177,1.0175919245173992,-1.1032733279615654,-0.04091946153944837,0.29127869094225495,-0.8031504118174125,0.6154323976045675,-0.9416530536217149,-0.8615871361773523,1.7197517910385434,-1.3245217395911422,-0.9905387437971541,0.612921924303667,-1.7195845050451466,1.7794753656569549,1.390338780884705,1.5420775527370045,1.4602461868666108,0.3920840158671529,0.20740068599803843,-0.0525907643085713,-2.124496090536296,1.8033601534563382,-2.2134597571962984,-1.2320037595512683,-0.013623770292160971,0.10361627865663506,1.8251728914117562,-1.4567844712500666,1.6815715414433596,-1.6382228363459552,1.1785073527119436,-2.1103799953953857,-2.360654618156865,1.06403721627327,-0.6021400767598017,-0.47764716258391327,0.170088710868202,1.6261280670577174,0.29696401753219864,-0.551821204569244,-0.7933538478762096,1.2175829255456183,1.2929051874329027,1.8671528425987827,-0.4997985409441982,-1.0199402532984096,-0.773586095168086,-0.36877594456216256,-0.7896229212932089,-1.6187547203217891,0.5095063621113651,0.3892508134673948,1.8226250380923086,1.398772283602051,0.28258121963712785,0.3171731159206602,-0.4664976111440749,-0.2845925650841886,-1.4177805231493208,0.9495788651228273,0.42885197403303343,2.0694579684956147,-0.7334623227655961,-0.05343421964291611,-0.42613012697760827,0.7942339422888914,0.9822033206905049,1.1274178789267362,-0.4865849503191588,0.252100329107842,-0.5178559805808933,-0.7894057794818384,-0.6942281167523381,-1.2733291431281641,0.6615762834883798,-0.47001228540783596,1.1182681925497504,-0.23366998936225875,1.838116177785737,-0.8406962071636835]},{\"line\":{\"color\":\"rgba(55, 128, 191, 1.0)\",\"dash\":\"solid\",\"shape\":\"linear\",\"width\":1.3},\"mode\":\"lines\",\"name\":\"B\",\"text\":\"\",\"type\":\"scatter\",\"x\":[0,1,2,3,4,5,6,7,8,9,10,11,12,13,14,15,16,17,18,19,20,21,22,23,24,25,26,27,28,29,30,31,32,33,34,35,36,37,38,39,40,41,42,43,44,45,46,47,48,49,50,51,52,53,54,55,56,57,58,59,60,61,62,63,64,65,66,67,68,69,70,71,72,73,74,75,76,77,78,79,80,81,82,83,84,85,86,87,88,89,90,91,92,93,94,95,96,97,98,99],\"y\":[-0.0259506725481951,0.24435649772913426,1.0877733311223357,-1.8962004040020193,-0.25954921711141765,2.7043824859122476,1.0926540178862534,0.35217276213382537,0.1407838761058627,-0.6885384052765048,-1.383324172827188,1.1577865659859314,-1.8530220238946453,-1.2259532131837694,-1.7724024475662012,0.16921653511331095,-0.23502175645737877,-0.19493413743530474,2.1059690127705033,0.7145282505605425,-1.2459465065590833,-0.6112834219178358,-1.2972285557713692,-0.04391332479597896,-0.9127750185864033,0.8642737524596605,-1.2427033799781488,0.17809916107149085,0.9855511500907624,0.5789203698228469,1.353179929831089,-1.5811690329479169,0.21627646035202477,0.22918666030418786,-0.7657227806022304,1.2970745084573303,-0.4411467425812966,-0.002253022989131673,-0.27334995315785343,-0.747367567496964,-0.7707536473647956,-0.05356741888756035,-0.16058500038988138,-0.5283774811894479,0.7155354694021077,-0.6711991806061014,2.552152773933515,-0.5804357246008203,-0.9473705154872256,-0.7083728099568252,-0.12062595408966743,1.3937635936198711,1.3108596651627333,0.5468020472079963,-1.435505117973782,-0.5332814220831296,1.6801961892764308,-0.5839531012332301,-0.6360695371158908,-0.6699857250566243,1.3350702453545424,0.15520860787965896,-0.5236228725603096,-0.7853909085159455,0.12147932511505855,-0.15327619748009327,-1.0783259244660068,1.210341428022308,0.13966304107529887,-0.9399084888506885,-0.59902023061572,-0.9954913339458762,-0.7571127903134742,0.9807267710763179,0.7122861855974634,-0.9759818563206035,1.3560811000635984,-0.01974306520172108,0.018638522220582106,1.252650763361496,-1.7834401536838884,-0.32449111720371465,-3.147935945088936,-2.4677680161269415,-0.048587764266386856,0.3680883517657553,-0.725297987922035,-0.21514594619635463,-0.9977141038793348,-1.36596465153972,-0.552387349054642,-0.06680693818684787,-0.10991903665861248,-0.053436332518115956,-0.6239178589232137,1.0931547879237713,0.87178061557824,-0.13461311038414722,1.6880989246818119,0.546249759714265]},{\"connectgaps\":false,\"fill\":\"tozeroy\",\"line\":{\"color\":\"green\",\"dash\":\"solid\",\"shape\":\"linear\",\"width\":0.5},\"mode\":\"lines\",\"name\":\"Spread\",\"showlegend\":false,\"type\":\"scatter\",\"x\":[0,1,2,3,4,5,6,7,8,9,10,11,12,13,14,15,16,17,18,19,20,21,22,23,24,25,26,27,28,29,30,31,32,33,34,35,36,37,38,39,40,41,42,43,44,45,46,47,48,49,50,51,52,53,54,55,56,57,58,59,60,61,62,63,64,65,66,67,68,69,70,71,72,73,74,75,76,77,78,79,80,81,82,83,84,85,86,87,88,89,90,91,92,93,94,95,96,97,98,99],\"xaxis\":\"x2\",\"y\":[\"\",0.17805767017448854,\"\",2.172642981471543,0.5427496075639748,\"\",\"\",\"\",\"\",0.5842026878675778,0.5197416101196751,\"\",1.3388128598230105,1.136459467025266,0.7230236936817469,0.9908794326750844,0.250337335466906,1.3322794285806228,\"\",0.2588305654889752,2.2635384310764826,\"\",1.2563090942319208,0.33519201573823393,0.10962460676899077,\"\",0.3010503263564339,\"\",0.7342006409477809,\"\",\"\",2.194090957251584,\"\",1.550288705352767,2.1560615614869354,0.24500304427967423,1.9013929294479075,0.39433703885628457,0.4807506391558919,0.6947768031883926,\"\",1.8569275723438985,\"\",\"\",\"\",0.7748154592627364,\"\",\"\",2.628942056930585,\"\",1.299133306801611,\"\",\"\",0.5172351690652738,0.8333650412139804,0.0556342594992163,\"\",2.2100811682909476,0.9330335546480895,0.11816452048738035,\"\",1.0623743176659595,1.8165280599932123,2.6525437511147283,\"\",\"\",0.3047398292979209,\"\",\"\",\"\",1.108526592727085,1.384742147413271,2.579737828405783,0.4180455125257332,\"\",1.2931549722412639,\"\",\"\",\"\",\"\",2.212292127716922,2.3939490856993295,2.4144736223233396,2.4143337964840255,\"\",0.42614559052313616,1.70750130861254,1.342563825123091,0.511129153560176,1.618064980647562,0.034531368473748714,\"\",\"\",\"\",1.2854941424115935,\"\",0.24648757697151036,\"\",0.15001725310392522,\"\"],\"yaxis\":\"y2\"},{\"connectgaps\":false,\"fill\":\"tozeroy\",\"line\":{\"color\":\"red\",\"dash\":\"solid\",\"shape\":\"linear\",\"width\":0.5},\"mode\":\"lines\",\"name\":\"Spread\",\"showlegend\":false,\"type\":\"scatter\",\"x\":[0,1,2,3,4,5,6,7,8,9,10,11,12,13,14,15,16,17,18,19,20,21,22,23,24,25,26,27,28,29,30,31,32,33,34,35,36,37,38,39,40,41,42,43,44,45,46,47,48,49,50,51,52,53,54,55,56,57,58,59,60,61,62,63,64,65,66,67,68,69,70,71,72,73,74,75,76,77,78,79,80,81,82,83,84,85,86,87,88,89,90,91,92,93,94,95,96,97,98,99],\"xaxis\":\"x2\",\"y\":[-1.5520636369126757,\"\",-1.1338175306697615,\"\",\"\",-3.5288054089038434,-0.769485919218589,-2.930648235029933,-1.2582505775978168,\"\",\"\",-0.4364316092266691,\"\",\"\",\"\",\"\",\"\",\"\",-2.4580250528167342,\"\",\"\",-0.4919899060437296,\"\",\"\",\"\",-0.24884135485509307,\"\",-1.0396862972488432,\"\",-1.903442109413989,-2.343718673628243,\"\",-1.9358609653971715,\"\",\"\",\"\",\"\",\"\",\"\",\"\",-1.3537424431715004,\"\",-2.052874756806417,-0.7036262783618203,-0.7291592396942687,\"\",-0.7269798825217588,-0.8763487466492463,\"\",-0.9298500263891301,\"\",-3.504143589015257,-3.671514283319598,\"\",\"\",\"\",-1.5101074784082287,\"\",\"\",\"\",-2.128424093230752,\"\",\"\",\"\",-0.6212778660592567,-0.8666640558183164,\"\",-1.5791173725844705,-0.9292859623685077,-0.6788462314711007,\"\",\"\",\"\",\"\",-0.4297049659603355,\"\",-1.8225787112076732,-0.26484949988246753,-1.4364190453699028,-0.30307189823866876,\"\",\"\",\"\",\"\",-0.37754236271122144,\"\",\"\",\"\",\"\",\"\",\"\",-0.7225988412949905,-0.5843090800937256,-1.2198928106100482,\"\",-1.5631670733316072,\"\",-0.09905687897811152,\"\",-1.3869459668779487],\"yaxis\":\"y2\"}],                        {\"hovermode\":\"x\",\"legend\":{\"bgcolor\":\"#F5F6F9\",\"font\":{\"color\":\"#4D5663\"}},\"paper_bgcolor\":\"#F5F6F9\",\"plot_bgcolor\":\"#F5F6F9\",\"template\":{\"data\":{\"bar\":[{\"error_x\":{\"color\":\"#2a3f5f\"},\"error_y\":{\"color\":\"#2a3f5f\"},\"marker\":{\"line\":{\"color\":\"#E5ECF6\",\"width\":0.5},\"pattern\":{\"fillmode\":\"overlay\",\"size\":10,\"solidity\":0.2}},\"type\":\"bar\"}],\"barpolar\":[{\"marker\":{\"line\":{\"color\":\"#E5ECF6\",\"width\":0.5},\"pattern\":{\"fillmode\":\"overlay\",\"size\":10,\"solidity\":0.2}},\"type\":\"barpolar\"}],\"carpet\":[{\"aaxis\":{\"endlinecolor\":\"#2a3f5f\",\"gridcolor\":\"white\",\"linecolor\":\"white\",\"minorgridcolor\":\"white\",\"startlinecolor\":\"#2a3f5f\"},\"baxis\":{\"endlinecolor\":\"#2a3f5f\",\"gridcolor\":\"white\",\"linecolor\":\"white\",\"minorgridcolor\":\"white\",\"startlinecolor\":\"#2a3f5f\"},\"type\":\"carpet\"}],\"choropleth\":[{\"colorbar\":{\"outlinewidth\":0,\"ticks\":\"\"},\"type\":\"choropleth\"}],\"contour\":[{\"colorbar\":{\"outlinewidth\":0,\"ticks\":\"\"},\"colorscale\":[[0.0,\"#0d0887\"],[0.1111111111111111,\"#46039f\"],[0.2222222222222222,\"#7201a8\"],[0.3333333333333333,\"#9c179e\"],[0.4444444444444444,\"#bd3786\"],[0.5555555555555556,\"#d8576b\"],[0.6666666666666666,\"#ed7953\"],[0.7777777777777778,\"#fb9f3a\"],[0.8888888888888888,\"#fdca26\"],[1.0,\"#f0f921\"]],\"type\":\"contour\"}],\"contourcarpet\":[{\"colorbar\":{\"outlinewidth\":0,\"ticks\":\"\"},\"type\":\"contourcarpet\"}],\"heatmap\":[{\"colorbar\":{\"outlinewidth\":0,\"ticks\":\"\"},\"colorscale\":[[0.0,\"#0d0887\"],[0.1111111111111111,\"#46039f\"],[0.2222222222222222,\"#7201a8\"],[0.3333333333333333,\"#9c179e\"],[0.4444444444444444,\"#bd3786\"],[0.5555555555555556,\"#d8576b\"],[0.6666666666666666,\"#ed7953\"],[0.7777777777777778,\"#fb9f3a\"],[0.8888888888888888,\"#fdca26\"],[1.0,\"#f0f921\"]],\"type\":\"heatmap\"}],\"heatmapgl\":[{\"colorbar\":{\"outlinewidth\":0,\"ticks\":\"\"},\"colorscale\":[[0.0,\"#0d0887\"],[0.1111111111111111,\"#46039f\"],[0.2222222222222222,\"#7201a8\"],[0.3333333333333333,\"#9c179e\"],[0.4444444444444444,\"#bd3786\"],[0.5555555555555556,\"#d8576b\"],[0.6666666666666666,\"#ed7953\"],[0.7777777777777778,\"#fb9f3a\"],[0.8888888888888888,\"#fdca26\"],[1.0,\"#f0f921\"]],\"type\":\"heatmapgl\"}],\"histogram\":[{\"marker\":{\"pattern\":{\"fillmode\":\"overlay\",\"size\":10,\"solidity\":0.2}},\"type\":\"histogram\"}],\"histogram2d\":[{\"colorbar\":{\"outlinewidth\":0,\"ticks\":\"\"},\"colorscale\":[[0.0,\"#0d0887\"],[0.1111111111111111,\"#46039f\"],[0.2222222222222222,\"#7201a8\"],[0.3333333333333333,\"#9c179e\"],[0.4444444444444444,\"#bd3786\"],[0.5555555555555556,\"#d8576b\"],[0.6666666666666666,\"#ed7953\"],[0.7777777777777778,\"#fb9f3a\"],[0.8888888888888888,\"#fdca26\"],[1.0,\"#f0f921\"]],\"type\":\"histogram2d\"}],\"histogram2dcontour\":[{\"colorbar\":{\"outlinewidth\":0,\"ticks\":\"\"},\"colorscale\":[[0.0,\"#0d0887\"],[0.1111111111111111,\"#46039f\"],[0.2222222222222222,\"#7201a8\"],[0.3333333333333333,\"#9c179e\"],[0.4444444444444444,\"#bd3786\"],[0.5555555555555556,\"#d8576b\"],[0.6666666666666666,\"#ed7953\"],[0.7777777777777778,\"#fb9f3a\"],[0.8888888888888888,\"#fdca26\"],[1.0,\"#f0f921\"]],\"type\":\"histogram2dcontour\"}],\"mesh3d\":[{\"colorbar\":{\"outlinewidth\":0,\"ticks\":\"\"},\"type\":\"mesh3d\"}],\"parcoords\":[{\"line\":{\"colorbar\":{\"outlinewidth\":0,\"ticks\":\"\"}},\"type\":\"parcoords\"}],\"pie\":[{\"automargin\":true,\"type\":\"pie\"}],\"scatter\":[{\"marker\":{\"colorbar\":{\"outlinewidth\":0,\"ticks\":\"\"}},\"type\":\"scatter\"}],\"scatter3d\":[{\"line\":{\"colorbar\":{\"outlinewidth\":0,\"ticks\":\"\"}},\"marker\":{\"colorbar\":{\"outlinewidth\":0,\"ticks\":\"\"}},\"type\":\"scatter3d\"}],\"scattercarpet\":[{\"marker\":{\"colorbar\":{\"outlinewidth\":0,\"ticks\":\"\"}},\"type\":\"scattercarpet\"}],\"scattergeo\":[{\"marker\":{\"colorbar\":{\"outlinewidth\":0,\"ticks\":\"\"}},\"type\":\"scattergeo\"}],\"scattergl\":[{\"marker\":{\"colorbar\":{\"outlinewidth\":0,\"ticks\":\"\"}},\"type\":\"scattergl\"}],\"scattermapbox\":[{\"marker\":{\"colorbar\":{\"outlinewidth\":0,\"ticks\":\"\"}},\"type\":\"scattermapbox\"}],\"scatterpolar\":[{\"marker\":{\"colorbar\":{\"outlinewidth\":0,\"ticks\":\"\"}},\"type\":\"scatterpolar\"}],\"scatterpolargl\":[{\"marker\":{\"colorbar\":{\"outlinewidth\":0,\"ticks\":\"\"}},\"type\":\"scatterpolargl\"}],\"scatterternary\":[{\"marker\":{\"colorbar\":{\"outlinewidth\":0,\"ticks\":\"\"}},\"type\":\"scatterternary\"}],\"surface\":[{\"colorbar\":{\"outlinewidth\":0,\"ticks\":\"\"},\"colorscale\":[[0.0,\"#0d0887\"],[0.1111111111111111,\"#46039f\"],[0.2222222222222222,\"#7201a8\"],[0.3333333333333333,\"#9c179e\"],[0.4444444444444444,\"#bd3786\"],[0.5555555555555556,\"#d8576b\"],[0.6666666666666666,\"#ed7953\"],[0.7777777777777778,\"#fb9f3a\"],[0.8888888888888888,\"#fdca26\"],[1.0,\"#f0f921\"]],\"type\":\"surface\"}],\"table\":[{\"cells\":{\"fill\":{\"color\":\"#EBF0F8\"},\"line\":{\"color\":\"white\"}},\"header\":{\"fill\":{\"color\":\"#C8D4E3\"},\"line\":{\"color\":\"white\"}},\"type\":\"table\"}]},\"layout\":{\"annotationdefaults\":{\"arrowcolor\":\"#2a3f5f\",\"arrowhead\":0,\"arrowwidth\":1},\"autotypenumbers\":\"strict\",\"coloraxis\":{\"colorbar\":{\"outlinewidth\":0,\"ticks\":\"\"}},\"colorscale\":{\"diverging\":[[0,\"#8e0152\"],[0.1,\"#c51b7d\"],[0.2,\"#de77ae\"],[0.3,\"#f1b6da\"],[0.4,\"#fde0ef\"],[0.5,\"#f7f7f7\"],[0.6,\"#e6f5d0\"],[0.7,\"#b8e186\"],[0.8,\"#7fbc41\"],[0.9,\"#4d9221\"],[1,\"#276419\"]],\"sequential\":[[0.0,\"#0d0887\"],[0.1111111111111111,\"#46039f\"],[0.2222222222222222,\"#7201a8\"],[0.3333333333333333,\"#9c179e\"],[0.4444444444444444,\"#bd3786\"],[0.5555555555555556,\"#d8576b\"],[0.6666666666666666,\"#ed7953\"],[0.7777777777777778,\"#fb9f3a\"],[0.8888888888888888,\"#fdca26\"],[1.0,\"#f0f921\"]],\"sequentialminus\":[[0.0,\"#0d0887\"],[0.1111111111111111,\"#46039f\"],[0.2222222222222222,\"#7201a8\"],[0.3333333333333333,\"#9c179e\"],[0.4444444444444444,\"#bd3786\"],[0.5555555555555556,\"#d8576b\"],[0.6666666666666666,\"#ed7953\"],[0.7777777777777778,\"#fb9f3a\"],[0.8888888888888888,\"#fdca26\"],[1.0,\"#f0f921\"]]},\"colorway\":[\"#636efa\",\"#EF553B\",\"#00cc96\",\"#ab63fa\",\"#FFA15A\",\"#19d3f3\",\"#FF6692\",\"#B6E880\",\"#FF97FF\",\"#FECB52\"],\"font\":{\"color\":\"#2a3f5f\"},\"geo\":{\"bgcolor\":\"white\",\"lakecolor\":\"white\",\"landcolor\":\"#E5ECF6\",\"showlakes\":true,\"showland\":true,\"subunitcolor\":\"white\"},\"hoverlabel\":{\"align\":\"left\"},\"hovermode\":\"closest\",\"mapbox\":{\"style\":\"light\"},\"paper_bgcolor\":\"white\",\"plot_bgcolor\":\"#E5ECF6\",\"polar\":{\"angularaxis\":{\"gridcolor\":\"white\",\"linecolor\":\"white\",\"ticks\":\"\"},\"bgcolor\":\"#E5ECF6\",\"radialaxis\":{\"gridcolor\":\"white\",\"linecolor\":\"white\",\"ticks\":\"\"}},\"scene\":{\"xaxis\":{\"backgroundcolor\":\"#E5ECF6\",\"gridcolor\":\"white\",\"gridwidth\":2,\"linecolor\":\"white\",\"showbackground\":true,\"ticks\":\"\",\"zerolinecolor\":\"white\"},\"yaxis\":{\"backgroundcolor\":\"#E5ECF6\",\"gridcolor\":\"white\",\"gridwidth\":2,\"linecolor\":\"white\",\"showbackground\":true,\"ticks\":\"\",\"zerolinecolor\":\"white\"},\"zaxis\":{\"backgroundcolor\":\"#E5ECF6\",\"gridcolor\":\"white\",\"gridwidth\":2,\"linecolor\":\"white\",\"showbackground\":true,\"ticks\":\"\",\"zerolinecolor\":\"white\"}},\"shapedefaults\":{\"line\":{\"color\":\"#2a3f5f\"}},\"ternary\":{\"aaxis\":{\"gridcolor\":\"white\",\"linecolor\":\"white\",\"ticks\":\"\"},\"baxis\":{\"gridcolor\":\"white\",\"linecolor\":\"white\",\"ticks\":\"\"},\"bgcolor\":\"#E5ECF6\",\"caxis\":{\"gridcolor\":\"white\",\"linecolor\":\"white\",\"ticks\":\"\"}},\"title\":{\"x\":0.05},\"xaxis\":{\"automargin\":true,\"gridcolor\":\"white\",\"linecolor\":\"white\",\"ticks\":\"\",\"title\":{\"standoff\":15},\"zerolinecolor\":\"white\",\"zerolinewidth\":2},\"yaxis\":{\"automargin\":true,\"gridcolor\":\"white\",\"linecolor\":\"white\",\"ticks\":\"\",\"title\":{\"standoff\":15},\"zerolinecolor\":\"white\",\"zerolinewidth\":2}}},\"title\":{\"font\":{\"color\":\"#4D5663\"}},\"xaxis\":{\"gridcolor\":\"#E1E5ED\",\"showgrid\":true,\"tickfont\":{\"color\":\"#4D5663\"},\"title\":{\"font\":{\"color\":\"#4D5663\"},\"text\":\"\"},\"zerolinecolor\":\"#E1E5ED\"},\"xaxis2\":{\"anchor\":\"y2\",\"gridcolor\":\"#E1E5ED\",\"showgrid\":true,\"showticklabels\":false,\"tickfont\":{\"color\":\"#4D5663\"},\"title\":{\"font\":{\"color\":\"#4D5663\"},\"text\":\"\"},\"zerolinecolor\":\"#E1E5ED\"},\"yaxis\":{\"domain\":[0.3,1],\"gridcolor\":\"#E1E5ED\",\"showgrid\":true,\"tickfont\":{\"color\":\"#4D5663\"},\"title\":{\"font\":{\"color\":\"#4D5663\"},\"text\":\"\"},\"zerolinecolor\":\"#E1E5ED\"},\"yaxis2\":{\"domain\":[0,0.25],\"gridcolor\":\"#E1E5ED\",\"showgrid\":true,\"tickfont\":{\"color\":\"#4D5663\"},\"title\":{\"font\":{\"color\":\"#4D5663\"},\"text\":\"Spread\"},\"zerolinecolor\":\"#E1E5ED\"}},                        {\"showLink\": true, \"linkText\": \"Export to plot.ly\", \"plotlyServerURL\": \"https://plot.ly\", \"responsive\": true}                    ).then(function(){\n",
       "                            \n",
       "var gd = document.getElementById('2cf222c8-cc0b-45e5-a513-66c8127a8e31');\n",
       "var x = new MutationObserver(function (mutations, observer) {{\n",
       "        var display = window.getComputedStyle(gd).display;\n",
       "        if (!display || display === 'none') {{\n",
       "            console.log([gd, 'removed!']);\n",
       "            Plotly.purge(gd);\n",
       "            observer.disconnect();\n",
       "        }}\n",
       "}});\n",
       "\n",
       "// Listen for the removal of the full notebook cells\n",
       "var notebookContainer = gd.closest('#notebook-container');\n",
       "if (notebookContainer) {{\n",
       "    x.observe(notebookContainer, {childList: true});\n",
       "}}\n",
       "\n",
       "// Listen for the clearing of the current output cell\n",
       "var outputEl = gd.closest('.output');\n",
       "if (outputEl) {{\n",
       "    x.observe(outputEl, {childList: true});\n",
       "}}\n",
       "\n",
       "                        })                };                });            </script>        </div>"
      ]
     },
     "metadata": {},
     "output_type": "display_data"
    }
   ],
   "source": [
    "df[['A','B']].iplot(kind='spread')"
   ]
  },
  {
   "cell_type": "code",
   "execution_count": 41,
   "id": "7b915760",
   "metadata": {},
   "outputs": [
    {
     "data": {
      "application/vnd.plotly.v1+json": {
       "config": {
        "linkText": "Export to plot.ly",
        "plotlyServerURL": "https://plot.ly",
        "showLink": true
       },
       "data": [
        {
         "marker": {
          "color": [
           "rgb(255, 153, 51)",
           "rgb(55, 128, 191)",
           "rgb(50, 171, 96)",
           "rgb(128, 0, 128)",
           "rgb(219, 64, 82)",
           "rgb(0, 128, 128)",
           "rgb(255, 255, 51)",
           "rgb(128, 128, 0)",
           "rgb(251, 128, 114)",
           "rgb(128, 177, 211)"
          ],
          "line": {
           "width": 1.3
          },
          "size": [
           57,
           30,
           64,
           82,
           51,
           29,
           58,
           85,
           12,
           25,
           27,
           52,
           67,
           101,
           42,
           82,
           83,
           85,
           69,
           112,
           31,
           81,
           61,
           62,
           70,
           47,
           88,
           46,
           56,
           62,
           85,
           64,
           80,
           57,
           59,
           44,
           69,
           79,
           74,
           69,
           67,
           42,
           57,
           32,
           34,
           64,
           30,
           34,
           65,
           52,
           94,
           55,
           51,
           68,
           51,
           88,
           57,
           62,
           20,
           76,
           30,
           33,
           35,
           91,
           97,
           26,
           45,
           47,
           47,
           64,
           69,
           34,
           19,
           36,
           33,
           81,
           20,
           85,
           35,
           47,
           38,
           43,
           52,
           27,
           51,
           71,
           54,
           86,
           78,
           60,
           71,
           56,
           68,
           15,
           12,
           51,
           27,
           72,
           99,
           53
          ],
          "symbol": "circle"
         },
         "mode": "markers",
         "text": "",
         "type": "scatter",
         "x": [
          -1.5780143094608707,
          0.4224141679036228,
          -0.046044199547425994,
          0.2764425774695236,
          0.2832003904525572,
          -0.8244229229915959,
          0.3231680986676643,
          -2.5784754728961077,
          -1.1174667014919542,
          -0.10433571740892703,
          -0.8635825627075128,
          0.7213549567592623,
          -0.514209164071635,
          -0.0894937461585034,
          -1.0493787538844543,
          1.1600959677883953,
          0.015315579009527229,
          1.1373452911453181,
          -0.35205604004623087,
          0.9733588160495177,
          1.0175919245173992,
          -1.1032733279615654,
          -0.04091946153944837,
          0.29127869094225495,
          -0.8031504118174125,
          0.6154323976045675,
          -0.9416530536217149,
          -0.8615871361773523,
          1.7197517910385434,
          -1.3245217395911422,
          -0.9905387437971541,
          0.612921924303667,
          -1.7195845050451466,
          1.7794753656569549,
          1.390338780884705,
          1.5420775527370045,
          1.4602461868666108,
          0.3920840158671529,
          0.20740068599803843,
          -0.0525907643085713,
          -2.124496090536296,
          1.8033601534563382,
          -2.2134597571962984,
          -1.2320037595512683,
          -0.013623770292160971,
          0.10361627865663506,
          1.8251728914117562,
          -1.4567844712500666,
          1.6815715414433596,
          -1.6382228363459552,
          1.1785073527119436,
          -2.1103799953953857,
          -2.360654618156865,
          1.06403721627327,
          -0.6021400767598017,
          -0.47764716258391327,
          0.170088710868202,
          1.6261280670577174,
          0.29696401753219864,
          -0.551821204569244,
          -0.7933538478762096,
          1.2175829255456183,
          1.2929051874329027,
          1.8671528425987827,
          -0.4997985409441982,
          -1.0199402532984096,
          -0.773586095168086,
          -0.36877594456216256,
          -0.7896229212932089,
          -1.6187547203217891,
          0.5095063621113651,
          0.3892508134673948,
          1.8226250380923086,
          1.398772283602051,
          0.28258121963712785,
          0.3171731159206602,
          -0.4664976111440749,
          -0.2845925650841886,
          -1.4177805231493208,
          0.9495788651228273,
          0.42885197403303343,
          2.0694579684956147,
          -0.7334623227655961,
          -0.05343421964291611,
          -0.42613012697760827,
          0.7942339422888914,
          0.9822033206905049,
          1.1274178789267362,
          -0.4865849503191588,
          0.252100329107842,
          -0.5178559805808933,
          -0.7894057794818384,
          -0.6942281167523381,
          -1.2733291431281641,
          0.6615762834883798,
          -0.47001228540783596,
          1.1182681925497504,
          -0.23366998936225875,
          1.838116177785737,
          -0.8406962071636835
         ],
         "y": [
          -0.0259506725481951,
          0.24435649772913426,
          1.0877733311223357,
          -1.8962004040020193,
          -0.25954921711141765,
          2.7043824859122476,
          1.0926540178862534,
          0.35217276213382537,
          0.1407838761058627,
          -0.6885384052765048,
          -1.383324172827188,
          1.1577865659859314,
          -1.8530220238946453,
          -1.2259532131837694,
          -1.7724024475662012,
          0.16921653511331095,
          -0.23502175645737877,
          -0.19493413743530474,
          2.1059690127705033,
          0.7145282505605425,
          -1.2459465065590833,
          -0.6112834219178358,
          -1.2972285557713692,
          -0.04391332479597896,
          -0.9127750185864033,
          0.8642737524596605,
          -1.2427033799781488,
          0.17809916107149085,
          0.9855511500907624,
          0.5789203698228469,
          1.353179929831089,
          -1.5811690329479169,
          0.21627646035202477,
          0.22918666030418786,
          -0.7657227806022304,
          1.2970745084573303,
          -0.4411467425812966,
          -0.002253022989131673,
          -0.27334995315785343,
          -0.747367567496964,
          -0.7707536473647956,
          -0.05356741888756035,
          -0.16058500038988138,
          -0.5283774811894479,
          0.7155354694021077,
          -0.6711991806061014,
          2.552152773933515,
          -0.5804357246008203,
          -0.9473705154872256,
          -0.7083728099568252,
          -0.12062595408966743,
          1.3937635936198711,
          1.3108596651627333,
          0.5468020472079963,
          -1.435505117973782,
          -0.5332814220831296,
          1.6801961892764308,
          -0.5839531012332301,
          -0.6360695371158908,
          -0.6699857250566243,
          1.3350702453545424,
          0.15520860787965896,
          -0.5236228725603096,
          -0.7853909085159455,
          0.12147932511505855,
          -0.15327619748009327,
          -1.0783259244660068,
          1.210341428022308,
          0.13966304107529887,
          -0.9399084888506885,
          -0.59902023061572,
          -0.9954913339458762,
          -0.7571127903134742,
          0.9807267710763179,
          0.7122861855974634,
          -0.9759818563206035,
          1.3560811000635984,
          -0.01974306520172108,
          0.018638522220582106,
          1.252650763361496,
          -1.7834401536838884,
          -0.32449111720371465,
          -3.147935945088936,
          -2.4677680161269415,
          -0.048587764266386856,
          0.3680883517657553,
          -0.725297987922035,
          -0.21514594619635463,
          -0.9977141038793348,
          -1.36596465153972,
          -0.552387349054642,
          -0.06680693818684787,
          -0.10991903665861248,
          -0.053436332518115956,
          -0.6239178589232137,
          1.0931547879237713,
          0.87178061557824,
          -0.13461311038414722,
          1.6880989246818119,
          0.546249759714265
         ]
        }
       ],
       "layout": {
        "legend": {
         "bgcolor": "#F5F6F9",
         "font": {
          "color": "#4D5663"
         }
        },
        "paper_bgcolor": "#F5F6F9",
        "plot_bgcolor": "#F5F6F9",
        "template": {
         "data": {
          "bar": [
           {
            "error_x": {
             "color": "#2a3f5f"
            },
            "error_y": {
             "color": "#2a3f5f"
            },
            "marker": {
             "line": {
              "color": "#E5ECF6",
              "width": 0.5
             },
             "pattern": {
              "fillmode": "overlay",
              "size": 10,
              "solidity": 0.2
             }
            },
            "type": "bar"
           }
          ],
          "barpolar": [
           {
            "marker": {
             "line": {
              "color": "#E5ECF6",
              "width": 0.5
             },
             "pattern": {
              "fillmode": "overlay",
              "size": 10,
              "solidity": 0.2
             }
            },
            "type": "barpolar"
           }
          ],
          "carpet": [
           {
            "aaxis": {
             "endlinecolor": "#2a3f5f",
             "gridcolor": "white",
             "linecolor": "white",
             "minorgridcolor": "white",
             "startlinecolor": "#2a3f5f"
            },
            "baxis": {
             "endlinecolor": "#2a3f5f",
             "gridcolor": "white",
             "linecolor": "white",
             "minorgridcolor": "white",
             "startlinecolor": "#2a3f5f"
            },
            "type": "carpet"
           }
          ],
          "choropleth": [
           {
            "colorbar": {
             "outlinewidth": 0,
             "ticks": ""
            },
            "type": "choropleth"
           }
          ],
          "contour": [
           {
            "colorbar": {
             "outlinewidth": 0,
             "ticks": ""
            },
            "colorscale": [
             [
              0,
              "#0d0887"
             ],
             [
              0.1111111111111111,
              "#46039f"
             ],
             [
              0.2222222222222222,
              "#7201a8"
             ],
             [
              0.3333333333333333,
              "#9c179e"
             ],
             [
              0.4444444444444444,
              "#bd3786"
             ],
             [
              0.5555555555555556,
              "#d8576b"
             ],
             [
              0.6666666666666666,
              "#ed7953"
             ],
             [
              0.7777777777777778,
              "#fb9f3a"
             ],
             [
              0.8888888888888888,
              "#fdca26"
             ],
             [
              1,
              "#f0f921"
             ]
            ],
            "type": "contour"
           }
          ],
          "contourcarpet": [
           {
            "colorbar": {
             "outlinewidth": 0,
             "ticks": ""
            },
            "type": "contourcarpet"
           }
          ],
          "heatmap": [
           {
            "colorbar": {
             "outlinewidth": 0,
             "ticks": ""
            },
            "colorscale": [
             [
              0,
              "#0d0887"
             ],
             [
              0.1111111111111111,
              "#46039f"
             ],
             [
              0.2222222222222222,
              "#7201a8"
             ],
             [
              0.3333333333333333,
              "#9c179e"
             ],
             [
              0.4444444444444444,
              "#bd3786"
             ],
             [
              0.5555555555555556,
              "#d8576b"
             ],
             [
              0.6666666666666666,
              "#ed7953"
             ],
             [
              0.7777777777777778,
              "#fb9f3a"
             ],
             [
              0.8888888888888888,
              "#fdca26"
             ],
             [
              1,
              "#f0f921"
             ]
            ],
            "type": "heatmap"
           }
          ],
          "heatmapgl": [
           {
            "colorbar": {
             "outlinewidth": 0,
             "ticks": ""
            },
            "colorscale": [
             [
              0,
              "#0d0887"
             ],
             [
              0.1111111111111111,
              "#46039f"
             ],
             [
              0.2222222222222222,
              "#7201a8"
             ],
             [
              0.3333333333333333,
              "#9c179e"
             ],
             [
              0.4444444444444444,
              "#bd3786"
             ],
             [
              0.5555555555555556,
              "#d8576b"
             ],
             [
              0.6666666666666666,
              "#ed7953"
             ],
             [
              0.7777777777777778,
              "#fb9f3a"
             ],
             [
              0.8888888888888888,
              "#fdca26"
             ],
             [
              1,
              "#f0f921"
             ]
            ],
            "type": "heatmapgl"
           }
          ],
          "histogram": [
           {
            "marker": {
             "pattern": {
              "fillmode": "overlay",
              "size": 10,
              "solidity": 0.2
             }
            },
            "type": "histogram"
           }
          ],
          "histogram2d": [
           {
            "colorbar": {
             "outlinewidth": 0,
             "ticks": ""
            },
            "colorscale": [
             [
              0,
              "#0d0887"
             ],
             [
              0.1111111111111111,
              "#46039f"
             ],
             [
              0.2222222222222222,
              "#7201a8"
             ],
             [
              0.3333333333333333,
              "#9c179e"
             ],
             [
              0.4444444444444444,
              "#bd3786"
             ],
             [
              0.5555555555555556,
              "#d8576b"
             ],
             [
              0.6666666666666666,
              "#ed7953"
             ],
             [
              0.7777777777777778,
              "#fb9f3a"
             ],
             [
              0.8888888888888888,
              "#fdca26"
             ],
             [
              1,
              "#f0f921"
             ]
            ],
            "type": "histogram2d"
           }
          ],
          "histogram2dcontour": [
           {
            "colorbar": {
             "outlinewidth": 0,
             "ticks": ""
            },
            "colorscale": [
             [
              0,
              "#0d0887"
             ],
             [
              0.1111111111111111,
              "#46039f"
             ],
             [
              0.2222222222222222,
              "#7201a8"
             ],
             [
              0.3333333333333333,
              "#9c179e"
             ],
             [
              0.4444444444444444,
              "#bd3786"
             ],
             [
              0.5555555555555556,
              "#d8576b"
             ],
             [
              0.6666666666666666,
              "#ed7953"
             ],
             [
              0.7777777777777778,
              "#fb9f3a"
             ],
             [
              0.8888888888888888,
              "#fdca26"
             ],
             [
              1,
              "#f0f921"
             ]
            ],
            "type": "histogram2dcontour"
           }
          ],
          "mesh3d": [
           {
            "colorbar": {
             "outlinewidth": 0,
             "ticks": ""
            },
            "type": "mesh3d"
           }
          ],
          "parcoords": [
           {
            "line": {
             "colorbar": {
              "outlinewidth": 0,
              "ticks": ""
             }
            },
            "type": "parcoords"
           }
          ],
          "pie": [
           {
            "automargin": true,
            "type": "pie"
           }
          ],
          "scatter": [
           {
            "marker": {
             "colorbar": {
              "outlinewidth": 0,
              "ticks": ""
             }
            },
            "type": "scatter"
           }
          ],
          "scatter3d": [
           {
            "line": {
             "colorbar": {
              "outlinewidth": 0,
              "ticks": ""
             }
            },
            "marker": {
             "colorbar": {
              "outlinewidth": 0,
              "ticks": ""
             }
            },
            "type": "scatter3d"
           }
          ],
          "scattercarpet": [
           {
            "marker": {
             "colorbar": {
              "outlinewidth": 0,
              "ticks": ""
             }
            },
            "type": "scattercarpet"
           }
          ],
          "scattergeo": [
           {
            "marker": {
             "colorbar": {
              "outlinewidth": 0,
              "ticks": ""
             }
            },
            "type": "scattergeo"
           }
          ],
          "scattergl": [
           {
            "marker": {
             "colorbar": {
              "outlinewidth": 0,
              "ticks": ""
             }
            },
            "type": "scattergl"
           }
          ],
          "scattermapbox": [
           {
            "marker": {
             "colorbar": {
              "outlinewidth": 0,
              "ticks": ""
             }
            },
            "type": "scattermapbox"
           }
          ],
          "scatterpolar": [
           {
            "marker": {
             "colorbar": {
              "outlinewidth": 0,
              "ticks": ""
             }
            },
            "type": "scatterpolar"
           }
          ],
          "scatterpolargl": [
           {
            "marker": {
             "colorbar": {
              "outlinewidth": 0,
              "ticks": ""
             }
            },
            "type": "scatterpolargl"
           }
          ],
          "scatterternary": [
           {
            "marker": {
             "colorbar": {
              "outlinewidth": 0,
              "ticks": ""
             }
            },
            "type": "scatterternary"
           }
          ],
          "surface": [
           {
            "colorbar": {
             "outlinewidth": 0,
             "ticks": ""
            },
            "colorscale": [
             [
              0,
              "#0d0887"
             ],
             [
              0.1111111111111111,
              "#46039f"
             ],
             [
              0.2222222222222222,
              "#7201a8"
             ],
             [
              0.3333333333333333,
              "#9c179e"
             ],
             [
              0.4444444444444444,
              "#bd3786"
             ],
             [
              0.5555555555555556,
              "#d8576b"
             ],
             [
              0.6666666666666666,
              "#ed7953"
             ],
             [
              0.7777777777777778,
              "#fb9f3a"
             ],
             [
              0.8888888888888888,
              "#fdca26"
             ],
             [
              1,
              "#f0f921"
             ]
            ],
            "type": "surface"
           }
          ],
          "table": [
           {
            "cells": {
             "fill": {
              "color": "#EBF0F8"
             },
             "line": {
              "color": "white"
             }
            },
            "header": {
             "fill": {
              "color": "#C8D4E3"
             },
             "line": {
              "color": "white"
             }
            },
            "type": "table"
           }
          ]
         },
         "layout": {
          "annotationdefaults": {
           "arrowcolor": "#2a3f5f",
           "arrowhead": 0,
           "arrowwidth": 1
          },
          "autotypenumbers": "strict",
          "coloraxis": {
           "colorbar": {
            "outlinewidth": 0,
            "ticks": ""
           }
          },
          "colorscale": {
           "diverging": [
            [
             0,
             "#8e0152"
            ],
            [
             0.1,
             "#c51b7d"
            ],
            [
             0.2,
             "#de77ae"
            ],
            [
             0.3,
             "#f1b6da"
            ],
            [
             0.4,
             "#fde0ef"
            ],
            [
             0.5,
             "#f7f7f7"
            ],
            [
             0.6,
             "#e6f5d0"
            ],
            [
             0.7,
             "#b8e186"
            ],
            [
             0.8,
             "#7fbc41"
            ],
            [
             0.9,
             "#4d9221"
            ],
            [
             1,
             "#276419"
            ]
           ],
           "sequential": [
            [
             0,
             "#0d0887"
            ],
            [
             0.1111111111111111,
             "#46039f"
            ],
            [
             0.2222222222222222,
             "#7201a8"
            ],
            [
             0.3333333333333333,
             "#9c179e"
            ],
            [
             0.4444444444444444,
             "#bd3786"
            ],
            [
             0.5555555555555556,
             "#d8576b"
            ],
            [
             0.6666666666666666,
             "#ed7953"
            ],
            [
             0.7777777777777778,
             "#fb9f3a"
            ],
            [
             0.8888888888888888,
             "#fdca26"
            ],
            [
             1,
             "#f0f921"
            ]
           ],
           "sequentialminus": [
            [
             0,
             "#0d0887"
            ],
            [
             0.1111111111111111,
             "#46039f"
            ],
            [
             0.2222222222222222,
             "#7201a8"
            ],
            [
             0.3333333333333333,
             "#9c179e"
            ],
            [
             0.4444444444444444,
             "#bd3786"
            ],
            [
             0.5555555555555556,
             "#d8576b"
            ],
            [
             0.6666666666666666,
             "#ed7953"
            ],
            [
             0.7777777777777778,
             "#fb9f3a"
            ],
            [
             0.8888888888888888,
             "#fdca26"
            ],
            [
             1,
             "#f0f921"
            ]
           ]
          },
          "colorway": [
           "#636efa",
           "#EF553B",
           "#00cc96",
           "#ab63fa",
           "#FFA15A",
           "#19d3f3",
           "#FF6692",
           "#B6E880",
           "#FF97FF",
           "#FECB52"
          ],
          "font": {
           "color": "#2a3f5f"
          },
          "geo": {
           "bgcolor": "white",
           "lakecolor": "white",
           "landcolor": "#E5ECF6",
           "showlakes": true,
           "showland": true,
           "subunitcolor": "white"
          },
          "hoverlabel": {
           "align": "left"
          },
          "hovermode": "closest",
          "mapbox": {
           "style": "light"
          },
          "paper_bgcolor": "white",
          "plot_bgcolor": "#E5ECF6",
          "polar": {
           "angularaxis": {
            "gridcolor": "white",
            "linecolor": "white",
            "ticks": ""
           },
           "bgcolor": "#E5ECF6",
           "radialaxis": {
            "gridcolor": "white",
            "linecolor": "white",
            "ticks": ""
           }
          },
          "scene": {
           "xaxis": {
            "backgroundcolor": "#E5ECF6",
            "gridcolor": "white",
            "gridwidth": 2,
            "linecolor": "white",
            "showbackground": true,
            "ticks": "",
            "zerolinecolor": "white"
           },
           "yaxis": {
            "backgroundcolor": "#E5ECF6",
            "gridcolor": "white",
            "gridwidth": 2,
            "linecolor": "white",
            "showbackground": true,
            "ticks": "",
            "zerolinecolor": "white"
           },
           "zaxis": {
            "backgroundcolor": "#E5ECF6",
            "gridcolor": "white",
            "gridwidth": 2,
            "linecolor": "white",
            "showbackground": true,
            "ticks": "",
            "zerolinecolor": "white"
           }
          },
          "shapedefaults": {
           "line": {
            "color": "#2a3f5f"
           }
          },
          "ternary": {
           "aaxis": {
            "gridcolor": "white",
            "linecolor": "white",
            "ticks": ""
           },
           "baxis": {
            "gridcolor": "white",
            "linecolor": "white",
            "ticks": ""
           },
           "bgcolor": "#E5ECF6",
           "caxis": {
            "gridcolor": "white",
            "linecolor": "white",
            "ticks": ""
           }
          },
          "title": {
           "x": 0.05
          },
          "xaxis": {
           "automargin": true,
           "gridcolor": "white",
           "linecolor": "white",
           "ticks": "",
           "title": {
            "standoff": 15
           },
           "zerolinecolor": "white",
           "zerolinewidth": 2
          },
          "yaxis": {
           "automargin": true,
           "gridcolor": "white",
           "linecolor": "white",
           "ticks": "",
           "title": {
            "standoff": 15
           },
           "zerolinecolor": "white",
           "zerolinewidth": 2
          }
         }
        },
        "title": {
         "font": {
          "color": "#4D5663"
         }
        },
        "xaxis": {
         "gridcolor": "#E1E5ED",
         "showgrid": true,
         "tickfont": {
          "color": "#4D5663"
         },
         "title": {
          "font": {
           "color": "#4D5663"
          },
          "text": ""
         },
         "zerolinecolor": "#E1E5ED"
        },
        "yaxis": {
         "gridcolor": "#E1E5ED",
         "showgrid": true,
         "tickfont": {
          "color": "#4D5663"
         },
         "title": {
          "font": {
           "color": "#4D5663"
          },
          "text": ""
         },
         "zerolinecolor": "#E1E5ED"
        }
       }
      },
      "text/html": [
       "<div>                            <div id=\"8ed05944-ea54-4afc-9238-87ccdc243faf\" class=\"plotly-graph-div\" style=\"height:525px; width:100%;\"></div>            <script type=\"text/javascript\">                require([\"plotly\"], function(Plotly) {                    window.PLOTLYENV=window.PLOTLYENV || {};\n",
       "                    window.PLOTLYENV.BASE_URL='https://plot.ly';                                    if (document.getElementById(\"8ed05944-ea54-4afc-9238-87ccdc243faf\")) {                    Plotly.newPlot(                        \"8ed05944-ea54-4afc-9238-87ccdc243faf\",                        [{\"marker\":{\"color\":[\"rgb(255, 153, 51)\",\"rgb(55, 128, 191)\",\"rgb(50, 171, 96)\",\"rgb(128, 0, 128)\",\"rgb(219, 64, 82)\",\"rgb(0, 128, 128)\",\"rgb(255, 255, 51)\",\"rgb(128, 128, 0)\",\"rgb(251, 128, 114)\",\"rgb(128, 177, 211)\"],\"line\":{\"width\":1.3},\"size\":[57,30,64,82,51,29,58,85,12,25,27,52,67,101,42,82,83,85,69,112,31,81,61,62,70,47,88,46,56,62,85,64,80,57,59,44,69,79,74,69,67,42,57,32,34,64,30,34,65,52,94,55,51,68,51,88,57,62,20,76,30,33,35,91,97,26,45,47,47,64,69,34,19,36,33,81,20,85,35,47,38,43,52,27,51,71,54,86,78,60,71,56,68,15,12,51,27,72,99,53],\"symbol\":\"circle\"},\"mode\":\"markers\",\"text\":\"\",\"type\":\"scatter\",\"x\":[-1.5780143094608707,0.4224141679036228,-0.046044199547425994,0.2764425774695236,0.2832003904525572,-0.8244229229915959,0.3231680986676643,-2.5784754728961077,-1.1174667014919542,-0.10433571740892703,-0.8635825627075128,0.7213549567592623,-0.514209164071635,-0.0894937461585034,-1.0493787538844543,1.1600959677883953,0.015315579009527229,1.1373452911453181,-0.35205604004623087,0.9733588160495177,1.0175919245173992,-1.1032733279615654,-0.04091946153944837,0.29127869094225495,-0.8031504118174125,0.6154323976045675,-0.9416530536217149,-0.8615871361773523,1.7197517910385434,-1.3245217395911422,-0.9905387437971541,0.612921924303667,-1.7195845050451466,1.7794753656569549,1.390338780884705,1.5420775527370045,1.4602461868666108,0.3920840158671529,0.20740068599803843,-0.0525907643085713,-2.124496090536296,1.8033601534563382,-2.2134597571962984,-1.2320037595512683,-0.013623770292160971,0.10361627865663506,1.8251728914117562,-1.4567844712500666,1.6815715414433596,-1.6382228363459552,1.1785073527119436,-2.1103799953953857,-2.360654618156865,1.06403721627327,-0.6021400767598017,-0.47764716258391327,0.170088710868202,1.6261280670577174,0.29696401753219864,-0.551821204569244,-0.7933538478762096,1.2175829255456183,1.2929051874329027,1.8671528425987827,-0.4997985409441982,-1.0199402532984096,-0.773586095168086,-0.36877594456216256,-0.7896229212932089,-1.6187547203217891,0.5095063621113651,0.3892508134673948,1.8226250380923086,1.398772283602051,0.28258121963712785,0.3171731159206602,-0.4664976111440749,-0.2845925650841886,-1.4177805231493208,0.9495788651228273,0.42885197403303343,2.0694579684956147,-0.7334623227655961,-0.05343421964291611,-0.42613012697760827,0.7942339422888914,0.9822033206905049,1.1274178789267362,-0.4865849503191588,0.252100329107842,-0.5178559805808933,-0.7894057794818384,-0.6942281167523381,-1.2733291431281641,0.6615762834883798,-0.47001228540783596,1.1182681925497504,-0.23366998936225875,1.838116177785737,-0.8406962071636835],\"y\":[-0.0259506725481951,0.24435649772913426,1.0877733311223357,-1.8962004040020193,-0.25954921711141765,2.7043824859122476,1.0926540178862534,0.35217276213382537,0.1407838761058627,-0.6885384052765048,-1.383324172827188,1.1577865659859314,-1.8530220238946453,-1.2259532131837694,-1.7724024475662012,0.16921653511331095,-0.23502175645737877,-0.19493413743530474,2.1059690127705033,0.7145282505605425,-1.2459465065590833,-0.6112834219178358,-1.2972285557713692,-0.04391332479597896,-0.9127750185864033,0.8642737524596605,-1.2427033799781488,0.17809916107149085,0.9855511500907624,0.5789203698228469,1.353179929831089,-1.5811690329479169,0.21627646035202477,0.22918666030418786,-0.7657227806022304,1.2970745084573303,-0.4411467425812966,-0.002253022989131673,-0.27334995315785343,-0.747367567496964,-0.7707536473647956,-0.05356741888756035,-0.16058500038988138,-0.5283774811894479,0.7155354694021077,-0.6711991806061014,2.552152773933515,-0.5804357246008203,-0.9473705154872256,-0.7083728099568252,-0.12062595408966743,1.3937635936198711,1.3108596651627333,0.5468020472079963,-1.435505117973782,-0.5332814220831296,1.6801961892764308,-0.5839531012332301,-0.6360695371158908,-0.6699857250566243,1.3350702453545424,0.15520860787965896,-0.5236228725603096,-0.7853909085159455,0.12147932511505855,-0.15327619748009327,-1.0783259244660068,1.210341428022308,0.13966304107529887,-0.9399084888506885,-0.59902023061572,-0.9954913339458762,-0.7571127903134742,0.9807267710763179,0.7122861855974634,-0.9759818563206035,1.3560811000635984,-0.01974306520172108,0.018638522220582106,1.252650763361496,-1.7834401536838884,-0.32449111720371465,-3.147935945088936,-2.4677680161269415,-0.048587764266386856,0.3680883517657553,-0.725297987922035,-0.21514594619635463,-0.9977141038793348,-1.36596465153972,-0.552387349054642,-0.06680693818684787,-0.10991903665861248,-0.053436332518115956,-0.6239178589232137,1.0931547879237713,0.87178061557824,-0.13461311038414722,1.6880989246818119,0.546249759714265]}],                        {\"legend\":{\"bgcolor\":\"#F5F6F9\",\"font\":{\"color\":\"#4D5663\"}},\"paper_bgcolor\":\"#F5F6F9\",\"plot_bgcolor\":\"#F5F6F9\",\"template\":{\"data\":{\"bar\":[{\"error_x\":{\"color\":\"#2a3f5f\"},\"error_y\":{\"color\":\"#2a3f5f\"},\"marker\":{\"line\":{\"color\":\"#E5ECF6\",\"width\":0.5},\"pattern\":{\"fillmode\":\"overlay\",\"size\":10,\"solidity\":0.2}},\"type\":\"bar\"}],\"barpolar\":[{\"marker\":{\"line\":{\"color\":\"#E5ECF6\",\"width\":0.5},\"pattern\":{\"fillmode\":\"overlay\",\"size\":10,\"solidity\":0.2}},\"type\":\"barpolar\"}],\"carpet\":[{\"aaxis\":{\"endlinecolor\":\"#2a3f5f\",\"gridcolor\":\"white\",\"linecolor\":\"white\",\"minorgridcolor\":\"white\",\"startlinecolor\":\"#2a3f5f\"},\"baxis\":{\"endlinecolor\":\"#2a3f5f\",\"gridcolor\":\"white\",\"linecolor\":\"white\",\"minorgridcolor\":\"white\",\"startlinecolor\":\"#2a3f5f\"},\"type\":\"carpet\"}],\"choropleth\":[{\"colorbar\":{\"outlinewidth\":0,\"ticks\":\"\"},\"type\":\"choropleth\"}],\"contour\":[{\"colorbar\":{\"outlinewidth\":0,\"ticks\":\"\"},\"colorscale\":[[0.0,\"#0d0887\"],[0.1111111111111111,\"#46039f\"],[0.2222222222222222,\"#7201a8\"],[0.3333333333333333,\"#9c179e\"],[0.4444444444444444,\"#bd3786\"],[0.5555555555555556,\"#d8576b\"],[0.6666666666666666,\"#ed7953\"],[0.7777777777777778,\"#fb9f3a\"],[0.8888888888888888,\"#fdca26\"],[1.0,\"#f0f921\"]],\"type\":\"contour\"}],\"contourcarpet\":[{\"colorbar\":{\"outlinewidth\":0,\"ticks\":\"\"},\"type\":\"contourcarpet\"}],\"heatmap\":[{\"colorbar\":{\"outlinewidth\":0,\"ticks\":\"\"},\"colorscale\":[[0.0,\"#0d0887\"],[0.1111111111111111,\"#46039f\"],[0.2222222222222222,\"#7201a8\"],[0.3333333333333333,\"#9c179e\"],[0.4444444444444444,\"#bd3786\"],[0.5555555555555556,\"#d8576b\"],[0.6666666666666666,\"#ed7953\"],[0.7777777777777778,\"#fb9f3a\"],[0.8888888888888888,\"#fdca26\"],[1.0,\"#f0f921\"]],\"type\":\"heatmap\"}],\"heatmapgl\":[{\"colorbar\":{\"outlinewidth\":0,\"ticks\":\"\"},\"colorscale\":[[0.0,\"#0d0887\"],[0.1111111111111111,\"#46039f\"],[0.2222222222222222,\"#7201a8\"],[0.3333333333333333,\"#9c179e\"],[0.4444444444444444,\"#bd3786\"],[0.5555555555555556,\"#d8576b\"],[0.6666666666666666,\"#ed7953\"],[0.7777777777777778,\"#fb9f3a\"],[0.8888888888888888,\"#fdca26\"],[1.0,\"#f0f921\"]],\"type\":\"heatmapgl\"}],\"histogram\":[{\"marker\":{\"pattern\":{\"fillmode\":\"overlay\",\"size\":10,\"solidity\":0.2}},\"type\":\"histogram\"}],\"histogram2d\":[{\"colorbar\":{\"outlinewidth\":0,\"ticks\":\"\"},\"colorscale\":[[0.0,\"#0d0887\"],[0.1111111111111111,\"#46039f\"],[0.2222222222222222,\"#7201a8\"],[0.3333333333333333,\"#9c179e\"],[0.4444444444444444,\"#bd3786\"],[0.5555555555555556,\"#d8576b\"],[0.6666666666666666,\"#ed7953\"],[0.7777777777777778,\"#fb9f3a\"],[0.8888888888888888,\"#fdca26\"],[1.0,\"#f0f921\"]],\"type\":\"histogram2d\"}],\"histogram2dcontour\":[{\"colorbar\":{\"outlinewidth\":0,\"ticks\":\"\"},\"colorscale\":[[0.0,\"#0d0887\"],[0.1111111111111111,\"#46039f\"],[0.2222222222222222,\"#7201a8\"],[0.3333333333333333,\"#9c179e\"],[0.4444444444444444,\"#bd3786\"],[0.5555555555555556,\"#d8576b\"],[0.6666666666666666,\"#ed7953\"],[0.7777777777777778,\"#fb9f3a\"],[0.8888888888888888,\"#fdca26\"],[1.0,\"#f0f921\"]],\"type\":\"histogram2dcontour\"}],\"mesh3d\":[{\"colorbar\":{\"outlinewidth\":0,\"ticks\":\"\"},\"type\":\"mesh3d\"}],\"parcoords\":[{\"line\":{\"colorbar\":{\"outlinewidth\":0,\"ticks\":\"\"}},\"type\":\"parcoords\"}],\"pie\":[{\"automargin\":true,\"type\":\"pie\"}],\"scatter\":[{\"marker\":{\"colorbar\":{\"outlinewidth\":0,\"ticks\":\"\"}},\"type\":\"scatter\"}],\"scatter3d\":[{\"line\":{\"colorbar\":{\"outlinewidth\":0,\"ticks\":\"\"}},\"marker\":{\"colorbar\":{\"outlinewidth\":0,\"ticks\":\"\"}},\"type\":\"scatter3d\"}],\"scattercarpet\":[{\"marker\":{\"colorbar\":{\"outlinewidth\":0,\"ticks\":\"\"}},\"type\":\"scattercarpet\"}],\"scattergeo\":[{\"marker\":{\"colorbar\":{\"outlinewidth\":0,\"ticks\":\"\"}},\"type\":\"scattergeo\"}],\"scattergl\":[{\"marker\":{\"colorbar\":{\"outlinewidth\":0,\"ticks\":\"\"}},\"type\":\"scattergl\"}],\"scattermapbox\":[{\"marker\":{\"colorbar\":{\"outlinewidth\":0,\"ticks\":\"\"}},\"type\":\"scattermapbox\"}],\"scatterpolar\":[{\"marker\":{\"colorbar\":{\"outlinewidth\":0,\"ticks\":\"\"}},\"type\":\"scatterpolar\"}],\"scatterpolargl\":[{\"marker\":{\"colorbar\":{\"outlinewidth\":0,\"ticks\":\"\"}},\"type\":\"scatterpolargl\"}],\"scatterternary\":[{\"marker\":{\"colorbar\":{\"outlinewidth\":0,\"ticks\":\"\"}},\"type\":\"scatterternary\"}],\"surface\":[{\"colorbar\":{\"outlinewidth\":0,\"ticks\":\"\"},\"colorscale\":[[0.0,\"#0d0887\"],[0.1111111111111111,\"#46039f\"],[0.2222222222222222,\"#7201a8\"],[0.3333333333333333,\"#9c179e\"],[0.4444444444444444,\"#bd3786\"],[0.5555555555555556,\"#d8576b\"],[0.6666666666666666,\"#ed7953\"],[0.7777777777777778,\"#fb9f3a\"],[0.8888888888888888,\"#fdca26\"],[1.0,\"#f0f921\"]],\"type\":\"surface\"}],\"table\":[{\"cells\":{\"fill\":{\"color\":\"#EBF0F8\"},\"line\":{\"color\":\"white\"}},\"header\":{\"fill\":{\"color\":\"#C8D4E3\"},\"line\":{\"color\":\"white\"}},\"type\":\"table\"}]},\"layout\":{\"annotationdefaults\":{\"arrowcolor\":\"#2a3f5f\",\"arrowhead\":0,\"arrowwidth\":1},\"autotypenumbers\":\"strict\",\"coloraxis\":{\"colorbar\":{\"outlinewidth\":0,\"ticks\":\"\"}},\"colorscale\":{\"diverging\":[[0,\"#8e0152\"],[0.1,\"#c51b7d\"],[0.2,\"#de77ae\"],[0.3,\"#f1b6da\"],[0.4,\"#fde0ef\"],[0.5,\"#f7f7f7\"],[0.6,\"#e6f5d0\"],[0.7,\"#b8e186\"],[0.8,\"#7fbc41\"],[0.9,\"#4d9221\"],[1,\"#276419\"]],\"sequential\":[[0.0,\"#0d0887\"],[0.1111111111111111,\"#46039f\"],[0.2222222222222222,\"#7201a8\"],[0.3333333333333333,\"#9c179e\"],[0.4444444444444444,\"#bd3786\"],[0.5555555555555556,\"#d8576b\"],[0.6666666666666666,\"#ed7953\"],[0.7777777777777778,\"#fb9f3a\"],[0.8888888888888888,\"#fdca26\"],[1.0,\"#f0f921\"]],\"sequentialminus\":[[0.0,\"#0d0887\"],[0.1111111111111111,\"#46039f\"],[0.2222222222222222,\"#7201a8\"],[0.3333333333333333,\"#9c179e\"],[0.4444444444444444,\"#bd3786\"],[0.5555555555555556,\"#d8576b\"],[0.6666666666666666,\"#ed7953\"],[0.7777777777777778,\"#fb9f3a\"],[0.8888888888888888,\"#fdca26\"],[1.0,\"#f0f921\"]]},\"colorway\":[\"#636efa\",\"#EF553B\",\"#00cc96\",\"#ab63fa\",\"#FFA15A\",\"#19d3f3\",\"#FF6692\",\"#B6E880\",\"#FF97FF\",\"#FECB52\"],\"font\":{\"color\":\"#2a3f5f\"},\"geo\":{\"bgcolor\":\"white\",\"lakecolor\":\"white\",\"landcolor\":\"#E5ECF6\",\"showlakes\":true,\"showland\":true,\"subunitcolor\":\"white\"},\"hoverlabel\":{\"align\":\"left\"},\"hovermode\":\"closest\",\"mapbox\":{\"style\":\"light\"},\"paper_bgcolor\":\"white\",\"plot_bgcolor\":\"#E5ECF6\",\"polar\":{\"angularaxis\":{\"gridcolor\":\"white\",\"linecolor\":\"white\",\"ticks\":\"\"},\"bgcolor\":\"#E5ECF6\",\"radialaxis\":{\"gridcolor\":\"white\",\"linecolor\":\"white\",\"ticks\":\"\"}},\"scene\":{\"xaxis\":{\"backgroundcolor\":\"#E5ECF6\",\"gridcolor\":\"white\",\"gridwidth\":2,\"linecolor\":\"white\",\"showbackground\":true,\"ticks\":\"\",\"zerolinecolor\":\"white\"},\"yaxis\":{\"backgroundcolor\":\"#E5ECF6\",\"gridcolor\":\"white\",\"gridwidth\":2,\"linecolor\":\"white\",\"showbackground\":true,\"ticks\":\"\",\"zerolinecolor\":\"white\"},\"zaxis\":{\"backgroundcolor\":\"#E5ECF6\",\"gridcolor\":\"white\",\"gridwidth\":2,\"linecolor\":\"white\",\"showbackground\":true,\"ticks\":\"\",\"zerolinecolor\":\"white\"}},\"shapedefaults\":{\"line\":{\"color\":\"#2a3f5f\"}},\"ternary\":{\"aaxis\":{\"gridcolor\":\"white\",\"linecolor\":\"white\",\"ticks\":\"\"},\"baxis\":{\"gridcolor\":\"white\",\"linecolor\":\"white\",\"ticks\":\"\"},\"bgcolor\":\"#E5ECF6\",\"caxis\":{\"gridcolor\":\"white\",\"linecolor\":\"white\",\"ticks\":\"\"}},\"title\":{\"x\":0.05},\"xaxis\":{\"automargin\":true,\"gridcolor\":\"white\",\"linecolor\":\"white\",\"ticks\":\"\",\"title\":{\"standoff\":15},\"zerolinecolor\":\"white\",\"zerolinewidth\":2},\"yaxis\":{\"automargin\":true,\"gridcolor\":\"white\",\"linecolor\":\"white\",\"ticks\":\"\",\"title\":{\"standoff\":15},\"zerolinecolor\":\"white\",\"zerolinewidth\":2}}},\"title\":{\"font\":{\"color\":\"#4D5663\"}},\"xaxis\":{\"gridcolor\":\"#E1E5ED\",\"showgrid\":true,\"tickfont\":{\"color\":\"#4D5663\"},\"title\":{\"font\":{\"color\":\"#4D5663\"},\"text\":\"\"},\"zerolinecolor\":\"#E1E5ED\"},\"yaxis\":{\"gridcolor\":\"#E1E5ED\",\"showgrid\":true,\"tickfont\":{\"color\":\"#4D5663\"},\"title\":{\"font\":{\"color\":\"#4D5663\"},\"text\":\"\"},\"zerolinecolor\":\"#E1E5ED\"}},                        {\"showLink\": true, \"linkText\": \"Export to plot.ly\", \"plotlyServerURL\": \"https://plot.ly\", \"responsive\": true}                    ).then(function(){\n",
       "                            \n",
       "var gd = document.getElementById('8ed05944-ea54-4afc-9238-87ccdc243faf');\n",
       "var x = new MutationObserver(function (mutations, observer) {{\n",
       "        var display = window.getComputedStyle(gd).display;\n",
       "        if (!display || display === 'none') {{\n",
       "            console.log([gd, 'removed!']);\n",
       "            Plotly.purge(gd);\n",
       "            observer.disconnect();\n",
       "        }}\n",
       "}});\n",
       "\n",
       "// Listen for the removal of the full notebook cells\n",
       "var notebookContainer = gd.closest('#notebook-container');\n",
       "if (notebookContainer) {{\n",
       "    x.observe(notebookContainer, {childList: true});\n",
       "}}\n",
       "\n",
       "// Listen for the clearing of the current output cell\n",
       "var outputEl = gd.closest('.output');\n",
       "if (outputEl) {{\n",
       "    x.observe(outputEl, {childList: true});\n",
       "}}\n",
       "\n",
       "                        })                };                });            </script>        </div>"
      ]
     },
     "metadata": {},
     "output_type": "display_data"
    }
   ],
   "source": [
    "df.iplot(kind='bubble',x='A',y='B',size='C')"
   ]
  },
  {
   "cell_type": "code",
   "execution_count": 42,
   "id": "7138cc35",
   "metadata": {},
   "outputs": [
    {
     "data": {
      "application/vnd.plotly.v1+json": {
       "config": {
        "linkText": "Export to plot.ly",
        "plotlyServerURL": "https://plot.ly",
        "showLink": true
       },
       "data": [
        {
         "histfunc": "count",
         "histnorm": "",
         "marker": {
          "color": "rgba(255, 153, 51, 1.0)",
          "line": {
           "color": "#4D5663",
           "width": 1.3
          }
         },
         "name": "A",
         "nbinsx": 10,
         "opacity": 0.8,
         "orientation": "v",
         "type": "histogram",
         "x": [
          -1.5780143094608707,
          0.4224141679036228,
          -0.046044199547425994,
          0.2764425774695236,
          0.2832003904525572,
          -0.8244229229915959,
          0.3231680986676643,
          -2.5784754728961077,
          -1.1174667014919542,
          -0.10433571740892703,
          -0.8635825627075128,
          0.7213549567592623,
          -0.514209164071635,
          -0.0894937461585034,
          -1.0493787538844543,
          1.1600959677883953,
          0.015315579009527229,
          1.1373452911453181,
          -0.35205604004623087,
          0.9733588160495177,
          1.0175919245173992,
          -1.1032733279615654,
          -0.04091946153944837,
          0.29127869094225495,
          -0.8031504118174125,
          0.6154323976045675,
          -0.9416530536217149,
          -0.8615871361773523,
          1.7197517910385434,
          -1.3245217395911422,
          -0.9905387437971541,
          0.612921924303667,
          -1.7195845050451466,
          1.7794753656569549,
          1.390338780884705,
          1.5420775527370045,
          1.4602461868666108,
          0.3920840158671529,
          0.20740068599803843,
          -0.0525907643085713,
          -2.124496090536296,
          1.8033601534563382,
          -2.2134597571962984,
          -1.2320037595512683,
          -0.013623770292160971,
          0.10361627865663506,
          1.8251728914117562,
          -1.4567844712500666,
          1.6815715414433596,
          -1.6382228363459552,
          1.1785073527119436,
          -2.1103799953953857,
          -2.360654618156865,
          1.06403721627327,
          -0.6021400767598017,
          -0.47764716258391327,
          0.170088710868202,
          1.6261280670577174,
          0.29696401753219864,
          -0.551821204569244,
          -0.7933538478762096,
          1.2175829255456183,
          1.2929051874329027,
          1.8671528425987827,
          -0.4997985409441982,
          -1.0199402532984096,
          -0.773586095168086,
          -0.36877594456216256,
          -0.7896229212932089,
          -1.6187547203217891,
          0.5095063621113651,
          0.3892508134673948,
          1.8226250380923086,
          1.398772283602051,
          0.28258121963712785,
          0.3171731159206602,
          -0.4664976111440749,
          -0.2845925650841886,
          -1.4177805231493208,
          0.9495788651228273,
          0.42885197403303343,
          2.0694579684956147,
          -0.7334623227655961,
          -0.05343421964291611,
          -0.42613012697760827,
          0.7942339422888914,
          0.9822033206905049,
          1.1274178789267362,
          -0.4865849503191588,
          0.252100329107842,
          -0.5178559805808933,
          -0.7894057794818384,
          -0.6942281167523381,
          -1.2733291431281641,
          0.6615762834883798,
          -0.47001228540783596,
          1.1182681925497504,
          -0.23366998936225875,
          1.838116177785737,
          -0.8406962071636835
         ],
         "xaxis": "x",
         "yaxis": "y"
        },
        {
         "line": {
          "color": "rgba(128, 128, 128, 1.0)",
          "dash": "solid",
          "shape": "linear",
          "width": 1.3
         },
         "marker": {
          "size": 2,
          "symbol": "circle"
         },
         "mode": "markers",
         "name": "A",
         "text": "",
         "type": "scatter",
         "x": [
          -0.0259506725481951,
          0.24435649772913426,
          1.0877733311223357,
          -1.8962004040020193,
          -0.25954921711141765,
          2.7043824859122476,
          1.0926540178862534,
          0.35217276213382537,
          0.1407838761058627,
          -0.6885384052765048,
          -1.383324172827188,
          1.1577865659859314,
          -1.8530220238946453,
          -1.2259532131837694,
          -1.7724024475662012,
          0.16921653511331095,
          -0.23502175645737877,
          -0.19493413743530474,
          2.1059690127705033,
          0.7145282505605425,
          -1.2459465065590833,
          -0.6112834219178358,
          -1.2972285557713692,
          -0.04391332479597896,
          -0.9127750185864033,
          0.8642737524596605,
          -1.2427033799781488,
          0.17809916107149085,
          0.9855511500907624,
          0.5789203698228469,
          1.353179929831089,
          -1.5811690329479169,
          0.21627646035202477,
          0.22918666030418786,
          -0.7657227806022304,
          1.2970745084573303,
          -0.4411467425812966,
          -0.002253022989131673,
          -0.27334995315785343,
          -0.747367567496964,
          -0.7707536473647956,
          -0.05356741888756035,
          -0.16058500038988138,
          -0.5283774811894479,
          0.7155354694021077,
          -0.6711991806061014,
          2.552152773933515,
          -0.5804357246008203,
          -0.9473705154872256,
          -0.7083728099568252,
          -0.12062595408966743,
          1.3937635936198711,
          1.3108596651627333,
          0.5468020472079963,
          -1.435505117973782,
          -0.5332814220831296,
          1.6801961892764308,
          -0.5839531012332301,
          -0.6360695371158908,
          -0.6699857250566243,
          1.3350702453545424,
          0.15520860787965896,
          -0.5236228725603096,
          -0.7853909085159455,
          0.12147932511505855,
          -0.15327619748009327,
          -1.0783259244660068,
          1.210341428022308,
          0.13966304107529887,
          -0.9399084888506885,
          -0.59902023061572,
          -0.9954913339458762,
          -0.7571127903134742,
          0.9807267710763179,
          0.7122861855974634,
          -0.9759818563206035,
          1.3560811000635984,
          -0.01974306520172108,
          0.018638522220582106,
          1.252650763361496,
          -1.7834401536838884,
          -0.32449111720371465,
          -3.147935945088936,
          -2.4677680161269415,
          -0.048587764266386856,
          0.3680883517657553,
          -0.725297987922035,
          -0.21514594619635463,
          -0.9977141038793348,
          -1.36596465153972,
          -0.552387349054642,
          -0.06680693818684787,
          -0.10991903665861248,
          -0.053436332518115956,
          -0.6239178589232137,
          1.0931547879237713,
          0.87178061557824,
          -0.13461311038414722,
          1.6880989246818119,
          0.546249759714265
         ],
         "xaxis": "x2",
         "y": [
          -1.5780143094608707,
          0.4224141679036228,
          -0.046044199547425994,
          0.2764425774695236,
          0.2832003904525572,
          -0.8244229229915959,
          0.3231680986676643,
          -2.5784754728961077,
          -1.1174667014919542,
          -0.10433571740892703,
          -0.8635825627075128,
          0.7213549567592623,
          -0.514209164071635,
          -0.0894937461585034,
          -1.0493787538844543,
          1.1600959677883953,
          0.015315579009527229,
          1.1373452911453181,
          -0.35205604004623087,
          0.9733588160495177,
          1.0175919245173992,
          -1.1032733279615654,
          -0.04091946153944837,
          0.29127869094225495,
          -0.8031504118174125,
          0.6154323976045675,
          -0.9416530536217149,
          -0.8615871361773523,
          1.7197517910385434,
          -1.3245217395911422,
          -0.9905387437971541,
          0.612921924303667,
          -1.7195845050451466,
          1.7794753656569549,
          1.390338780884705,
          1.5420775527370045,
          1.4602461868666108,
          0.3920840158671529,
          0.20740068599803843,
          -0.0525907643085713,
          -2.124496090536296,
          1.8033601534563382,
          -2.2134597571962984,
          -1.2320037595512683,
          -0.013623770292160971,
          0.10361627865663506,
          1.8251728914117562,
          -1.4567844712500666,
          1.6815715414433596,
          -1.6382228363459552,
          1.1785073527119436,
          -2.1103799953953857,
          -2.360654618156865,
          1.06403721627327,
          -0.6021400767598017,
          -0.47764716258391327,
          0.170088710868202,
          1.6261280670577174,
          0.29696401753219864,
          -0.551821204569244,
          -0.7933538478762096,
          1.2175829255456183,
          1.2929051874329027,
          1.8671528425987827,
          -0.4997985409441982,
          -1.0199402532984096,
          -0.773586095168086,
          -0.36877594456216256,
          -0.7896229212932089,
          -1.6187547203217891,
          0.5095063621113651,
          0.3892508134673948,
          1.8226250380923086,
          1.398772283602051,
          0.28258121963712785,
          0.3171731159206602,
          -0.4664976111440749,
          -0.2845925650841886,
          -1.4177805231493208,
          0.9495788651228273,
          0.42885197403303343,
          2.0694579684956147,
          -0.7334623227655961,
          -0.05343421964291611,
          -0.42613012697760827,
          0.7942339422888914,
          0.9822033206905049,
          1.1274178789267362,
          -0.4865849503191588,
          0.252100329107842,
          -0.5178559805808933,
          -0.7894057794818384,
          -0.6942281167523381,
          -1.2733291431281641,
          0.6615762834883798,
          -0.47001228540783596,
          1.1182681925497504,
          -0.23366998936225875,
          1.838116177785737,
          -0.8406962071636835
         ],
         "yaxis": "y2"
        },
        {
         "line": {
          "color": "rgba(128, 128, 128, 1.0)",
          "dash": "solid",
          "shape": "linear",
          "width": 1.3
         },
         "marker": {
          "size": 2,
          "symbol": "circle"
         },
         "mode": "markers",
         "name": "A",
         "text": "",
         "type": "scatter",
         "x": [
          0.08975292272801964,
          -1.122144724506423,
          0.41308708804683814,
          1.2291429573776043,
          -0.18877065292459855,
          -1.1827133158515823,
          0.1243820620472914,
          1.3664152433556176,
          -1.9317263932300122,
          -1.352599334638764,
          -1.2421362710127315,
          -0.11841390076466209,
          0.5676533077324823,
          2.0739104604246714,
          -0.5815660193270941,
          1.2342106376219761,
          1.2498521339262563,
          1.3641228885897345,
          0.6459650488502955,
          2.5601818715799407,
          -1.0978307291157816,
          1.1829438560535108,
          0.29373657583670565,
          0.3230546181531871,
          0.6987780265399964,
          -0.3545513737268042,
          1.4857524601434882,
          -0.4132454754168434,
          0.05185298448743799,
          0.318740957267097,
          1.3422031376556471,
          0.4159717801633933,
          1.1240504425180868,
          0.08843141393854091,
          0.19569293967241883,
          -0.5106019786377393,
          0.651574929047979,
          1.076220472519304,
          0.8488139449190083,
          0.625719223791922,
          0.5384437942374167,
          -0.5791426091552936,
          0.07668327712532673,
          -1.0390555690919654,
          -0.9271828938913351,
          0.391321175625563,
          -1.1318486107929164,
          -0.9620286554769042,
          0.455186372710968,
          -0.12246231655648669,
          1.7658189811363842,
          0.015485743147627212,
          -0.15939516759891706,
          0.5973398128847196,
          -0.17092565166135884,
          1.4947565162288488,
          0.08818093299296717,
          0.3432864897356414,
          -1.5572520156193959,
          0.955097996963139,
          -1.1463326824656868,
          -0.9679646288045803,
          -0.8996013936916627,
          1.619383421354637,
          1.8915358096961847,
          -1.3010202332392893,
          -0.4430385120251768,
          -0.36277275864847225,
          -0.3507681604645573,
          0.4001941423834444,
          0.6379541719377324,
          -0.921473030500794,
          -1.6067592713761423,
          -0.868582936032858,
          -0.9872348162604733,
          1.1826319763894984,
          -1.5857224651751778,
          1.3525105825459645,
          -0.9124056218723686,
          -0.3721181347015726,
          -0.7723146374495938,
          -0.5279691194847891,
          -0.14970976371896033,
          -1.2540461059105112,
          -0.18344310199684313,
          0.7354652158449307,
          -0.031022490215679255,
          1.407338098420656,
          1.0351227840283723,
          0.20974743668509147,
          0.7160528638967536,
          0.053054345974461244,
          0.57691522773279,
          -1.8239612844563236,
          -1.9614136463628828,
          -0.1681368787066811,
          -1.275670453649495,
          0.7528644393397567,
          1.984766448686928,
          -0.08338474525791412
         ],
         "xaxis": "x3",
         "y": [
          -1.5780143094608707,
          0.4224141679036228,
          -0.046044199547425994,
          0.2764425774695236,
          0.2832003904525572,
          -0.8244229229915959,
          0.3231680986676643,
          -2.5784754728961077,
          -1.1174667014919542,
          -0.10433571740892703,
          -0.8635825627075128,
          0.7213549567592623,
          -0.514209164071635,
          -0.0894937461585034,
          -1.0493787538844543,
          1.1600959677883953,
          0.015315579009527229,
          1.1373452911453181,
          -0.35205604004623087,
          0.9733588160495177,
          1.0175919245173992,
          -1.1032733279615654,
          -0.04091946153944837,
          0.29127869094225495,
          -0.8031504118174125,
          0.6154323976045675,
          -0.9416530536217149,
          -0.8615871361773523,
          1.7197517910385434,
          -1.3245217395911422,
          -0.9905387437971541,
          0.612921924303667,
          -1.7195845050451466,
          1.7794753656569549,
          1.390338780884705,
          1.5420775527370045,
          1.4602461868666108,
          0.3920840158671529,
          0.20740068599803843,
          -0.0525907643085713,
          -2.124496090536296,
          1.8033601534563382,
          -2.2134597571962984,
          -1.2320037595512683,
          -0.013623770292160971,
          0.10361627865663506,
          1.8251728914117562,
          -1.4567844712500666,
          1.6815715414433596,
          -1.6382228363459552,
          1.1785073527119436,
          -2.1103799953953857,
          -2.360654618156865,
          1.06403721627327,
          -0.6021400767598017,
          -0.47764716258391327,
          0.170088710868202,
          1.6261280670577174,
          0.29696401753219864,
          -0.551821204569244,
          -0.7933538478762096,
          1.2175829255456183,
          1.2929051874329027,
          1.8671528425987827,
          -0.4997985409441982,
          -1.0199402532984096,
          -0.773586095168086,
          -0.36877594456216256,
          -0.7896229212932089,
          -1.6187547203217891,
          0.5095063621113651,
          0.3892508134673948,
          1.8226250380923086,
          1.398772283602051,
          0.28258121963712785,
          0.3171731159206602,
          -0.4664976111440749,
          -0.2845925650841886,
          -1.4177805231493208,
          0.9495788651228273,
          0.42885197403303343,
          2.0694579684956147,
          -0.7334623227655961,
          -0.05343421964291611,
          -0.42613012697760827,
          0.7942339422888914,
          0.9822033206905049,
          1.1274178789267362,
          -0.4865849503191588,
          0.252100329107842,
          -0.5178559805808933,
          -0.7894057794818384,
          -0.6942281167523381,
          -1.2733291431281641,
          0.6615762834883798,
          -0.47001228540783596,
          1.1182681925497504,
          -0.23366998936225875,
          1.838116177785737,
          -0.8406962071636835
         ],
         "yaxis": "y3"
        },
        {
         "line": {
          "color": "rgba(128, 128, 128, 1.0)",
          "dash": "solid",
          "shape": "linear",
          "width": 1.3
         },
         "marker": {
          "size": 2,
          "symbol": "circle"
         },
         "mode": "markers",
         "name": "A",
         "text": "",
         "type": "scatter",
         "x": [
          0.41582869604078676,
          0.08908090066659761,
          0.632897792621766,
          -0.2686957435142303,
          1.3935159015592866,
          -0.8841738165587938,
          0.04932020526232218,
          0.36083784255909696,
          0.5930700973382189,
          -0.7657210849831314,
          0.3267866329349151,
          1.5315699020346707,
          0.9712367876769182,
          -0.5905627182410459,
          -1.3007546297340629,
          -0.34270591049516025,
          -1.5444237356190753,
          1.3699224480253112,
          -0.5266601285331476,
          0.5218845104131509,
          -0.289624293712778,
          1.627351155893597,
          -1.1085599103320858,
          -0.7420379098700417,
          -0.3149385319792866,
          -0.385322306494416,
          1.3644526579034364,
          2.079390165287902,
          -0.9742206393662634,
          1.2164447116874373,
          0.3884321920313758,
          0.05507351497563259,
          0.5537148088290685,
          0.9223255572156578,
          -1.1670079433842513,
          -0.3135914685982984,
          1.0280770318659986,
          1.034208907032944,
          -0.9543377870675673,
          0.3829261951238701,
          -0.4774554270984158,
          1.857189262125492,
          0.27372529281337127,
          0.5145056173683261,
          -1.8524243682403903,
          0.6609968024478915,
          0.9861395451158472,
          0.236140297614199,
          0.2908269638573059,
          -0.5752767944825667,
          -0.10057475917755876,
          -0.8304574393966371,
          0.8394761248023412,
          -0.023112911194574703,
          -0.10541255871813637,
          0.40528831453003633,
          -1.7710003577295346,
          0.7003695443008019,
          -0.29595497417923705,
          0.7877849088254777,
          0.018086661637771565,
          -0.7523864957601858,
          -0.5925693080516211,
          2.7421756230459726,
          1.0868034162769078,
          2.2164334411102016,
          -0.5579699522423354,
          -1.2120639369984552,
          0.1440693357679276,
          -0.3112521195278353,
          -0.658596876546112,
          -0.8516897810622372,
          0.26133771366302966,
          -0.5009523402944972,
          -0.2610761190843744,
          1.3331496610644178,
          -0.2833154163537059,
          0.3906132760197774,
          0.36039296559861506,
          -1.4904439630173527,
          -0.5517329797875375,
          0.16347899128366633,
          0.7391508140400805,
          -1.13270922546856,
          -0.11346311599323608,
          -3.084242905951554,
          -1.0235631003432333,
          -0.8657644590205056,
          -0.43819452759309097,
          -2.020390719364349,
          0.024301027689802666,
          1.409069805891714,
          -0.5961646060273115,
          -0.4957491641382199,
          -0.8021720304829231,
          0.6528503562831411,
          -0.3458809496432313,
          -0.10578463830901161,
          2.40958535050643,
          -0.286802649121502
         ],
         "xaxis": "x4",
         "y": [
          -1.5780143094608707,
          0.4224141679036228,
          -0.046044199547425994,
          0.2764425774695236,
          0.2832003904525572,
          -0.8244229229915959,
          0.3231680986676643,
          -2.5784754728961077,
          -1.1174667014919542,
          -0.10433571740892703,
          -0.8635825627075128,
          0.7213549567592623,
          -0.514209164071635,
          -0.0894937461585034,
          -1.0493787538844543,
          1.1600959677883953,
          0.015315579009527229,
          1.1373452911453181,
          -0.35205604004623087,
          0.9733588160495177,
          1.0175919245173992,
          -1.1032733279615654,
          -0.04091946153944837,
          0.29127869094225495,
          -0.8031504118174125,
          0.6154323976045675,
          -0.9416530536217149,
          -0.8615871361773523,
          1.7197517910385434,
          -1.3245217395911422,
          -0.9905387437971541,
          0.612921924303667,
          -1.7195845050451466,
          1.7794753656569549,
          1.390338780884705,
          1.5420775527370045,
          1.4602461868666108,
          0.3920840158671529,
          0.20740068599803843,
          -0.0525907643085713,
          -2.124496090536296,
          1.8033601534563382,
          -2.2134597571962984,
          -1.2320037595512683,
          -0.013623770292160971,
          0.10361627865663506,
          1.8251728914117562,
          -1.4567844712500666,
          1.6815715414433596,
          -1.6382228363459552,
          1.1785073527119436,
          -2.1103799953953857,
          -2.360654618156865,
          1.06403721627327,
          -0.6021400767598017,
          -0.47764716258391327,
          0.170088710868202,
          1.6261280670577174,
          0.29696401753219864,
          -0.551821204569244,
          -0.7933538478762096,
          1.2175829255456183,
          1.2929051874329027,
          1.8671528425987827,
          -0.4997985409441982,
          -1.0199402532984096,
          -0.773586095168086,
          -0.36877594456216256,
          -0.7896229212932089,
          -1.6187547203217891,
          0.5095063621113651,
          0.3892508134673948,
          1.8226250380923086,
          1.398772283602051,
          0.28258121963712785,
          0.3171731159206602,
          -0.4664976111440749,
          -0.2845925650841886,
          -1.4177805231493208,
          0.9495788651228273,
          0.42885197403303343,
          2.0694579684956147,
          -0.7334623227655961,
          -0.05343421964291611,
          -0.42613012697760827,
          0.7942339422888914,
          0.9822033206905049,
          1.1274178789267362,
          -0.4865849503191588,
          0.252100329107842,
          -0.5178559805808933,
          -0.7894057794818384,
          -0.6942281167523381,
          -1.2733291431281641,
          0.6615762834883798,
          -0.47001228540783596,
          1.1182681925497504,
          -0.23366998936225875,
          1.838116177785737,
          -0.8406962071636835
         ],
         "yaxis": "y4"
        },
        {
         "line": {
          "color": "rgba(128, 128, 128, 1.0)",
          "dash": "solid",
          "shape": "linear",
          "width": 1.3
         },
         "marker": {
          "size": 2,
          "symbol": "circle"
         },
         "mode": "markers",
         "name": "B",
         "text": "",
         "type": "scatter",
         "x": [
          -1.5780143094608707,
          0.4224141679036228,
          -0.046044199547425994,
          0.2764425774695236,
          0.2832003904525572,
          -0.8244229229915959,
          0.3231680986676643,
          -2.5784754728961077,
          -1.1174667014919542,
          -0.10433571740892703,
          -0.8635825627075128,
          0.7213549567592623,
          -0.514209164071635,
          -0.0894937461585034,
          -1.0493787538844543,
          1.1600959677883953,
          0.015315579009527229,
          1.1373452911453181,
          -0.35205604004623087,
          0.9733588160495177,
          1.0175919245173992,
          -1.1032733279615654,
          -0.04091946153944837,
          0.29127869094225495,
          -0.8031504118174125,
          0.6154323976045675,
          -0.9416530536217149,
          -0.8615871361773523,
          1.7197517910385434,
          -1.3245217395911422,
          -0.9905387437971541,
          0.612921924303667,
          -1.7195845050451466,
          1.7794753656569549,
          1.390338780884705,
          1.5420775527370045,
          1.4602461868666108,
          0.3920840158671529,
          0.20740068599803843,
          -0.0525907643085713,
          -2.124496090536296,
          1.8033601534563382,
          -2.2134597571962984,
          -1.2320037595512683,
          -0.013623770292160971,
          0.10361627865663506,
          1.8251728914117562,
          -1.4567844712500666,
          1.6815715414433596,
          -1.6382228363459552,
          1.1785073527119436,
          -2.1103799953953857,
          -2.360654618156865,
          1.06403721627327,
          -0.6021400767598017,
          -0.47764716258391327,
          0.170088710868202,
          1.6261280670577174,
          0.29696401753219864,
          -0.551821204569244,
          -0.7933538478762096,
          1.2175829255456183,
          1.2929051874329027,
          1.8671528425987827,
          -0.4997985409441982,
          -1.0199402532984096,
          -0.773586095168086,
          -0.36877594456216256,
          -0.7896229212932089,
          -1.6187547203217891,
          0.5095063621113651,
          0.3892508134673948,
          1.8226250380923086,
          1.398772283602051,
          0.28258121963712785,
          0.3171731159206602,
          -0.4664976111440749,
          -0.2845925650841886,
          -1.4177805231493208,
          0.9495788651228273,
          0.42885197403303343,
          2.0694579684956147,
          -0.7334623227655961,
          -0.05343421964291611,
          -0.42613012697760827,
          0.7942339422888914,
          0.9822033206905049,
          1.1274178789267362,
          -0.4865849503191588,
          0.252100329107842,
          -0.5178559805808933,
          -0.7894057794818384,
          -0.6942281167523381,
          -1.2733291431281641,
          0.6615762834883798,
          -0.47001228540783596,
          1.1182681925497504,
          -0.23366998936225875,
          1.838116177785737,
          -0.8406962071636835
         ],
         "xaxis": "x5",
         "y": [
          -0.0259506725481951,
          0.24435649772913426,
          1.0877733311223357,
          -1.8962004040020193,
          -0.25954921711141765,
          2.7043824859122476,
          1.0926540178862534,
          0.35217276213382537,
          0.1407838761058627,
          -0.6885384052765048,
          -1.383324172827188,
          1.1577865659859314,
          -1.8530220238946453,
          -1.2259532131837694,
          -1.7724024475662012,
          0.16921653511331095,
          -0.23502175645737877,
          -0.19493413743530474,
          2.1059690127705033,
          0.7145282505605425,
          -1.2459465065590833,
          -0.6112834219178358,
          -1.2972285557713692,
          -0.04391332479597896,
          -0.9127750185864033,
          0.8642737524596605,
          -1.2427033799781488,
          0.17809916107149085,
          0.9855511500907624,
          0.5789203698228469,
          1.353179929831089,
          -1.5811690329479169,
          0.21627646035202477,
          0.22918666030418786,
          -0.7657227806022304,
          1.2970745084573303,
          -0.4411467425812966,
          -0.002253022989131673,
          -0.27334995315785343,
          -0.747367567496964,
          -0.7707536473647956,
          -0.05356741888756035,
          -0.16058500038988138,
          -0.5283774811894479,
          0.7155354694021077,
          -0.6711991806061014,
          2.552152773933515,
          -0.5804357246008203,
          -0.9473705154872256,
          -0.7083728099568252,
          -0.12062595408966743,
          1.3937635936198711,
          1.3108596651627333,
          0.5468020472079963,
          -1.435505117973782,
          -0.5332814220831296,
          1.6801961892764308,
          -0.5839531012332301,
          -0.6360695371158908,
          -0.6699857250566243,
          1.3350702453545424,
          0.15520860787965896,
          -0.5236228725603096,
          -0.7853909085159455,
          0.12147932511505855,
          -0.15327619748009327,
          -1.0783259244660068,
          1.210341428022308,
          0.13966304107529887,
          -0.9399084888506885,
          -0.59902023061572,
          -0.9954913339458762,
          -0.7571127903134742,
          0.9807267710763179,
          0.7122861855974634,
          -0.9759818563206035,
          1.3560811000635984,
          -0.01974306520172108,
          0.018638522220582106,
          1.252650763361496,
          -1.7834401536838884,
          -0.32449111720371465,
          -3.147935945088936,
          -2.4677680161269415,
          -0.048587764266386856,
          0.3680883517657553,
          -0.725297987922035,
          -0.21514594619635463,
          -0.9977141038793348,
          -1.36596465153972,
          -0.552387349054642,
          -0.06680693818684787,
          -0.10991903665861248,
          -0.053436332518115956,
          -0.6239178589232137,
          1.0931547879237713,
          0.87178061557824,
          -0.13461311038414722,
          1.6880989246818119,
          0.546249759714265
         ],
         "yaxis": "y5"
        },
        {
         "histfunc": "count",
         "histnorm": "",
         "marker": {
          "color": "rgba(55, 128, 191, 1.0)",
          "line": {
           "color": "#4D5663",
           "width": 1.3
          }
         },
         "name": "B",
         "nbinsx": 10,
         "opacity": 0.8,
         "orientation": "v",
         "type": "histogram",
         "x": [
          -0.0259506725481951,
          0.24435649772913426,
          1.0877733311223357,
          -1.8962004040020193,
          -0.25954921711141765,
          2.7043824859122476,
          1.0926540178862534,
          0.35217276213382537,
          0.1407838761058627,
          -0.6885384052765048,
          -1.383324172827188,
          1.1577865659859314,
          -1.8530220238946453,
          -1.2259532131837694,
          -1.7724024475662012,
          0.16921653511331095,
          -0.23502175645737877,
          -0.19493413743530474,
          2.1059690127705033,
          0.7145282505605425,
          -1.2459465065590833,
          -0.6112834219178358,
          -1.2972285557713692,
          -0.04391332479597896,
          -0.9127750185864033,
          0.8642737524596605,
          -1.2427033799781488,
          0.17809916107149085,
          0.9855511500907624,
          0.5789203698228469,
          1.353179929831089,
          -1.5811690329479169,
          0.21627646035202477,
          0.22918666030418786,
          -0.7657227806022304,
          1.2970745084573303,
          -0.4411467425812966,
          -0.002253022989131673,
          -0.27334995315785343,
          -0.747367567496964,
          -0.7707536473647956,
          -0.05356741888756035,
          -0.16058500038988138,
          -0.5283774811894479,
          0.7155354694021077,
          -0.6711991806061014,
          2.552152773933515,
          -0.5804357246008203,
          -0.9473705154872256,
          -0.7083728099568252,
          -0.12062595408966743,
          1.3937635936198711,
          1.3108596651627333,
          0.5468020472079963,
          -1.435505117973782,
          -0.5332814220831296,
          1.6801961892764308,
          -0.5839531012332301,
          -0.6360695371158908,
          -0.6699857250566243,
          1.3350702453545424,
          0.15520860787965896,
          -0.5236228725603096,
          -0.7853909085159455,
          0.12147932511505855,
          -0.15327619748009327,
          -1.0783259244660068,
          1.210341428022308,
          0.13966304107529887,
          -0.9399084888506885,
          -0.59902023061572,
          -0.9954913339458762,
          -0.7571127903134742,
          0.9807267710763179,
          0.7122861855974634,
          -0.9759818563206035,
          1.3560811000635984,
          -0.01974306520172108,
          0.018638522220582106,
          1.252650763361496,
          -1.7834401536838884,
          -0.32449111720371465,
          -3.147935945088936,
          -2.4677680161269415,
          -0.048587764266386856,
          0.3680883517657553,
          -0.725297987922035,
          -0.21514594619635463,
          -0.9977141038793348,
          -1.36596465153972,
          -0.552387349054642,
          -0.06680693818684787,
          -0.10991903665861248,
          -0.053436332518115956,
          -0.6239178589232137,
          1.0931547879237713,
          0.87178061557824,
          -0.13461311038414722,
          1.6880989246818119,
          0.546249759714265
         ],
         "xaxis": "x6",
         "yaxis": "y6"
        },
        {
         "line": {
          "color": "rgba(128, 128, 128, 1.0)",
          "dash": "solid",
          "shape": "linear",
          "width": 1.3
         },
         "marker": {
          "size": 2,
          "symbol": "circle"
         },
         "mode": "markers",
         "name": "B",
         "text": "",
         "type": "scatter",
         "x": [
          0.08975292272801964,
          -1.122144724506423,
          0.41308708804683814,
          1.2291429573776043,
          -0.18877065292459855,
          -1.1827133158515823,
          0.1243820620472914,
          1.3664152433556176,
          -1.9317263932300122,
          -1.352599334638764,
          -1.2421362710127315,
          -0.11841390076466209,
          0.5676533077324823,
          2.0739104604246714,
          -0.5815660193270941,
          1.2342106376219761,
          1.2498521339262563,
          1.3641228885897345,
          0.6459650488502955,
          2.5601818715799407,
          -1.0978307291157816,
          1.1829438560535108,
          0.29373657583670565,
          0.3230546181531871,
          0.6987780265399964,
          -0.3545513737268042,
          1.4857524601434882,
          -0.4132454754168434,
          0.05185298448743799,
          0.318740957267097,
          1.3422031376556471,
          0.4159717801633933,
          1.1240504425180868,
          0.08843141393854091,
          0.19569293967241883,
          -0.5106019786377393,
          0.651574929047979,
          1.076220472519304,
          0.8488139449190083,
          0.625719223791922,
          0.5384437942374167,
          -0.5791426091552936,
          0.07668327712532673,
          -1.0390555690919654,
          -0.9271828938913351,
          0.391321175625563,
          -1.1318486107929164,
          -0.9620286554769042,
          0.455186372710968,
          -0.12246231655648669,
          1.7658189811363842,
          0.015485743147627212,
          -0.15939516759891706,
          0.5973398128847196,
          -0.17092565166135884,
          1.4947565162288488,
          0.08818093299296717,
          0.3432864897356414,
          -1.5572520156193959,
          0.955097996963139,
          -1.1463326824656868,
          -0.9679646288045803,
          -0.8996013936916627,
          1.619383421354637,
          1.8915358096961847,
          -1.3010202332392893,
          -0.4430385120251768,
          -0.36277275864847225,
          -0.3507681604645573,
          0.4001941423834444,
          0.6379541719377324,
          -0.921473030500794,
          -1.6067592713761423,
          -0.868582936032858,
          -0.9872348162604733,
          1.1826319763894984,
          -1.5857224651751778,
          1.3525105825459645,
          -0.9124056218723686,
          -0.3721181347015726,
          -0.7723146374495938,
          -0.5279691194847891,
          -0.14970976371896033,
          -1.2540461059105112,
          -0.18344310199684313,
          0.7354652158449307,
          -0.031022490215679255,
          1.407338098420656,
          1.0351227840283723,
          0.20974743668509147,
          0.7160528638967536,
          0.053054345974461244,
          0.57691522773279,
          -1.8239612844563236,
          -1.9614136463628828,
          -0.1681368787066811,
          -1.275670453649495,
          0.7528644393397567,
          1.984766448686928,
          -0.08338474525791412
         ],
         "xaxis": "x7",
         "y": [
          -0.0259506725481951,
          0.24435649772913426,
          1.0877733311223357,
          -1.8962004040020193,
          -0.25954921711141765,
          2.7043824859122476,
          1.0926540178862534,
          0.35217276213382537,
          0.1407838761058627,
          -0.6885384052765048,
          -1.383324172827188,
          1.1577865659859314,
          -1.8530220238946453,
          -1.2259532131837694,
          -1.7724024475662012,
          0.16921653511331095,
          -0.23502175645737877,
          -0.19493413743530474,
          2.1059690127705033,
          0.7145282505605425,
          -1.2459465065590833,
          -0.6112834219178358,
          -1.2972285557713692,
          -0.04391332479597896,
          -0.9127750185864033,
          0.8642737524596605,
          -1.2427033799781488,
          0.17809916107149085,
          0.9855511500907624,
          0.5789203698228469,
          1.353179929831089,
          -1.5811690329479169,
          0.21627646035202477,
          0.22918666030418786,
          -0.7657227806022304,
          1.2970745084573303,
          -0.4411467425812966,
          -0.002253022989131673,
          -0.27334995315785343,
          -0.747367567496964,
          -0.7707536473647956,
          -0.05356741888756035,
          -0.16058500038988138,
          -0.5283774811894479,
          0.7155354694021077,
          -0.6711991806061014,
          2.552152773933515,
          -0.5804357246008203,
          -0.9473705154872256,
          -0.7083728099568252,
          -0.12062595408966743,
          1.3937635936198711,
          1.3108596651627333,
          0.5468020472079963,
          -1.435505117973782,
          -0.5332814220831296,
          1.6801961892764308,
          -0.5839531012332301,
          -0.6360695371158908,
          -0.6699857250566243,
          1.3350702453545424,
          0.15520860787965896,
          -0.5236228725603096,
          -0.7853909085159455,
          0.12147932511505855,
          -0.15327619748009327,
          -1.0783259244660068,
          1.210341428022308,
          0.13966304107529887,
          -0.9399084888506885,
          -0.59902023061572,
          -0.9954913339458762,
          -0.7571127903134742,
          0.9807267710763179,
          0.7122861855974634,
          -0.9759818563206035,
          1.3560811000635984,
          -0.01974306520172108,
          0.018638522220582106,
          1.252650763361496,
          -1.7834401536838884,
          -0.32449111720371465,
          -3.147935945088936,
          -2.4677680161269415,
          -0.048587764266386856,
          0.3680883517657553,
          -0.725297987922035,
          -0.21514594619635463,
          -0.9977141038793348,
          -1.36596465153972,
          -0.552387349054642,
          -0.06680693818684787,
          -0.10991903665861248,
          -0.053436332518115956,
          -0.6239178589232137,
          1.0931547879237713,
          0.87178061557824,
          -0.13461311038414722,
          1.6880989246818119,
          0.546249759714265
         ],
         "yaxis": "y7"
        },
        {
         "line": {
          "color": "rgba(128, 128, 128, 1.0)",
          "dash": "solid",
          "shape": "linear",
          "width": 1.3
         },
         "marker": {
          "size": 2,
          "symbol": "circle"
         },
         "mode": "markers",
         "name": "B",
         "text": "",
         "type": "scatter",
         "x": [
          0.41582869604078676,
          0.08908090066659761,
          0.632897792621766,
          -0.2686957435142303,
          1.3935159015592866,
          -0.8841738165587938,
          0.04932020526232218,
          0.36083784255909696,
          0.5930700973382189,
          -0.7657210849831314,
          0.3267866329349151,
          1.5315699020346707,
          0.9712367876769182,
          -0.5905627182410459,
          -1.3007546297340629,
          -0.34270591049516025,
          -1.5444237356190753,
          1.3699224480253112,
          -0.5266601285331476,
          0.5218845104131509,
          -0.289624293712778,
          1.627351155893597,
          -1.1085599103320858,
          -0.7420379098700417,
          -0.3149385319792866,
          -0.385322306494416,
          1.3644526579034364,
          2.079390165287902,
          -0.9742206393662634,
          1.2164447116874373,
          0.3884321920313758,
          0.05507351497563259,
          0.5537148088290685,
          0.9223255572156578,
          -1.1670079433842513,
          -0.3135914685982984,
          1.0280770318659986,
          1.034208907032944,
          -0.9543377870675673,
          0.3829261951238701,
          -0.4774554270984158,
          1.857189262125492,
          0.27372529281337127,
          0.5145056173683261,
          -1.8524243682403903,
          0.6609968024478915,
          0.9861395451158472,
          0.236140297614199,
          0.2908269638573059,
          -0.5752767944825667,
          -0.10057475917755876,
          -0.8304574393966371,
          0.8394761248023412,
          -0.023112911194574703,
          -0.10541255871813637,
          0.40528831453003633,
          -1.7710003577295346,
          0.7003695443008019,
          -0.29595497417923705,
          0.7877849088254777,
          0.018086661637771565,
          -0.7523864957601858,
          -0.5925693080516211,
          2.7421756230459726,
          1.0868034162769078,
          2.2164334411102016,
          -0.5579699522423354,
          -1.2120639369984552,
          0.1440693357679276,
          -0.3112521195278353,
          -0.658596876546112,
          -0.8516897810622372,
          0.26133771366302966,
          -0.5009523402944972,
          -0.2610761190843744,
          1.3331496610644178,
          -0.2833154163537059,
          0.3906132760197774,
          0.36039296559861506,
          -1.4904439630173527,
          -0.5517329797875375,
          0.16347899128366633,
          0.7391508140400805,
          -1.13270922546856,
          -0.11346311599323608,
          -3.084242905951554,
          -1.0235631003432333,
          -0.8657644590205056,
          -0.43819452759309097,
          -2.020390719364349,
          0.024301027689802666,
          1.409069805891714,
          -0.5961646060273115,
          -0.4957491641382199,
          -0.8021720304829231,
          0.6528503562831411,
          -0.3458809496432313,
          -0.10578463830901161,
          2.40958535050643,
          -0.286802649121502
         ],
         "xaxis": "x8",
         "y": [
          -0.0259506725481951,
          0.24435649772913426,
          1.0877733311223357,
          -1.8962004040020193,
          -0.25954921711141765,
          2.7043824859122476,
          1.0926540178862534,
          0.35217276213382537,
          0.1407838761058627,
          -0.6885384052765048,
          -1.383324172827188,
          1.1577865659859314,
          -1.8530220238946453,
          -1.2259532131837694,
          -1.7724024475662012,
          0.16921653511331095,
          -0.23502175645737877,
          -0.19493413743530474,
          2.1059690127705033,
          0.7145282505605425,
          -1.2459465065590833,
          -0.6112834219178358,
          -1.2972285557713692,
          -0.04391332479597896,
          -0.9127750185864033,
          0.8642737524596605,
          -1.2427033799781488,
          0.17809916107149085,
          0.9855511500907624,
          0.5789203698228469,
          1.353179929831089,
          -1.5811690329479169,
          0.21627646035202477,
          0.22918666030418786,
          -0.7657227806022304,
          1.2970745084573303,
          -0.4411467425812966,
          -0.002253022989131673,
          -0.27334995315785343,
          -0.747367567496964,
          -0.7707536473647956,
          -0.05356741888756035,
          -0.16058500038988138,
          -0.5283774811894479,
          0.7155354694021077,
          -0.6711991806061014,
          2.552152773933515,
          -0.5804357246008203,
          -0.9473705154872256,
          -0.7083728099568252,
          -0.12062595408966743,
          1.3937635936198711,
          1.3108596651627333,
          0.5468020472079963,
          -1.435505117973782,
          -0.5332814220831296,
          1.6801961892764308,
          -0.5839531012332301,
          -0.6360695371158908,
          -0.6699857250566243,
          1.3350702453545424,
          0.15520860787965896,
          -0.5236228725603096,
          -0.7853909085159455,
          0.12147932511505855,
          -0.15327619748009327,
          -1.0783259244660068,
          1.210341428022308,
          0.13966304107529887,
          -0.9399084888506885,
          -0.59902023061572,
          -0.9954913339458762,
          -0.7571127903134742,
          0.9807267710763179,
          0.7122861855974634,
          -0.9759818563206035,
          1.3560811000635984,
          -0.01974306520172108,
          0.018638522220582106,
          1.252650763361496,
          -1.7834401536838884,
          -0.32449111720371465,
          -3.147935945088936,
          -2.4677680161269415,
          -0.048587764266386856,
          0.3680883517657553,
          -0.725297987922035,
          -0.21514594619635463,
          -0.9977141038793348,
          -1.36596465153972,
          -0.552387349054642,
          -0.06680693818684787,
          -0.10991903665861248,
          -0.053436332518115956,
          -0.6239178589232137,
          1.0931547879237713,
          0.87178061557824,
          -0.13461311038414722,
          1.6880989246818119,
          0.546249759714265
         ],
         "yaxis": "y8"
        },
        {
         "line": {
          "color": "rgba(128, 128, 128, 1.0)",
          "dash": "solid",
          "shape": "linear",
          "width": 1.3
         },
         "marker": {
          "size": 2,
          "symbol": "circle"
         },
         "mode": "markers",
         "name": "C",
         "text": "",
         "type": "scatter",
         "x": [
          -1.5780143094608707,
          0.4224141679036228,
          -0.046044199547425994,
          0.2764425774695236,
          0.2832003904525572,
          -0.8244229229915959,
          0.3231680986676643,
          -2.5784754728961077,
          -1.1174667014919542,
          -0.10433571740892703,
          -0.8635825627075128,
          0.7213549567592623,
          -0.514209164071635,
          -0.0894937461585034,
          -1.0493787538844543,
          1.1600959677883953,
          0.015315579009527229,
          1.1373452911453181,
          -0.35205604004623087,
          0.9733588160495177,
          1.0175919245173992,
          -1.1032733279615654,
          -0.04091946153944837,
          0.29127869094225495,
          -0.8031504118174125,
          0.6154323976045675,
          -0.9416530536217149,
          -0.8615871361773523,
          1.7197517910385434,
          -1.3245217395911422,
          -0.9905387437971541,
          0.612921924303667,
          -1.7195845050451466,
          1.7794753656569549,
          1.390338780884705,
          1.5420775527370045,
          1.4602461868666108,
          0.3920840158671529,
          0.20740068599803843,
          -0.0525907643085713,
          -2.124496090536296,
          1.8033601534563382,
          -2.2134597571962984,
          -1.2320037595512683,
          -0.013623770292160971,
          0.10361627865663506,
          1.8251728914117562,
          -1.4567844712500666,
          1.6815715414433596,
          -1.6382228363459552,
          1.1785073527119436,
          -2.1103799953953857,
          -2.360654618156865,
          1.06403721627327,
          -0.6021400767598017,
          -0.47764716258391327,
          0.170088710868202,
          1.6261280670577174,
          0.29696401753219864,
          -0.551821204569244,
          -0.7933538478762096,
          1.2175829255456183,
          1.2929051874329027,
          1.8671528425987827,
          -0.4997985409441982,
          -1.0199402532984096,
          -0.773586095168086,
          -0.36877594456216256,
          -0.7896229212932089,
          -1.6187547203217891,
          0.5095063621113651,
          0.3892508134673948,
          1.8226250380923086,
          1.398772283602051,
          0.28258121963712785,
          0.3171731159206602,
          -0.4664976111440749,
          -0.2845925650841886,
          -1.4177805231493208,
          0.9495788651228273,
          0.42885197403303343,
          2.0694579684956147,
          -0.7334623227655961,
          -0.05343421964291611,
          -0.42613012697760827,
          0.7942339422888914,
          0.9822033206905049,
          1.1274178789267362,
          -0.4865849503191588,
          0.252100329107842,
          -0.5178559805808933,
          -0.7894057794818384,
          -0.6942281167523381,
          -1.2733291431281641,
          0.6615762834883798,
          -0.47001228540783596,
          1.1182681925497504,
          -0.23366998936225875,
          1.838116177785737,
          -0.8406962071636835
         ],
         "xaxis": "x9",
         "y": [
          0.08975292272801964,
          -1.122144724506423,
          0.41308708804683814,
          1.2291429573776043,
          -0.18877065292459855,
          -1.1827133158515823,
          0.1243820620472914,
          1.3664152433556176,
          -1.9317263932300122,
          -1.352599334638764,
          -1.2421362710127315,
          -0.11841390076466209,
          0.5676533077324823,
          2.0739104604246714,
          -0.5815660193270941,
          1.2342106376219761,
          1.2498521339262563,
          1.3641228885897345,
          0.6459650488502955,
          2.5601818715799407,
          -1.0978307291157816,
          1.1829438560535108,
          0.29373657583670565,
          0.3230546181531871,
          0.6987780265399964,
          -0.3545513737268042,
          1.4857524601434882,
          -0.4132454754168434,
          0.05185298448743799,
          0.318740957267097,
          1.3422031376556471,
          0.4159717801633933,
          1.1240504425180868,
          0.08843141393854091,
          0.19569293967241883,
          -0.5106019786377393,
          0.651574929047979,
          1.076220472519304,
          0.8488139449190083,
          0.625719223791922,
          0.5384437942374167,
          -0.5791426091552936,
          0.07668327712532673,
          -1.0390555690919654,
          -0.9271828938913351,
          0.391321175625563,
          -1.1318486107929164,
          -0.9620286554769042,
          0.455186372710968,
          -0.12246231655648669,
          1.7658189811363842,
          0.015485743147627212,
          -0.15939516759891706,
          0.5973398128847196,
          -0.17092565166135884,
          1.4947565162288488,
          0.08818093299296717,
          0.3432864897356414,
          -1.5572520156193959,
          0.955097996963139,
          -1.1463326824656868,
          -0.9679646288045803,
          -0.8996013936916627,
          1.619383421354637,
          1.8915358096961847,
          -1.3010202332392893,
          -0.4430385120251768,
          -0.36277275864847225,
          -0.3507681604645573,
          0.4001941423834444,
          0.6379541719377324,
          -0.921473030500794,
          -1.6067592713761423,
          -0.868582936032858,
          -0.9872348162604733,
          1.1826319763894984,
          -1.5857224651751778,
          1.3525105825459645,
          -0.9124056218723686,
          -0.3721181347015726,
          -0.7723146374495938,
          -0.5279691194847891,
          -0.14970976371896033,
          -1.2540461059105112,
          -0.18344310199684313,
          0.7354652158449307,
          -0.031022490215679255,
          1.407338098420656,
          1.0351227840283723,
          0.20974743668509147,
          0.7160528638967536,
          0.053054345974461244,
          0.57691522773279,
          -1.8239612844563236,
          -1.9614136463628828,
          -0.1681368787066811,
          -1.275670453649495,
          0.7528644393397567,
          1.984766448686928,
          -0.08338474525791412
         ],
         "yaxis": "y9"
        },
        {
         "line": {
          "color": "rgba(128, 128, 128, 1.0)",
          "dash": "solid",
          "shape": "linear",
          "width": 1.3
         },
         "marker": {
          "size": 2,
          "symbol": "circle"
         },
         "mode": "markers",
         "name": "C",
         "text": "",
         "type": "scatter",
         "x": [
          -0.0259506725481951,
          0.24435649772913426,
          1.0877733311223357,
          -1.8962004040020193,
          -0.25954921711141765,
          2.7043824859122476,
          1.0926540178862534,
          0.35217276213382537,
          0.1407838761058627,
          -0.6885384052765048,
          -1.383324172827188,
          1.1577865659859314,
          -1.8530220238946453,
          -1.2259532131837694,
          -1.7724024475662012,
          0.16921653511331095,
          -0.23502175645737877,
          -0.19493413743530474,
          2.1059690127705033,
          0.7145282505605425,
          -1.2459465065590833,
          -0.6112834219178358,
          -1.2972285557713692,
          -0.04391332479597896,
          -0.9127750185864033,
          0.8642737524596605,
          -1.2427033799781488,
          0.17809916107149085,
          0.9855511500907624,
          0.5789203698228469,
          1.353179929831089,
          -1.5811690329479169,
          0.21627646035202477,
          0.22918666030418786,
          -0.7657227806022304,
          1.2970745084573303,
          -0.4411467425812966,
          -0.002253022989131673,
          -0.27334995315785343,
          -0.747367567496964,
          -0.7707536473647956,
          -0.05356741888756035,
          -0.16058500038988138,
          -0.5283774811894479,
          0.7155354694021077,
          -0.6711991806061014,
          2.552152773933515,
          -0.5804357246008203,
          -0.9473705154872256,
          -0.7083728099568252,
          -0.12062595408966743,
          1.3937635936198711,
          1.3108596651627333,
          0.5468020472079963,
          -1.435505117973782,
          -0.5332814220831296,
          1.6801961892764308,
          -0.5839531012332301,
          -0.6360695371158908,
          -0.6699857250566243,
          1.3350702453545424,
          0.15520860787965896,
          -0.5236228725603096,
          -0.7853909085159455,
          0.12147932511505855,
          -0.15327619748009327,
          -1.0783259244660068,
          1.210341428022308,
          0.13966304107529887,
          -0.9399084888506885,
          -0.59902023061572,
          -0.9954913339458762,
          -0.7571127903134742,
          0.9807267710763179,
          0.7122861855974634,
          -0.9759818563206035,
          1.3560811000635984,
          -0.01974306520172108,
          0.018638522220582106,
          1.252650763361496,
          -1.7834401536838884,
          -0.32449111720371465,
          -3.147935945088936,
          -2.4677680161269415,
          -0.048587764266386856,
          0.3680883517657553,
          -0.725297987922035,
          -0.21514594619635463,
          -0.9977141038793348,
          -1.36596465153972,
          -0.552387349054642,
          -0.06680693818684787,
          -0.10991903665861248,
          -0.053436332518115956,
          -0.6239178589232137,
          1.0931547879237713,
          0.87178061557824,
          -0.13461311038414722,
          1.6880989246818119,
          0.546249759714265
         ],
         "xaxis": "x10",
         "y": [
          0.08975292272801964,
          -1.122144724506423,
          0.41308708804683814,
          1.2291429573776043,
          -0.18877065292459855,
          -1.1827133158515823,
          0.1243820620472914,
          1.3664152433556176,
          -1.9317263932300122,
          -1.352599334638764,
          -1.2421362710127315,
          -0.11841390076466209,
          0.5676533077324823,
          2.0739104604246714,
          -0.5815660193270941,
          1.2342106376219761,
          1.2498521339262563,
          1.3641228885897345,
          0.6459650488502955,
          2.5601818715799407,
          -1.0978307291157816,
          1.1829438560535108,
          0.29373657583670565,
          0.3230546181531871,
          0.6987780265399964,
          -0.3545513737268042,
          1.4857524601434882,
          -0.4132454754168434,
          0.05185298448743799,
          0.318740957267097,
          1.3422031376556471,
          0.4159717801633933,
          1.1240504425180868,
          0.08843141393854091,
          0.19569293967241883,
          -0.5106019786377393,
          0.651574929047979,
          1.076220472519304,
          0.8488139449190083,
          0.625719223791922,
          0.5384437942374167,
          -0.5791426091552936,
          0.07668327712532673,
          -1.0390555690919654,
          -0.9271828938913351,
          0.391321175625563,
          -1.1318486107929164,
          -0.9620286554769042,
          0.455186372710968,
          -0.12246231655648669,
          1.7658189811363842,
          0.015485743147627212,
          -0.15939516759891706,
          0.5973398128847196,
          -0.17092565166135884,
          1.4947565162288488,
          0.08818093299296717,
          0.3432864897356414,
          -1.5572520156193959,
          0.955097996963139,
          -1.1463326824656868,
          -0.9679646288045803,
          -0.8996013936916627,
          1.619383421354637,
          1.8915358096961847,
          -1.3010202332392893,
          -0.4430385120251768,
          -0.36277275864847225,
          -0.3507681604645573,
          0.4001941423834444,
          0.6379541719377324,
          -0.921473030500794,
          -1.6067592713761423,
          -0.868582936032858,
          -0.9872348162604733,
          1.1826319763894984,
          -1.5857224651751778,
          1.3525105825459645,
          -0.9124056218723686,
          -0.3721181347015726,
          -0.7723146374495938,
          -0.5279691194847891,
          -0.14970976371896033,
          -1.2540461059105112,
          -0.18344310199684313,
          0.7354652158449307,
          -0.031022490215679255,
          1.407338098420656,
          1.0351227840283723,
          0.20974743668509147,
          0.7160528638967536,
          0.053054345974461244,
          0.57691522773279,
          -1.8239612844563236,
          -1.9614136463628828,
          -0.1681368787066811,
          -1.275670453649495,
          0.7528644393397567,
          1.984766448686928,
          -0.08338474525791412
         ],
         "yaxis": "y10"
        },
        {
         "histfunc": "count",
         "histnorm": "",
         "marker": {
          "color": "rgba(50, 171, 96, 1.0)",
          "line": {
           "color": "#4D5663",
           "width": 1.3
          }
         },
         "name": "C",
         "nbinsx": 10,
         "opacity": 0.8,
         "orientation": "v",
         "type": "histogram",
         "x": [
          0.08975292272801964,
          -1.122144724506423,
          0.41308708804683814,
          1.2291429573776043,
          -0.18877065292459855,
          -1.1827133158515823,
          0.1243820620472914,
          1.3664152433556176,
          -1.9317263932300122,
          -1.352599334638764,
          -1.2421362710127315,
          -0.11841390076466209,
          0.5676533077324823,
          2.0739104604246714,
          -0.5815660193270941,
          1.2342106376219761,
          1.2498521339262563,
          1.3641228885897345,
          0.6459650488502955,
          2.5601818715799407,
          -1.0978307291157816,
          1.1829438560535108,
          0.29373657583670565,
          0.3230546181531871,
          0.6987780265399964,
          -0.3545513737268042,
          1.4857524601434882,
          -0.4132454754168434,
          0.05185298448743799,
          0.318740957267097,
          1.3422031376556471,
          0.4159717801633933,
          1.1240504425180868,
          0.08843141393854091,
          0.19569293967241883,
          -0.5106019786377393,
          0.651574929047979,
          1.076220472519304,
          0.8488139449190083,
          0.625719223791922,
          0.5384437942374167,
          -0.5791426091552936,
          0.07668327712532673,
          -1.0390555690919654,
          -0.9271828938913351,
          0.391321175625563,
          -1.1318486107929164,
          -0.9620286554769042,
          0.455186372710968,
          -0.12246231655648669,
          1.7658189811363842,
          0.015485743147627212,
          -0.15939516759891706,
          0.5973398128847196,
          -0.17092565166135884,
          1.4947565162288488,
          0.08818093299296717,
          0.3432864897356414,
          -1.5572520156193959,
          0.955097996963139,
          -1.1463326824656868,
          -0.9679646288045803,
          -0.8996013936916627,
          1.619383421354637,
          1.8915358096961847,
          -1.3010202332392893,
          -0.4430385120251768,
          -0.36277275864847225,
          -0.3507681604645573,
          0.4001941423834444,
          0.6379541719377324,
          -0.921473030500794,
          -1.6067592713761423,
          -0.868582936032858,
          -0.9872348162604733,
          1.1826319763894984,
          -1.5857224651751778,
          1.3525105825459645,
          -0.9124056218723686,
          -0.3721181347015726,
          -0.7723146374495938,
          -0.5279691194847891,
          -0.14970976371896033,
          -1.2540461059105112,
          -0.18344310199684313,
          0.7354652158449307,
          -0.031022490215679255,
          1.407338098420656,
          1.0351227840283723,
          0.20974743668509147,
          0.7160528638967536,
          0.053054345974461244,
          0.57691522773279,
          -1.8239612844563236,
          -1.9614136463628828,
          -0.1681368787066811,
          -1.275670453649495,
          0.7528644393397567,
          1.984766448686928,
          -0.08338474525791412
         ],
         "xaxis": "x11",
         "yaxis": "y11"
        },
        {
         "line": {
          "color": "rgba(128, 128, 128, 1.0)",
          "dash": "solid",
          "shape": "linear",
          "width": 1.3
         },
         "marker": {
          "size": 2,
          "symbol": "circle"
         },
         "mode": "markers",
         "name": "C",
         "text": "",
         "type": "scatter",
         "x": [
          0.41582869604078676,
          0.08908090066659761,
          0.632897792621766,
          -0.2686957435142303,
          1.3935159015592866,
          -0.8841738165587938,
          0.04932020526232218,
          0.36083784255909696,
          0.5930700973382189,
          -0.7657210849831314,
          0.3267866329349151,
          1.5315699020346707,
          0.9712367876769182,
          -0.5905627182410459,
          -1.3007546297340629,
          -0.34270591049516025,
          -1.5444237356190753,
          1.3699224480253112,
          -0.5266601285331476,
          0.5218845104131509,
          -0.289624293712778,
          1.627351155893597,
          -1.1085599103320858,
          -0.7420379098700417,
          -0.3149385319792866,
          -0.385322306494416,
          1.3644526579034364,
          2.079390165287902,
          -0.9742206393662634,
          1.2164447116874373,
          0.3884321920313758,
          0.05507351497563259,
          0.5537148088290685,
          0.9223255572156578,
          -1.1670079433842513,
          -0.3135914685982984,
          1.0280770318659986,
          1.034208907032944,
          -0.9543377870675673,
          0.3829261951238701,
          -0.4774554270984158,
          1.857189262125492,
          0.27372529281337127,
          0.5145056173683261,
          -1.8524243682403903,
          0.6609968024478915,
          0.9861395451158472,
          0.236140297614199,
          0.2908269638573059,
          -0.5752767944825667,
          -0.10057475917755876,
          -0.8304574393966371,
          0.8394761248023412,
          -0.023112911194574703,
          -0.10541255871813637,
          0.40528831453003633,
          -1.7710003577295346,
          0.7003695443008019,
          -0.29595497417923705,
          0.7877849088254777,
          0.018086661637771565,
          -0.7523864957601858,
          -0.5925693080516211,
          2.7421756230459726,
          1.0868034162769078,
          2.2164334411102016,
          -0.5579699522423354,
          -1.2120639369984552,
          0.1440693357679276,
          -0.3112521195278353,
          -0.658596876546112,
          -0.8516897810622372,
          0.26133771366302966,
          -0.5009523402944972,
          -0.2610761190843744,
          1.3331496610644178,
          -0.2833154163537059,
          0.3906132760197774,
          0.36039296559861506,
          -1.4904439630173527,
          -0.5517329797875375,
          0.16347899128366633,
          0.7391508140400805,
          -1.13270922546856,
          -0.11346311599323608,
          -3.084242905951554,
          -1.0235631003432333,
          -0.8657644590205056,
          -0.43819452759309097,
          -2.020390719364349,
          0.024301027689802666,
          1.409069805891714,
          -0.5961646060273115,
          -0.4957491641382199,
          -0.8021720304829231,
          0.6528503562831411,
          -0.3458809496432313,
          -0.10578463830901161,
          2.40958535050643,
          -0.286802649121502
         ],
         "xaxis": "x12",
         "y": [
          0.08975292272801964,
          -1.122144724506423,
          0.41308708804683814,
          1.2291429573776043,
          -0.18877065292459855,
          -1.1827133158515823,
          0.1243820620472914,
          1.3664152433556176,
          -1.9317263932300122,
          -1.352599334638764,
          -1.2421362710127315,
          -0.11841390076466209,
          0.5676533077324823,
          2.0739104604246714,
          -0.5815660193270941,
          1.2342106376219761,
          1.2498521339262563,
          1.3641228885897345,
          0.6459650488502955,
          2.5601818715799407,
          -1.0978307291157816,
          1.1829438560535108,
          0.29373657583670565,
          0.3230546181531871,
          0.6987780265399964,
          -0.3545513737268042,
          1.4857524601434882,
          -0.4132454754168434,
          0.05185298448743799,
          0.318740957267097,
          1.3422031376556471,
          0.4159717801633933,
          1.1240504425180868,
          0.08843141393854091,
          0.19569293967241883,
          -0.5106019786377393,
          0.651574929047979,
          1.076220472519304,
          0.8488139449190083,
          0.625719223791922,
          0.5384437942374167,
          -0.5791426091552936,
          0.07668327712532673,
          -1.0390555690919654,
          -0.9271828938913351,
          0.391321175625563,
          -1.1318486107929164,
          -0.9620286554769042,
          0.455186372710968,
          -0.12246231655648669,
          1.7658189811363842,
          0.015485743147627212,
          -0.15939516759891706,
          0.5973398128847196,
          -0.17092565166135884,
          1.4947565162288488,
          0.08818093299296717,
          0.3432864897356414,
          -1.5572520156193959,
          0.955097996963139,
          -1.1463326824656868,
          -0.9679646288045803,
          -0.8996013936916627,
          1.619383421354637,
          1.8915358096961847,
          -1.3010202332392893,
          -0.4430385120251768,
          -0.36277275864847225,
          -0.3507681604645573,
          0.4001941423834444,
          0.6379541719377324,
          -0.921473030500794,
          -1.6067592713761423,
          -0.868582936032858,
          -0.9872348162604733,
          1.1826319763894984,
          -1.5857224651751778,
          1.3525105825459645,
          -0.9124056218723686,
          -0.3721181347015726,
          -0.7723146374495938,
          -0.5279691194847891,
          -0.14970976371896033,
          -1.2540461059105112,
          -0.18344310199684313,
          0.7354652158449307,
          -0.031022490215679255,
          1.407338098420656,
          1.0351227840283723,
          0.20974743668509147,
          0.7160528638967536,
          0.053054345974461244,
          0.57691522773279,
          -1.8239612844563236,
          -1.9614136463628828,
          -0.1681368787066811,
          -1.275670453649495,
          0.7528644393397567,
          1.984766448686928,
          -0.08338474525791412
         ],
         "yaxis": "y12"
        },
        {
         "line": {
          "color": "rgba(128, 128, 128, 1.0)",
          "dash": "solid",
          "shape": "linear",
          "width": 1.3
         },
         "marker": {
          "size": 2,
          "symbol": "circle"
         },
         "mode": "markers",
         "name": "D",
         "text": "",
         "type": "scatter",
         "x": [
          -1.5780143094608707,
          0.4224141679036228,
          -0.046044199547425994,
          0.2764425774695236,
          0.2832003904525572,
          -0.8244229229915959,
          0.3231680986676643,
          -2.5784754728961077,
          -1.1174667014919542,
          -0.10433571740892703,
          -0.8635825627075128,
          0.7213549567592623,
          -0.514209164071635,
          -0.0894937461585034,
          -1.0493787538844543,
          1.1600959677883953,
          0.015315579009527229,
          1.1373452911453181,
          -0.35205604004623087,
          0.9733588160495177,
          1.0175919245173992,
          -1.1032733279615654,
          -0.04091946153944837,
          0.29127869094225495,
          -0.8031504118174125,
          0.6154323976045675,
          -0.9416530536217149,
          -0.8615871361773523,
          1.7197517910385434,
          -1.3245217395911422,
          -0.9905387437971541,
          0.612921924303667,
          -1.7195845050451466,
          1.7794753656569549,
          1.390338780884705,
          1.5420775527370045,
          1.4602461868666108,
          0.3920840158671529,
          0.20740068599803843,
          -0.0525907643085713,
          -2.124496090536296,
          1.8033601534563382,
          -2.2134597571962984,
          -1.2320037595512683,
          -0.013623770292160971,
          0.10361627865663506,
          1.8251728914117562,
          -1.4567844712500666,
          1.6815715414433596,
          -1.6382228363459552,
          1.1785073527119436,
          -2.1103799953953857,
          -2.360654618156865,
          1.06403721627327,
          -0.6021400767598017,
          -0.47764716258391327,
          0.170088710868202,
          1.6261280670577174,
          0.29696401753219864,
          -0.551821204569244,
          -0.7933538478762096,
          1.2175829255456183,
          1.2929051874329027,
          1.8671528425987827,
          -0.4997985409441982,
          -1.0199402532984096,
          -0.773586095168086,
          -0.36877594456216256,
          -0.7896229212932089,
          -1.6187547203217891,
          0.5095063621113651,
          0.3892508134673948,
          1.8226250380923086,
          1.398772283602051,
          0.28258121963712785,
          0.3171731159206602,
          -0.4664976111440749,
          -0.2845925650841886,
          -1.4177805231493208,
          0.9495788651228273,
          0.42885197403303343,
          2.0694579684956147,
          -0.7334623227655961,
          -0.05343421964291611,
          -0.42613012697760827,
          0.7942339422888914,
          0.9822033206905049,
          1.1274178789267362,
          -0.4865849503191588,
          0.252100329107842,
          -0.5178559805808933,
          -0.7894057794818384,
          -0.6942281167523381,
          -1.2733291431281641,
          0.6615762834883798,
          -0.47001228540783596,
          1.1182681925497504,
          -0.23366998936225875,
          1.838116177785737,
          -0.8406962071636835
         ],
         "xaxis": "x13",
         "y": [
          0.41582869604078676,
          0.08908090066659761,
          0.632897792621766,
          -0.2686957435142303,
          1.3935159015592866,
          -0.8841738165587938,
          0.04932020526232218,
          0.36083784255909696,
          0.5930700973382189,
          -0.7657210849831314,
          0.3267866329349151,
          1.5315699020346707,
          0.9712367876769182,
          -0.5905627182410459,
          -1.3007546297340629,
          -0.34270591049516025,
          -1.5444237356190753,
          1.3699224480253112,
          -0.5266601285331476,
          0.5218845104131509,
          -0.289624293712778,
          1.627351155893597,
          -1.1085599103320858,
          -0.7420379098700417,
          -0.3149385319792866,
          -0.385322306494416,
          1.3644526579034364,
          2.079390165287902,
          -0.9742206393662634,
          1.2164447116874373,
          0.3884321920313758,
          0.05507351497563259,
          0.5537148088290685,
          0.9223255572156578,
          -1.1670079433842513,
          -0.3135914685982984,
          1.0280770318659986,
          1.034208907032944,
          -0.9543377870675673,
          0.3829261951238701,
          -0.4774554270984158,
          1.857189262125492,
          0.27372529281337127,
          0.5145056173683261,
          -1.8524243682403903,
          0.6609968024478915,
          0.9861395451158472,
          0.236140297614199,
          0.2908269638573059,
          -0.5752767944825667,
          -0.10057475917755876,
          -0.8304574393966371,
          0.8394761248023412,
          -0.023112911194574703,
          -0.10541255871813637,
          0.40528831453003633,
          -1.7710003577295346,
          0.7003695443008019,
          -0.29595497417923705,
          0.7877849088254777,
          0.018086661637771565,
          -0.7523864957601858,
          -0.5925693080516211,
          2.7421756230459726,
          1.0868034162769078,
          2.2164334411102016,
          -0.5579699522423354,
          -1.2120639369984552,
          0.1440693357679276,
          -0.3112521195278353,
          -0.658596876546112,
          -0.8516897810622372,
          0.26133771366302966,
          -0.5009523402944972,
          -0.2610761190843744,
          1.3331496610644178,
          -0.2833154163537059,
          0.3906132760197774,
          0.36039296559861506,
          -1.4904439630173527,
          -0.5517329797875375,
          0.16347899128366633,
          0.7391508140400805,
          -1.13270922546856,
          -0.11346311599323608,
          -3.084242905951554,
          -1.0235631003432333,
          -0.8657644590205056,
          -0.43819452759309097,
          -2.020390719364349,
          0.024301027689802666,
          1.409069805891714,
          -0.5961646060273115,
          -0.4957491641382199,
          -0.8021720304829231,
          0.6528503562831411,
          -0.3458809496432313,
          -0.10578463830901161,
          2.40958535050643,
          -0.286802649121502
         ],
         "yaxis": "y13"
        },
        {
         "line": {
          "color": "rgba(128, 128, 128, 1.0)",
          "dash": "solid",
          "shape": "linear",
          "width": 1.3
         },
         "marker": {
          "size": 2,
          "symbol": "circle"
         },
         "mode": "markers",
         "name": "D",
         "text": "",
         "type": "scatter",
         "x": [
          -0.0259506725481951,
          0.24435649772913426,
          1.0877733311223357,
          -1.8962004040020193,
          -0.25954921711141765,
          2.7043824859122476,
          1.0926540178862534,
          0.35217276213382537,
          0.1407838761058627,
          -0.6885384052765048,
          -1.383324172827188,
          1.1577865659859314,
          -1.8530220238946453,
          -1.2259532131837694,
          -1.7724024475662012,
          0.16921653511331095,
          -0.23502175645737877,
          -0.19493413743530474,
          2.1059690127705033,
          0.7145282505605425,
          -1.2459465065590833,
          -0.6112834219178358,
          -1.2972285557713692,
          -0.04391332479597896,
          -0.9127750185864033,
          0.8642737524596605,
          -1.2427033799781488,
          0.17809916107149085,
          0.9855511500907624,
          0.5789203698228469,
          1.353179929831089,
          -1.5811690329479169,
          0.21627646035202477,
          0.22918666030418786,
          -0.7657227806022304,
          1.2970745084573303,
          -0.4411467425812966,
          -0.002253022989131673,
          -0.27334995315785343,
          -0.747367567496964,
          -0.7707536473647956,
          -0.05356741888756035,
          -0.16058500038988138,
          -0.5283774811894479,
          0.7155354694021077,
          -0.6711991806061014,
          2.552152773933515,
          -0.5804357246008203,
          -0.9473705154872256,
          -0.7083728099568252,
          -0.12062595408966743,
          1.3937635936198711,
          1.3108596651627333,
          0.5468020472079963,
          -1.435505117973782,
          -0.5332814220831296,
          1.6801961892764308,
          -0.5839531012332301,
          -0.6360695371158908,
          -0.6699857250566243,
          1.3350702453545424,
          0.15520860787965896,
          -0.5236228725603096,
          -0.7853909085159455,
          0.12147932511505855,
          -0.15327619748009327,
          -1.0783259244660068,
          1.210341428022308,
          0.13966304107529887,
          -0.9399084888506885,
          -0.59902023061572,
          -0.9954913339458762,
          -0.7571127903134742,
          0.9807267710763179,
          0.7122861855974634,
          -0.9759818563206035,
          1.3560811000635984,
          -0.01974306520172108,
          0.018638522220582106,
          1.252650763361496,
          -1.7834401536838884,
          -0.32449111720371465,
          -3.147935945088936,
          -2.4677680161269415,
          -0.048587764266386856,
          0.3680883517657553,
          -0.725297987922035,
          -0.21514594619635463,
          -0.9977141038793348,
          -1.36596465153972,
          -0.552387349054642,
          -0.06680693818684787,
          -0.10991903665861248,
          -0.053436332518115956,
          -0.6239178589232137,
          1.0931547879237713,
          0.87178061557824,
          -0.13461311038414722,
          1.6880989246818119,
          0.546249759714265
         ],
         "xaxis": "x14",
         "y": [
          0.41582869604078676,
          0.08908090066659761,
          0.632897792621766,
          -0.2686957435142303,
          1.3935159015592866,
          -0.8841738165587938,
          0.04932020526232218,
          0.36083784255909696,
          0.5930700973382189,
          -0.7657210849831314,
          0.3267866329349151,
          1.5315699020346707,
          0.9712367876769182,
          -0.5905627182410459,
          -1.3007546297340629,
          -0.34270591049516025,
          -1.5444237356190753,
          1.3699224480253112,
          -0.5266601285331476,
          0.5218845104131509,
          -0.289624293712778,
          1.627351155893597,
          -1.1085599103320858,
          -0.7420379098700417,
          -0.3149385319792866,
          -0.385322306494416,
          1.3644526579034364,
          2.079390165287902,
          -0.9742206393662634,
          1.2164447116874373,
          0.3884321920313758,
          0.05507351497563259,
          0.5537148088290685,
          0.9223255572156578,
          -1.1670079433842513,
          -0.3135914685982984,
          1.0280770318659986,
          1.034208907032944,
          -0.9543377870675673,
          0.3829261951238701,
          -0.4774554270984158,
          1.857189262125492,
          0.27372529281337127,
          0.5145056173683261,
          -1.8524243682403903,
          0.6609968024478915,
          0.9861395451158472,
          0.236140297614199,
          0.2908269638573059,
          -0.5752767944825667,
          -0.10057475917755876,
          -0.8304574393966371,
          0.8394761248023412,
          -0.023112911194574703,
          -0.10541255871813637,
          0.40528831453003633,
          -1.7710003577295346,
          0.7003695443008019,
          -0.29595497417923705,
          0.7877849088254777,
          0.018086661637771565,
          -0.7523864957601858,
          -0.5925693080516211,
          2.7421756230459726,
          1.0868034162769078,
          2.2164334411102016,
          -0.5579699522423354,
          -1.2120639369984552,
          0.1440693357679276,
          -0.3112521195278353,
          -0.658596876546112,
          -0.8516897810622372,
          0.26133771366302966,
          -0.5009523402944972,
          -0.2610761190843744,
          1.3331496610644178,
          -0.2833154163537059,
          0.3906132760197774,
          0.36039296559861506,
          -1.4904439630173527,
          -0.5517329797875375,
          0.16347899128366633,
          0.7391508140400805,
          -1.13270922546856,
          -0.11346311599323608,
          -3.084242905951554,
          -1.0235631003432333,
          -0.8657644590205056,
          -0.43819452759309097,
          -2.020390719364349,
          0.024301027689802666,
          1.409069805891714,
          -0.5961646060273115,
          -0.4957491641382199,
          -0.8021720304829231,
          0.6528503562831411,
          -0.3458809496432313,
          -0.10578463830901161,
          2.40958535050643,
          -0.286802649121502
         ],
         "yaxis": "y14"
        },
        {
         "line": {
          "color": "rgba(128, 128, 128, 1.0)",
          "dash": "solid",
          "shape": "linear",
          "width": 1.3
         },
         "marker": {
          "size": 2,
          "symbol": "circle"
         },
         "mode": "markers",
         "name": "D",
         "text": "",
         "type": "scatter",
         "x": [
          0.08975292272801964,
          -1.122144724506423,
          0.41308708804683814,
          1.2291429573776043,
          -0.18877065292459855,
          -1.1827133158515823,
          0.1243820620472914,
          1.3664152433556176,
          -1.9317263932300122,
          -1.352599334638764,
          -1.2421362710127315,
          -0.11841390076466209,
          0.5676533077324823,
          2.0739104604246714,
          -0.5815660193270941,
          1.2342106376219761,
          1.2498521339262563,
          1.3641228885897345,
          0.6459650488502955,
          2.5601818715799407,
          -1.0978307291157816,
          1.1829438560535108,
          0.29373657583670565,
          0.3230546181531871,
          0.6987780265399964,
          -0.3545513737268042,
          1.4857524601434882,
          -0.4132454754168434,
          0.05185298448743799,
          0.318740957267097,
          1.3422031376556471,
          0.4159717801633933,
          1.1240504425180868,
          0.08843141393854091,
          0.19569293967241883,
          -0.5106019786377393,
          0.651574929047979,
          1.076220472519304,
          0.8488139449190083,
          0.625719223791922,
          0.5384437942374167,
          -0.5791426091552936,
          0.07668327712532673,
          -1.0390555690919654,
          -0.9271828938913351,
          0.391321175625563,
          -1.1318486107929164,
          -0.9620286554769042,
          0.455186372710968,
          -0.12246231655648669,
          1.7658189811363842,
          0.015485743147627212,
          -0.15939516759891706,
          0.5973398128847196,
          -0.17092565166135884,
          1.4947565162288488,
          0.08818093299296717,
          0.3432864897356414,
          -1.5572520156193959,
          0.955097996963139,
          -1.1463326824656868,
          -0.9679646288045803,
          -0.8996013936916627,
          1.619383421354637,
          1.8915358096961847,
          -1.3010202332392893,
          -0.4430385120251768,
          -0.36277275864847225,
          -0.3507681604645573,
          0.4001941423834444,
          0.6379541719377324,
          -0.921473030500794,
          -1.6067592713761423,
          -0.868582936032858,
          -0.9872348162604733,
          1.1826319763894984,
          -1.5857224651751778,
          1.3525105825459645,
          -0.9124056218723686,
          -0.3721181347015726,
          -0.7723146374495938,
          -0.5279691194847891,
          -0.14970976371896033,
          -1.2540461059105112,
          -0.18344310199684313,
          0.7354652158449307,
          -0.031022490215679255,
          1.407338098420656,
          1.0351227840283723,
          0.20974743668509147,
          0.7160528638967536,
          0.053054345974461244,
          0.57691522773279,
          -1.8239612844563236,
          -1.9614136463628828,
          -0.1681368787066811,
          -1.275670453649495,
          0.7528644393397567,
          1.984766448686928,
          -0.08338474525791412
         ],
         "xaxis": "x15",
         "y": [
          0.41582869604078676,
          0.08908090066659761,
          0.632897792621766,
          -0.2686957435142303,
          1.3935159015592866,
          -0.8841738165587938,
          0.04932020526232218,
          0.36083784255909696,
          0.5930700973382189,
          -0.7657210849831314,
          0.3267866329349151,
          1.5315699020346707,
          0.9712367876769182,
          -0.5905627182410459,
          -1.3007546297340629,
          -0.34270591049516025,
          -1.5444237356190753,
          1.3699224480253112,
          -0.5266601285331476,
          0.5218845104131509,
          -0.289624293712778,
          1.627351155893597,
          -1.1085599103320858,
          -0.7420379098700417,
          -0.3149385319792866,
          -0.385322306494416,
          1.3644526579034364,
          2.079390165287902,
          -0.9742206393662634,
          1.2164447116874373,
          0.3884321920313758,
          0.05507351497563259,
          0.5537148088290685,
          0.9223255572156578,
          -1.1670079433842513,
          -0.3135914685982984,
          1.0280770318659986,
          1.034208907032944,
          -0.9543377870675673,
          0.3829261951238701,
          -0.4774554270984158,
          1.857189262125492,
          0.27372529281337127,
          0.5145056173683261,
          -1.8524243682403903,
          0.6609968024478915,
          0.9861395451158472,
          0.236140297614199,
          0.2908269638573059,
          -0.5752767944825667,
          -0.10057475917755876,
          -0.8304574393966371,
          0.8394761248023412,
          -0.023112911194574703,
          -0.10541255871813637,
          0.40528831453003633,
          -1.7710003577295346,
          0.7003695443008019,
          -0.29595497417923705,
          0.7877849088254777,
          0.018086661637771565,
          -0.7523864957601858,
          -0.5925693080516211,
          2.7421756230459726,
          1.0868034162769078,
          2.2164334411102016,
          -0.5579699522423354,
          -1.2120639369984552,
          0.1440693357679276,
          -0.3112521195278353,
          -0.658596876546112,
          -0.8516897810622372,
          0.26133771366302966,
          -0.5009523402944972,
          -0.2610761190843744,
          1.3331496610644178,
          -0.2833154163537059,
          0.3906132760197774,
          0.36039296559861506,
          -1.4904439630173527,
          -0.5517329797875375,
          0.16347899128366633,
          0.7391508140400805,
          -1.13270922546856,
          -0.11346311599323608,
          -3.084242905951554,
          -1.0235631003432333,
          -0.8657644590205056,
          -0.43819452759309097,
          -2.020390719364349,
          0.024301027689802666,
          1.409069805891714,
          -0.5961646060273115,
          -0.4957491641382199,
          -0.8021720304829231,
          0.6528503562831411,
          -0.3458809496432313,
          -0.10578463830901161,
          2.40958535050643,
          -0.286802649121502
         ],
         "yaxis": "y15"
        },
        {
         "histfunc": "count",
         "histnorm": "",
         "marker": {
          "color": "rgba(128, 0, 128, 1.0)",
          "line": {
           "color": "#4D5663",
           "width": 1.3
          }
         },
         "name": "D",
         "nbinsx": 10,
         "opacity": 0.8,
         "orientation": "v",
         "type": "histogram",
         "x": [
          0.41582869604078676,
          0.08908090066659761,
          0.632897792621766,
          -0.2686957435142303,
          1.3935159015592866,
          -0.8841738165587938,
          0.04932020526232218,
          0.36083784255909696,
          0.5930700973382189,
          -0.7657210849831314,
          0.3267866329349151,
          1.5315699020346707,
          0.9712367876769182,
          -0.5905627182410459,
          -1.3007546297340629,
          -0.34270591049516025,
          -1.5444237356190753,
          1.3699224480253112,
          -0.5266601285331476,
          0.5218845104131509,
          -0.289624293712778,
          1.627351155893597,
          -1.1085599103320858,
          -0.7420379098700417,
          -0.3149385319792866,
          -0.385322306494416,
          1.3644526579034364,
          2.079390165287902,
          -0.9742206393662634,
          1.2164447116874373,
          0.3884321920313758,
          0.05507351497563259,
          0.5537148088290685,
          0.9223255572156578,
          -1.1670079433842513,
          -0.3135914685982984,
          1.0280770318659986,
          1.034208907032944,
          -0.9543377870675673,
          0.3829261951238701,
          -0.4774554270984158,
          1.857189262125492,
          0.27372529281337127,
          0.5145056173683261,
          -1.8524243682403903,
          0.6609968024478915,
          0.9861395451158472,
          0.236140297614199,
          0.2908269638573059,
          -0.5752767944825667,
          -0.10057475917755876,
          -0.8304574393966371,
          0.8394761248023412,
          -0.023112911194574703,
          -0.10541255871813637,
          0.40528831453003633,
          -1.7710003577295346,
          0.7003695443008019,
          -0.29595497417923705,
          0.7877849088254777,
          0.018086661637771565,
          -0.7523864957601858,
          -0.5925693080516211,
          2.7421756230459726,
          1.0868034162769078,
          2.2164334411102016,
          -0.5579699522423354,
          -1.2120639369984552,
          0.1440693357679276,
          -0.3112521195278353,
          -0.658596876546112,
          -0.8516897810622372,
          0.26133771366302966,
          -0.5009523402944972,
          -0.2610761190843744,
          1.3331496610644178,
          -0.2833154163537059,
          0.3906132760197774,
          0.36039296559861506,
          -1.4904439630173527,
          -0.5517329797875375,
          0.16347899128366633,
          0.7391508140400805,
          -1.13270922546856,
          -0.11346311599323608,
          -3.084242905951554,
          -1.0235631003432333,
          -0.8657644590205056,
          -0.43819452759309097,
          -2.020390719364349,
          0.024301027689802666,
          1.409069805891714,
          -0.5961646060273115,
          -0.4957491641382199,
          -0.8021720304829231,
          0.6528503562831411,
          -0.3458809496432313,
          -0.10578463830901161,
          2.40958535050643,
          -0.286802649121502
         ],
         "xaxis": "x16",
         "yaxis": "y16"
        }
       ],
       "layout": {
        "bargap": 0.02,
        "legend": {
         "bgcolor": "#F5F6F9",
         "font": {
          "color": "#4D5663"
         }
        },
        "paper_bgcolor": "#F5F6F9",
        "plot_bgcolor": "#F5F6F9",
        "showlegend": false,
        "template": {
         "data": {
          "bar": [
           {
            "error_x": {
             "color": "#2a3f5f"
            },
            "error_y": {
             "color": "#2a3f5f"
            },
            "marker": {
             "line": {
              "color": "#E5ECF6",
              "width": 0.5
             },
             "pattern": {
              "fillmode": "overlay",
              "size": 10,
              "solidity": 0.2
             }
            },
            "type": "bar"
           }
          ],
          "barpolar": [
           {
            "marker": {
             "line": {
              "color": "#E5ECF6",
              "width": 0.5
             },
             "pattern": {
              "fillmode": "overlay",
              "size": 10,
              "solidity": 0.2
             }
            },
            "type": "barpolar"
           }
          ],
          "carpet": [
           {
            "aaxis": {
             "endlinecolor": "#2a3f5f",
             "gridcolor": "white",
             "linecolor": "white",
             "minorgridcolor": "white",
             "startlinecolor": "#2a3f5f"
            },
            "baxis": {
             "endlinecolor": "#2a3f5f",
             "gridcolor": "white",
             "linecolor": "white",
             "minorgridcolor": "white",
             "startlinecolor": "#2a3f5f"
            },
            "type": "carpet"
           }
          ],
          "choropleth": [
           {
            "colorbar": {
             "outlinewidth": 0,
             "ticks": ""
            },
            "type": "choropleth"
           }
          ],
          "contour": [
           {
            "colorbar": {
             "outlinewidth": 0,
             "ticks": ""
            },
            "colorscale": [
             [
              0,
              "#0d0887"
             ],
             [
              0.1111111111111111,
              "#46039f"
             ],
             [
              0.2222222222222222,
              "#7201a8"
             ],
             [
              0.3333333333333333,
              "#9c179e"
             ],
             [
              0.4444444444444444,
              "#bd3786"
             ],
             [
              0.5555555555555556,
              "#d8576b"
             ],
             [
              0.6666666666666666,
              "#ed7953"
             ],
             [
              0.7777777777777778,
              "#fb9f3a"
             ],
             [
              0.8888888888888888,
              "#fdca26"
             ],
             [
              1,
              "#f0f921"
             ]
            ],
            "type": "contour"
           }
          ],
          "contourcarpet": [
           {
            "colorbar": {
             "outlinewidth": 0,
             "ticks": ""
            },
            "type": "contourcarpet"
           }
          ],
          "heatmap": [
           {
            "colorbar": {
             "outlinewidth": 0,
             "ticks": ""
            },
            "colorscale": [
             [
              0,
              "#0d0887"
             ],
             [
              0.1111111111111111,
              "#46039f"
             ],
             [
              0.2222222222222222,
              "#7201a8"
             ],
             [
              0.3333333333333333,
              "#9c179e"
             ],
             [
              0.4444444444444444,
              "#bd3786"
             ],
             [
              0.5555555555555556,
              "#d8576b"
             ],
             [
              0.6666666666666666,
              "#ed7953"
             ],
             [
              0.7777777777777778,
              "#fb9f3a"
             ],
             [
              0.8888888888888888,
              "#fdca26"
             ],
             [
              1,
              "#f0f921"
             ]
            ],
            "type": "heatmap"
           }
          ],
          "heatmapgl": [
           {
            "colorbar": {
             "outlinewidth": 0,
             "ticks": ""
            },
            "colorscale": [
             [
              0,
              "#0d0887"
             ],
             [
              0.1111111111111111,
              "#46039f"
             ],
             [
              0.2222222222222222,
              "#7201a8"
             ],
             [
              0.3333333333333333,
              "#9c179e"
             ],
             [
              0.4444444444444444,
              "#bd3786"
             ],
             [
              0.5555555555555556,
              "#d8576b"
             ],
             [
              0.6666666666666666,
              "#ed7953"
             ],
             [
              0.7777777777777778,
              "#fb9f3a"
             ],
             [
              0.8888888888888888,
              "#fdca26"
             ],
             [
              1,
              "#f0f921"
             ]
            ],
            "type": "heatmapgl"
           }
          ],
          "histogram": [
           {
            "marker": {
             "pattern": {
              "fillmode": "overlay",
              "size": 10,
              "solidity": 0.2
             }
            },
            "type": "histogram"
           }
          ],
          "histogram2d": [
           {
            "colorbar": {
             "outlinewidth": 0,
             "ticks": ""
            },
            "colorscale": [
             [
              0,
              "#0d0887"
             ],
             [
              0.1111111111111111,
              "#46039f"
             ],
             [
              0.2222222222222222,
              "#7201a8"
             ],
             [
              0.3333333333333333,
              "#9c179e"
             ],
             [
              0.4444444444444444,
              "#bd3786"
             ],
             [
              0.5555555555555556,
              "#d8576b"
             ],
             [
              0.6666666666666666,
              "#ed7953"
             ],
             [
              0.7777777777777778,
              "#fb9f3a"
             ],
             [
              0.8888888888888888,
              "#fdca26"
             ],
             [
              1,
              "#f0f921"
             ]
            ],
            "type": "histogram2d"
           }
          ],
          "histogram2dcontour": [
           {
            "colorbar": {
             "outlinewidth": 0,
             "ticks": ""
            },
            "colorscale": [
             [
              0,
              "#0d0887"
             ],
             [
              0.1111111111111111,
              "#46039f"
             ],
             [
              0.2222222222222222,
              "#7201a8"
             ],
             [
              0.3333333333333333,
              "#9c179e"
             ],
             [
              0.4444444444444444,
              "#bd3786"
             ],
             [
              0.5555555555555556,
              "#d8576b"
             ],
             [
              0.6666666666666666,
              "#ed7953"
             ],
             [
              0.7777777777777778,
              "#fb9f3a"
             ],
             [
              0.8888888888888888,
              "#fdca26"
             ],
             [
              1,
              "#f0f921"
             ]
            ],
            "type": "histogram2dcontour"
           }
          ],
          "mesh3d": [
           {
            "colorbar": {
             "outlinewidth": 0,
             "ticks": ""
            },
            "type": "mesh3d"
           }
          ],
          "parcoords": [
           {
            "line": {
             "colorbar": {
              "outlinewidth": 0,
              "ticks": ""
             }
            },
            "type": "parcoords"
           }
          ],
          "pie": [
           {
            "automargin": true,
            "type": "pie"
           }
          ],
          "scatter": [
           {
            "marker": {
             "colorbar": {
              "outlinewidth": 0,
              "ticks": ""
             }
            },
            "type": "scatter"
           }
          ],
          "scatter3d": [
           {
            "line": {
             "colorbar": {
              "outlinewidth": 0,
              "ticks": ""
             }
            },
            "marker": {
             "colorbar": {
              "outlinewidth": 0,
              "ticks": ""
             }
            },
            "type": "scatter3d"
           }
          ],
          "scattercarpet": [
           {
            "marker": {
             "colorbar": {
              "outlinewidth": 0,
              "ticks": ""
             }
            },
            "type": "scattercarpet"
           }
          ],
          "scattergeo": [
           {
            "marker": {
             "colorbar": {
              "outlinewidth": 0,
              "ticks": ""
             }
            },
            "type": "scattergeo"
           }
          ],
          "scattergl": [
           {
            "marker": {
             "colorbar": {
              "outlinewidth": 0,
              "ticks": ""
             }
            },
            "type": "scattergl"
           }
          ],
          "scattermapbox": [
           {
            "marker": {
             "colorbar": {
              "outlinewidth": 0,
              "ticks": ""
             }
            },
            "type": "scattermapbox"
           }
          ],
          "scatterpolar": [
           {
            "marker": {
             "colorbar": {
              "outlinewidth": 0,
              "ticks": ""
             }
            },
            "type": "scatterpolar"
           }
          ],
          "scatterpolargl": [
           {
            "marker": {
             "colorbar": {
              "outlinewidth": 0,
              "ticks": ""
             }
            },
            "type": "scatterpolargl"
           }
          ],
          "scatterternary": [
           {
            "marker": {
             "colorbar": {
              "outlinewidth": 0,
              "ticks": ""
             }
            },
            "type": "scatterternary"
           }
          ],
          "surface": [
           {
            "colorbar": {
             "outlinewidth": 0,
             "ticks": ""
            },
            "colorscale": [
             [
              0,
              "#0d0887"
             ],
             [
              0.1111111111111111,
              "#46039f"
             ],
             [
              0.2222222222222222,
              "#7201a8"
             ],
             [
              0.3333333333333333,
              "#9c179e"
             ],
             [
              0.4444444444444444,
              "#bd3786"
             ],
             [
              0.5555555555555556,
              "#d8576b"
             ],
             [
              0.6666666666666666,
              "#ed7953"
             ],
             [
              0.7777777777777778,
              "#fb9f3a"
             ],
             [
              0.8888888888888888,
              "#fdca26"
             ],
             [
              1,
              "#f0f921"
             ]
            ],
            "type": "surface"
           }
          ],
          "table": [
           {
            "cells": {
             "fill": {
              "color": "#EBF0F8"
             },
             "line": {
              "color": "white"
             }
            },
            "header": {
             "fill": {
              "color": "#C8D4E3"
             },
             "line": {
              "color": "white"
             }
            },
            "type": "table"
           }
          ]
         },
         "layout": {
          "annotationdefaults": {
           "arrowcolor": "#2a3f5f",
           "arrowhead": 0,
           "arrowwidth": 1
          },
          "autotypenumbers": "strict",
          "coloraxis": {
           "colorbar": {
            "outlinewidth": 0,
            "ticks": ""
           }
          },
          "colorscale": {
           "diverging": [
            [
             0,
             "#8e0152"
            ],
            [
             0.1,
             "#c51b7d"
            ],
            [
             0.2,
             "#de77ae"
            ],
            [
             0.3,
             "#f1b6da"
            ],
            [
             0.4,
             "#fde0ef"
            ],
            [
             0.5,
             "#f7f7f7"
            ],
            [
             0.6,
             "#e6f5d0"
            ],
            [
             0.7,
             "#b8e186"
            ],
            [
             0.8,
             "#7fbc41"
            ],
            [
             0.9,
             "#4d9221"
            ],
            [
             1,
             "#276419"
            ]
           ],
           "sequential": [
            [
             0,
             "#0d0887"
            ],
            [
             0.1111111111111111,
             "#46039f"
            ],
            [
             0.2222222222222222,
             "#7201a8"
            ],
            [
             0.3333333333333333,
             "#9c179e"
            ],
            [
             0.4444444444444444,
             "#bd3786"
            ],
            [
             0.5555555555555556,
             "#d8576b"
            ],
            [
             0.6666666666666666,
             "#ed7953"
            ],
            [
             0.7777777777777778,
             "#fb9f3a"
            ],
            [
             0.8888888888888888,
             "#fdca26"
            ],
            [
             1,
             "#f0f921"
            ]
           ],
           "sequentialminus": [
            [
             0,
             "#0d0887"
            ],
            [
             0.1111111111111111,
             "#46039f"
            ],
            [
             0.2222222222222222,
             "#7201a8"
            ],
            [
             0.3333333333333333,
             "#9c179e"
            ],
            [
             0.4444444444444444,
             "#bd3786"
            ],
            [
             0.5555555555555556,
             "#d8576b"
            ],
            [
             0.6666666666666666,
             "#ed7953"
            ],
            [
             0.7777777777777778,
             "#fb9f3a"
            ],
            [
             0.8888888888888888,
             "#fdca26"
            ],
            [
             1,
             "#f0f921"
            ]
           ]
          },
          "colorway": [
           "#636efa",
           "#EF553B",
           "#00cc96",
           "#ab63fa",
           "#FFA15A",
           "#19d3f3",
           "#FF6692",
           "#B6E880",
           "#FF97FF",
           "#FECB52"
          ],
          "font": {
           "color": "#2a3f5f"
          },
          "geo": {
           "bgcolor": "white",
           "lakecolor": "white",
           "landcolor": "#E5ECF6",
           "showlakes": true,
           "showland": true,
           "subunitcolor": "white"
          },
          "hoverlabel": {
           "align": "left"
          },
          "hovermode": "closest",
          "mapbox": {
           "style": "light"
          },
          "paper_bgcolor": "white",
          "plot_bgcolor": "#E5ECF6",
          "polar": {
           "angularaxis": {
            "gridcolor": "white",
            "linecolor": "white",
            "ticks": ""
           },
           "bgcolor": "#E5ECF6",
           "radialaxis": {
            "gridcolor": "white",
            "linecolor": "white",
            "ticks": ""
           }
          },
          "scene": {
           "xaxis": {
            "backgroundcolor": "#E5ECF6",
            "gridcolor": "white",
            "gridwidth": 2,
            "linecolor": "white",
            "showbackground": true,
            "ticks": "",
            "zerolinecolor": "white"
           },
           "yaxis": {
            "backgroundcolor": "#E5ECF6",
            "gridcolor": "white",
            "gridwidth": 2,
            "linecolor": "white",
            "showbackground": true,
            "ticks": "",
            "zerolinecolor": "white"
           },
           "zaxis": {
            "backgroundcolor": "#E5ECF6",
            "gridcolor": "white",
            "gridwidth": 2,
            "linecolor": "white",
            "showbackground": true,
            "ticks": "",
            "zerolinecolor": "white"
           }
          },
          "shapedefaults": {
           "line": {
            "color": "#2a3f5f"
           }
          },
          "ternary": {
           "aaxis": {
            "gridcolor": "white",
            "linecolor": "white",
            "ticks": ""
           },
           "baxis": {
            "gridcolor": "white",
            "linecolor": "white",
            "ticks": ""
           },
           "bgcolor": "#E5ECF6",
           "caxis": {
            "gridcolor": "white",
            "linecolor": "white",
            "ticks": ""
           }
          },
          "title": {
           "x": 0.05
          },
          "xaxis": {
           "automargin": true,
           "gridcolor": "white",
           "linecolor": "white",
           "ticks": "",
           "title": {
            "standoff": 15
           },
           "zerolinecolor": "white",
           "zerolinewidth": 2
          },
          "yaxis": {
           "automargin": true,
           "gridcolor": "white",
           "linecolor": "white",
           "ticks": "",
           "title": {
            "standoff": 15
           },
           "zerolinecolor": "white",
           "zerolinewidth": 2
          }
         }
        },
        "title": {
         "font": {
          "color": "#4D5663"
         }
        },
        "xaxis": {
         "anchor": "y",
         "domain": [
          0,
          0.2125
         ],
         "gridcolor": "#E1E5ED",
         "showgrid": false,
         "tickfont": {
          "color": "#4D5663"
         },
         "title": {
          "font": {
           "color": "#4D5663"
          },
          "text": ""
         },
         "zerolinecolor": "#E1E5ED"
        },
        "xaxis10": {
         "anchor": "y10",
         "domain": [
          0.2625,
          0.475
         ],
         "gridcolor": "#E1E5ED",
         "showgrid": false,
         "tickfont": {
          "color": "#4D5663"
         },
         "title": {
          "font": {
           "color": "#4D5663"
          },
          "text": ""
         },
         "zerolinecolor": "#E1E5ED"
        },
        "xaxis11": {
         "anchor": "y11",
         "domain": [
          0.525,
          0.7375
         ],
         "gridcolor": "#E1E5ED",
         "showgrid": false,
         "tickfont": {
          "color": "#4D5663"
         },
         "title": {
          "font": {
           "color": "#4D5663"
          },
          "text": ""
         },
         "zerolinecolor": "#E1E5ED"
        },
        "xaxis12": {
         "anchor": "y12",
         "domain": [
          0.7875,
          1
         ],
         "gridcolor": "#E1E5ED",
         "showgrid": false,
         "tickfont": {
          "color": "#4D5663"
         },
         "title": {
          "font": {
           "color": "#4D5663"
          },
          "text": ""
         },
         "zerolinecolor": "#E1E5ED"
        },
        "xaxis13": {
         "anchor": "y13",
         "domain": [
          0,
          0.2125
         ],
         "gridcolor": "#E1E5ED",
         "showgrid": false,
         "tickfont": {
          "color": "#4D5663"
         },
         "title": {
          "font": {
           "color": "#4D5663"
          },
          "text": ""
         },
         "zerolinecolor": "#E1E5ED"
        },
        "xaxis14": {
         "anchor": "y14",
         "domain": [
          0.2625,
          0.475
         ],
         "gridcolor": "#E1E5ED",
         "showgrid": false,
         "tickfont": {
          "color": "#4D5663"
         },
         "title": {
          "font": {
           "color": "#4D5663"
          },
          "text": ""
         },
         "zerolinecolor": "#E1E5ED"
        },
        "xaxis15": {
         "anchor": "y15",
         "domain": [
          0.525,
          0.7375
         ],
         "gridcolor": "#E1E5ED",
         "showgrid": false,
         "tickfont": {
          "color": "#4D5663"
         },
         "title": {
          "font": {
           "color": "#4D5663"
          },
          "text": ""
         },
         "zerolinecolor": "#E1E5ED"
        },
        "xaxis16": {
         "anchor": "y16",
         "domain": [
          0.7875,
          1
         ],
         "gridcolor": "#E1E5ED",
         "showgrid": false,
         "tickfont": {
          "color": "#4D5663"
         },
         "title": {
          "font": {
           "color": "#4D5663"
          },
          "text": ""
         },
         "zerolinecolor": "#E1E5ED"
        },
        "xaxis2": {
         "anchor": "y2",
         "domain": [
          0.2625,
          0.475
         ],
         "gridcolor": "#E1E5ED",
         "showgrid": false,
         "tickfont": {
          "color": "#4D5663"
         },
         "title": {
          "font": {
           "color": "#4D5663"
          },
          "text": ""
         },
         "zerolinecolor": "#E1E5ED"
        },
        "xaxis3": {
         "anchor": "y3",
         "domain": [
          0.525,
          0.7375
         ],
         "gridcolor": "#E1E5ED",
         "showgrid": false,
         "tickfont": {
          "color": "#4D5663"
         },
         "title": {
          "font": {
           "color": "#4D5663"
          },
          "text": ""
         },
         "zerolinecolor": "#E1E5ED"
        },
        "xaxis4": {
         "anchor": "y4",
         "domain": [
          0.7875,
          1
         ],
         "gridcolor": "#E1E5ED",
         "showgrid": false,
         "tickfont": {
          "color": "#4D5663"
         },
         "title": {
          "font": {
           "color": "#4D5663"
          },
          "text": ""
         },
         "zerolinecolor": "#E1E5ED"
        },
        "xaxis5": {
         "anchor": "y5",
         "domain": [
          0,
          0.2125
         ],
         "gridcolor": "#E1E5ED",
         "showgrid": false,
         "tickfont": {
          "color": "#4D5663"
         },
         "title": {
          "font": {
           "color": "#4D5663"
          },
          "text": ""
         },
         "zerolinecolor": "#E1E5ED"
        },
        "xaxis6": {
         "anchor": "y6",
         "domain": [
          0.2625,
          0.475
         ],
         "gridcolor": "#E1E5ED",
         "showgrid": false,
         "tickfont": {
          "color": "#4D5663"
         },
         "title": {
          "font": {
           "color": "#4D5663"
          },
          "text": ""
         },
         "zerolinecolor": "#E1E5ED"
        },
        "xaxis7": {
         "anchor": "y7",
         "domain": [
          0.525,
          0.7375
         ],
         "gridcolor": "#E1E5ED",
         "showgrid": false,
         "tickfont": {
          "color": "#4D5663"
         },
         "title": {
          "font": {
           "color": "#4D5663"
          },
          "text": ""
         },
         "zerolinecolor": "#E1E5ED"
        },
        "xaxis8": {
         "anchor": "y8",
         "domain": [
          0.7875,
          1
         ],
         "gridcolor": "#E1E5ED",
         "showgrid": false,
         "tickfont": {
          "color": "#4D5663"
         },
         "title": {
          "font": {
           "color": "#4D5663"
          },
          "text": ""
         },
         "zerolinecolor": "#E1E5ED"
        },
        "xaxis9": {
         "anchor": "y9",
         "domain": [
          0,
          0.2125
         ],
         "gridcolor": "#E1E5ED",
         "showgrid": false,
         "tickfont": {
          "color": "#4D5663"
         },
         "title": {
          "font": {
           "color": "#4D5663"
          },
          "text": ""
         },
         "zerolinecolor": "#E1E5ED"
        },
        "yaxis": {
         "anchor": "x",
         "domain": [
          0.8025,
          1
         ],
         "gridcolor": "#E1E5ED",
         "showgrid": false,
         "tickfont": {
          "color": "#4D5663"
         },
         "title": {
          "font": {
           "color": "#4D5663"
          },
          "text": ""
         },
         "zerolinecolor": "#E1E5ED"
        },
        "yaxis10": {
         "anchor": "x10",
         "domain": [
          0.2675,
          0.465
         ],
         "gridcolor": "#E1E5ED",
         "showgrid": false,
         "tickfont": {
          "color": "#4D5663"
         },
         "title": {
          "font": {
           "color": "#4D5663"
          },
          "text": ""
         },
         "zerolinecolor": "#E1E5ED"
        },
        "yaxis11": {
         "anchor": "x11",
         "domain": [
          0.2675,
          0.465
         ],
         "gridcolor": "#E1E5ED",
         "showgrid": false,
         "tickfont": {
          "color": "#4D5663"
         },
         "title": {
          "font": {
           "color": "#4D5663"
          },
          "text": ""
         },
         "zerolinecolor": "#E1E5ED"
        },
        "yaxis12": {
         "anchor": "x12",
         "domain": [
          0.2675,
          0.465
         ],
         "gridcolor": "#E1E5ED",
         "showgrid": false,
         "tickfont": {
          "color": "#4D5663"
         },
         "title": {
          "font": {
           "color": "#4D5663"
          },
          "text": ""
         },
         "zerolinecolor": "#E1E5ED"
        },
        "yaxis13": {
         "anchor": "x13",
         "domain": [
          0,
          0.1975
         ],
         "gridcolor": "#E1E5ED",
         "showgrid": false,
         "tickfont": {
          "color": "#4D5663"
         },
         "title": {
          "font": {
           "color": "#4D5663"
          },
          "text": ""
         },
         "zerolinecolor": "#E1E5ED"
        },
        "yaxis14": {
         "anchor": "x14",
         "domain": [
          0,
          0.1975
         ],
         "gridcolor": "#E1E5ED",
         "showgrid": false,
         "tickfont": {
          "color": "#4D5663"
         },
         "title": {
          "font": {
           "color": "#4D5663"
          },
          "text": ""
         },
         "zerolinecolor": "#E1E5ED"
        },
        "yaxis15": {
         "anchor": "x15",
         "domain": [
          0,
          0.1975
         ],
         "gridcolor": "#E1E5ED",
         "showgrid": false,
         "tickfont": {
          "color": "#4D5663"
         },
         "title": {
          "font": {
           "color": "#4D5663"
          },
          "text": ""
         },
         "zerolinecolor": "#E1E5ED"
        },
        "yaxis16": {
         "anchor": "x16",
         "domain": [
          0,
          0.1975
         ],
         "gridcolor": "#E1E5ED",
         "showgrid": false,
         "tickfont": {
          "color": "#4D5663"
         },
         "title": {
          "font": {
           "color": "#4D5663"
          },
          "text": ""
         },
         "zerolinecolor": "#E1E5ED"
        },
        "yaxis2": {
         "anchor": "x2",
         "domain": [
          0.8025,
          1
         ],
         "gridcolor": "#E1E5ED",
         "showgrid": false,
         "tickfont": {
          "color": "#4D5663"
         },
         "title": {
          "font": {
           "color": "#4D5663"
          },
          "text": ""
         },
         "zerolinecolor": "#E1E5ED"
        },
        "yaxis3": {
         "anchor": "x3",
         "domain": [
          0.8025,
          1
         ],
         "gridcolor": "#E1E5ED",
         "showgrid": false,
         "tickfont": {
          "color": "#4D5663"
         },
         "title": {
          "font": {
           "color": "#4D5663"
          },
          "text": ""
         },
         "zerolinecolor": "#E1E5ED"
        },
        "yaxis4": {
         "anchor": "x4",
         "domain": [
          0.8025,
          1
         ],
         "gridcolor": "#E1E5ED",
         "showgrid": false,
         "tickfont": {
          "color": "#4D5663"
         },
         "title": {
          "font": {
           "color": "#4D5663"
          },
          "text": ""
         },
         "zerolinecolor": "#E1E5ED"
        },
        "yaxis5": {
         "anchor": "x5",
         "domain": [
          0.535,
          0.7325
         ],
         "gridcolor": "#E1E5ED",
         "showgrid": false,
         "tickfont": {
          "color": "#4D5663"
         },
         "title": {
          "font": {
           "color": "#4D5663"
          },
          "text": ""
         },
         "zerolinecolor": "#E1E5ED"
        },
        "yaxis6": {
         "anchor": "x6",
         "domain": [
          0.535,
          0.7325
         ],
         "gridcolor": "#E1E5ED",
         "showgrid": false,
         "tickfont": {
          "color": "#4D5663"
         },
         "title": {
          "font": {
           "color": "#4D5663"
          },
          "text": ""
         },
         "zerolinecolor": "#E1E5ED"
        },
        "yaxis7": {
         "anchor": "x7",
         "domain": [
          0.535,
          0.7325
         ],
         "gridcolor": "#E1E5ED",
         "showgrid": false,
         "tickfont": {
          "color": "#4D5663"
         },
         "title": {
          "font": {
           "color": "#4D5663"
          },
          "text": ""
         },
         "zerolinecolor": "#E1E5ED"
        },
        "yaxis8": {
         "anchor": "x8",
         "domain": [
          0.535,
          0.7325
         ],
         "gridcolor": "#E1E5ED",
         "showgrid": false,
         "tickfont": {
          "color": "#4D5663"
         },
         "title": {
          "font": {
           "color": "#4D5663"
          },
          "text": ""
         },
         "zerolinecolor": "#E1E5ED"
        },
        "yaxis9": {
         "anchor": "x9",
         "domain": [
          0.2675,
          0.465
         ],
         "gridcolor": "#E1E5ED",
         "showgrid": false,
         "tickfont": {
          "color": "#4D5663"
         },
         "title": {
          "font": {
           "color": "#4D5663"
          },
          "text": ""
         },
         "zerolinecolor": "#E1E5ED"
        }
       }
      },
      "text/html": [
       "<div>                            <div id=\"b2125661-bc76-4c13-ae7b-41764a3b9852\" class=\"plotly-graph-div\" style=\"height:525px; width:100%;\"></div>            <script type=\"text/javascript\">                require([\"plotly\"], function(Plotly) {                    window.PLOTLYENV=window.PLOTLYENV || {};\n",
       "                    window.PLOTLYENV.BASE_URL='https://plot.ly';                                    if (document.getElementById(\"b2125661-bc76-4c13-ae7b-41764a3b9852\")) {                    Plotly.newPlot(                        \"b2125661-bc76-4c13-ae7b-41764a3b9852\",                        [{\"histfunc\":\"count\",\"histnorm\":\"\",\"marker\":{\"color\":\"rgba(255, 153, 51, 1.0)\",\"line\":{\"color\":\"#4D5663\",\"width\":1.3}},\"name\":\"A\",\"nbinsx\":10,\"opacity\":0.8,\"orientation\":\"v\",\"type\":\"histogram\",\"x\":[-1.5780143094608707,0.4224141679036228,-0.046044199547425994,0.2764425774695236,0.2832003904525572,-0.8244229229915959,0.3231680986676643,-2.5784754728961077,-1.1174667014919542,-0.10433571740892703,-0.8635825627075128,0.7213549567592623,-0.514209164071635,-0.0894937461585034,-1.0493787538844543,1.1600959677883953,0.015315579009527229,1.1373452911453181,-0.35205604004623087,0.9733588160495177,1.0175919245173992,-1.1032733279615654,-0.04091946153944837,0.29127869094225495,-0.8031504118174125,0.6154323976045675,-0.9416530536217149,-0.8615871361773523,1.7197517910385434,-1.3245217395911422,-0.9905387437971541,0.612921924303667,-1.7195845050451466,1.7794753656569549,1.390338780884705,1.5420775527370045,1.4602461868666108,0.3920840158671529,0.20740068599803843,-0.0525907643085713,-2.124496090536296,1.8033601534563382,-2.2134597571962984,-1.2320037595512683,-0.013623770292160971,0.10361627865663506,1.8251728914117562,-1.4567844712500666,1.6815715414433596,-1.6382228363459552,1.1785073527119436,-2.1103799953953857,-2.360654618156865,1.06403721627327,-0.6021400767598017,-0.47764716258391327,0.170088710868202,1.6261280670577174,0.29696401753219864,-0.551821204569244,-0.7933538478762096,1.2175829255456183,1.2929051874329027,1.8671528425987827,-0.4997985409441982,-1.0199402532984096,-0.773586095168086,-0.36877594456216256,-0.7896229212932089,-1.6187547203217891,0.5095063621113651,0.3892508134673948,1.8226250380923086,1.398772283602051,0.28258121963712785,0.3171731159206602,-0.4664976111440749,-0.2845925650841886,-1.4177805231493208,0.9495788651228273,0.42885197403303343,2.0694579684956147,-0.7334623227655961,-0.05343421964291611,-0.42613012697760827,0.7942339422888914,0.9822033206905049,1.1274178789267362,-0.4865849503191588,0.252100329107842,-0.5178559805808933,-0.7894057794818384,-0.6942281167523381,-1.2733291431281641,0.6615762834883798,-0.47001228540783596,1.1182681925497504,-0.23366998936225875,1.838116177785737,-0.8406962071636835],\"xaxis\":\"x\",\"yaxis\":\"y\"},{\"line\":{\"color\":\"rgba(128, 128, 128, 1.0)\",\"dash\":\"solid\",\"shape\":\"linear\",\"width\":1.3},\"marker\":{\"size\":2,\"symbol\":\"circle\"},\"mode\":\"markers\",\"name\":\"A\",\"text\":\"\",\"type\":\"scatter\",\"x\":[-0.0259506725481951,0.24435649772913426,1.0877733311223357,-1.8962004040020193,-0.25954921711141765,2.7043824859122476,1.0926540178862534,0.35217276213382537,0.1407838761058627,-0.6885384052765048,-1.383324172827188,1.1577865659859314,-1.8530220238946453,-1.2259532131837694,-1.7724024475662012,0.16921653511331095,-0.23502175645737877,-0.19493413743530474,2.1059690127705033,0.7145282505605425,-1.2459465065590833,-0.6112834219178358,-1.2972285557713692,-0.04391332479597896,-0.9127750185864033,0.8642737524596605,-1.2427033799781488,0.17809916107149085,0.9855511500907624,0.5789203698228469,1.353179929831089,-1.5811690329479169,0.21627646035202477,0.22918666030418786,-0.7657227806022304,1.2970745084573303,-0.4411467425812966,-0.002253022989131673,-0.27334995315785343,-0.747367567496964,-0.7707536473647956,-0.05356741888756035,-0.16058500038988138,-0.5283774811894479,0.7155354694021077,-0.6711991806061014,2.552152773933515,-0.5804357246008203,-0.9473705154872256,-0.7083728099568252,-0.12062595408966743,1.3937635936198711,1.3108596651627333,0.5468020472079963,-1.435505117973782,-0.5332814220831296,1.6801961892764308,-0.5839531012332301,-0.6360695371158908,-0.6699857250566243,1.3350702453545424,0.15520860787965896,-0.5236228725603096,-0.7853909085159455,0.12147932511505855,-0.15327619748009327,-1.0783259244660068,1.210341428022308,0.13966304107529887,-0.9399084888506885,-0.59902023061572,-0.9954913339458762,-0.7571127903134742,0.9807267710763179,0.7122861855974634,-0.9759818563206035,1.3560811000635984,-0.01974306520172108,0.018638522220582106,1.252650763361496,-1.7834401536838884,-0.32449111720371465,-3.147935945088936,-2.4677680161269415,-0.048587764266386856,0.3680883517657553,-0.725297987922035,-0.21514594619635463,-0.9977141038793348,-1.36596465153972,-0.552387349054642,-0.06680693818684787,-0.10991903665861248,-0.053436332518115956,-0.6239178589232137,1.0931547879237713,0.87178061557824,-0.13461311038414722,1.6880989246818119,0.546249759714265],\"xaxis\":\"x2\",\"y\":[-1.5780143094608707,0.4224141679036228,-0.046044199547425994,0.2764425774695236,0.2832003904525572,-0.8244229229915959,0.3231680986676643,-2.5784754728961077,-1.1174667014919542,-0.10433571740892703,-0.8635825627075128,0.7213549567592623,-0.514209164071635,-0.0894937461585034,-1.0493787538844543,1.1600959677883953,0.015315579009527229,1.1373452911453181,-0.35205604004623087,0.9733588160495177,1.0175919245173992,-1.1032733279615654,-0.04091946153944837,0.29127869094225495,-0.8031504118174125,0.6154323976045675,-0.9416530536217149,-0.8615871361773523,1.7197517910385434,-1.3245217395911422,-0.9905387437971541,0.612921924303667,-1.7195845050451466,1.7794753656569549,1.390338780884705,1.5420775527370045,1.4602461868666108,0.3920840158671529,0.20740068599803843,-0.0525907643085713,-2.124496090536296,1.8033601534563382,-2.2134597571962984,-1.2320037595512683,-0.013623770292160971,0.10361627865663506,1.8251728914117562,-1.4567844712500666,1.6815715414433596,-1.6382228363459552,1.1785073527119436,-2.1103799953953857,-2.360654618156865,1.06403721627327,-0.6021400767598017,-0.47764716258391327,0.170088710868202,1.6261280670577174,0.29696401753219864,-0.551821204569244,-0.7933538478762096,1.2175829255456183,1.2929051874329027,1.8671528425987827,-0.4997985409441982,-1.0199402532984096,-0.773586095168086,-0.36877594456216256,-0.7896229212932089,-1.6187547203217891,0.5095063621113651,0.3892508134673948,1.8226250380923086,1.398772283602051,0.28258121963712785,0.3171731159206602,-0.4664976111440749,-0.2845925650841886,-1.4177805231493208,0.9495788651228273,0.42885197403303343,2.0694579684956147,-0.7334623227655961,-0.05343421964291611,-0.42613012697760827,0.7942339422888914,0.9822033206905049,1.1274178789267362,-0.4865849503191588,0.252100329107842,-0.5178559805808933,-0.7894057794818384,-0.6942281167523381,-1.2733291431281641,0.6615762834883798,-0.47001228540783596,1.1182681925497504,-0.23366998936225875,1.838116177785737,-0.8406962071636835],\"yaxis\":\"y2\"},{\"line\":{\"color\":\"rgba(128, 128, 128, 1.0)\",\"dash\":\"solid\",\"shape\":\"linear\",\"width\":1.3},\"marker\":{\"size\":2,\"symbol\":\"circle\"},\"mode\":\"markers\",\"name\":\"A\",\"text\":\"\",\"type\":\"scatter\",\"x\":[0.08975292272801964,-1.122144724506423,0.41308708804683814,1.2291429573776043,-0.18877065292459855,-1.1827133158515823,0.1243820620472914,1.3664152433556176,-1.9317263932300122,-1.352599334638764,-1.2421362710127315,-0.11841390076466209,0.5676533077324823,2.0739104604246714,-0.5815660193270941,1.2342106376219761,1.2498521339262563,1.3641228885897345,0.6459650488502955,2.5601818715799407,-1.0978307291157816,1.1829438560535108,0.29373657583670565,0.3230546181531871,0.6987780265399964,-0.3545513737268042,1.4857524601434882,-0.4132454754168434,0.05185298448743799,0.318740957267097,1.3422031376556471,0.4159717801633933,1.1240504425180868,0.08843141393854091,0.19569293967241883,-0.5106019786377393,0.651574929047979,1.076220472519304,0.8488139449190083,0.625719223791922,0.5384437942374167,-0.5791426091552936,0.07668327712532673,-1.0390555690919654,-0.9271828938913351,0.391321175625563,-1.1318486107929164,-0.9620286554769042,0.455186372710968,-0.12246231655648669,1.7658189811363842,0.015485743147627212,-0.15939516759891706,0.5973398128847196,-0.17092565166135884,1.4947565162288488,0.08818093299296717,0.3432864897356414,-1.5572520156193959,0.955097996963139,-1.1463326824656868,-0.9679646288045803,-0.8996013936916627,1.619383421354637,1.8915358096961847,-1.3010202332392893,-0.4430385120251768,-0.36277275864847225,-0.3507681604645573,0.4001941423834444,0.6379541719377324,-0.921473030500794,-1.6067592713761423,-0.868582936032858,-0.9872348162604733,1.1826319763894984,-1.5857224651751778,1.3525105825459645,-0.9124056218723686,-0.3721181347015726,-0.7723146374495938,-0.5279691194847891,-0.14970976371896033,-1.2540461059105112,-0.18344310199684313,0.7354652158449307,-0.031022490215679255,1.407338098420656,1.0351227840283723,0.20974743668509147,0.7160528638967536,0.053054345974461244,0.57691522773279,-1.8239612844563236,-1.9614136463628828,-0.1681368787066811,-1.275670453649495,0.7528644393397567,1.984766448686928,-0.08338474525791412],\"xaxis\":\"x3\",\"y\":[-1.5780143094608707,0.4224141679036228,-0.046044199547425994,0.2764425774695236,0.2832003904525572,-0.8244229229915959,0.3231680986676643,-2.5784754728961077,-1.1174667014919542,-0.10433571740892703,-0.8635825627075128,0.7213549567592623,-0.514209164071635,-0.0894937461585034,-1.0493787538844543,1.1600959677883953,0.015315579009527229,1.1373452911453181,-0.35205604004623087,0.9733588160495177,1.0175919245173992,-1.1032733279615654,-0.04091946153944837,0.29127869094225495,-0.8031504118174125,0.6154323976045675,-0.9416530536217149,-0.8615871361773523,1.7197517910385434,-1.3245217395911422,-0.9905387437971541,0.612921924303667,-1.7195845050451466,1.7794753656569549,1.390338780884705,1.5420775527370045,1.4602461868666108,0.3920840158671529,0.20740068599803843,-0.0525907643085713,-2.124496090536296,1.8033601534563382,-2.2134597571962984,-1.2320037595512683,-0.013623770292160971,0.10361627865663506,1.8251728914117562,-1.4567844712500666,1.6815715414433596,-1.6382228363459552,1.1785073527119436,-2.1103799953953857,-2.360654618156865,1.06403721627327,-0.6021400767598017,-0.47764716258391327,0.170088710868202,1.6261280670577174,0.29696401753219864,-0.551821204569244,-0.7933538478762096,1.2175829255456183,1.2929051874329027,1.8671528425987827,-0.4997985409441982,-1.0199402532984096,-0.773586095168086,-0.36877594456216256,-0.7896229212932089,-1.6187547203217891,0.5095063621113651,0.3892508134673948,1.8226250380923086,1.398772283602051,0.28258121963712785,0.3171731159206602,-0.4664976111440749,-0.2845925650841886,-1.4177805231493208,0.9495788651228273,0.42885197403303343,2.0694579684956147,-0.7334623227655961,-0.05343421964291611,-0.42613012697760827,0.7942339422888914,0.9822033206905049,1.1274178789267362,-0.4865849503191588,0.252100329107842,-0.5178559805808933,-0.7894057794818384,-0.6942281167523381,-1.2733291431281641,0.6615762834883798,-0.47001228540783596,1.1182681925497504,-0.23366998936225875,1.838116177785737,-0.8406962071636835],\"yaxis\":\"y3\"},{\"line\":{\"color\":\"rgba(128, 128, 128, 1.0)\",\"dash\":\"solid\",\"shape\":\"linear\",\"width\":1.3},\"marker\":{\"size\":2,\"symbol\":\"circle\"},\"mode\":\"markers\",\"name\":\"A\",\"text\":\"\",\"type\":\"scatter\",\"x\":[0.41582869604078676,0.08908090066659761,0.632897792621766,-0.2686957435142303,1.3935159015592866,-0.8841738165587938,0.04932020526232218,0.36083784255909696,0.5930700973382189,-0.7657210849831314,0.3267866329349151,1.5315699020346707,0.9712367876769182,-0.5905627182410459,-1.3007546297340629,-0.34270591049516025,-1.5444237356190753,1.3699224480253112,-0.5266601285331476,0.5218845104131509,-0.289624293712778,1.627351155893597,-1.1085599103320858,-0.7420379098700417,-0.3149385319792866,-0.385322306494416,1.3644526579034364,2.079390165287902,-0.9742206393662634,1.2164447116874373,0.3884321920313758,0.05507351497563259,0.5537148088290685,0.9223255572156578,-1.1670079433842513,-0.3135914685982984,1.0280770318659986,1.034208907032944,-0.9543377870675673,0.3829261951238701,-0.4774554270984158,1.857189262125492,0.27372529281337127,0.5145056173683261,-1.8524243682403903,0.6609968024478915,0.9861395451158472,0.236140297614199,0.2908269638573059,-0.5752767944825667,-0.10057475917755876,-0.8304574393966371,0.8394761248023412,-0.023112911194574703,-0.10541255871813637,0.40528831453003633,-1.7710003577295346,0.7003695443008019,-0.29595497417923705,0.7877849088254777,0.018086661637771565,-0.7523864957601858,-0.5925693080516211,2.7421756230459726,1.0868034162769078,2.2164334411102016,-0.5579699522423354,-1.2120639369984552,0.1440693357679276,-0.3112521195278353,-0.658596876546112,-0.8516897810622372,0.26133771366302966,-0.5009523402944972,-0.2610761190843744,1.3331496610644178,-0.2833154163537059,0.3906132760197774,0.36039296559861506,-1.4904439630173527,-0.5517329797875375,0.16347899128366633,0.7391508140400805,-1.13270922546856,-0.11346311599323608,-3.084242905951554,-1.0235631003432333,-0.8657644590205056,-0.43819452759309097,-2.020390719364349,0.024301027689802666,1.409069805891714,-0.5961646060273115,-0.4957491641382199,-0.8021720304829231,0.6528503562831411,-0.3458809496432313,-0.10578463830901161,2.40958535050643,-0.286802649121502],\"xaxis\":\"x4\",\"y\":[-1.5780143094608707,0.4224141679036228,-0.046044199547425994,0.2764425774695236,0.2832003904525572,-0.8244229229915959,0.3231680986676643,-2.5784754728961077,-1.1174667014919542,-0.10433571740892703,-0.8635825627075128,0.7213549567592623,-0.514209164071635,-0.0894937461585034,-1.0493787538844543,1.1600959677883953,0.015315579009527229,1.1373452911453181,-0.35205604004623087,0.9733588160495177,1.0175919245173992,-1.1032733279615654,-0.04091946153944837,0.29127869094225495,-0.8031504118174125,0.6154323976045675,-0.9416530536217149,-0.8615871361773523,1.7197517910385434,-1.3245217395911422,-0.9905387437971541,0.612921924303667,-1.7195845050451466,1.7794753656569549,1.390338780884705,1.5420775527370045,1.4602461868666108,0.3920840158671529,0.20740068599803843,-0.0525907643085713,-2.124496090536296,1.8033601534563382,-2.2134597571962984,-1.2320037595512683,-0.013623770292160971,0.10361627865663506,1.8251728914117562,-1.4567844712500666,1.6815715414433596,-1.6382228363459552,1.1785073527119436,-2.1103799953953857,-2.360654618156865,1.06403721627327,-0.6021400767598017,-0.47764716258391327,0.170088710868202,1.6261280670577174,0.29696401753219864,-0.551821204569244,-0.7933538478762096,1.2175829255456183,1.2929051874329027,1.8671528425987827,-0.4997985409441982,-1.0199402532984096,-0.773586095168086,-0.36877594456216256,-0.7896229212932089,-1.6187547203217891,0.5095063621113651,0.3892508134673948,1.8226250380923086,1.398772283602051,0.28258121963712785,0.3171731159206602,-0.4664976111440749,-0.2845925650841886,-1.4177805231493208,0.9495788651228273,0.42885197403303343,2.0694579684956147,-0.7334623227655961,-0.05343421964291611,-0.42613012697760827,0.7942339422888914,0.9822033206905049,1.1274178789267362,-0.4865849503191588,0.252100329107842,-0.5178559805808933,-0.7894057794818384,-0.6942281167523381,-1.2733291431281641,0.6615762834883798,-0.47001228540783596,1.1182681925497504,-0.23366998936225875,1.838116177785737,-0.8406962071636835],\"yaxis\":\"y4\"},{\"line\":{\"color\":\"rgba(128, 128, 128, 1.0)\",\"dash\":\"solid\",\"shape\":\"linear\",\"width\":1.3},\"marker\":{\"size\":2,\"symbol\":\"circle\"},\"mode\":\"markers\",\"name\":\"B\",\"text\":\"\",\"type\":\"scatter\",\"x\":[-1.5780143094608707,0.4224141679036228,-0.046044199547425994,0.2764425774695236,0.2832003904525572,-0.8244229229915959,0.3231680986676643,-2.5784754728961077,-1.1174667014919542,-0.10433571740892703,-0.8635825627075128,0.7213549567592623,-0.514209164071635,-0.0894937461585034,-1.0493787538844543,1.1600959677883953,0.015315579009527229,1.1373452911453181,-0.35205604004623087,0.9733588160495177,1.0175919245173992,-1.1032733279615654,-0.04091946153944837,0.29127869094225495,-0.8031504118174125,0.6154323976045675,-0.9416530536217149,-0.8615871361773523,1.7197517910385434,-1.3245217395911422,-0.9905387437971541,0.612921924303667,-1.7195845050451466,1.7794753656569549,1.390338780884705,1.5420775527370045,1.4602461868666108,0.3920840158671529,0.20740068599803843,-0.0525907643085713,-2.124496090536296,1.8033601534563382,-2.2134597571962984,-1.2320037595512683,-0.013623770292160971,0.10361627865663506,1.8251728914117562,-1.4567844712500666,1.6815715414433596,-1.6382228363459552,1.1785073527119436,-2.1103799953953857,-2.360654618156865,1.06403721627327,-0.6021400767598017,-0.47764716258391327,0.170088710868202,1.6261280670577174,0.29696401753219864,-0.551821204569244,-0.7933538478762096,1.2175829255456183,1.2929051874329027,1.8671528425987827,-0.4997985409441982,-1.0199402532984096,-0.773586095168086,-0.36877594456216256,-0.7896229212932089,-1.6187547203217891,0.5095063621113651,0.3892508134673948,1.8226250380923086,1.398772283602051,0.28258121963712785,0.3171731159206602,-0.4664976111440749,-0.2845925650841886,-1.4177805231493208,0.9495788651228273,0.42885197403303343,2.0694579684956147,-0.7334623227655961,-0.05343421964291611,-0.42613012697760827,0.7942339422888914,0.9822033206905049,1.1274178789267362,-0.4865849503191588,0.252100329107842,-0.5178559805808933,-0.7894057794818384,-0.6942281167523381,-1.2733291431281641,0.6615762834883798,-0.47001228540783596,1.1182681925497504,-0.23366998936225875,1.838116177785737,-0.8406962071636835],\"xaxis\":\"x5\",\"y\":[-0.0259506725481951,0.24435649772913426,1.0877733311223357,-1.8962004040020193,-0.25954921711141765,2.7043824859122476,1.0926540178862534,0.35217276213382537,0.1407838761058627,-0.6885384052765048,-1.383324172827188,1.1577865659859314,-1.8530220238946453,-1.2259532131837694,-1.7724024475662012,0.16921653511331095,-0.23502175645737877,-0.19493413743530474,2.1059690127705033,0.7145282505605425,-1.2459465065590833,-0.6112834219178358,-1.2972285557713692,-0.04391332479597896,-0.9127750185864033,0.8642737524596605,-1.2427033799781488,0.17809916107149085,0.9855511500907624,0.5789203698228469,1.353179929831089,-1.5811690329479169,0.21627646035202477,0.22918666030418786,-0.7657227806022304,1.2970745084573303,-0.4411467425812966,-0.002253022989131673,-0.27334995315785343,-0.747367567496964,-0.7707536473647956,-0.05356741888756035,-0.16058500038988138,-0.5283774811894479,0.7155354694021077,-0.6711991806061014,2.552152773933515,-0.5804357246008203,-0.9473705154872256,-0.7083728099568252,-0.12062595408966743,1.3937635936198711,1.3108596651627333,0.5468020472079963,-1.435505117973782,-0.5332814220831296,1.6801961892764308,-0.5839531012332301,-0.6360695371158908,-0.6699857250566243,1.3350702453545424,0.15520860787965896,-0.5236228725603096,-0.7853909085159455,0.12147932511505855,-0.15327619748009327,-1.0783259244660068,1.210341428022308,0.13966304107529887,-0.9399084888506885,-0.59902023061572,-0.9954913339458762,-0.7571127903134742,0.9807267710763179,0.7122861855974634,-0.9759818563206035,1.3560811000635984,-0.01974306520172108,0.018638522220582106,1.252650763361496,-1.7834401536838884,-0.32449111720371465,-3.147935945088936,-2.4677680161269415,-0.048587764266386856,0.3680883517657553,-0.725297987922035,-0.21514594619635463,-0.9977141038793348,-1.36596465153972,-0.552387349054642,-0.06680693818684787,-0.10991903665861248,-0.053436332518115956,-0.6239178589232137,1.0931547879237713,0.87178061557824,-0.13461311038414722,1.6880989246818119,0.546249759714265],\"yaxis\":\"y5\"},{\"histfunc\":\"count\",\"histnorm\":\"\",\"marker\":{\"color\":\"rgba(55, 128, 191, 1.0)\",\"line\":{\"color\":\"#4D5663\",\"width\":1.3}},\"name\":\"B\",\"nbinsx\":10,\"opacity\":0.8,\"orientation\":\"v\",\"type\":\"histogram\",\"x\":[-0.0259506725481951,0.24435649772913426,1.0877733311223357,-1.8962004040020193,-0.25954921711141765,2.7043824859122476,1.0926540178862534,0.35217276213382537,0.1407838761058627,-0.6885384052765048,-1.383324172827188,1.1577865659859314,-1.8530220238946453,-1.2259532131837694,-1.7724024475662012,0.16921653511331095,-0.23502175645737877,-0.19493413743530474,2.1059690127705033,0.7145282505605425,-1.2459465065590833,-0.6112834219178358,-1.2972285557713692,-0.04391332479597896,-0.9127750185864033,0.8642737524596605,-1.2427033799781488,0.17809916107149085,0.9855511500907624,0.5789203698228469,1.353179929831089,-1.5811690329479169,0.21627646035202477,0.22918666030418786,-0.7657227806022304,1.2970745084573303,-0.4411467425812966,-0.002253022989131673,-0.27334995315785343,-0.747367567496964,-0.7707536473647956,-0.05356741888756035,-0.16058500038988138,-0.5283774811894479,0.7155354694021077,-0.6711991806061014,2.552152773933515,-0.5804357246008203,-0.9473705154872256,-0.7083728099568252,-0.12062595408966743,1.3937635936198711,1.3108596651627333,0.5468020472079963,-1.435505117973782,-0.5332814220831296,1.6801961892764308,-0.5839531012332301,-0.6360695371158908,-0.6699857250566243,1.3350702453545424,0.15520860787965896,-0.5236228725603096,-0.7853909085159455,0.12147932511505855,-0.15327619748009327,-1.0783259244660068,1.210341428022308,0.13966304107529887,-0.9399084888506885,-0.59902023061572,-0.9954913339458762,-0.7571127903134742,0.9807267710763179,0.7122861855974634,-0.9759818563206035,1.3560811000635984,-0.01974306520172108,0.018638522220582106,1.252650763361496,-1.7834401536838884,-0.32449111720371465,-3.147935945088936,-2.4677680161269415,-0.048587764266386856,0.3680883517657553,-0.725297987922035,-0.21514594619635463,-0.9977141038793348,-1.36596465153972,-0.552387349054642,-0.06680693818684787,-0.10991903665861248,-0.053436332518115956,-0.6239178589232137,1.0931547879237713,0.87178061557824,-0.13461311038414722,1.6880989246818119,0.546249759714265],\"xaxis\":\"x6\",\"yaxis\":\"y6\"},{\"line\":{\"color\":\"rgba(128, 128, 128, 1.0)\",\"dash\":\"solid\",\"shape\":\"linear\",\"width\":1.3},\"marker\":{\"size\":2,\"symbol\":\"circle\"},\"mode\":\"markers\",\"name\":\"B\",\"text\":\"\",\"type\":\"scatter\",\"x\":[0.08975292272801964,-1.122144724506423,0.41308708804683814,1.2291429573776043,-0.18877065292459855,-1.1827133158515823,0.1243820620472914,1.3664152433556176,-1.9317263932300122,-1.352599334638764,-1.2421362710127315,-0.11841390076466209,0.5676533077324823,2.0739104604246714,-0.5815660193270941,1.2342106376219761,1.2498521339262563,1.3641228885897345,0.6459650488502955,2.5601818715799407,-1.0978307291157816,1.1829438560535108,0.29373657583670565,0.3230546181531871,0.6987780265399964,-0.3545513737268042,1.4857524601434882,-0.4132454754168434,0.05185298448743799,0.318740957267097,1.3422031376556471,0.4159717801633933,1.1240504425180868,0.08843141393854091,0.19569293967241883,-0.5106019786377393,0.651574929047979,1.076220472519304,0.8488139449190083,0.625719223791922,0.5384437942374167,-0.5791426091552936,0.07668327712532673,-1.0390555690919654,-0.9271828938913351,0.391321175625563,-1.1318486107929164,-0.9620286554769042,0.455186372710968,-0.12246231655648669,1.7658189811363842,0.015485743147627212,-0.15939516759891706,0.5973398128847196,-0.17092565166135884,1.4947565162288488,0.08818093299296717,0.3432864897356414,-1.5572520156193959,0.955097996963139,-1.1463326824656868,-0.9679646288045803,-0.8996013936916627,1.619383421354637,1.8915358096961847,-1.3010202332392893,-0.4430385120251768,-0.36277275864847225,-0.3507681604645573,0.4001941423834444,0.6379541719377324,-0.921473030500794,-1.6067592713761423,-0.868582936032858,-0.9872348162604733,1.1826319763894984,-1.5857224651751778,1.3525105825459645,-0.9124056218723686,-0.3721181347015726,-0.7723146374495938,-0.5279691194847891,-0.14970976371896033,-1.2540461059105112,-0.18344310199684313,0.7354652158449307,-0.031022490215679255,1.407338098420656,1.0351227840283723,0.20974743668509147,0.7160528638967536,0.053054345974461244,0.57691522773279,-1.8239612844563236,-1.9614136463628828,-0.1681368787066811,-1.275670453649495,0.7528644393397567,1.984766448686928,-0.08338474525791412],\"xaxis\":\"x7\",\"y\":[-0.0259506725481951,0.24435649772913426,1.0877733311223357,-1.8962004040020193,-0.25954921711141765,2.7043824859122476,1.0926540178862534,0.35217276213382537,0.1407838761058627,-0.6885384052765048,-1.383324172827188,1.1577865659859314,-1.8530220238946453,-1.2259532131837694,-1.7724024475662012,0.16921653511331095,-0.23502175645737877,-0.19493413743530474,2.1059690127705033,0.7145282505605425,-1.2459465065590833,-0.6112834219178358,-1.2972285557713692,-0.04391332479597896,-0.9127750185864033,0.8642737524596605,-1.2427033799781488,0.17809916107149085,0.9855511500907624,0.5789203698228469,1.353179929831089,-1.5811690329479169,0.21627646035202477,0.22918666030418786,-0.7657227806022304,1.2970745084573303,-0.4411467425812966,-0.002253022989131673,-0.27334995315785343,-0.747367567496964,-0.7707536473647956,-0.05356741888756035,-0.16058500038988138,-0.5283774811894479,0.7155354694021077,-0.6711991806061014,2.552152773933515,-0.5804357246008203,-0.9473705154872256,-0.7083728099568252,-0.12062595408966743,1.3937635936198711,1.3108596651627333,0.5468020472079963,-1.435505117973782,-0.5332814220831296,1.6801961892764308,-0.5839531012332301,-0.6360695371158908,-0.6699857250566243,1.3350702453545424,0.15520860787965896,-0.5236228725603096,-0.7853909085159455,0.12147932511505855,-0.15327619748009327,-1.0783259244660068,1.210341428022308,0.13966304107529887,-0.9399084888506885,-0.59902023061572,-0.9954913339458762,-0.7571127903134742,0.9807267710763179,0.7122861855974634,-0.9759818563206035,1.3560811000635984,-0.01974306520172108,0.018638522220582106,1.252650763361496,-1.7834401536838884,-0.32449111720371465,-3.147935945088936,-2.4677680161269415,-0.048587764266386856,0.3680883517657553,-0.725297987922035,-0.21514594619635463,-0.9977141038793348,-1.36596465153972,-0.552387349054642,-0.06680693818684787,-0.10991903665861248,-0.053436332518115956,-0.6239178589232137,1.0931547879237713,0.87178061557824,-0.13461311038414722,1.6880989246818119,0.546249759714265],\"yaxis\":\"y7\"},{\"line\":{\"color\":\"rgba(128, 128, 128, 1.0)\",\"dash\":\"solid\",\"shape\":\"linear\",\"width\":1.3},\"marker\":{\"size\":2,\"symbol\":\"circle\"},\"mode\":\"markers\",\"name\":\"B\",\"text\":\"\",\"type\":\"scatter\",\"x\":[0.41582869604078676,0.08908090066659761,0.632897792621766,-0.2686957435142303,1.3935159015592866,-0.8841738165587938,0.04932020526232218,0.36083784255909696,0.5930700973382189,-0.7657210849831314,0.3267866329349151,1.5315699020346707,0.9712367876769182,-0.5905627182410459,-1.3007546297340629,-0.34270591049516025,-1.5444237356190753,1.3699224480253112,-0.5266601285331476,0.5218845104131509,-0.289624293712778,1.627351155893597,-1.1085599103320858,-0.7420379098700417,-0.3149385319792866,-0.385322306494416,1.3644526579034364,2.079390165287902,-0.9742206393662634,1.2164447116874373,0.3884321920313758,0.05507351497563259,0.5537148088290685,0.9223255572156578,-1.1670079433842513,-0.3135914685982984,1.0280770318659986,1.034208907032944,-0.9543377870675673,0.3829261951238701,-0.4774554270984158,1.857189262125492,0.27372529281337127,0.5145056173683261,-1.8524243682403903,0.6609968024478915,0.9861395451158472,0.236140297614199,0.2908269638573059,-0.5752767944825667,-0.10057475917755876,-0.8304574393966371,0.8394761248023412,-0.023112911194574703,-0.10541255871813637,0.40528831453003633,-1.7710003577295346,0.7003695443008019,-0.29595497417923705,0.7877849088254777,0.018086661637771565,-0.7523864957601858,-0.5925693080516211,2.7421756230459726,1.0868034162769078,2.2164334411102016,-0.5579699522423354,-1.2120639369984552,0.1440693357679276,-0.3112521195278353,-0.658596876546112,-0.8516897810622372,0.26133771366302966,-0.5009523402944972,-0.2610761190843744,1.3331496610644178,-0.2833154163537059,0.3906132760197774,0.36039296559861506,-1.4904439630173527,-0.5517329797875375,0.16347899128366633,0.7391508140400805,-1.13270922546856,-0.11346311599323608,-3.084242905951554,-1.0235631003432333,-0.8657644590205056,-0.43819452759309097,-2.020390719364349,0.024301027689802666,1.409069805891714,-0.5961646060273115,-0.4957491641382199,-0.8021720304829231,0.6528503562831411,-0.3458809496432313,-0.10578463830901161,2.40958535050643,-0.286802649121502],\"xaxis\":\"x8\",\"y\":[-0.0259506725481951,0.24435649772913426,1.0877733311223357,-1.8962004040020193,-0.25954921711141765,2.7043824859122476,1.0926540178862534,0.35217276213382537,0.1407838761058627,-0.6885384052765048,-1.383324172827188,1.1577865659859314,-1.8530220238946453,-1.2259532131837694,-1.7724024475662012,0.16921653511331095,-0.23502175645737877,-0.19493413743530474,2.1059690127705033,0.7145282505605425,-1.2459465065590833,-0.6112834219178358,-1.2972285557713692,-0.04391332479597896,-0.9127750185864033,0.8642737524596605,-1.2427033799781488,0.17809916107149085,0.9855511500907624,0.5789203698228469,1.353179929831089,-1.5811690329479169,0.21627646035202477,0.22918666030418786,-0.7657227806022304,1.2970745084573303,-0.4411467425812966,-0.002253022989131673,-0.27334995315785343,-0.747367567496964,-0.7707536473647956,-0.05356741888756035,-0.16058500038988138,-0.5283774811894479,0.7155354694021077,-0.6711991806061014,2.552152773933515,-0.5804357246008203,-0.9473705154872256,-0.7083728099568252,-0.12062595408966743,1.3937635936198711,1.3108596651627333,0.5468020472079963,-1.435505117973782,-0.5332814220831296,1.6801961892764308,-0.5839531012332301,-0.6360695371158908,-0.6699857250566243,1.3350702453545424,0.15520860787965896,-0.5236228725603096,-0.7853909085159455,0.12147932511505855,-0.15327619748009327,-1.0783259244660068,1.210341428022308,0.13966304107529887,-0.9399084888506885,-0.59902023061572,-0.9954913339458762,-0.7571127903134742,0.9807267710763179,0.7122861855974634,-0.9759818563206035,1.3560811000635984,-0.01974306520172108,0.018638522220582106,1.252650763361496,-1.7834401536838884,-0.32449111720371465,-3.147935945088936,-2.4677680161269415,-0.048587764266386856,0.3680883517657553,-0.725297987922035,-0.21514594619635463,-0.9977141038793348,-1.36596465153972,-0.552387349054642,-0.06680693818684787,-0.10991903665861248,-0.053436332518115956,-0.6239178589232137,1.0931547879237713,0.87178061557824,-0.13461311038414722,1.6880989246818119,0.546249759714265],\"yaxis\":\"y8\"},{\"line\":{\"color\":\"rgba(128, 128, 128, 1.0)\",\"dash\":\"solid\",\"shape\":\"linear\",\"width\":1.3},\"marker\":{\"size\":2,\"symbol\":\"circle\"},\"mode\":\"markers\",\"name\":\"C\",\"text\":\"\",\"type\":\"scatter\",\"x\":[-1.5780143094608707,0.4224141679036228,-0.046044199547425994,0.2764425774695236,0.2832003904525572,-0.8244229229915959,0.3231680986676643,-2.5784754728961077,-1.1174667014919542,-0.10433571740892703,-0.8635825627075128,0.7213549567592623,-0.514209164071635,-0.0894937461585034,-1.0493787538844543,1.1600959677883953,0.015315579009527229,1.1373452911453181,-0.35205604004623087,0.9733588160495177,1.0175919245173992,-1.1032733279615654,-0.04091946153944837,0.29127869094225495,-0.8031504118174125,0.6154323976045675,-0.9416530536217149,-0.8615871361773523,1.7197517910385434,-1.3245217395911422,-0.9905387437971541,0.612921924303667,-1.7195845050451466,1.7794753656569549,1.390338780884705,1.5420775527370045,1.4602461868666108,0.3920840158671529,0.20740068599803843,-0.0525907643085713,-2.124496090536296,1.8033601534563382,-2.2134597571962984,-1.2320037595512683,-0.013623770292160971,0.10361627865663506,1.8251728914117562,-1.4567844712500666,1.6815715414433596,-1.6382228363459552,1.1785073527119436,-2.1103799953953857,-2.360654618156865,1.06403721627327,-0.6021400767598017,-0.47764716258391327,0.170088710868202,1.6261280670577174,0.29696401753219864,-0.551821204569244,-0.7933538478762096,1.2175829255456183,1.2929051874329027,1.8671528425987827,-0.4997985409441982,-1.0199402532984096,-0.773586095168086,-0.36877594456216256,-0.7896229212932089,-1.6187547203217891,0.5095063621113651,0.3892508134673948,1.8226250380923086,1.398772283602051,0.28258121963712785,0.3171731159206602,-0.4664976111440749,-0.2845925650841886,-1.4177805231493208,0.9495788651228273,0.42885197403303343,2.0694579684956147,-0.7334623227655961,-0.05343421964291611,-0.42613012697760827,0.7942339422888914,0.9822033206905049,1.1274178789267362,-0.4865849503191588,0.252100329107842,-0.5178559805808933,-0.7894057794818384,-0.6942281167523381,-1.2733291431281641,0.6615762834883798,-0.47001228540783596,1.1182681925497504,-0.23366998936225875,1.838116177785737,-0.8406962071636835],\"xaxis\":\"x9\",\"y\":[0.08975292272801964,-1.122144724506423,0.41308708804683814,1.2291429573776043,-0.18877065292459855,-1.1827133158515823,0.1243820620472914,1.3664152433556176,-1.9317263932300122,-1.352599334638764,-1.2421362710127315,-0.11841390076466209,0.5676533077324823,2.0739104604246714,-0.5815660193270941,1.2342106376219761,1.2498521339262563,1.3641228885897345,0.6459650488502955,2.5601818715799407,-1.0978307291157816,1.1829438560535108,0.29373657583670565,0.3230546181531871,0.6987780265399964,-0.3545513737268042,1.4857524601434882,-0.4132454754168434,0.05185298448743799,0.318740957267097,1.3422031376556471,0.4159717801633933,1.1240504425180868,0.08843141393854091,0.19569293967241883,-0.5106019786377393,0.651574929047979,1.076220472519304,0.8488139449190083,0.625719223791922,0.5384437942374167,-0.5791426091552936,0.07668327712532673,-1.0390555690919654,-0.9271828938913351,0.391321175625563,-1.1318486107929164,-0.9620286554769042,0.455186372710968,-0.12246231655648669,1.7658189811363842,0.015485743147627212,-0.15939516759891706,0.5973398128847196,-0.17092565166135884,1.4947565162288488,0.08818093299296717,0.3432864897356414,-1.5572520156193959,0.955097996963139,-1.1463326824656868,-0.9679646288045803,-0.8996013936916627,1.619383421354637,1.8915358096961847,-1.3010202332392893,-0.4430385120251768,-0.36277275864847225,-0.3507681604645573,0.4001941423834444,0.6379541719377324,-0.921473030500794,-1.6067592713761423,-0.868582936032858,-0.9872348162604733,1.1826319763894984,-1.5857224651751778,1.3525105825459645,-0.9124056218723686,-0.3721181347015726,-0.7723146374495938,-0.5279691194847891,-0.14970976371896033,-1.2540461059105112,-0.18344310199684313,0.7354652158449307,-0.031022490215679255,1.407338098420656,1.0351227840283723,0.20974743668509147,0.7160528638967536,0.053054345974461244,0.57691522773279,-1.8239612844563236,-1.9614136463628828,-0.1681368787066811,-1.275670453649495,0.7528644393397567,1.984766448686928,-0.08338474525791412],\"yaxis\":\"y9\"},{\"line\":{\"color\":\"rgba(128, 128, 128, 1.0)\",\"dash\":\"solid\",\"shape\":\"linear\",\"width\":1.3},\"marker\":{\"size\":2,\"symbol\":\"circle\"},\"mode\":\"markers\",\"name\":\"C\",\"text\":\"\",\"type\":\"scatter\",\"x\":[-0.0259506725481951,0.24435649772913426,1.0877733311223357,-1.8962004040020193,-0.25954921711141765,2.7043824859122476,1.0926540178862534,0.35217276213382537,0.1407838761058627,-0.6885384052765048,-1.383324172827188,1.1577865659859314,-1.8530220238946453,-1.2259532131837694,-1.7724024475662012,0.16921653511331095,-0.23502175645737877,-0.19493413743530474,2.1059690127705033,0.7145282505605425,-1.2459465065590833,-0.6112834219178358,-1.2972285557713692,-0.04391332479597896,-0.9127750185864033,0.8642737524596605,-1.2427033799781488,0.17809916107149085,0.9855511500907624,0.5789203698228469,1.353179929831089,-1.5811690329479169,0.21627646035202477,0.22918666030418786,-0.7657227806022304,1.2970745084573303,-0.4411467425812966,-0.002253022989131673,-0.27334995315785343,-0.747367567496964,-0.7707536473647956,-0.05356741888756035,-0.16058500038988138,-0.5283774811894479,0.7155354694021077,-0.6711991806061014,2.552152773933515,-0.5804357246008203,-0.9473705154872256,-0.7083728099568252,-0.12062595408966743,1.3937635936198711,1.3108596651627333,0.5468020472079963,-1.435505117973782,-0.5332814220831296,1.6801961892764308,-0.5839531012332301,-0.6360695371158908,-0.6699857250566243,1.3350702453545424,0.15520860787965896,-0.5236228725603096,-0.7853909085159455,0.12147932511505855,-0.15327619748009327,-1.0783259244660068,1.210341428022308,0.13966304107529887,-0.9399084888506885,-0.59902023061572,-0.9954913339458762,-0.7571127903134742,0.9807267710763179,0.7122861855974634,-0.9759818563206035,1.3560811000635984,-0.01974306520172108,0.018638522220582106,1.252650763361496,-1.7834401536838884,-0.32449111720371465,-3.147935945088936,-2.4677680161269415,-0.048587764266386856,0.3680883517657553,-0.725297987922035,-0.21514594619635463,-0.9977141038793348,-1.36596465153972,-0.552387349054642,-0.06680693818684787,-0.10991903665861248,-0.053436332518115956,-0.6239178589232137,1.0931547879237713,0.87178061557824,-0.13461311038414722,1.6880989246818119,0.546249759714265],\"xaxis\":\"x10\",\"y\":[0.08975292272801964,-1.122144724506423,0.41308708804683814,1.2291429573776043,-0.18877065292459855,-1.1827133158515823,0.1243820620472914,1.3664152433556176,-1.9317263932300122,-1.352599334638764,-1.2421362710127315,-0.11841390076466209,0.5676533077324823,2.0739104604246714,-0.5815660193270941,1.2342106376219761,1.2498521339262563,1.3641228885897345,0.6459650488502955,2.5601818715799407,-1.0978307291157816,1.1829438560535108,0.29373657583670565,0.3230546181531871,0.6987780265399964,-0.3545513737268042,1.4857524601434882,-0.4132454754168434,0.05185298448743799,0.318740957267097,1.3422031376556471,0.4159717801633933,1.1240504425180868,0.08843141393854091,0.19569293967241883,-0.5106019786377393,0.651574929047979,1.076220472519304,0.8488139449190083,0.625719223791922,0.5384437942374167,-0.5791426091552936,0.07668327712532673,-1.0390555690919654,-0.9271828938913351,0.391321175625563,-1.1318486107929164,-0.9620286554769042,0.455186372710968,-0.12246231655648669,1.7658189811363842,0.015485743147627212,-0.15939516759891706,0.5973398128847196,-0.17092565166135884,1.4947565162288488,0.08818093299296717,0.3432864897356414,-1.5572520156193959,0.955097996963139,-1.1463326824656868,-0.9679646288045803,-0.8996013936916627,1.619383421354637,1.8915358096961847,-1.3010202332392893,-0.4430385120251768,-0.36277275864847225,-0.3507681604645573,0.4001941423834444,0.6379541719377324,-0.921473030500794,-1.6067592713761423,-0.868582936032858,-0.9872348162604733,1.1826319763894984,-1.5857224651751778,1.3525105825459645,-0.9124056218723686,-0.3721181347015726,-0.7723146374495938,-0.5279691194847891,-0.14970976371896033,-1.2540461059105112,-0.18344310199684313,0.7354652158449307,-0.031022490215679255,1.407338098420656,1.0351227840283723,0.20974743668509147,0.7160528638967536,0.053054345974461244,0.57691522773279,-1.8239612844563236,-1.9614136463628828,-0.1681368787066811,-1.275670453649495,0.7528644393397567,1.984766448686928,-0.08338474525791412],\"yaxis\":\"y10\"},{\"histfunc\":\"count\",\"histnorm\":\"\",\"marker\":{\"color\":\"rgba(50, 171, 96, 1.0)\",\"line\":{\"color\":\"#4D5663\",\"width\":1.3}},\"name\":\"C\",\"nbinsx\":10,\"opacity\":0.8,\"orientation\":\"v\",\"type\":\"histogram\",\"x\":[0.08975292272801964,-1.122144724506423,0.41308708804683814,1.2291429573776043,-0.18877065292459855,-1.1827133158515823,0.1243820620472914,1.3664152433556176,-1.9317263932300122,-1.352599334638764,-1.2421362710127315,-0.11841390076466209,0.5676533077324823,2.0739104604246714,-0.5815660193270941,1.2342106376219761,1.2498521339262563,1.3641228885897345,0.6459650488502955,2.5601818715799407,-1.0978307291157816,1.1829438560535108,0.29373657583670565,0.3230546181531871,0.6987780265399964,-0.3545513737268042,1.4857524601434882,-0.4132454754168434,0.05185298448743799,0.318740957267097,1.3422031376556471,0.4159717801633933,1.1240504425180868,0.08843141393854091,0.19569293967241883,-0.5106019786377393,0.651574929047979,1.076220472519304,0.8488139449190083,0.625719223791922,0.5384437942374167,-0.5791426091552936,0.07668327712532673,-1.0390555690919654,-0.9271828938913351,0.391321175625563,-1.1318486107929164,-0.9620286554769042,0.455186372710968,-0.12246231655648669,1.7658189811363842,0.015485743147627212,-0.15939516759891706,0.5973398128847196,-0.17092565166135884,1.4947565162288488,0.08818093299296717,0.3432864897356414,-1.5572520156193959,0.955097996963139,-1.1463326824656868,-0.9679646288045803,-0.8996013936916627,1.619383421354637,1.8915358096961847,-1.3010202332392893,-0.4430385120251768,-0.36277275864847225,-0.3507681604645573,0.4001941423834444,0.6379541719377324,-0.921473030500794,-1.6067592713761423,-0.868582936032858,-0.9872348162604733,1.1826319763894984,-1.5857224651751778,1.3525105825459645,-0.9124056218723686,-0.3721181347015726,-0.7723146374495938,-0.5279691194847891,-0.14970976371896033,-1.2540461059105112,-0.18344310199684313,0.7354652158449307,-0.031022490215679255,1.407338098420656,1.0351227840283723,0.20974743668509147,0.7160528638967536,0.053054345974461244,0.57691522773279,-1.8239612844563236,-1.9614136463628828,-0.1681368787066811,-1.275670453649495,0.7528644393397567,1.984766448686928,-0.08338474525791412],\"xaxis\":\"x11\",\"yaxis\":\"y11\"},{\"line\":{\"color\":\"rgba(128, 128, 128, 1.0)\",\"dash\":\"solid\",\"shape\":\"linear\",\"width\":1.3},\"marker\":{\"size\":2,\"symbol\":\"circle\"},\"mode\":\"markers\",\"name\":\"C\",\"text\":\"\",\"type\":\"scatter\",\"x\":[0.41582869604078676,0.08908090066659761,0.632897792621766,-0.2686957435142303,1.3935159015592866,-0.8841738165587938,0.04932020526232218,0.36083784255909696,0.5930700973382189,-0.7657210849831314,0.3267866329349151,1.5315699020346707,0.9712367876769182,-0.5905627182410459,-1.3007546297340629,-0.34270591049516025,-1.5444237356190753,1.3699224480253112,-0.5266601285331476,0.5218845104131509,-0.289624293712778,1.627351155893597,-1.1085599103320858,-0.7420379098700417,-0.3149385319792866,-0.385322306494416,1.3644526579034364,2.079390165287902,-0.9742206393662634,1.2164447116874373,0.3884321920313758,0.05507351497563259,0.5537148088290685,0.9223255572156578,-1.1670079433842513,-0.3135914685982984,1.0280770318659986,1.034208907032944,-0.9543377870675673,0.3829261951238701,-0.4774554270984158,1.857189262125492,0.27372529281337127,0.5145056173683261,-1.8524243682403903,0.6609968024478915,0.9861395451158472,0.236140297614199,0.2908269638573059,-0.5752767944825667,-0.10057475917755876,-0.8304574393966371,0.8394761248023412,-0.023112911194574703,-0.10541255871813637,0.40528831453003633,-1.7710003577295346,0.7003695443008019,-0.29595497417923705,0.7877849088254777,0.018086661637771565,-0.7523864957601858,-0.5925693080516211,2.7421756230459726,1.0868034162769078,2.2164334411102016,-0.5579699522423354,-1.2120639369984552,0.1440693357679276,-0.3112521195278353,-0.658596876546112,-0.8516897810622372,0.26133771366302966,-0.5009523402944972,-0.2610761190843744,1.3331496610644178,-0.2833154163537059,0.3906132760197774,0.36039296559861506,-1.4904439630173527,-0.5517329797875375,0.16347899128366633,0.7391508140400805,-1.13270922546856,-0.11346311599323608,-3.084242905951554,-1.0235631003432333,-0.8657644590205056,-0.43819452759309097,-2.020390719364349,0.024301027689802666,1.409069805891714,-0.5961646060273115,-0.4957491641382199,-0.8021720304829231,0.6528503562831411,-0.3458809496432313,-0.10578463830901161,2.40958535050643,-0.286802649121502],\"xaxis\":\"x12\",\"y\":[0.08975292272801964,-1.122144724506423,0.41308708804683814,1.2291429573776043,-0.18877065292459855,-1.1827133158515823,0.1243820620472914,1.3664152433556176,-1.9317263932300122,-1.352599334638764,-1.2421362710127315,-0.11841390076466209,0.5676533077324823,2.0739104604246714,-0.5815660193270941,1.2342106376219761,1.2498521339262563,1.3641228885897345,0.6459650488502955,2.5601818715799407,-1.0978307291157816,1.1829438560535108,0.29373657583670565,0.3230546181531871,0.6987780265399964,-0.3545513737268042,1.4857524601434882,-0.4132454754168434,0.05185298448743799,0.318740957267097,1.3422031376556471,0.4159717801633933,1.1240504425180868,0.08843141393854091,0.19569293967241883,-0.5106019786377393,0.651574929047979,1.076220472519304,0.8488139449190083,0.625719223791922,0.5384437942374167,-0.5791426091552936,0.07668327712532673,-1.0390555690919654,-0.9271828938913351,0.391321175625563,-1.1318486107929164,-0.9620286554769042,0.455186372710968,-0.12246231655648669,1.7658189811363842,0.015485743147627212,-0.15939516759891706,0.5973398128847196,-0.17092565166135884,1.4947565162288488,0.08818093299296717,0.3432864897356414,-1.5572520156193959,0.955097996963139,-1.1463326824656868,-0.9679646288045803,-0.8996013936916627,1.619383421354637,1.8915358096961847,-1.3010202332392893,-0.4430385120251768,-0.36277275864847225,-0.3507681604645573,0.4001941423834444,0.6379541719377324,-0.921473030500794,-1.6067592713761423,-0.868582936032858,-0.9872348162604733,1.1826319763894984,-1.5857224651751778,1.3525105825459645,-0.9124056218723686,-0.3721181347015726,-0.7723146374495938,-0.5279691194847891,-0.14970976371896033,-1.2540461059105112,-0.18344310199684313,0.7354652158449307,-0.031022490215679255,1.407338098420656,1.0351227840283723,0.20974743668509147,0.7160528638967536,0.053054345974461244,0.57691522773279,-1.8239612844563236,-1.9614136463628828,-0.1681368787066811,-1.275670453649495,0.7528644393397567,1.984766448686928,-0.08338474525791412],\"yaxis\":\"y12\"},{\"line\":{\"color\":\"rgba(128, 128, 128, 1.0)\",\"dash\":\"solid\",\"shape\":\"linear\",\"width\":1.3},\"marker\":{\"size\":2,\"symbol\":\"circle\"},\"mode\":\"markers\",\"name\":\"D\",\"text\":\"\",\"type\":\"scatter\",\"x\":[-1.5780143094608707,0.4224141679036228,-0.046044199547425994,0.2764425774695236,0.2832003904525572,-0.8244229229915959,0.3231680986676643,-2.5784754728961077,-1.1174667014919542,-0.10433571740892703,-0.8635825627075128,0.7213549567592623,-0.514209164071635,-0.0894937461585034,-1.0493787538844543,1.1600959677883953,0.015315579009527229,1.1373452911453181,-0.35205604004623087,0.9733588160495177,1.0175919245173992,-1.1032733279615654,-0.04091946153944837,0.29127869094225495,-0.8031504118174125,0.6154323976045675,-0.9416530536217149,-0.8615871361773523,1.7197517910385434,-1.3245217395911422,-0.9905387437971541,0.612921924303667,-1.7195845050451466,1.7794753656569549,1.390338780884705,1.5420775527370045,1.4602461868666108,0.3920840158671529,0.20740068599803843,-0.0525907643085713,-2.124496090536296,1.8033601534563382,-2.2134597571962984,-1.2320037595512683,-0.013623770292160971,0.10361627865663506,1.8251728914117562,-1.4567844712500666,1.6815715414433596,-1.6382228363459552,1.1785073527119436,-2.1103799953953857,-2.360654618156865,1.06403721627327,-0.6021400767598017,-0.47764716258391327,0.170088710868202,1.6261280670577174,0.29696401753219864,-0.551821204569244,-0.7933538478762096,1.2175829255456183,1.2929051874329027,1.8671528425987827,-0.4997985409441982,-1.0199402532984096,-0.773586095168086,-0.36877594456216256,-0.7896229212932089,-1.6187547203217891,0.5095063621113651,0.3892508134673948,1.8226250380923086,1.398772283602051,0.28258121963712785,0.3171731159206602,-0.4664976111440749,-0.2845925650841886,-1.4177805231493208,0.9495788651228273,0.42885197403303343,2.0694579684956147,-0.7334623227655961,-0.05343421964291611,-0.42613012697760827,0.7942339422888914,0.9822033206905049,1.1274178789267362,-0.4865849503191588,0.252100329107842,-0.5178559805808933,-0.7894057794818384,-0.6942281167523381,-1.2733291431281641,0.6615762834883798,-0.47001228540783596,1.1182681925497504,-0.23366998936225875,1.838116177785737,-0.8406962071636835],\"xaxis\":\"x13\",\"y\":[0.41582869604078676,0.08908090066659761,0.632897792621766,-0.2686957435142303,1.3935159015592866,-0.8841738165587938,0.04932020526232218,0.36083784255909696,0.5930700973382189,-0.7657210849831314,0.3267866329349151,1.5315699020346707,0.9712367876769182,-0.5905627182410459,-1.3007546297340629,-0.34270591049516025,-1.5444237356190753,1.3699224480253112,-0.5266601285331476,0.5218845104131509,-0.289624293712778,1.627351155893597,-1.1085599103320858,-0.7420379098700417,-0.3149385319792866,-0.385322306494416,1.3644526579034364,2.079390165287902,-0.9742206393662634,1.2164447116874373,0.3884321920313758,0.05507351497563259,0.5537148088290685,0.9223255572156578,-1.1670079433842513,-0.3135914685982984,1.0280770318659986,1.034208907032944,-0.9543377870675673,0.3829261951238701,-0.4774554270984158,1.857189262125492,0.27372529281337127,0.5145056173683261,-1.8524243682403903,0.6609968024478915,0.9861395451158472,0.236140297614199,0.2908269638573059,-0.5752767944825667,-0.10057475917755876,-0.8304574393966371,0.8394761248023412,-0.023112911194574703,-0.10541255871813637,0.40528831453003633,-1.7710003577295346,0.7003695443008019,-0.29595497417923705,0.7877849088254777,0.018086661637771565,-0.7523864957601858,-0.5925693080516211,2.7421756230459726,1.0868034162769078,2.2164334411102016,-0.5579699522423354,-1.2120639369984552,0.1440693357679276,-0.3112521195278353,-0.658596876546112,-0.8516897810622372,0.26133771366302966,-0.5009523402944972,-0.2610761190843744,1.3331496610644178,-0.2833154163537059,0.3906132760197774,0.36039296559861506,-1.4904439630173527,-0.5517329797875375,0.16347899128366633,0.7391508140400805,-1.13270922546856,-0.11346311599323608,-3.084242905951554,-1.0235631003432333,-0.8657644590205056,-0.43819452759309097,-2.020390719364349,0.024301027689802666,1.409069805891714,-0.5961646060273115,-0.4957491641382199,-0.8021720304829231,0.6528503562831411,-0.3458809496432313,-0.10578463830901161,2.40958535050643,-0.286802649121502],\"yaxis\":\"y13\"},{\"line\":{\"color\":\"rgba(128, 128, 128, 1.0)\",\"dash\":\"solid\",\"shape\":\"linear\",\"width\":1.3},\"marker\":{\"size\":2,\"symbol\":\"circle\"},\"mode\":\"markers\",\"name\":\"D\",\"text\":\"\",\"type\":\"scatter\",\"x\":[-0.0259506725481951,0.24435649772913426,1.0877733311223357,-1.8962004040020193,-0.25954921711141765,2.7043824859122476,1.0926540178862534,0.35217276213382537,0.1407838761058627,-0.6885384052765048,-1.383324172827188,1.1577865659859314,-1.8530220238946453,-1.2259532131837694,-1.7724024475662012,0.16921653511331095,-0.23502175645737877,-0.19493413743530474,2.1059690127705033,0.7145282505605425,-1.2459465065590833,-0.6112834219178358,-1.2972285557713692,-0.04391332479597896,-0.9127750185864033,0.8642737524596605,-1.2427033799781488,0.17809916107149085,0.9855511500907624,0.5789203698228469,1.353179929831089,-1.5811690329479169,0.21627646035202477,0.22918666030418786,-0.7657227806022304,1.2970745084573303,-0.4411467425812966,-0.002253022989131673,-0.27334995315785343,-0.747367567496964,-0.7707536473647956,-0.05356741888756035,-0.16058500038988138,-0.5283774811894479,0.7155354694021077,-0.6711991806061014,2.552152773933515,-0.5804357246008203,-0.9473705154872256,-0.7083728099568252,-0.12062595408966743,1.3937635936198711,1.3108596651627333,0.5468020472079963,-1.435505117973782,-0.5332814220831296,1.6801961892764308,-0.5839531012332301,-0.6360695371158908,-0.6699857250566243,1.3350702453545424,0.15520860787965896,-0.5236228725603096,-0.7853909085159455,0.12147932511505855,-0.15327619748009327,-1.0783259244660068,1.210341428022308,0.13966304107529887,-0.9399084888506885,-0.59902023061572,-0.9954913339458762,-0.7571127903134742,0.9807267710763179,0.7122861855974634,-0.9759818563206035,1.3560811000635984,-0.01974306520172108,0.018638522220582106,1.252650763361496,-1.7834401536838884,-0.32449111720371465,-3.147935945088936,-2.4677680161269415,-0.048587764266386856,0.3680883517657553,-0.725297987922035,-0.21514594619635463,-0.9977141038793348,-1.36596465153972,-0.552387349054642,-0.06680693818684787,-0.10991903665861248,-0.053436332518115956,-0.6239178589232137,1.0931547879237713,0.87178061557824,-0.13461311038414722,1.6880989246818119,0.546249759714265],\"xaxis\":\"x14\",\"y\":[0.41582869604078676,0.08908090066659761,0.632897792621766,-0.2686957435142303,1.3935159015592866,-0.8841738165587938,0.04932020526232218,0.36083784255909696,0.5930700973382189,-0.7657210849831314,0.3267866329349151,1.5315699020346707,0.9712367876769182,-0.5905627182410459,-1.3007546297340629,-0.34270591049516025,-1.5444237356190753,1.3699224480253112,-0.5266601285331476,0.5218845104131509,-0.289624293712778,1.627351155893597,-1.1085599103320858,-0.7420379098700417,-0.3149385319792866,-0.385322306494416,1.3644526579034364,2.079390165287902,-0.9742206393662634,1.2164447116874373,0.3884321920313758,0.05507351497563259,0.5537148088290685,0.9223255572156578,-1.1670079433842513,-0.3135914685982984,1.0280770318659986,1.034208907032944,-0.9543377870675673,0.3829261951238701,-0.4774554270984158,1.857189262125492,0.27372529281337127,0.5145056173683261,-1.8524243682403903,0.6609968024478915,0.9861395451158472,0.236140297614199,0.2908269638573059,-0.5752767944825667,-0.10057475917755876,-0.8304574393966371,0.8394761248023412,-0.023112911194574703,-0.10541255871813637,0.40528831453003633,-1.7710003577295346,0.7003695443008019,-0.29595497417923705,0.7877849088254777,0.018086661637771565,-0.7523864957601858,-0.5925693080516211,2.7421756230459726,1.0868034162769078,2.2164334411102016,-0.5579699522423354,-1.2120639369984552,0.1440693357679276,-0.3112521195278353,-0.658596876546112,-0.8516897810622372,0.26133771366302966,-0.5009523402944972,-0.2610761190843744,1.3331496610644178,-0.2833154163537059,0.3906132760197774,0.36039296559861506,-1.4904439630173527,-0.5517329797875375,0.16347899128366633,0.7391508140400805,-1.13270922546856,-0.11346311599323608,-3.084242905951554,-1.0235631003432333,-0.8657644590205056,-0.43819452759309097,-2.020390719364349,0.024301027689802666,1.409069805891714,-0.5961646060273115,-0.4957491641382199,-0.8021720304829231,0.6528503562831411,-0.3458809496432313,-0.10578463830901161,2.40958535050643,-0.286802649121502],\"yaxis\":\"y14\"},{\"line\":{\"color\":\"rgba(128, 128, 128, 1.0)\",\"dash\":\"solid\",\"shape\":\"linear\",\"width\":1.3},\"marker\":{\"size\":2,\"symbol\":\"circle\"},\"mode\":\"markers\",\"name\":\"D\",\"text\":\"\",\"type\":\"scatter\",\"x\":[0.08975292272801964,-1.122144724506423,0.41308708804683814,1.2291429573776043,-0.18877065292459855,-1.1827133158515823,0.1243820620472914,1.3664152433556176,-1.9317263932300122,-1.352599334638764,-1.2421362710127315,-0.11841390076466209,0.5676533077324823,2.0739104604246714,-0.5815660193270941,1.2342106376219761,1.2498521339262563,1.3641228885897345,0.6459650488502955,2.5601818715799407,-1.0978307291157816,1.1829438560535108,0.29373657583670565,0.3230546181531871,0.6987780265399964,-0.3545513737268042,1.4857524601434882,-0.4132454754168434,0.05185298448743799,0.318740957267097,1.3422031376556471,0.4159717801633933,1.1240504425180868,0.08843141393854091,0.19569293967241883,-0.5106019786377393,0.651574929047979,1.076220472519304,0.8488139449190083,0.625719223791922,0.5384437942374167,-0.5791426091552936,0.07668327712532673,-1.0390555690919654,-0.9271828938913351,0.391321175625563,-1.1318486107929164,-0.9620286554769042,0.455186372710968,-0.12246231655648669,1.7658189811363842,0.015485743147627212,-0.15939516759891706,0.5973398128847196,-0.17092565166135884,1.4947565162288488,0.08818093299296717,0.3432864897356414,-1.5572520156193959,0.955097996963139,-1.1463326824656868,-0.9679646288045803,-0.8996013936916627,1.619383421354637,1.8915358096961847,-1.3010202332392893,-0.4430385120251768,-0.36277275864847225,-0.3507681604645573,0.4001941423834444,0.6379541719377324,-0.921473030500794,-1.6067592713761423,-0.868582936032858,-0.9872348162604733,1.1826319763894984,-1.5857224651751778,1.3525105825459645,-0.9124056218723686,-0.3721181347015726,-0.7723146374495938,-0.5279691194847891,-0.14970976371896033,-1.2540461059105112,-0.18344310199684313,0.7354652158449307,-0.031022490215679255,1.407338098420656,1.0351227840283723,0.20974743668509147,0.7160528638967536,0.053054345974461244,0.57691522773279,-1.8239612844563236,-1.9614136463628828,-0.1681368787066811,-1.275670453649495,0.7528644393397567,1.984766448686928,-0.08338474525791412],\"xaxis\":\"x15\",\"y\":[0.41582869604078676,0.08908090066659761,0.632897792621766,-0.2686957435142303,1.3935159015592866,-0.8841738165587938,0.04932020526232218,0.36083784255909696,0.5930700973382189,-0.7657210849831314,0.3267866329349151,1.5315699020346707,0.9712367876769182,-0.5905627182410459,-1.3007546297340629,-0.34270591049516025,-1.5444237356190753,1.3699224480253112,-0.5266601285331476,0.5218845104131509,-0.289624293712778,1.627351155893597,-1.1085599103320858,-0.7420379098700417,-0.3149385319792866,-0.385322306494416,1.3644526579034364,2.079390165287902,-0.9742206393662634,1.2164447116874373,0.3884321920313758,0.05507351497563259,0.5537148088290685,0.9223255572156578,-1.1670079433842513,-0.3135914685982984,1.0280770318659986,1.034208907032944,-0.9543377870675673,0.3829261951238701,-0.4774554270984158,1.857189262125492,0.27372529281337127,0.5145056173683261,-1.8524243682403903,0.6609968024478915,0.9861395451158472,0.236140297614199,0.2908269638573059,-0.5752767944825667,-0.10057475917755876,-0.8304574393966371,0.8394761248023412,-0.023112911194574703,-0.10541255871813637,0.40528831453003633,-1.7710003577295346,0.7003695443008019,-0.29595497417923705,0.7877849088254777,0.018086661637771565,-0.7523864957601858,-0.5925693080516211,2.7421756230459726,1.0868034162769078,2.2164334411102016,-0.5579699522423354,-1.2120639369984552,0.1440693357679276,-0.3112521195278353,-0.658596876546112,-0.8516897810622372,0.26133771366302966,-0.5009523402944972,-0.2610761190843744,1.3331496610644178,-0.2833154163537059,0.3906132760197774,0.36039296559861506,-1.4904439630173527,-0.5517329797875375,0.16347899128366633,0.7391508140400805,-1.13270922546856,-0.11346311599323608,-3.084242905951554,-1.0235631003432333,-0.8657644590205056,-0.43819452759309097,-2.020390719364349,0.024301027689802666,1.409069805891714,-0.5961646060273115,-0.4957491641382199,-0.8021720304829231,0.6528503562831411,-0.3458809496432313,-0.10578463830901161,2.40958535050643,-0.286802649121502],\"yaxis\":\"y15\"},{\"histfunc\":\"count\",\"histnorm\":\"\",\"marker\":{\"color\":\"rgba(128, 0, 128, 1.0)\",\"line\":{\"color\":\"#4D5663\",\"width\":1.3}},\"name\":\"D\",\"nbinsx\":10,\"opacity\":0.8,\"orientation\":\"v\",\"type\":\"histogram\",\"x\":[0.41582869604078676,0.08908090066659761,0.632897792621766,-0.2686957435142303,1.3935159015592866,-0.8841738165587938,0.04932020526232218,0.36083784255909696,0.5930700973382189,-0.7657210849831314,0.3267866329349151,1.5315699020346707,0.9712367876769182,-0.5905627182410459,-1.3007546297340629,-0.34270591049516025,-1.5444237356190753,1.3699224480253112,-0.5266601285331476,0.5218845104131509,-0.289624293712778,1.627351155893597,-1.1085599103320858,-0.7420379098700417,-0.3149385319792866,-0.385322306494416,1.3644526579034364,2.079390165287902,-0.9742206393662634,1.2164447116874373,0.3884321920313758,0.05507351497563259,0.5537148088290685,0.9223255572156578,-1.1670079433842513,-0.3135914685982984,1.0280770318659986,1.034208907032944,-0.9543377870675673,0.3829261951238701,-0.4774554270984158,1.857189262125492,0.27372529281337127,0.5145056173683261,-1.8524243682403903,0.6609968024478915,0.9861395451158472,0.236140297614199,0.2908269638573059,-0.5752767944825667,-0.10057475917755876,-0.8304574393966371,0.8394761248023412,-0.023112911194574703,-0.10541255871813637,0.40528831453003633,-1.7710003577295346,0.7003695443008019,-0.29595497417923705,0.7877849088254777,0.018086661637771565,-0.7523864957601858,-0.5925693080516211,2.7421756230459726,1.0868034162769078,2.2164334411102016,-0.5579699522423354,-1.2120639369984552,0.1440693357679276,-0.3112521195278353,-0.658596876546112,-0.8516897810622372,0.26133771366302966,-0.5009523402944972,-0.2610761190843744,1.3331496610644178,-0.2833154163537059,0.3906132760197774,0.36039296559861506,-1.4904439630173527,-0.5517329797875375,0.16347899128366633,0.7391508140400805,-1.13270922546856,-0.11346311599323608,-3.084242905951554,-1.0235631003432333,-0.8657644590205056,-0.43819452759309097,-2.020390719364349,0.024301027689802666,1.409069805891714,-0.5961646060273115,-0.4957491641382199,-0.8021720304829231,0.6528503562831411,-0.3458809496432313,-0.10578463830901161,2.40958535050643,-0.286802649121502],\"xaxis\":\"x16\",\"yaxis\":\"y16\"}],                        {\"bargap\":0.02,\"legend\":{\"bgcolor\":\"#F5F6F9\",\"font\":{\"color\":\"#4D5663\"}},\"paper_bgcolor\":\"#F5F6F9\",\"plot_bgcolor\":\"#F5F6F9\",\"showlegend\":false,\"template\":{\"data\":{\"bar\":[{\"error_x\":{\"color\":\"#2a3f5f\"},\"error_y\":{\"color\":\"#2a3f5f\"},\"marker\":{\"line\":{\"color\":\"#E5ECF6\",\"width\":0.5},\"pattern\":{\"fillmode\":\"overlay\",\"size\":10,\"solidity\":0.2}},\"type\":\"bar\"}],\"barpolar\":[{\"marker\":{\"line\":{\"color\":\"#E5ECF6\",\"width\":0.5},\"pattern\":{\"fillmode\":\"overlay\",\"size\":10,\"solidity\":0.2}},\"type\":\"barpolar\"}],\"carpet\":[{\"aaxis\":{\"endlinecolor\":\"#2a3f5f\",\"gridcolor\":\"white\",\"linecolor\":\"white\",\"minorgridcolor\":\"white\",\"startlinecolor\":\"#2a3f5f\"},\"baxis\":{\"endlinecolor\":\"#2a3f5f\",\"gridcolor\":\"white\",\"linecolor\":\"white\",\"minorgridcolor\":\"white\",\"startlinecolor\":\"#2a3f5f\"},\"type\":\"carpet\"}],\"choropleth\":[{\"colorbar\":{\"outlinewidth\":0,\"ticks\":\"\"},\"type\":\"choropleth\"}],\"contour\":[{\"colorbar\":{\"outlinewidth\":0,\"ticks\":\"\"},\"colorscale\":[[0.0,\"#0d0887\"],[0.1111111111111111,\"#46039f\"],[0.2222222222222222,\"#7201a8\"],[0.3333333333333333,\"#9c179e\"],[0.4444444444444444,\"#bd3786\"],[0.5555555555555556,\"#d8576b\"],[0.6666666666666666,\"#ed7953\"],[0.7777777777777778,\"#fb9f3a\"],[0.8888888888888888,\"#fdca26\"],[1.0,\"#f0f921\"]],\"type\":\"contour\"}],\"contourcarpet\":[{\"colorbar\":{\"outlinewidth\":0,\"ticks\":\"\"},\"type\":\"contourcarpet\"}],\"heatmap\":[{\"colorbar\":{\"outlinewidth\":0,\"ticks\":\"\"},\"colorscale\":[[0.0,\"#0d0887\"],[0.1111111111111111,\"#46039f\"],[0.2222222222222222,\"#7201a8\"],[0.3333333333333333,\"#9c179e\"],[0.4444444444444444,\"#bd3786\"],[0.5555555555555556,\"#d8576b\"],[0.6666666666666666,\"#ed7953\"],[0.7777777777777778,\"#fb9f3a\"],[0.8888888888888888,\"#fdca26\"],[1.0,\"#f0f921\"]],\"type\":\"heatmap\"}],\"heatmapgl\":[{\"colorbar\":{\"outlinewidth\":0,\"ticks\":\"\"},\"colorscale\":[[0.0,\"#0d0887\"],[0.1111111111111111,\"#46039f\"],[0.2222222222222222,\"#7201a8\"],[0.3333333333333333,\"#9c179e\"],[0.4444444444444444,\"#bd3786\"],[0.5555555555555556,\"#d8576b\"],[0.6666666666666666,\"#ed7953\"],[0.7777777777777778,\"#fb9f3a\"],[0.8888888888888888,\"#fdca26\"],[1.0,\"#f0f921\"]],\"type\":\"heatmapgl\"}],\"histogram\":[{\"marker\":{\"pattern\":{\"fillmode\":\"overlay\",\"size\":10,\"solidity\":0.2}},\"type\":\"histogram\"}],\"histogram2d\":[{\"colorbar\":{\"outlinewidth\":0,\"ticks\":\"\"},\"colorscale\":[[0.0,\"#0d0887\"],[0.1111111111111111,\"#46039f\"],[0.2222222222222222,\"#7201a8\"],[0.3333333333333333,\"#9c179e\"],[0.4444444444444444,\"#bd3786\"],[0.5555555555555556,\"#d8576b\"],[0.6666666666666666,\"#ed7953\"],[0.7777777777777778,\"#fb9f3a\"],[0.8888888888888888,\"#fdca26\"],[1.0,\"#f0f921\"]],\"type\":\"histogram2d\"}],\"histogram2dcontour\":[{\"colorbar\":{\"outlinewidth\":0,\"ticks\":\"\"},\"colorscale\":[[0.0,\"#0d0887\"],[0.1111111111111111,\"#46039f\"],[0.2222222222222222,\"#7201a8\"],[0.3333333333333333,\"#9c179e\"],[0.4444444444444444,\"#bd3786\"],[0.5555555555555556,\"#d8576b\"],[0.6666666666666666,\"#ed7953\"],[0.7777777777777778,\"#fb9f3a\"],[0.8888888888888888,\"#fdca26\"],[1.0,\"#f0f921\"]],\"type\":\"histogram2dcontour\"}],\"mesh3d\":[{\"colorbar\":{\"outlinewidth\":0,\"ticks\":\"\"},\"type\":\"mesh3d\"}],\"parcoords\":[{\"line\":{\"colorbar\":{\"outlinewidth\":0,\"ticks\":\"\"}},\"type\":\"parcoords\"}],\"pie\":[{\"automargin\":true,\"type\":\"pie\"}],\"scatter\":[{\"marker\":{\"colorbar\":{\"outlinewidth\":0,\"ticks\":\"\"}},\"type\":\"scatter\"}],\"scatter3d\":[{\"line\":{\"colorbar\":{\"outlinewidth\":0,\"ticks\":\"\"}},\"marker\":{\"colorbar\":{\"outlinewidth\":0,\"ticks\":\"\"}},\"type\":\"scatter3d\"}],\"scattercarpet\":[{\"marker\":{\"colorbar\":{\"outlinewidth\":0,\"ticks\":\"\"}},\"type\":\"scattercarpet\"}],\"scattergeo\":[{\"marker\":{\"colorbar\":{\"outlinewidth\":0,\"ticks\":\"\"}},\"type\":\"scattergeo\"}],\"scattergl\":[{\"marker\":{\"colorbar\":{\"outlinewidth\":0,\"ticks\":\"\"}},\"type\":\"scattergl\"}],\"scattermapbox\":[{\"marker\":{\"colorbar\":{\"outlinewidth\":0,\"ticks\":\"\"}},\"type\":\"scattermapbox\"}],\"scatterpolar\":[{\"marker\":{\"colorbar\":{\"outlinewidth\":0,\"ticks\":\"\"}},\"type\":\"scatterpolar\"}],\"scatterpolargl\":[{\"marker\":{\"colorbar\":{\"outlinewidth\":0,\"ticks\":\"\"}},\"type\":\"scatterpolargl\"}],\"scatterternary\":[{\"marker\":{\"colorbar\":{\"outlinewidth\":0,\"ticks\":\"\"}},\"type\":\"scatterternary\"}],\"surface\":[{\"colorbar\":{\"outlinewidth\":0,\"ticks\":\"\"},\"colorscale\":[[0.0,\"#0d0887\"],[0.1111111111111111,\"#46039f\"],[0.2222222222222222,\"#7201a8\"],[0.3333333333333333,\"#9c179e\"],[0.4444444444444444,\"#bd3786\"],[0.5555555555555556,\"#d8576b\"],[0.6666666666666666,\"#ed7953\"],[0.7777777777777778,\"#fb9f3a\"],[0.8888888888888888,\"#fdca26\"],[1.0,\"#f0f921\"]],\"type\":\"surface\"}],\"table\":[{\"cells\":{\"fill\":{\"color\":\"#EBF0F8\"},\"line\":{\"color\":\"white\"}},\"header\":{\"fill\":{\"color\":\"#C8D4E3\"},\"line\":{\"color\":\"white\"}},\"type\":\"table\"}]},\"layout\":{\"annotationdefaults\":{\"arrowcolor\":\"#2a3f5f\",\"arrowhead\":0,\"arrowwidth\":1},\"autotypenumbers\":\"strict\",\"coloraxis\":{\"colorbar\":{\"outlinewidth\":0,\"ticks\":\"\"}},\"colorscale\":{\"diverging\":[[0,\"#8e0152\"],[0.1,\"#c51b7d\"],[0.2,\"#de77ae\"],[0.3,\"#f1b6da\"],[0.4,\"#fde0ef\"],[0.5,\"#f7f7f7\"],[0.6,\"#e6f5d0\"],[0.7,\"#b8e186\"],[0.8,\"#7fbc41\"],[0.9,\"#4d9221\"],[1,\"#276419\"]],\"sequential\":[[0.0,\"#0d0887\"],[0.1111111111111111,\"#46039f\"],[0.2222222222222222,\"#7201a8\"],[0.3333333333333333,\"#9c179e\"],[0.4444444444444444,\"#bd3786\"],[0.5555555555555556,\"#d8576b\"],[0.6666666666666666,\"#ed7953\"],[0.7777777777777778,\"#fb9f3a\"],[0.8888888888888888,\"#fdca26\"],[1.0,\"#f0f921\"]],\"sequentialminus\":[[0.0,\"#0d0887\"],[0.1111111111111111,\"#46039f\"],[0.2222222222222222,\"#7201a8\"],[0.3333333333333333,\"#9c179e\"],[0.4444444444444444,\"#bd3786\"],[0.5555555555555556,\"#d8576b\"],[0.6666666666666666,\"#ed7953\"],[0.7777777777777778,\"#fb9f3a\"],[0.8888888888888888,\"#fdca26\"],[1.0,\"#f0f921\"]]},\"colorway\":[\"#636efa\",\"#EF553B\",\"#00cc96\",\"#ab63fa\",\"#FFA15A\",\"#19d3f3\",\"#FF6692\",\"#B6E880\",\"#FF97FF\",\"#FECB52\"],\"font\":{\"color\":\"#2a3f5f\"},\"geo\":{\"bgcolor\":\"white\",\"lakecolor\":\"white\",\"landcolor\":\"#E5ECF6\",\"showlakes\":true,\"showland\":true,\"subunitcolor\":\"white\"},\"hoverlabel\":{\"align\":\"left\"},\"hovermode\":\"closest\",\"mapbox\":{\"style\":\"light\"},\"paper_bgcolor\":\"white\",\"plot_bgcolor\":\"#E5ECF6\",\"polar\":{\"angularaxis\":{\"gridcolor\":\"white\",\"linecolor\":\"white\",\"ticks\":\"\"},\"bgcolor\":\"#E5ECF6\",\"radialaxis\":{\"gridcolor\":\"white\",\"linecolor\":\"white\",\"ticks\":\"\"}},\"scene\":{\"xaxis\":{\"backgroundcolor\":\"#E5ECF6\",\"gridcolor\":\"white\",\"gridwidth\":2,\"linecolor\":\"white\",\"showbackground\":true,\"ticks\":\"\",\"zerolinecolor\":\"white\"},\"yaxis\":{\"backgroundcolor\":\"#E5ECF6\",\"gridcolor\":\"white\",\"gridwidth\":2,\"linecolor\":\"white\",\"showbackground\":true,\"ticks\":\"\",\"zerolinecolor\":\"white\"},\"zaxis\":{\"backgroundcolor\":\"#E5ECF6\",\"gridcolor\":\"white\",\"gridwidth\":2,\"linecolor\":\"white\",\"showbackground\":true,\"ticks\":\"\",\"zerolinecolor\":\"white\"}},\"shapedefaults\":{\"line\":{\"color\":\"#2a3f5f\"}},\"ternary\":{\"aaxis\":{\"gridcolor\":\"white\",\"linecolor\":\"white\",\"ticks\":\"\"},\"baxis\":{\"gridcolor\":\"white\",\"linecolor\":\"white\",\"ticks\":\"\"},\"bgcolor\":\"#E5ECF6\",\"caxis\":{\"gridcolor\":\"white\",\"linecolor\":\"white\",\"ticks\":\"\"}},\"title\":{\"x\":0.05},\"xaxis\":{\"automargin\":true,\"gridcolor\":\"white\",\"linecolor\":\"white\",\"ticks\":\"\",\"title\":{\"standoff\":15},\"zerolinecolor\":\"white\",\"zerolinewidth\":2},\"yaxis\":{\"automargin\":true,\"gridcolor\":\"white\",\"linecolor\":\"white\",\"ticks\":\"\",\"title\":{\"standoff\":15},\"zerolinecolor\":\"white\",\"zerolinewidth\":2}}},\"title\":{\"font\":{\"color\":\"#4D5663\"}},\"xaxis\":{\"anchor\":\"y\",\"domain\":[0.0,0.2125],\"gridcolor\":\"#E1E5ED\",\"showgrid\":false,\"tickfont\":{\"color\":\"#4D5663\"},\"title\":{\"font\":{\"color\":\"#4D5663\"},\"text\":\"\"},\"zerolinecolor\":\"#E1E5ED\"},\"xaxis10\":{\"anchor\":\"y10\",\"domain\":[0.2625,0.475],\"gridcolor\":\"#E1E5ED\",\"showgrid\":false,\"tickfont\":{\"color\":\"#4D5663\"},\"title\":{\"font\":{\"color\":\"#4D5663\"},\"text\":\"\"},\"zerolinecolor\":\"#E1E5ED\"},\"xaxis11\":{\"anchor\":\"y11\",\"domain\":[0.525,0.7375],\"gridcolor\":\"#E1E5ED\",\"showgrid\":false,\"tickfont\":{\"color\":\"#4D5663\"},\"title\":{\"font\":{\"color\":\"#4D5663\"},\"text\":\"\"},\"zerolinecolor\":\"#E1E5ED\"},\"xaxis12\":{\"anchor\":\"y12\",\"domain\":[0.7875,1.0],\"gridcolor\":\"#E1E5ED\",\"showgrid\":false,\"tickfont\":{\"color\":\"#4D5663\"},\"title\":{\"font\":{\"color\":\"#4D5663\"},\"text\":\"\"},\"zerolinecolor\":\"#E1E5ED\"},\"xaxis13\":{\"anchor\":\"y13\",\"domain\":[0.0,0.2125],\"gridcolor\":\"#E1E5ED\",\"showgrid\":false,\"tickfont\":{\"color\":\"#4D5663\"},\"title\":{\"font\":{\"color\":\"#4D5663\"},\"text\":\"\"},\"zerolinecolor\":\"#E1E5ED\"},\"xaxis14\":{\"anchor\":\"y14\",\"domain\":[0.2625,0.475],\"gridcolor\":\"#E1E5ED\",\"showgrid\":false,\"tickfont\":{\"color\":\"#4D5663\"},\"title\":{\"font\":{\"color\":\"#4D5663\"},\"text\":\"\"},\"zerolinecolor\":\"#E1E5ED\"},\"xaxis15\":{\"anchor\":\"y15\",\"domain\":[0.525,0.7375],\"gridcolor\":\"#E1E5ED\",\"showgrid\":false,\"tickfont\":{\"color\":\"#4D5663\"},\"title\":{\"font\":{\"color\":\"#4D5663\"},\"text\":\"\"},\"zerolinecolor\":\"#E1E5ED\"},\"xaxis16\":{\"anchor\":\"y16\",\"domain\":[0.7875,1.0],\"gridcolor\":\"#E1E5ED\",\"showgrid\":false,\"tickfont\":{\"color\":\"#4D5663\"},\"title\":{\"font\":{\"color\":\"#4D5663\"},\"text\":\"\"},\"zerolinecolor\":\"#E1E5ED\"},\"xaxis2\":{\"anchor\":\"y2\",\"domain\":[0.2625,0.475],\"gridcolor\":\"#E1E5ED\",\"showgrid\":false,\"tickfont\":{\"color\":\"#4D5663\"},\"title\":{\"font\":{\"color\":\"#4D5663\"},\"text\":\"\"},\"zerolinecolor\":\"#E1E5ED\"},\"xaxis3\":{\"anchor\":\"y3\",\"domain\":[0.525,0.7375],\"gridcolor\":\"#E1E5ED\",\"showgrid\":false,\"tickfont\":{\"color\":\"#4D5663\"},\"title\":{\"font\":{\"color\":\"#4D5663\"},\"text\":\"\"},\"zerolinecolor\":\"#E1E5ED\"},\"xaxis4\":{\"anchor\":\"y4\",\"domain\":[0.7875,1.0],\"gridcolor\":\"#E1E5ED\",\"showgrid\":false,\"tickfont\":{\"color\":\"#4D5663\"},\"title\":{\"font\":{\"color\":\"#4D5663\"},\"text\":\"\"},\"zerolinecolor\":\"#E1E5ED\"},\"xaxis5\":{\"anchor\":\"y5\",\"domain\":[0.0,0.2125],\"gridcolor\":\"#E1E5ED\",\"showgrid\":false,\"tickfont\":{\"color\":\"#4D5663\"},\"title\":{\"font\":{\"color\":\"#4D5663\"},\"text\":\"\"},\"zerolinecolor\":\"#E1E5ED\"},\"xaxis6\":{\"anchor\":\"y6\",\"domain\":[0.2625,0.475],\"gridcolor\":\"#E1E5ED\",\"showgrid\":false,\"tickfont\":{\"color\":\"#4D5663\"},\"title\":{\"font\":{\"color\":\"#4D5663\"},\"text\":\"\"},\"zerolinecolor\":\"#E1E5ED\"},\"xaxis7\":{\"anchor\":\"y7\",\"domain\":[0.525,0.7375],\"gridcolor\":\"#E1E5ED\",\"showgrid\":false,\"tickfont\":{\"color\":\"#4D5663\"},\"title\":{\"font\":{\"color\":\"#4D5663\"},\"text\":\"\"},\"zerolinecolor\":\"#E1E5ED\"},\"xaxis8\":{\"anchor\":\"y8\",\"domain\":[0.7875,1.0],\"gridcolor\":\"#E1E5ED\",\"showgrid\":false,\"tickfont\":{\"color\":\"#4D5663\"},\"title\":{\"font\":{\"color\":\"#4D5663\"},\"text\":\"\"},\"zerolinecolor\":\"#E1E5ED\"},\"xaxis9\":{\"anchor\":\"y9\",\"domain\":[0.0,0.2125],\"gridcolor\":\"#E1E5ED\",\"showgrid\":false,\"tickfont\":{\"color\":\"#4D5663\"},\"title\":{\"font\":{\"color\":\"#4D5663\"},\"text\":\"\"},\"zerolinecolor\":\"#E1E5ED\"},\"yaxis\":{\"anchor\":\"x\",\"domain\":[0.8025,1.0],\"gridcolor\":\"#E1E5ED\",\"showgrid\":false,\"tickfont\":{\"color\":\"#4D5663\"},\"title\":{\"font\":{\"color\":\"#4D5663\"},\"text\":\"\"},\"zerolinecolor\":\"#E1E5ED\"},\"yaxis10\":{\"anchor\":\"x10\",\"domain\":[0.2675,0.465],\"gridcolor\":\"#E1E5ED\",\"showgrid\":false,\"tickfont\":{\"color\":\"#4D5663\"},\"title\":{\"font\":{\"color\":\"#4D5663\"},\"text\":\"\"},\"zerolinecolor\":\"#E1E5ED\"},\"yaxis11\":{\"anchor\":\"x11\",\"domain\":[0.2675,0.465],\"gridcolor\":\"#E1E5ED\",\"showgrid\":false,\"tickfont\":{\"color\":\"#4D5663\"},\"title\":{\"font\":{\"color\":\"#4D5663\"},\"text\":\"\"},\"zerolinecolor\":\"#E1E5ED\"},\"yaxis12\":{\"anchor\":\"x12\",\"domain\":[0.2675,0.465],\"gridcolor\":\"#E1E5ED\",\"showgrid\":false,\"tickfont\":{\"color\":\"#4D5663\"},\"title\":{\"font\":{\"color\":\"#4D5663\"},\"text\":\"\"},\"zerolinecolor\":\"#E1E5ED\"},\"yaxis13\":{\"anchor\":\"x13\",\"domain\":[0.0,0.1975],\"gridcolor\":\"#E1E5ED\",\"showgrid\":false,\"tickfont\":{\"color\":\"#4D5663\"},\"title\":{\"font\":{\"color\":\"#4D5663\"},\"text\":\"\"},\"zerolinecolor\":\"#E1E5ED\"},\"yaxis14\":{\"anchor\":\"x14\",\"domain\":[0.0,0.1975],\"gridcolor\":\"#E1E5ED\",\"showgrid\":false,\"tickfont\":{\"color\":\"#4D5663\"},\"title\":{\"font\":{\"color\":\"#4D5663\"},\"text\":\"\"},\"zerolinecolor\":\"#E1E5ED\"},\"yaxis15\":{\"anchor\":\"x15\",\"domain\":[0.0,0.1975],\"gridcolor\":\"#E1E5ED\",\"showgrid\":false,\"tickfont\":{\"color\":\"#4D5663\"},\"title\":{\"font\":{\"color\":\"#4D5663\"},\"text\":\"\"},\"zerolinecolor\":\"#E1E5ED\"},\"yaxis16\":{\"anchor\":\"x16\",\"domain\":[0.0,0.1975],\"gridcolor\":\"#E1E5ED\",\"showgrid\":false,\"tickfont\":{\"color\":\"#4D5663\"},\"title\":{\"font\":{\"color\":\"#4D5663\"},\"text\":\"\"},\"zerolinecolor\":\"#E1E5ED\"},\"yaxis2\":{\"anchor\":\"x2\",\"domain\":[0.8025,1.0],\"gridcolor\":\"#E1E5ED\",\"showgrid\":false,\"tickfont\":{\"color\":\"#4D5663\"},\"title\":{\"font\":{\"color\":\"#4D5663\"},\"text\":\"\"},\"zerolinecolor\":\"#E1E5ED\"},\"yaxis3\":{\"anchor\":\"x3\",\"domain\":[0.8025,1.0],\"gridcolor\":\"#E1E5ED\",\"showgrid\":false,\"tickfont\":{\"color\":\"#4D5663\"},\"title\":{\"font\":{\"color\":\"#4D5663\"},\"text\":\"\"},\"zerolinecolor\":\"#E1E5ED\"},\"yaxis4\":{\"anchor\":\"x4\",\"domain\":[0.8025,1.0],\"gridcolor\":\"#E1E5ED\",\"showgrid\":false,\"tickfont\":{\"color\":\"#4D5663\"},\"title\":{\"font\":{\"color\":\"#4D5663\"},\"text\":\"\"},\"zerolinecolor\":\"#E1E5ED\"},\"yaxis5\":{\"anchor\":\"x5\",\"domain\":[0.535,0.7325],\"gridcolor\":\"#E1E5ED\",\"showgrid\":false,\"tickfont\":{\"color\":\"#4D5663\"},\"title\":{\"font\":{\"color\":\"#4D5663\"},\"text\":\"\"},\"zerolinecolor\":\"#E1E5ED\"},\"yaxis6\":{\"anchor\":\"x6\",\"domain\":[0.535,0.7325],\"gridcolor\":\"#E1E5ED\",\"showgrid\":false,\"tickfont\":{\"color\":\"#4D5663\"},\"title\":{\"font\":{\"color\":\"#4D5663\"},\"text\":\"\"},\"zerolinecolor\":\"#E1E5ED\"},\"yaxis7\":{\"anchor\":\"x7\",\"domain\":[0.535,0.7325],\"gridcolor\":\"#E1E5ED\",\"showgrid\":false,\"tickfont\":{\"color\":\"#4D5663\"},\"title\":{\"font\":{\"color\":\"#4D5663\"},\"text\":\"\"},\"zerolinecolor\":\"#E1E5ED\"},\"yaxis8\":{\"anchor\":\"x8\",\"domain\":[0.535,0.7325],\"gridcolor\":\"#E1E5ED\",\"showgrid\":false,\"tickfont\":{\"color\":\"#4D5663\"},\"title\":{\"font\":{\"color\":\"#4D5663\"},\"text\":\"\"},\"zerolinecolor\":\"#E1E5ED\"},\"yaxis9\":{\"anchor\":\"x9\",\"domain\":[0.2675,0.465],\"gridcolor\":\"#E1E5ED\",\"showgrid\":false,\"tickfont\":{\"color\":\"#4D5663\"},\"title\":{\"font\":{\"color\":\"#4D5663\"},\"text\":\"\"},\"zerolinecolor\":\"#E1E5ED\"}},                        {\"showLink\": true, \"linkText\": \"Export to plot.ly\", \"plotlyServerURL\": \"https://plot.ly\", \"responsive\": true}                    ).then(function(){\n",
       "                            \n",
       "var gd = document.getElementById('b2125661-bc76-4c13-ae7b-41764a3b9852');\n",
       "var x = new MutationObserver(function (mutations, observer) {{\n",
       "        var display = window.getComputedStyle(gd).display;\n",
       "        if (!display || display === 'none') {{\n",
       "            console.log([gd, 'removed!']);\n",
       "            Plotly.purge(gd);\n",
       "            observer.disconnect();\n",
       "        }}\n",
       "}});\n",
       "\n",
       "// Listen for the removal of the full notebook cells\n",
       "var notebookContainer = gd.closest('#notebook-container');\n",
       "if (notebookContainer) {{\n",
       "    x.observe(notebookContainer, {childList: true});\n",
       "}}\n",
       "\n",
       "// Listen for the clearing of the current output cell\n",
       "var outputEl = gd.closest('.output');\n",
       "if (outputEl) {{\n",
       "    x.observe(outputEl, {childList: true});\n",
       "}}\n",
       "\n",
       "                        })                };                });            </script>        </div>"
      ]
     },
     "metadata": {},
     "output_type": "display_data"
    }
   ],
   "source": [
    "df.scatter_matrix()"
   ]
  }
 ],
 "metadata": {
  "kernelspec": {
   "display_name": "Python 3",
   "language": "python",
   "name": "python3"
  },
  "language_info": {
   "codemirror_mode": {
    "name": "ipython",
    "version": 3
   },
   "file_extension": ".py",
   "mimetype": "text/x-python",
   "name": "python",
   "nbconvert_exporter": "python",
   "pygments_lexer": "ipython3",
   "version": "3.8.8"
  }
 },
 "nbformat": 4,
 "nbformat_minor": 5
}
